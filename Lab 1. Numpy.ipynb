{
 "cells": [
  {
   "cell_type": "markdown",
   "metadata": {
    "id": "s0NhNAXK_HyR"
   },
   "source": [
    "### import numpy"
   ]
  },
  {
   "cell_type": "code",
   "execution_count": 1,
   "metadata": {
    "id": "Dp3cZJiP_HyS"
   },
   "outputs": [],
   "source": [
    "import numpy as np"
   ]
  },
  {
   "cell_type": "code",
   "execution_count": 3,
   "metadata": {
    "id": "AM6KHYrU_Hyj",
    "outputId": "a037a997-49b6-4437-b26d-3abb73431a70"
   },
   "outputs": [
    {
     "name": "stdout",
     "output_type": "stream",
     "text": [
      "[1 2 3]\n"
     ]
    }
   ],
   "source": [
    "# create an array with a specified data type\n",
    "arr = np.array([1,2,3])\n",
    "print(arr)"
   ]
  },
  {
   "cell_type": "markdown",
   "metadata": {
    "id": "tdpoNsxo_Hyx"
   },
   "source": [
    "# Create Arrays"
   ]
  },
  {
   "cell_type": "markdown",
   "metadata": {
    "id": "HTzqnIPZ_Hyy"
   },
   "source": [
    "### create an array from a Python array"
   ]
  },
  {
   "cell_type": "code",
   "execution_count": null,
   "metadata": {
    "id": "EDZ00_2E_Hyz",
    "outputId": "322ac50e-3074-44ea-ab94-59a2ec5657aa"
   },
   "outputs": [
    {
     "name": "stdout",
     "output_type": "stream",
     "text": [
      "[0 1 2 3 4 5 6 7 8 9]\n"
     ]
    }
   ],
   "source": [
    "arr = np.array(range(10))\n",
    "print(arr)"
   ]
  },
  {
   "cell_type": "code",
   "execution_count": null,
   "metadata": {
    "id": "mp8cRfxJ_Hy2",
    "outputId": "cabe07b3-6cc4-44da-86f9-82242a897cdd"
   },
   "outputs": [
    {
     "name": "stdout",
     "output_type": "stream",
     "text": [
      "[1 2 3 4 5]\n"
     ]
    }
   ],
   "source": [
    "arr = np.array([1,2,3,4,5])\n",
    "print(arr)"
   ]
  },
  {
   "cell_type": "markdown",
   "metadata": {
    "id": "f79qf7VE_Hy5"
   },
   "source": [
    "### create an array in a specified data type"
   ]
  },
  {
   "cell_type": "code",
   "execution_count": null,
   "metadata": {
    "id": "Dmkie-ml_Hy5",
    "outputId": "56ebbc19-e0b9-4649-9333-9aaaa9d83c7e"
   },
   "outputs": [
    {
     "name": "stdout",
     "output_type": "stream",
     "text": [
      "[[1 2 3]\n",
      " [4 5 6]]\n"
     ]
    }
   ],
   "source": [
    "arr = np.array([[1,2,3], [4,5,6]], dtype='i2')\n",
    "#i2 is integer\n",
    "\n",
    "print(arr)"
   ]
  },
  {
   "cell_type": "markdown",
   "metadata": {
    "id": "aBbb2_4n_Hy8"
   },
   "source": [
    "### create an aray of evenly spaced values within a specified interval"
   ]
  },
  {
   "cell_type": "code",
   "execution_count": null,
   "metadata": {
    "id": "Ao3cDRRt_Hy9",
    "outputId": "24926578-885b-4930-bfd2-93399d1d5155"
   },
   "outputs": [
    {
     "name": "stdout",
     "output_type": "stream",
     "text": [
      "[ 0  2  4  6  8 10 12 14 16 18]\n"
     ]
    }
   ],
   "source": [
    "# np.arange(start, stop, step)\n",
    "arr = np.arange(0, 20, 2)  \n",
    "print(arr)"
   ]
  },
  {
   "cell_type": "markdown",
   "metadata": {
    "id": "VE04egwW_HzA"
   },
   "source": [
    "### create an array of evenly spaced numbers in a specified interval"
   ]
  },
  {
   "cell_type": "code",
   "execution_count": null,
   "metadata": {
    "id": "Erq_7nlU_HzA",
    "outputId": "0be9406f-1078-4333-8389-d3a32cd731e3"
   },
   "outputs": [
    {
     "name": "stdout",
     "output_type": "stream",
     "text": [
      "[ 0.          0.52631579  1.05263158  1.57894737  2.10526316  2.63157895\n",
      "  3.15789474  3.68421053  4.21052632  4.73684211  5.26315789  5.78947368\n",
      "  6.31578947  6.84210526  7.36842105  7.89473684  8.42105263  8.94736842\n",
      "  9.47368421 10.        ]\n"
     ]
    }
   ],
   "source": [
    "# np.linspace(start, stop, num_of_elements, endpoint=True, retstep=False) \n",
    "arr = np.linspace(0, 10, 20)\n",
    "print(arr)"
   ]
  },
  {
   "cell_type": "markdown",
   "metadata": {
    "id": "t2Pa4kq2_HzH"
   },
   "source": [
    "### create an array of random values in a given shape"
   ]
  },
  {
   "cell_type": "code",
   "execution_count": null,
   "metadata": {
    "id": "NPoEylRk_HzI",
    "outputId": "8b06d27f-511e-4467-a139-776e264a6406"
   },
   "outputs": [
    {
     "name": "stdout",
     "output_type": "stream",
     "text": [
      "[[0.01193679 0.24119962 0.45164836]\n",
      " [0.59037498 0.56362195 0.8405065 ]\n",
      " [0.82843098 0.25080516 0.14234631]]\n"
     ]
    }
   ],
   "source": [
    "arr = np.random.rand(3, 3)\n",
    "print(arr)"
   ]
  },
  {
   "cell_type": "markdown",
   "metadata": {
    "id": "_VhqQmCG_HzL"
   },
   "source": [
    "### create an array of zeros in a given shape "
   ]
  },
  {
   "cell_type": "code",
   "execution_count": 4,
   "metadata": {
    "id": "GaCApIUa_HzP",
    "outputId": "982e61ce-8ddd-4d9c-d1f6-b547611d39c4"
   },
   "outputs": [
    {
     "name": "stdout",
     "output_type": "stream",
     "text": [
      "[[0 0 0]\n",
      " [0 0 0]]\n"
     ]
    }
   ],
   "source": [
    "zeros = np.zeros((2,3), dtype='i2')\n",
    "print(zeros)"
   ]
  },
  {
   "cell_type": "markdown",
   "metadata": {
    "id": "1duV-Kzm_HzS"
   },
   "source": [
    "### create an array of zeros with the same shape and data type as a given array"
   ]
  },
  {
   "cell_type": "code",
   "execution_count": null,
   "metadata": {
    "id": "NujEH9tH_HzS",
    "outputId": "c6a36bef-f779-460c-c291-5974afe85359"
   },
   "outputs": [
    {
     "name": "stdout",
     "output_type": "stream",
     "text": [
      "[[0. 0. 0.]\n",
      " [0. 0. 0.]\n",
      " [0. 0. 0.]]\n"
     ]
    }
   ],
   "source": [
    "zeros = np.zeros_like(arr)\n",
    "print(zeros)"
   ]
  },
  {
   "cell_type": "markdown",
   "metadata": {
    "id": "jeSOvU9M_HzW"
   },
   "source": [
    "### create an array of ones in a given shape "
   ]
  },
  {
   "cell_type": "code",
   "execution_count": null,
   "metadata": {
    "id": "Vc4IkOuZ_HzX",
    "outputId": "dfc03db6-6a48-484d-ed14-e6aa4c81eff0"
   },
   "outputs": [
    {
     "name": "stdout",
     "output_type": "stream",
     "text": [
      "[[1. 1. 1.]\n",
      " [1. 1. 1.]]\n"
     ]
    }
   ],
   "source": [
    "ones = np.ones((2,3))\n",
    "print(ones)"
   ]
  },
  {
   "cell_type": "markdown",
   "metadata": {
    "id": "StE0LC2Z_HzZ"
   },
   "source": [
    "### create an array of ones with the same shape and data type as a given array"
   ]
  },
  {
   "cell_type": "code",
   "execution_count": null,
   "metadata": {
    "id": "R0JfDYh-_Hza",
    "outputId": "54d138c4-4adb-4fec-89a0-b0c92f8676c7"
   },
   "outputs": [
    {
     "name": "stdout",
     "output_type": "stream",
     "text": [
      "[[1. 1. 1.]\n",
      " [1. 1. 1.]\n",
      " [1. 1. 1.]]\n"
     ]
    }
   ],
   "source": [
    "ones = np.ones_like(arr)\n",
    "print(ones)"
   ]
  },
  {
   "cell_type": "markdown",
   "metadata": {
    "id": "Ajh_E_ju_Hzc"
   },
   "source": [
    "### create an array of arbitrary values in a given shape "
   ]
  },
  {
   "cell_type": "code",
   "execution_count": null,
   "metadata": {
    "id": "QzuuJKUe_Hzd",
    "outputId": "858c08eb-a74c-4c4d-cd61-77319302e2a8"
   },
   "outputs": [
    {
     "name": "stdout",
     "output_type": "stream",
     "text": [
      "[[1. 1. 1.]\n",
      " [1. 1. 1.]]\n"
     ]
    }
   ],
   "source": [
    "empty = np.empty((2,3))\n",
    "print(empty)"
   ]
  },
  {
   "cell_type": "markdown",
   "metadata": {
    "id": "vwXQjZhw_Hzj"
   },
   "source": [
    "### create an array of constant values in a given shape  "
   ]
  },
  {
   "cell_type": "code",
   "execution_count": null,
   "metadata": {
    "id": "7lXDA5uw_Hzk",
    "outputId": "84247157-059c-49cd-ca0d-83220f22e748"
   },
   "outputs": [
    {
     "name": "stdout",
     "output_type": "stream",
     "text": [
      "[[5 5 5]\n",
      " [5 5 5]]\n"
     ]
    }
   ],
   "source": [
    "p = np.full((2,3), 5)\n",
    "print(p)"
   ]
  },
  {
   "cell_type": "markdown",
   "metadata": {
    "id": "M10UF0eY_Hzo"
   },
   "source": [
    "### create an array of constant values with the same shape and data type as a given array"
   ]
  },
  {
   "cell_type": "code",
   "execution_count": null,
   "metadata": {
    "id": "DmT1_k9W_Hzp",
    "outputId": "013b94ef-82a6-40b0-b5f3-1ea961b9cbc8"
   },
   "outputs": [
    {
     "name": "stdout",
     "output_type": "stream",
     "text": [
      "[[5. 5. 5.]\n",
      " [5. 5. 5.]\n",
      " [5. 5. 5.]]\n"
     ]
    }
   ],
   "source": [
    "p = np.full_like(arr, 5)\n",
    "print(p)"
   ]
  },
  {
   "cell_type": "markdown",
   "metadata": {
    "id": "0eiAvUUj_Hzs"
   },
   "source": [
    "### create an array by repetition"
   ]
  },
  {
   "cell_type": "code",
   "execution_count": null,
   "metadata": {
    "id": "jQEv4vKM_Hzt",
    "outputId": "067b6d6d-b8fb-4236-9506-7dde54f1ab92"
   },
   "outputs": [
    {
     "name": "stdout",
     "output_type": "stream",
     "text": [
      "[0 0 0 1 1 1 2 2 2]\n"
     ]
    }
   ],
   "source": [
    "# repeat each element of an array by a specified number of times\n",
    "# np.repeat(iterable, reps, axis=None)\n",
    "arr = [0, 1, 2]\n",
    "print(np.repeat(arr, 3))   "
   ]
  },
  {
   "cell_type": "code",
   "execution_count": null,
   "metadata": {
    "id": "febEAXd6_Hzz",
    "outputId": "23d5c3e0-d972-4628-e8c7-e59fb036af28"
   },
   "outputs": [
    {
     "name": "stdout",
     "output_type": "stream",
     "text": [
      "[0 1 2 0 1 2 0 1 2]\n"
     ]
    }
   ],
   "source": [
    "# repeat an array by a specified number of times\n",
    "arr = [0, 1, 2]\n",
    "print(np.tile(arr, 3))"
   ]
  },
  {
   "cell_type": "markdown",
   "metadata": {
    "id": "ho5h6khj_Hz4"
   },
   "source": [
    "### create an identity matrix with a given diagonal size"
   ]
  },
  {
   "cell_type": "code",
   "execution_count": null,
   "metadata": {
    "id": "_1LxOkGw_Hz9",
    "outputId": "d9340ee0-9115-4f8d-90f7-073fdaa19be0"
   },
   "outputs": [
    {
     "name": "stdout",
     "output_type": "stream",
     "text": [
      "[[1. 0. 0.]\n",
      " [0. 1. 0.]\n",
      " [0. 0. 1.]]\n"
     ]
    }
   ],
   "source": [
    "identity_matrix = np.identity(3)\n",
    "print(identity_matrix)"
   ]
  },
  {
   "cell_type": "markdown",
   "metadata": {
    "id": "zfUmKnpD_Hz_"
   },
   "source": [
    "### create an identity matrix with a diagonal offset"
   ]
  },
  {
   "cell_type": "code",
   "execution_count": null,
   "metadata": {
    "id": "7DTQM3VO_Hz_",
    "outputId": "03f9621f-3d94-4f68-fce3-e1ce497a8ea4"
   },
   "outputs": [
    {
     "name": "stdout",
     "output_type": "stream",
     "text": [
      "[[0. 1. 0. 0. 0.]\n",
      " [0. 0. 1. 0. 0.]\n",
      " [0. 0. 0. 1. 0.]\n",
      " [0. 0. 0. 0. 1.]\n",
      " [0. 0. 0. 0. 0.]]\n"
     ]
    }
   ],
   "source": [
    "identity_matrix = np.eye(5, k=1)    # positive number shifts the diagonal upward\n",
    "print(identity_matrix)"
   ]
  },
  {
   "cell_type": "code",
   "execution_count": null,
   "metadata": {
    "id": "vsFwuxpN_H0M",
    "outputId": "83041ba9-aa2f-4bcb-c2a2-60531772eaab"
   },
   "outputs": [
    {
     "name": "stdout",
     "output_type": "stream",
     "text": [
      "[[0. 0. 0. 0. 0.]\n",
      " [0. 0. 0. 0. 0.]\n",
      " [1. 0. 0. 0. 0.]\n",
      " [0. 1. 0. 0. 0.]\n",
      " [0. 0. 1. 0. 0.]]\n"
     ]
    }
   ],
   "source": [
    "identity_matrix = np.eye(5, k=-2)   # negative number shifts the diagonal downward\n",
    "print(identity_matrix)"
   ]
  },
  {
   "cell_type": "markdown",
   "metadata": {
    "id": "pG155m0w_H0Q"
   },
   "source": [
    "### extract the diagonal array / create a diagonal array"
   ]
  },
  {
   "cell_type": "code",
   "execution_count": null,
   "metadata": {
    "id": "ARto9WVk_H0R",
    "outputId": "adbebb4c-a2fa-47e0-e878-8b0ba1402ea5"
   },
   "outputs": [
    {
     "name": "stdout",
     "output_type": "stream",
     "text": [
      "[[0.07710888 0.68905534 0.81142113 0.60805738 0.14322708]\n",
      " [0.70950747 0.11738625 0.5630424  0.27911771 0.91741603]\n",
      " [0.62715481 0.8857803  0.22214541 0.56813747 0.97598708]\n",
      " [0.65309756 0.78466617 0.40848438 0.01693925 0.18625553]\n",
      " [0.97973236 0.15756793 0.28687775 0.1440273  0.08333093]]\n"
     ]
    }
   ],
   "source": [
    "arr = np.random.rand(5,5)\n",
    "print(arr)"
   ]
  },
  {
   "cell_type": "code",
   "execution_count": null,
   "metadata": {
    "id": "BTiAcc3m_H0U",
    "outputId": "e103e876-83fe-4227-d3a2-707cc0582139"
   },
   "outputs": [
    {
     "name": "stdout",
     "output_type": "stream",
     "text": [
      "[0.07710888 0.11738625 0.22214541 0.01693925 0.08333093]\n"
     ]
    }
   ],
   "source": [
    "# extract the diagonal\n",
    "print(np.diag(arr))"
   ]
  },
  {
   "cell_type": "code",
   "execution_count": null,
   "metadata": {
    "id": "9X0K02pL_H0X",
    "outputId": "d70ab740-c197-47ad-98ca-cfbcfb1f2db2"
   },
   "outputs": [
    {
     "name": "stdout",
     "output_type": "stream",
     "text": [
      "[[1 0 0 0 0]\n",
      " [0 2 0 0 0]\n",
      " [0 0 3 0 0]\n",
      " [0 0 0 4 0]\n",
      " [0 0 0 0 5]]\n"
     ]
    }
   ],
   "source": [
    "# create a matrix with a specified diagonal array\n",
    "arr = np.diag([1,2,3,4,5])\n",
    "print(arr)"
   ]
  },
  {
   "cell_type": "markdown",
   "metadata": {
    "id": "U1JDBUZ6_H0Z"
   },
   "source": [
    "# Inspect Arrays"
   ]
  },
  {
   "cell_type": "code",
   "execution_count": null,
   "metadata": {
    "id": "Jry6J7eV_H0o",
    "outputId": "abda06f2-caeb-4ee0-cbb3-d1805ad04f59"
   },
   "outputs": [
    {
     "name": "stdout",
     "output_type": "stream",
     "text": [
      "(2, 3)\n"
     ]
    }
   ],
   "source": [
    "print(arr.shape)"
   ]
  },
  {
   "cell_type": "markdown",
   "metadata": {
    "id": "MMfLcJDf_H0r"
   },
   "source": [
    "### inspect length of an array"
   ]
  },
  {
   "cell_type": "code",
   "execution_count": null,
   "metadata": {
    "id": "s3sZ06Gg_H0r",
    "outputId": "bdc249cc-a853-43d5-a02b-d49131571445"
   },
   "outputs": [
    {
     "name": "stdout",
     "output_type": "stream",
     "text": [
      "2\n"
     ]
    }
   ],
   "source": [
    "print(len(arr))"
   ]
  },
  {
   "cell_type": "markdown",
   "metadata": {
    "id": "wU8xt1uA_H0w"
   },
   "source": [
    "### inspect the number of dimensions of an array"
   ]
  },
  {
   "cell_type": "code",
   "execution_count": null,
   "metadata": {
    "id": "RXkU5bXr_H0w",
    "outputId": "9aa65da8-d309-4a9e-f4ba-83e90a6b77de"
   },
   "outputs": [
    {
     "name": "stdout",
     "output_type": "stream",
     "text": [
      "2\n"
     ]
    }
   ],
   "source": [
    "print(arr.ndim)"
   ]
  },
  {
   "cell_type": "markdown",
   "metadata": {
    "id": "cN72aN4u_H0z"
   },
   "source": [
    "### inspect the number of elements in an array"
   ]
  },
  {
   "cell_type": "code",
   "execution_count": null,
   "metadata": {
    "id": "B_UDk523_H00",
    "outputId": "12ad7d93-dfe0-44ea-ef8a-a3054dcd7fbe"
   },
   "outputs": [
    {
     "name": "stdout",
     "output_type": "stream",
     "text": [
      "6\n"
     ]
    }
   ],
   "source": [
    "print(arr.size)"
   ]
  },
  {
   "cell_type": "markdown",
   "metadata": {
    "id": "zwcpFaWK_H1u"
   },
   "source": [
    "# Math Functions"
   ]
  },
  {
   "cell_type": "code",
   "execution_count": null,
   "metadata": {
    "id": "ycKxrr57_H1v"
   },
   "outputs": [],
   "source": [
    "arr = np.random.rand(5,5)"
   ]
  },
  {
   "cell_type": "markdown",
   "metadata": {
    "id": "QC-qxAi8_H1x"
   },
   "source": [
    "### element-wise addition, subtraction, multiplication and division"
   ]
  },
  {
   "cell_type": "code",
   "execution_count": null,
   "metadata": {
    "id": "0W7gJod1_H1x",
    "outputId": "dd0d3f29-26ec-4cb3-e21c-79e85245d6bb"
   },
   "outputs": [
    {
     "name": "stdout",
     "output_type": "stream",
     "text": [
      "[[10.87350227 10.02942373 10.55204372 10.2402475  10.88480501]\n",
      " [10.46023842 10.19317033 10.2936925  10.81792751 10.55948738]\n",
      " [10.67792545 10.80912668 10.86857215 10.41799246 10.05893816]\n",
      " [10.478459   10.52115943 10.58063202 10.309199   10.91988263]\n",
      " [10.6553475  10.34924138 10.54109404 10.4490534  10.28232096]]\n",
      "[[-9.12649773 -9.97057627 -9.44795628 -9.7597525  -9.11519499]\n",
      " [-9.53976158 -9.80682967 -9.7063075  -9.18207249 -9.44051262]\n",
      " [-9.32207455 -9.19087332 -9.13142785 -9.58200754 -9.94106184]\n",
      " [-9.521541   -9.47884057 -9.41936798 -9.690801   -9.08011737]\n",
      " [-9.3446525  -9.65075862 -9.45890596 -9.5509466  -9.71767904]]\n",
      "[[8.73502266 0.29423734 5.52043722 2.40247504 8.84805011]\n",
      " [4.60238424 1.9317033  2.93692504 8.17927508 5.59487376]\n",
      " [6.77925447 8.09126678 8.68572154 4.17992456 0.58938156]\n",
      " [4.78459005 5.2115943  5.8063202  3.09198998 9.19882625]\n",
      " [6.55347503 3.49241385 5.41094045 4.49053396 2.82320961]]\n",
      "[[0.08735023 0.00294237 0.05520437 0.02402475 0.0884805 ]\n",
      " [0.04602384 0.01931703 0.02936925 0.08179275 0.05594874]\n",
      " [0.06779254 0.08091267 0.08685722 0.04179925 0.00589382]\n",
      " [0.0478459  0.05211594 0.0580632  0.0309199  0.09198826]\n",
      " [0.06553475 0.03492414 0.0541094  0.04490534 0.0282321 ]]\n"
     ]
    }
   ],
   "source": [
    "print(arr + 10)\n",
    "print(arr - 10)\n",
    "print(arr * 10)\n",
    "print(arr / 10)"
   ]
  },
  {
   "cell_type": "code",
   "execution_count": null,
   "metadata": {
    "id": "OjpmAVoH_H1z",
    "outputId": "a1d5d643-8519-4356-800a-81b36535a822"
   },
   "outputs": [
    {
     "name": "stdout",
     "output_type": "stream",
     "text": [
      "[ 9 11 13]\n",
      "[1 2 3]\n",
      "[1 4 9]\n"
     ]
    }
   ],
   "source": [
    "arr1 = np.array([1,2,3])\n",
    "# the above operations can be performed using numpy built-in functions\n",
    "# which can save memory as the output can be stored in the original array rather than assigning new memoryarr = np.array([1,2,3])\n",
    "np.add(arr1, [8,9,10], out=arr1)\n",
    "print(arr1)\n",
    "\n",
    "np.subtract(arr1, [8,9,10], out=arr1)\n",
    "print(arr1)\n",
    "\n",
    "np.multiply(arr1, [1,2,3], out=arr1)\n",
    "print(arr1)"
   ]
  },
  {
   "cell_type": "markdown",
   "metadata": {
    "id": "keUJxFIL_H15"
   },
   "source": [
    "### element-wise exponentiation"
   ]
  },
  {
   "cell_type": "code",
   "execution_count": null,
   "metadata": {
    "id": "uPrep2qo_H15",
    "outputId": "c9474278-5301-4cce-82d3-68039148d8c4"
   },
   "outputs": [
    {
     "name": "stdout",
     "output_type": "stream",
     "text": [
      "[[2.39528511 1.02986089 1.73679893 1.27156383 2.42251198]\n",
      " [1.58445171 1.2130894  1.34137137 2.26579912 1.74977529]\n",
      " [1.96978706 2.2459457  2.38350515 1.51890922 1.06070964]\n",
      " [1.61358596 1.68397897 1.7871676  1.36233345 2.50899588]\n",
      " [1.92581163 1.41799143 1.71788528 1.56682832 1.32620431]]\n"
     ]
    }
   ],
   "source": [
    "print(np.exp(arr))"
   ]
  },
  {
   "cell_type": "markdown",
   "metadata": {
    "id": "6jCi6D9y_H18"
   },
   "source": [
    "### element-wise logorithm"
   ]
  },
  {
   "cell_type": "code",
   "execution_count": null,
   "metadata": {
    "id": "xT2Ign4t_H18",
    "outputId": "75beacc6-b225-4eb4-be40-7353560faeda"
   },
   "outputs": [
    {
     "name": "stdout",
     "output_type": "stream",
     "text": [
      "[[-0.13524456 -3.52595367 -0.59412803 -1.42608562 -0.12238798]\n",
      " [-0.77601061 -1.64418294 -1.22522197 -0.20098157 -0.58073432]\n",
      " [-0.38871796 -0.21179979 -0.14090462 -0.87229189 -2.83126659]\n",
      " [-0.73718475 -0.65169928 -0.54363808 -1.1737702  -0.0835092 ]\n",
      " [-0.42258965 -1.05199195 -0.61416218 -0.80061348 -1.2647107 ]]\n"
     ]
    }
   ],
   "source": [
    "# natural log\n",
    "print(np.log(arr))      "
   ]
  },
  {
   "cell_type": "code",
   "execution_count": null,
   "metadata": {
    "id": "kBIdNiEh_H1_",
    "outputId": "3391e83a-501d-4d85-eda6-2bdca97697ab"
   },
   "outputs": [
    {
     "name": "stdout",
     "output_type": "stream",
     "text": [
      "[[-0.19511665 -5.08687587 -0.85714556 -2.05740665 -0.17656854]\n",
      " [-1.11954666 -2.37205457 -1.76762165 -0.28995511 -0.83782252]\n",
      " [-0.56080147 -0.3055625  -0.20328239 -1.25845119 -4.08465428]\n",
      " [-1.06353278 -0.94020332 -0.78430396 -1.69339245 -0.12047831]\n",
      " [-0.60966799 -1.51770357 -0.88604873 -1.15504109 -1.82459185]]\n"
     ]
    }
   ],
   "source": [
    "# base 2\n",
    "print(np.log2(arr))     "
   ]
  },
  {
   "cell_type": "code",
   "execution_count": null,
   "metadata": {
    "id": "--touYfl_H2B",
    "outputId": "48189d2f-9832-463f-a6ae-60ed30ef303b"
   },
   "outputs": [
    {
     "name": "stdout",
     "output_type": "stream",
     "text": [
      "[[-0.05873596 -1.53130222 -0.25802652 -0.61934112 -0.05315243]\n",
      " [-0.33701713 -0.71405958 -0.53210714 -0.08728519 -0.25220971]\n",
      " [-0.16881806 -0.09198348 -0.0611941  -0.37883156 -1.22960346]\n",
      " [-0.32015527 -0.2830294  -0.23609902 -0.50976192 -0.03626758]\n",
      " [-0.18352835 -0.4568743  -0.26672725 -0.34770202 -0.54925688]]\n"
     ]
    }
   ],
   "source": [
    "# base 10\n",
    "print(np.log10(arr))    "
   ]
  },
  {
   "cell_type": "markdown",
   "metadata": {
    "id": "StCA4TwM_H2F"
   },
   "source": [
    "### element-wise square root"
   ]
  },
  {
   "cell_type": "code",
   "execution_count": null,
   "metadata": {
    "id": "Q2gNG-4Q_H2F",
    "outputId": "a115c3fe-797c-424f-cab9-372500bb7d6d"
   },
   "outputs": [
    {
     "name": "stdout",
     "output_type": "stream",
     "text": [
      "[[0.93461343 0.17153348 0.74299645 0.49015049 0.94064075]\n",
      " [0.67840874 0.43951147 0.54193404 0.90439345 0.74798889]\n",
      " [0.82336228 0.89951469 0.93197219 0.64652336 0.24277182]\n",
      " [0.69170731 0.72191373 0.76199214 0.55605665 0.95910512]\n",
      " [0.80953536 0.59096648 0.73559095 0.67011446 0.53133884]]\n"
     ]
    }
   ],
   "source": [
    "print(np.sqrt(arr))"
   ]
  },
  {
   "cell_type": "markdown",
   "metadata": {
    "id": "g28kHmfQ_H2H"
   },
   "source": [
    "### element-wise sine and cosine"
   ]
  },
  {
   "cell_type": "code",
   "execution_count": null,
   "metadata": {
    "id": "F8R-Ukq5_H2I",
    "outputId": "e273d5aa-d3b5-46f0-bfdf-c5a16158a19a"
   },
   "outputs": [
    {
     "name": "stdout",
     "output_type": "stream",
     "text": [
      "[[0.7665826  0.02941949 0.52442846 0.23794303 0.77379149]\n",
      " [0.44416174 0.19197122 0.28948859 0.72973036 0.5307518 ]\n",
      " [0.62717856 0.72368474 0.76340745 0.40592657 0.05890404]\n",
      " [0.46041177 0.49788598 0.54855249 0.30429572 0.79553051]\n",
      " [0.60943479 0.34218509 0.51507406 0.43411297 0.27858547]]\n"
     ]
    }
   ],
   "source": [
    "print(np.sin(arr))"
   ]
  },
  {
   "cell_type": "code",
   "execution_count": null,
   "metadata": {
    "id": "LWLgRRAo_H2K",
    "outputId": "b1b85040-6265-4ccd-c0e7-d20cbd6309c4"
   },
   "outputs": [
    {
     "name": "stdout",
     "output_type": "stream",
     "text": [
      "[[0.64214571 0.99956715 0.85145452 0.97127911 0.63344039]\n",
      " [0.89594662 0.98140056 0.95718147 0.68373503 0.8475273 ]\n",
      " [0.77887551 0.69013071 0.64591723 0.9139057  0.99826365]\n",
      " [0.88770547 0.8672425  0.83611612 0.95257762 0.60591354]\n",
      " [0.7928362  0.93963257 0.85714568 0.90085844 0.96041144]]\n"
     ]
    }
   ],
   "source": [
    "print(np.cos(arr))"
   ]
  },
  {
   "cell_type": "markdown",
   "metadata": {
    "id": "A6oxHtHT_H2O"
   },
   "source": [
    "### sum along a specified axis"
   ]
  },
  {
   "cell_type": "code",
   "execution_count": null,
   "metadata": {
    "id": "wso0ksaz_H2P",
    "outputId": "45e64139-6efb-4050-e43c-58b8cd21053d"
   },
   "outputs": [
    {
     "name": "stdout",
     "output_type": "stream",
     "text": [
      "[3.14547265 1.90212156 2.83603444 2.23441986 2.70543413]\n"
     ]
    }
   ],
   "source": [
    "# sum along the row\n",
    "print(np.sum(arr, axis=0))    "
   ]
  },
  {
   "cell_type": "code",
   "execution_count": null,
   "metadata": {
    "id": "1ghhkqPL_H2S",
    "outputId": "d5d9e8a0-d765-447a-9315-316aaa56c12b"
   },
   "outputs": [
    {
     "name": "stdout",
     "output_type": "stream",
     "text": [
      "[2.58002224 2.32451614 2.83255489 2.80933208 2.27705729]\n"
     ]
    }
   ],
   "source": [
    "# sum along the column\n",
    "print(np.sum(arr, axis=1))    "
   ]
  },
  {
   "cell_type": "markdown",
   "metadata": {
    "id": "ZEWbLz3__H2V"
   },
   "source": [
    "### compute the min and max along a specified axis"
   ]
  },
  {
   "cell_type": "code",
   "execution_count": null,
   "metadata": {
    "id": "TCDEZmXm_H2V",
    "outputId": "aa539c7d-f1b7-40c5-8cea-433c35d0e749"
   },
   "outputs": [
    {
     "name": "stdout",
     "output_type": "stream",
     "text": [
      "[0.46023842 0.02942373 0.2936925  0.2402475  0.05893816]\n"
     ]
    }
   ],
   "source": [
    "# calculate min along the row\n",
    "print(np.min(arr, axis=0))"
   ]
  },
  {
   "cell_type": "code",
   "execution_count": null,
   "metadata": {
    "id": "NgJbzyT6_H2X",
    "outputId": "7843b010-9183-48d5-f140-75deb37c14d4"
   },
   "outputs": [
    {
     "name": "stdout",
     "output_type": "stream",
     "text": [
      "[0.88480501 0.81792751 0.86857215 0.91988263 0.6553475 ]\n"
     ]
    }
   ],
   "source": [
    "# calculate max along the column\n",
    "print(np.max(arr, axis=1))    "
   ]
  },
  {
   "cell_type": "markdown",
   "metadata": {
    "id": "nobb7icY_H2n"
   },
   "source": [
    "### compute element-wise min and max of two arrays"
   ]
  },
  {
   "cell_type": "code",
   "execution_count": null,
   "metadata": {
    "id": "Jtca9Xd9_H2n",
    "outputId": "de88747c-7b67-4e4e-cb8c-d350b137ba97"
   },
   "outputs": [
    {
     "name": "stdout",
     "output_type": "stream",
     "text": [
      "[1 4 5 8 9]\n",
      "[0 3 3 7 7]\n"
     ]
    }
   ],
   "source": [
    "arr1 = np.array([1, 3, 5, 7, 9])\n",
    "arr2 = np.array([0, 4, 3, 8, 7])\n",
    "print(np.maximum(arr1, arr2))\n",
    "print(np.minimum(arr1, arr2))"
   ]
  },
  {
   "cell_type": "markdown",
   "metadata": {
    "id": "CnR0qWlr_H2s"
   },
   "source": [
    "### compute the mean"
   ]
  },
  {
   "cell_type": "code",
   "execution_count": null,
   "metadata": {
    "id": "BoZHAFA6_H2t",
    "outputId": "42795c3a-26e5-40f9-cd83-d9267bee6a09"
   },
   "outputs": [
    {
     "name": "stdout",
     "output_type": "stream",
     "text": [
      "0.5129393054604379\n"
     ]
    }
   ],
   "source": [
    "# compute the overall mean\n",
    "print(np.mean(arr))"
   ]
  },
  {
   "cell_type": "code",
   "execution_count": null,
   "metadata": {
    "id": "a8rRtwzC_H2w",
    "outputId": "cdf64174-1935-42c1-ef62-e01dd29126a4"
   },
   "outputs": [
    {
     "name": "stdout",
     "output_type": "stream",
     "text": [
      "[0.62909453 0.38042431 0.56720689 0.44688397 0.54108683]\n"
     ]
    }
   ],
   "source": [
    "# compute the mean along the row\n",
    "print(np.mean(arr, axis=0))   "
   ]
  },
  {
   "cell_type": "code",
   "execution_count": null,
   "metadata": {
    "id": "QolETZmt_H2y",
    "outputId": "234a3986-9a3a-4bc4-b7f5-8cc353f94aad"
   },
   "outputs": [
    {
     "name": "stdout",
     "output_type": "stream",
     "text": [
      "[0.51600445 0.46490323 0.56651098 0.56186642 0.45541146]\n"
     ]
    }
   ],
   "source": [
    "# compute the mean along the column\n",
    "print(np.mean(arr, axis=1)) "
   ]
  },
  {
   "cell_type": "markdown",
   "metadata": {
    "id": "Ad8b-o4k_H20"
   },
   "source": [
    "### compute the median"
   ]
  },
  {
   "cell_type": "code",
   "execution_count": null,
   "metadata": {
    "id": "RZ7-RvBH_H21",
    "outputId": "9ea7b891-8a5d-4e2d-be60-23533a35f136"
   },
   "outputs": [
    {
     "name": "stdout",
     "output_type": "stream",
     "text": [
      "0.52115942968839\n"
     ]
    }
   ],
   "source": [
    "# compute the overall median\n",
    "print(np.median(arr))"
   ]
  },
  {
   "cell_type": "code",
   "execution_count": null,
   "metadata": {
    "id": "hFEaZ8rI_H23",
    "outputId": "7b71519a-6b74-4587-e9cb-2fcb5f86f58a"
   },
   "outputs": [
    {
     "name": "stdout",
     "output_type": "stream",
     "text": [
      "[0.6553475  0.34924138 0.55204372 0.41799246 0.55948738]\n"
     ]
    }
   ],
   "source": [
    "# compute the median along the row\n",
    "print(np.median(arr, axis=0)) "
   ]
  },
  {
   "cell_type": "code",
   "execution_count": null,
   "metadata": {
    "id": "6U2bzcvN_H26",
    "outputId": "56ce1315-6d80-431a-9266-c34473bbe969"
   },
   "outputs": [
    {
     "name": "stdout",
     "output_type": "stream",
     "text": [
      "[0.55204372 0.46023842 0.67792545 0.52115943 0.4490534 ]\n"
     ]
    }
   ],
   "source": [
    "# compute the median along the column\n",
    "print(np.median(arr, axis=1))"
   ]
  },
  {
   "cell_type": "markdown",
   "metadata": {
    "id": "Pqk1VUVg_H3A"
   },
   "source": [
    "### compute the standard deviation & variance"
   ]
  },
  {
   "cell_type": "code",
   "execution_count": null,
   "metadata": {
    "id": "Vf2UkfO0_H3A",
    "outputId": "e8666d67-0eed-43e5-de3f-cb63bf6e38f9"
   },
   "outputs": [
    {
     "name": "stdout",
     "output_type": "stream",
     "text": [
      "0.25305273176784365\n"
     ]
    }
   ],
   "source": [
    "# compute the overall standard deviation\n",
    "print(np.std(arr))"
   ]
  },
  {
   "cell_type": "code",
   "execution_count": null,
   "metadata": {
    "id": "2M6hD6Vb_H3C",
    "outputId": "cfbab3f0-b3f0-4ba9-ff84-275855edbad4"
   },
   "outputs": [
    {
     "name": "stdout",
     "output_type": "stream",
     "text": [
      "[0.15100481 0.26938074 0.18260514 0.20008424 0.33508033]\n"
     ]
    }
   ],
   "source": [
    "# compute the standard deviation along the row\n",
    "print(np.std(arr, axis=0))"
   ]
  },
  {
   "cell_type": "code",
   "execution_count": null,
   "metadata": {
    "id": "zezW3lWF_H3E",
    "outputId": "c26d6354-0b53-4445-e5f1-242665568b5a"
   },
   "outputs": [
    {
     "name": "stdout",
     "output_type": "stream",
     "text": [
      "[0.33997649 0.21759869 0.29739013 0.20049061 0.13310804]\n"
     ]
    }
   ],
   "source": [
    "# compute the standard deviation along the column\n",
    "print(np.std(arr, axis=1))"
   ]
  },
  {
   "cell_type": "code",
   "execution_count": null,
   "metadata": {
    "id": "bTQllIyN_H3H",
    "outputId": "4d7fba13-3b87-46c1-9e29-e7a9c5de195b"
   },
   "outputs": [
    {
     "name": "stdout",
     "output_type": "stream",
     "text": [
      "0.06403568505516823\n"
     ]
    }
   ],
   "source": [
    "# compute the overall variance\n",
    "print(np.var(arr))"
   ]
  },
  {
   "cell_type": "code",
   "execution_count": null,
   "metadata": {
    "id": "0Wl5QFsr_H3J",
    "outputId": "bfe3bb3c-30e9-4db3-d378-6f70f94cbae9"
   },
   "outputs": [
    {
     "name": "stdout",
     "output_type": "stream",
     "text": [
      "[0.02280245 0.07256599 0.03334464 0.0400337  0.11227883]\n"
     ]
    }
   ],
   "source": [
    "# compute the variance along the row\n",
    "print(np.var(arr, axis=0))"
   ]
  },
  {
   "cell_type": "code",
   "execution_count": null,
   "metadata": {
    "id": "Sc1O4wc8_H3M",
    "outputId": "f6440a7e-1990-45ac-d218-fc1c08e080a1"
   },
   "outputs": [
    {
     "name": "stdout",
     "output_type": "stream",
     "text": [
      "[0.11558401 0.04734919 0.08844089 0.04019649 0.01771775]\n"
     ]
    }
   ],
   "source": [
    "# compute the variance along the column\n",
    "print(np.var(arr, axis=1))"
   ]
  },
  {
   "cell_type": "markdown",
   "metadata": {
    "id": "2HULHeKj_H3O"
   },
   "source": [
    "### compute the covariance"
   ]
  },
  {
   "cell_type": "code",
   "execution_count": 6,
   "metadata": {
    "id": "MlNOxMuH_H3P"
   },
   "outputs": [
    {
     "name": "stdout",
     "output_type": "stream",
     "text": [
      "[[0.35020733 0.67212088 0.1633815  0.92270107 0.15041202 0.26328053\n",
      "  0.39573116 0.98646965]\n",
      " [0.38188354 0.06661727 0.29867663 0.7554213  0.98038536 0.77825774\n",
      "  0.77024922 0.56431351]\n",
      " [0.21109549 0.71508305 0.58968645 0.4593863  0.80775907 0.63519274\n",
      "  0.1972452  0.88811884]\n",
      " [0.96502352 0.89769068 0.5659693  0.08154506 0.03000792 0.88861738\n",
      "  0.04375782 0.49469529]\n",
      " [0.67558682 0.65676454 0.29587618 0.3471824  0.38196737 0.79496374\n",
      "  0.84251309 0.57034766]]\n"
     ]
    }
   ],
   "source": [
    "arr = np.random.rand(5,8)\n",
    "print(arr)"
   ]
  },
  {
   "cell_type": "code",
   "execution_count": null,
   "metadata": {
    "id": "QDwa3q_n_H3S",
    "outputId": "58e15ae5-5cf0-4abf-ab79-6f9c9edee651"
   },
   "outputs": [
    {
     "name": "stdout",
     "output_type": "stream",
     "text": [
      "[[ 0.05402285  0.03916784  0.03506723  0.0367739  -0.02741259]\n",
      " [ 0.03916784  0.03992086  0.01853696  0.04299328 -0.02678781]\n",
      " [ 0.03506723  0.01853696  0.06217596  0.01094847  0.00254219]\n",
      " [ 0.0367739   0.04299328  0.01094847  0.11372942 -0.02614117]\n",
      " [-0.02741259 -0.02678781  0.00254219 -0.02614117  0.06564368]]\n"
     ]
    }
   ],
   "source": [
    "print(np.cov(arr))"
   ]
  },
  {
   "cell_type": "markdown",
   "metadata": {
    "id": "8jAOquiO_H3c"
   },
   "source": [
    "### element-wise comparison"
   ]
  },
  {
   "cell_type": "code",
   "execution_count": null,
   "metadata": {
    "id": "9tzG2Vko_H3c"
   },
   "outputs": [],
   "source": [
    "arr1 = np.array([1,2,3,4,5])\n",
    "arr2 = np.array([5,4,3,2,1])"
   ]
  },
  {
   "cell_type": "code",
   "execution_count": null,
   "metadata": {
    "id": "yyffJ_PW_H3e",
    "outputId": "14cdbe58-42dd-4373-f2c0-8c8d7e5cf84d"
   },
   "outputs": [
    {
     "name": "stdout",
     "output_type": "stream",
     "text": [
      "[False False  True False False]\n",
      "[ True  True False False False]\n"
     ]
    }
   ],
   "source": [
    "# return an array of bools\n",
    "print(arr1 == arr2)    \n",
    "print(arr1 < 3)"
   ]
  },
  {
   "cell_type": "markdown",
   "metadata": {
    "id": "sIO_fIT5_H3g"
   },
   "source": [
    "# Slicing & Indexing"
   ]
  },
  {
   "cell_type": "code",
   "execution_count": null,
   "metadata": {
    "id": "JuaX6eyw_H3g"
   },
   "outputs": [],
   "source": [
    "arr = np.array(range(100)).reshape((10,10))"
   ]
  },
  {
   "cell_type": "markdown",
   "metadata": {
    "id": "2jFd6xb8_H3l"
   },
   "source": [
    "### select an element by row and column indices"
   ]
  },
  {
   "cell_type": "code",
   "execution_count": null,
   "metadata": {
    "id": "-TfQNpCN_H3l",
    "outputId": "5e03b45b-f6b9-4230-ab64-0547007294e1"
   },
   "outputs": [
    {
     "name": "stdout",
     "output_type": "stream",
     "text": [
      "55\n",
      "55\n"
     ]
    }
   ],
   "source": [
    "print(arr[5][5])\n",
    "# or more concisely\n",
    "print(arr[5,5])"
   ]
  },
  {
   "cell_type": "markdown",
   "metadata": {
    "id": "FdB8rbhl_H3n"
   },
   "source": [
    "### indexing with slicing"
   ]
  },
  {
   "cell_type": "code",
   "execution_count": null,
   "metadata": {
    "id": "Wi3_jc1L_H3n",
    "outputId": "e4e675e9-5e8f-4d0e-b234-5ecc782d89c7"
   },
   "outputs": [
    {
     "name": "stdout",
     "output_type": "stream",
     "text": [
      "[[14 15]\n",
      " [24 25]]\n"
     ]
    }
   ],
   "source": [
    "print(arr[1:3, 4:6])"
   ]
  },
  {
   "cell_type": "markdown",
   "metadata": {
    "id": "KsWuA_Sn_H3x"
   },
   "source": [
    "### boolean indexing"
   ]
  },
  {
   "cell_type": "code",
   "execution_count": null,
   "metadata": {
    "id": "9mmFgbNg_H3x",
    "outputId": "88fd7e61-ce1b-4462-ef92-c3aab57612b6"
   },
   "outputs": [
    {
     "name": "stdout",
     "output_type": "stream",
     "text": [
      "[[ 0  1  2  3  4]\n",
      " [ 5  6  7  8  9]\n",
      " [15 16 17 18 19]]\n"
     ]
    }
   ],
   "source": [
    "arr1 = np.arange(25).reshape((5,5))\n",
    "bools = np.array([True, True, False, True, False])\n",
    "print(arr1[bools])"
   ]
  },
  {
   "cell_type": "code",
   "execution_count": null,
   "metadata": {
    "id": "uDa3t4de_H3y",
    "outputId": "c3fbd941-b4dc-41b8-f7d2-3c24855c802f"
   },
   "outputs": [
    {
     "name": "stdout",
     "output_type": "stream",
     "text": [
      "[[10 11 12 13 14]\n",
      " [20 21 22 23 24]]\n"
     ]
    }
   ],
   "source": [
    "# negate the condition\n",
    "print(arr1[~bools])    "
   ]
  },
  {
   "cell_type": "markdown",
   "metadata": {
    "id": "jqYvUoVs_H31"
   },
   "source": [
    "### fancy indexing"
   ]
  },
  {
   "cell_type": "code",
   "execution_count": 8,
   "metadata": {
    "id": "-zY0HAI4_H32"
   },
   "outputs": [
    {
     "name": "stdout",
     "output_type": "stream",
     "text": [
      "[[0.85856668 0.33936053 0.21604264 0.92065534 0.79713853 0.8972448\n",
      "  0.61041921 0.38472888 0.24396331 0.35899878]\n",
      " [0.52680135 0.96961856 0.47417689 0.93752102 0.47863105 0.64271569\n",
      "  0.42971434 0.83691376 0.72192833 0.61417802]\n",
      " [0.62036105 0.2552051  0.67732422 0.99716217 0.36822796 0.51696763\n",
      "  0.11089545 0.27017664 0.34310224 0.94480775]\n",
      " [0.81775992 0.25044391 0.05768638 0.93666641 0.96116312 0.5262541\n",
      "  0.71178448 0.46757754 0.30951138 0.4080766 ]\n",
      " [0.25940897 0.02561471 0.87680731 0.51196696 0.45822888 0.68662326\n",
      "  0.19041395 0.6042182  0.72907629 0.59985811]\n",
      " [0.28443432 0.80302442 0.934066   0.40561848 0.38306818 0.79829453\n",
      "  0.3282947  0.98458845 0.36518568 0.55349632]\n",
      " [0.77934969 0.34421547 0.52364781 0.29825765 0.98876311 0.34947301\n",
      "  0.69047429 0.31599962 0.26337686 0.32379041]\n",
      " [0.40577264 0.79403756 0.74923862 0.14530855 0.72917658 0.78412442\n",
      "  0.5249948  0.31277287 0.17149373 0.61277059]\n",
      " [0.00668176 0.56387637 0.13364277 0.74985094 0.34281586 0.63415462\n",
      "  0.77074962 0.79932332 0.23289152 0.38368686]\n",
      " [0.88686967 0.06932897 0.47512227 0.53695198 0.15945584 0.48424799\n",
      "  0.44302546 0.87171886 0.06158499 0.71710279]]\n"
     ]
    }
   ],
   "source": [
    "arr = np.random.rand(10,10)\n",
    "print(arr)"
   ]
  },
  {
   "cell_type": "code",
   "execution_count": 9,
   "metadata": {
    "id": "H9sCHD91_H34",
    "outputId": "3adaf2c0-c74f-4fa8-f777-30ab8f4febcd"
   },
   "outputs": [
    {
     "name": "stdout",
     "output_type": "stream",
     "text": [
      "[[0.71178448 0.96116312 0.30951138]\n",
      " [0.42971434 0.47863105 0.72192833]\n",
      " [0.11089545 0.36822796 0.34310224]]\n"
     ]
    }
   ],
   "source": [
    "# select rows 3,1,2 with columns 6,4,8 \n",
    "print(arr[[3,1,2]][:, [6,4,8]])    "
   ]
  },
  {
   "cell_type": "markdown",
   "metadata": {
    "id": "mGGlVmWW_H37"
   },
   "source": [
    "### find elements/indices by conditions"
   ]
  },
  {
   "cell_type": "code",
   "execution_count": 10,
   "metadata": {
    "id": "TueDIEXG_H38"
   },
   "outputs": [
    {
     "name": "stdout",
     "output_type": "stream",
     "text": [
      "[[ 0  1  2  3]\n",
      " [ 4  5  6  7]\n",
      " [ 8  9 10 11]\n",
      " [12 13 14 15]]\n"
     ]
    }
   ],
   "source": [
    "arr = np.arange(16).reshape(4,4)\n",
    "print(arr)"
   ]
  },
  {
   "cell_type": "code",
   "execution_count": 11,
   "metadata": {
    "id": "ETQ8eYDP_H39",
    "outputId": "6d1411f6-f1fa-4957-b7e2-750a244719d5"
   },
   "outputs": [
    {
     "name": "stdout",
     "output_type": "stream",
     "text": [
      "[ 6  7  8  9 10 11 12 13 14 15]\n"
     ]
    }
   ],
   "source": [
    "# find the elements greater than 5 and return a flattened array\n",
    "print(arr[arr>5])    # or arr[np.where(arr>5)]"
   ]
  },
  {
   "cell_type": "code",
   "execution_count": 12,
   "metadata": {
    "id": "Dmk0FySc_H4C",
    "outputId": "9a263fcd-8ec0-4f0a-b42e-1d9975f474fb"
   },
   "outputs": [
    {
     "name": "stdout",
     "output_type": "stream",
     "text": [
      "[['False' 'False' 'False' 'False']\n",
      " ['False' 'False' 'True' 'True']\n",
      " ['True' 'True' 'True' 'True']\n",
      " ['True' 'True' 'True' 'True']]\n"
     ]
    }
   ],
   "source": [
    "# return values based on conditions \n",
    "# np.where(condition, true_return, false_return)\n",
    "print(np.where(arr>5, \"True\", \"False\"))"
   ]
  },
  {
   "cell_type": "code",
   "execution_count": null,
   "metadata": {
    "id": "bEKH6aC4_H4E",
    "outputId": "16b414e0-c424-4649-c750-7281de08a356"
   },
   "outputs": [
    {
     "name": "stdout",
     "output_type": "stream",
     "text": [
      "[[1 2]\n",
      " [1 3]\n",
      " [2 0]\n",
      " [2 1]\n",
      " [2 2]\n",
      " [2 3]\n",
      " [3 0]\n",
      " [3 1]\n",
      " [3 2]\n",
      " [3 3]]\n"
     ]
    }
   ],
   "source": [
    "# find the indices of the elements on conditions\n",
    "print(np.argwhere(arr>5))"
   ]
  },
  {
   "cell_type": "markdown",
   "metadata": {
    "id": "d5dHlKfZ_H4F"
   },
   "source": [
    "# Sort an Array"
   ]
  },
  {
   "cell_type": "code",
   "execution_count": null,
   "metadata": {
    "id": "nGyXy-Ny_H4G"
   },
   "outputs": [],
   "source": [
    "arr = np.random.rand(5,5)"
   ]
  },
  {
   "cell_type": "markdown",
   "metadata": {
    "id": "-KNFOMNw_H4H"
   },
   "source": [
    "### sort an array along a specified axis"
   ]
  },
  {
   "cell_type": "code",
   "execution_count": null,
   "metadata": {
    "id": "CPVrGGVI_H4I",
    "outputId": "82363af9-dd11-49ca-e7f7-399a59b4f3ff"
   },
   "outputs": [
    {
     "name": "stdout",
     "output_type": "stream",
     "text": [
      "[[0.11702945 0.17913374 0.06753657 0.02945699 0.05396756]\n",
      " [0.13630925 0.18249983 0.41165849 0.12910116 0.31981183]\n",
      " [0.36056504 0.51866089 0.42053876 0.56232065 0.37163583]\n",
      " [0.44498496 0.62847058 0.42945962 0.70682921 0.43148605]\n",
      " [0.7740198  0.74238635 0.55147061 0.86890785 0.75572196]]\n"
     ]
    }
   ],
   "source": [
    "# sort along the row and return a copy\n",
    "print(np.sort(arr, axis=0))   "
   ]
  },
  {
   "cell_type": "code",
   "execution_count": null,
   "metadata": {
    "id": "AJQUnGM2_H4K",
    "outputId": "c92a15ae-9791-451f-b420-9a2410b1ef66"
   },
   "outputs": [
    {
     "name": "stdout",
     "output_type": "stream",
     "text": [
      "[[0.11702945 0.17913374 0.06753657 0.02945699 0.05396756]\n",
      " [0.13630925 0.18249983 0.41165849 0.12910116 0.31981183]\n",
      " [0.36056504 0.51866089 0.42053876 0.56232065 0.37163583]\n",
      " [0.44498496 0.62847058 0.42945962 0.70682921 0.43148605]\n",
      " [0.7740198  0.74238635 0.55147061 0.86890785 0.75572196]]\n"
     ]
    }
   ],
   "source": [
    "# sort along the row in place\n",
    "arr.sort(axis=0)\n",
    "print(arr)"
   ]
  },
  {
   "cell_type": "code",
   "execution_count": null,
   "metadata": {
    "id": "G4J5VSib_H4L",
    "outputId": "9f22ed27-66bb-4319-f5f9-4b5847afa279"
   },
   "outputs": [
    {
     "name": "stdout",
     "output_type": "stream",
     "text": [
      "[[0.02945699 0.05396756 0.06753657 0.11702945 0.17913374]\n",
      " [0.12910116 0.13630925 0.18249983 0.31981183 0.41165849]\n",
      " [0.36056504 0.37163583 0.42053876 0.51866089 0.56232065]\n",
      " [0.42945962 0.43148605 0.44498496 0.62847058 0.70682921]\n",
      " [0.55147061 0.74238635 0.75572196 0.7740198  0.86890785]]\n"
     ]
    }
   ],
   "source": [
    "# sort along the column and return a copy\n",
    "print(np.sort(arr, axis=1))    "
   ]
  },
  {
   "cell_type": "code",
   "execution_count": null,
   "metadata": {
    "id": "yB_yBy1m_H4M",
    "outputId": "687489e2-645b-4ad5-e4d2-6a1f71591644"
   },
   "outputs": [
    {
     "name": "stdout",
     "output_type": "stream",
     "text": [
      "[[0.02945699 0.05396756 0.06753657 0.11702945 0.17913374]\n",
      " [0.12910116 0.13630925 0.18249983 0.31981183 0.41165849]\n",
      " [0.36056504 0.37163583 0.42053876 0.51866089 0.56232065]\n",
      " [0.42945962 0.43148605 0.44498496 0.62847058 0.70682921]\n",
      " [0.55147061 0.74238635 0.75572196 0.7740198  0.86890785]]\n"
     ]
    }
   ],
   "source": [
    "# sort along the column in place\n",
    "arr.sort(axis=1)    \n",
    "print(arr)"
   ]
  },
  {
   "cell_type": "markdown",
   "metadata": {
    "id": "uCbHqoJ9_H4f"
   },
   "source": [
    "# Manipulate an Array"
   ]
  },
  {
   "cell_type": "markdown",
   "metadata": {
    "id": "-RUHSbVq_H4f"
   },
   "source": [
    "### transpose an array"
   ]
  },
  {
   "cell_type": "code",
   "execution_count": 14,
   "metadata": {
    "id": "ac93PgmW_H4f",
    "outputId": "cbca53c7-6a96-499a-d030-6cb3ebab4b0e"
   },
   "outputs": [
    {
     "name": "stdout",
     "output_type": "stream",
     "text": [
      "[[ 0  4  8 12]\n",
      " [ 1  5  9 13]\n",
      " [ 2  6 10 14]\n",
      " [ 3  7 11 15]]\n",
      "[[ 0  4  8 12]\n",
      " [ 1  5  9 13]\n",
      " [ 2  6 10 14]\n",
      " [ 3  7 11 15]]\n",
      "[[ 0  4  8 12]\n",
      " [ 1  5  9 13]\n",
      " [ 2  6 10 14]\n",
      " [ 3  7 11 15]]\n"
     ]
    }
   ],
   "source": [
    "# the following methods return a copy\n",
    "print(arr.T)\n",
    "# or \n",
    "print(np.transpose(arr))\n",
    "# or\n",
    "print(arr.transpose())"
   ]
  },
  {
   "cell_type": "markdown",
   "metadata": {
    "id": "JS7iAjmO_H4k"
   },
   "source": [
    "### change the shape of an array"
   ]
  },
  {
   "cell_type": "code",
   "execution_count": null,
   "metadata": {
    "id": "QJYOSpH9_H4k",
    "outputId": "b8e47991-04b8-48ad-a76c-7e15eb6e861b"
   },
   "outputs": [
    {
     "data": {
      "text/plain": [
       "array([[0.80614361, 0.86728799, 0.08910079, 0.67553447, 0.61240133,\n",
       "        0.65205696],\n",
       "       [0.05760322, 0.38582245, 0.73322903, 0.13585084, 0.56708195,\n",
       "        0.02315444]])"
      ]
     },
     "execution_count": 128,
     "metadata": {
      "tags": []
     },
     "output_type": "execute_result"
    }
   ],
   "source": [
    "# change the shape of an array and return a copy\n",
    "arr.reshape((2,6))"
   ]
  },
  {
   "cell_type": "code",
   "execution_count": null,
   "metadata": {
    "id": "HG4xubem_H4l"
   },
   "outputs": [],
   "source": [
    "# change the shape of an array in place\n",
    "arr.resize((2,6))"
   ]
  },
  {
   "cell_type": "markdown",
   "metadata": {
    "id": "ZjE4Z-Gf_H4o"
   },
   "source": [
    "### flatten an array"
   ]
  },
  {
   "cell_type": "code",
   "execution_count": null,
   "metadata": {
    "id": "RpKZqOty_H4o",
    "outputId": "bae8a0b8-5c91-4e68-f148-b925bf9a0c03"
   },
   "outputs": [
    {
     "data": {
      "text/plain": [
       "array([0.80614361, 0.86728799, 0.08910079, 0.67553447, 0.61240133,\n",
       "       0.65205696, 0.05760322, 0.38582245, 0.73322903, 0.13585084,\n",
       "       0.56708195, 0.02315444])"
      ]
     },
     "execution_count": 130,
     "metadata": {
      "tags": []
     },
     "output_type": "execute_result"
    }
   ],
   "source": [
    "# return a copy\n",
    "arr.flatten()    "
   ]
  },
  {
   "cell_type": "markdown",
   "metadata": {
    "id": "Y2-3LGK2_H4s"
   },
   "source": [
    "### append elements to an array"
   ]
  },
  {
   "cell_type": "code",
   "execution_count": null,
   "metadata": {
    "id": "uv6NivIA_H4t"
   },
   "outputs": [],
   "source": [
    "arr = np.array([1,2,3])"
   ]
  },
  {
   "cell_type": "code",
   "execution_count": null,
   "metadata": {
    "id": "m5GW0mGM_H4u",
    "outputId": "b09241ba-74e8-4822-a4c8-dee1d9a980ff"
   },
   "outputs": [
    {
     "name": "stdout",
     "output_type": "stream",
     "text": [
      "[1 2 3 4]\n"
     ]
    }
   ],
   "source": [
    "# append a scalar and return a copy\n",
    "arr1 = np.append(arr, 4)    \n",
    "print(arr1)"
   ]
  },
  {
   "cell_type": "code",
   "execution_count": null,
   "metadata": {
    "id": "9a_M-Gal_H4v",
    "outputId": "18776a47-3cec-41d9-965f-e5f20f941989"
   },
   "outputs": [
    {
     "name": "stdout",
     "output_type": "stream",
     "text": [
      "[1 2 3 4 5 6]\n"
     ]
    }
   ],
   "source": [
    "# append an array and return a copy\n",
    "arr2 = np.append(arr, [4,5,6])    \n",
    "print(arr2)"
   ]
  },
  {
   "cell_type": "markdown",
   "metadata": {
    "id": "7kh9hrzw_H4w"
   },
   "source": [
    "### insert elements into an array"
   ]
  },
  {
   "cell_type": "code",
   "execution_count": null,
   "metadata": {
    "id": "TDK_9Lzc_H4w",
    "outputId": "5693efaf-f9a6-423f-aae5-97e48d2f3b0b"
   },
   "outputs": [
    {
     "name": "stdout",
     "output_type": "stream",
     "text": [
      "[100   1   2   3]\n"
     ]
    }
   ],
   "source": [
    "# np.insert(array, position, element)\n",
    "\n",
    "# insert a scalar at a certain position\n",
    "arr3 = np.insert(arr, 0, 100)    \n",
    "print(arr3)"
   ]
  },
  {
   "cell_type": "code",
   "execution_count": null,
   "metadata": {
    "id": "-ZeGDu0w_H4y",
    "outputId": "cf77fbe3-d02e-4194-fc79-19862d8df5f0"
   },
   "outputs": [
    {
     "name": "stdout",
     "output_type": "stream",
     "text": [
      "[1 2 3 1 2 3]\n"
     ]
    }
   ],
   "source": [
    "# insert multiple values at a certain position\n",
    "arr3 = np.insert(arr, 0, [1,2,3])    \n",
    "print(arr3)"
   ]
  },
  {
   "cell_type": "markdown",
   "metadata": {
    "id": "w2BbbQtD_H40"
   },
   "source": [
    "### delete elements from an array"
   ]
  },
  {
   "cell_type": "code",
   "execution_count": null,
   "metadata": {
    "id": "juz5Zn8p_H40",
    "outputId": "71f59420-e66a-4eb3-d5ce-05ee761bd8fd"
   },
   "outputs": [
    {
     "name": "stdout",
     "output_type": "stream",
     "text": [
      "[2 3]\n"
     ]
    }
   ],
   "source": [
    "# remove the element at position 0\n",
    "arr4 = np.delete(arr, 0)    \n",
    "print(arr4)"
   ]
  },
  {
   "cell_type": "code",
   "execution_count": null,
   "metadata": {
    "id": "V0zUiXeK_H42",
    "outputId": "acad935a-be5f-4396-aabd-96e43479a084"
   },
   "outputs": [
    {
     "name": "stdout",
     "output_type": "stream",
     "text": [
      "[2]\n"
     ]
    }
   ],
   "source": [
    "# remove the element at multiple positions\n",
    "arr4 = np.delete(arr, [0,2])    \n",
    "print(arr4)"
   ]
  },
  {
   "cell_type": "markdown",
   "metadata": {
    "id": "G8p9Q90U_H45"
   },
   "source": [
    "### copy an array"
   ]
  },
  {
   "cell_type": "code",
   "execution_count": null,
   "metadata": {
    "id": "8K-xuBJP_H45"
   },
   "outputs": [],
   "source": [
    "arr = np.array([1,2,3])"
   ]
  },
  {
   "cell_type": "code",
   "execution_count": null,
   "metadata": {
    "id": "ApvrBltc_H46"
   },
   "outputs": [],
   "source": [
    "# the following methods are all deep copy\n",
    "arr1 = np.copy(arr)\n",
    "# or \n",
    "arr1 = arr.copy()\n",
    "# or \n",
    "arr1 = np.array(arr, copy=True)"
   ]
  },
  {
   "cell_type": "markdown",
   "metadata": {
    "id": "z_FP70vy_H48"
   },
   "source": [
    "# Combine & Split an Array"
   ]
  },
  {
   "cell_type": "code",
   "execution_count": null,
   "metadata": {
    "id": "OvU_BZJc_H48"
   },
   "outputs": [],
   "source": [
    "arr1 = np.array([[1,2,3,4], [1,2,3,4]])\n",
    "arr2 = np.array([[5,6,7,8], [5,6,7,8]])"
   ]
  },
  {
   "cell_type": "markdown",
   "metadata": {
    "id": "yNTrIPMZ_H49"
   },
   "source": [
    "### ```np.concatenate((a, b), axis=0)```"
   ]
  },
  {
   "cell_type": "code",
   "execution_count": null,
   "metadata": {
    "id": "3uE8y0pc_H4-",
    "outputId": "516ca752-4d5b-443a-e1a3-c40b35188d30"
   },
   "outputs": [
    {
     "name": "stdout",
     "output_type": "stream",
     "text": [
      "[[1 2 3 4]\n",
      " [1 2 3 4]\n",
      " [5 6 7 8]\n",
      " [5 6 7 8]]\n"
     ]
    }
   ],
   "source": [
    "# concat along the row\n",
    "cat = np.concatenate((arr1, arr2), axis=0)        \n",
    "print(cat)"
   ]
  },
  {
   "cell_type": "code",
   "execution_count": null,
   "metadata": {
    "id": "o3atFcYx_H4_",
    "outputId": "2ffbc6af-7dc7-43f3-a5ec-1913abadbbc8"
   },
   "outputs": [
    {
     "name": "stdout",
     "output_type": "stream",
     "text": [
      "[[1 2 3 4 5 6 7 8]\n",
      " [1 2 3 4 5 6 7 8]]\n"
     ]
    }
   ],
   "source": [
    "# concat along the column\n",
    "cat = np.concatenate((arr1, arr2), axis=1)    \n",
    "print(cat)"
   ]
  },
  {
   "cell_type": "markdown",
   "metadata": {
    "id": "1UDD2mTp_H5B"
   },
   "source": [
    "### ```np.vstack((a, b))``` "
   ]
  },
  {
   "cell_type": "code",
   "execution_count": null,
   "metadata": {
    "id": "5xLDgDtG_H5B",
    "outputId": "f83864a6-4733-4c1e-ac03-f532d5ec1470"
   },
   "outputs": [
    {
     "name": "stdout",
     "output_type": "stream",
     "text": [
      "[[1 2 3 4]\n",
      " [1 2 3 4]\n",
      " [5 6 7 8]\n",
      " [5 6 7 8]]\n"
     ]
    }
   ],
   "source": [
    "# stack arrays vertically\n",
    "cat = np.vstack((arr1, arr2))\n",
    "print(cat)"
   ]
  },
  {
   "cell_type": "markdown",
   "metadata": {
    "id": "dwTLtPbT_H5D"
   },
   "source": [
    "### ```np.hstack((a, b))```\n"
   ]
  },
  {
   "cell_type": "code",
   "execution_count": null,
   "metadata": {
    "id": "kSWXi--u_H5D",
    "outputId": "4f97aebf-231e-4961-965a-9358b49fc9cf"
   },
   "outputs": [
    {
     "name": "stdout",
     "output_type": "stream",
     "text": [
      "[[1 2 3 4 5 6 7 8]\n",
      " [1 2 3 4 5 6 7 8]]\n"
     ]
    }
   ],
   "source": [
    "# stack arrays horizontally\n",
    "cat = np.hstack((arr1, arr2))\n",
    "print(cat)"
   ]
  },
  {
   "cell_type": "markdown",
   "metadata": {
    "id": "qWwVPMNl_H5P"
   },
   "source": [
    "# Set Operations"
   ]
  },
  {
   "cell_type": "markdown",
   "metadata": {
    "id": "-cQGMXw-_H5P"
   },
   "source": [
    "### select the unique elements from an array"
   ]
  },
  {
   "cell_type": "code",
   "execution_count": null,
   "metadata": {
    "id": "xxoUyBN2_H5Q",
    "outputId": "a4f58ff2-1301-4f87-aa45-35f0b52f01f0"
   },
   "outputs": [
    {
     "name": "stdout",
     "output_type": "stream",
     "text": [
      "[1 2 3 4 5 6]\n"
     ]
    }
   ],
   "source": [
    "arr = np.array([1,1,2,2,3,3,4,5,6])\n",
    "print(np.unique(arr))"
   ]
  },
  {
   "cell_type": "code",
   "execution_count": null,
   "metadata": {
    "id": "qfsqW4je_H5R",
    "outputId": "39c3cf35-20a0-4821-f687-a91fa30bbbf6"
   },
   "outputs": [
    {
     "name": "stdout",
     "output_type": "stream",
     "text": [
      "[1 2 3 4 5 6]\n",
      "[2 2 2 1 1 1]\n"
     ]
    }
   ],
   "source": [
    "# return the number of times each unique item appears\n",
    "arr = np.array([1,1,2,2,3,3,4,5,6])\n",
    "uniques, counts = np.unique(arr, return_counts=True)\n",
    "print(uniques)\n",
    "print(counts)"
   ]
  },
  {
   "cell_type": "markdown",
   "metadata": {
    "id": "8nfxc1Y2_H5S"
   },
   "source": [
    "### compute the intersection & union of two arrays"
   ]
  },
  {
   "cell_type": "code",
   "execution_count": null,
   "metadata": {
    "id": "hIV57YVx_H5S"
   },
   "outputs": [],
   "source": [
    "arr1 = np.array([1,2,3,4,5])\n",
    "arr2 = np.array([3,4,5,6,7])"
   ]
  },
  {
   "cell_type": "code",
   "execution_count": null,
   "metadata": {
    "id": "S55C5J5__H5U",
    "outputId": "74ea0049-ea98-4f87-ef19-a54a6d4e6ab7"
   },
   "outputs": [
    {
     "name": "stdout",
     "output_type": "stream",
     "text": [
      "[3 4 5]\n"
     ]
    }
   ],
   "source": [
    "# intersection\n",
    "print(np.intersect1d(arr1, arr2))"
   ]
  },
  {
   "cell_type": "code",
   "execution_count": null,
   "metadata": {
    "id": "vyYYbXoF_H5W",
    "outputId": "5d5b22db-60ec-4c9e-8706-3b16fa7a6592"
   },
   "outputs": [
    {
     "name": "stdout",
     "output_type": "stream",
     "text": [
      "[1 2 3 4 5 6 7]\n"
     ]
    }
   ],
   "source": [
    "# union\n",
    "print(np.union1d(arr1, arr2))"
   ]
  },
  {
   "cell_type": "markdown",
   "metadata": {
    "id": "kryNGnh2_H5b"
   },
   "source": [
    "### compute the elements in an array that are not in another"
   ]
  },
  {
   "cell_type": "code",
   "execution_count": null,
   "metadata": {
    "id": "fiW0eas4_H5c",
    "outputId": "269f7fcd-a51a-4fb6-b3a1-4304f10591ec"
   },
   "outputs": [
    {
     "name": "stdout",
     "output_type": "stream",
     "text": [
      "[1 2]\n"
     ]
    }
   ],
   "source": [
    "print(np.setdiff1d(arr1, arr2))"
   ]
  },
  {
   "cell_type": "markdown",
   "metadata": {
    "id": "YXed15ty_H5d"
   },
   "source": [
    "### compute the elements in either of two arrays, but not both"
   ]
  },
  {
   "cell_type": "code",
   "execution_count": null,
   "metadata": {
    "id": "dFt83LRk_H5d",
    "outputId": "f6a32d63-72ff-410e-a2b7-af2c6b5c9a82"
   },
   "outputs": [
    {
     "name": "stdout",
     "output_type": "stream",
     "text": [
      "[1 2 6 7]\n"
     ]
    }
   ],
   "source": [
    "print(np.setxor1d(arr1, arr2))"
   ]
  },
  {
   "cell_type": "markdown",
   "metadata": {
    "id": "TEKU46Mh_H5e"
   },
   "source": [
    "# Linear Algebra"
   ]
  },
  {
   "cell_type": "code",
   "execution_count": 15,
   "metadata": {
    "colab": {
     "base_uri": "https://localhost:8080/",
     "height": 181
    },
    "id": "9lGKQGg7_H5e",
    "outputId": "50f836b3-2bab-4d5b-a429-2513fd01f50c"
   },
   "outputs": [],
   "source": [
    "arr1 = np.random.rand(5,5)\n",
    "arr2 = np.random.rand(5,5)"
   ]
  },
  {
   "cell_type": "markdown",
   "metadata": {
    "id": "NeeUiVfN_H5h"
   },
   "source": [
    "### matrix multiplication"
   ]
  },
  {
   "cell_type": "code",
   "execution_count": 16,
   "metadata": {
    "colab": {
     "base_uri": "https://localhost:8080/",
     "height": 232
    },
    "id": "-I4mjYgP_H5h",
    "outputId": "6d4f0077-54c6-47ee-872e-95f42b3882e1"
   },
   "outputs": [
    {
     "name": "stdout",
     "output_type": "stream",
     "text": [
      "[[0.55027213 1.06243867 1.48957422 1.12684463 0.93017488]\n",
      " [0.97198446 2.39213984 3.06001449 2.05410597 2.23604282]\n",
      " [0.40063697 1.0543184  1.27279687 0.78994808 0.80955434]\n",
      " [0.78566131 1.91238438 2.60456087 1.82549035 2.25012749]\n",
      " [0.44596591 1.01386458 1.44314311 1.04142107 1.33091321]]\n",
      "[[0.55027213 1.06243867 1.48957422 1.12684463 0.93017488]\n",
      " [0.97198446 2.39213984 3.06001449 2.05410597 2.23604282]\n",
      " [0.40063697 1.0543184  1.27279687 0.78994808 0.80955434]\n",
      " [0.78566131 1.91238438 2.60456087 1.82549035 2.25012749]\n",
      " [0.44596591 1.01386458 1.44314311 1.04142107 1.33091321]]\n",
      "[[0.55027213 1.06243867 1.48957422 1.12684463 0.93017488]\n",
      " [0.97198446 2.39213984 3.06001449 2.05410597 2.23604282]\n",
      " [0.40063697 1.0543184  1.27279687 0.78994808 0.80955434]\n",
      " [0.78566131 1.91238438 2.60456087 1.82549035 2.25012749]\n",
      " [0.44596591 1.01386458 1.44314311 1.04142107 1.33091321]]\n"
     ]
    }
   ],
   "source": [
    "print(arr1.dot(arr2))\n",
    "# or\n",
    "print(np.dot(arr1, arr2))\n",
    "# or\n",
    "print(arr1 @ arr2)"
   ]
  },
  {
   "cell_type": "markdown",
   "metadata": {
    "id": "tuxD8hjp_H56"
   },
   "source": [
    "### compute eigen values"
   ]
  },
  {
   "cell_type": "code",
   "execution_count": null,
   "metadata": {
    "id": "0c_b2YZN_H57"
   },
   "outputs": [],
   "source": [
    "arr = np.random.rand(5,5)\n",
    "print(np.linalg.eigvals(arr))"
   ]
  },
  {
   "cell_type": "markdown",
   "metadata": {
    "id": "EvEG-s8X_H58"
   },
   "source": [
    "### eigen value decomposition"
   ]
  },
  {
   "cell_type": "code",
   "execution_count": null,
   "metadata": {
    "id": "sSqpaFaJ_H58"
   },
   "outputs": [],
   "source": [
    "arr = np.random.rand(5,5)\n",
    "\n",
    "w, v = np.linalg.eig(arr)\n",
    "print(w)    # eigen values\n",
    "print(v)    # eigen vectors"
   ]
  },
  {
   "cell_type": "markdown",
   "metadata": {
    "id": "_qc7HtBN_H5_"
   },
   "source": [
    "### compute the trace & determinant"
   ]
  },
  {
   "cell_type": "code",
   "execution_count": null,
   "metadata": {
    "id": "AMKGbTp-_H5_"
   },
   "outputs": [],
   "source": [
    "# notice this is not a function in linalg!!!\n",
    "print(np.trace(arr))"
   ]
  },
  {
   "cell_type": "code",
   "execution_count": null,
   "metadata": {
    "id": "ifT3ZhJL_H6D"
   },
   "outputs": [],
   "source": [
    "print(np.linalg.det(arr))"
   ]
  },
  {
   "cell_type": "code",
   "execution_count": null,
   "metadata": {
    "id": "ip9r-r_V_H6G"
   },
   "outputs": [],
   "source": [
    "# compute the inverse of a matrix\n",
    "arr = np.random.rand(5,5)\n",
    "print(np.linalg.inv(arr))"
   ]
  }
 ],
 "metadata": {
  "colab": {
   "name": "Complete Tutorial.ipynb",
   "provenance": []
  },
  "kernelspec": {
   "display_name": "Python 3",
   "language": "python",
   "name": "python3"
  },
  "language_info": {
   "codemirror_mode": {
    "name": "ipython",
    "version": 3
   },
   "file_extension": ".py",
   "mimetype": "text/x-python",
   "name": "python",
   "nbconvert_exporter": "python",
   "pygments_lexer": "ipython3",
   "version": "3.7.4"
  }
 },
 "nbformat": 4,
 "nbformat_minor": 1
}
