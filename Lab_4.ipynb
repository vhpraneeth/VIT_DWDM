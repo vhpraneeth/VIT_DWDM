{
  "nbformat": 4,
  "nbformat_minor": 0,
  "metadata": {
    "kernelspec": {
      "display_name": "Python 3",
      "language": "python",
      "name": "python3"
    },
    "language_info": {
      "codemirror_mode": {
        "name": "ipython",
        "version": 3
      },
      "file_extension": ".py",
      "mimetype": "text/x-python",
      "name": "python",
      "nbconvert_exporter": "python",
      "pygments_lexer": "ipython3",
      "version": "3.7.4"
    },
    "colab": {
      "name": "Lab_4.ipynb",
      "provenance": [],
      "collapsed_sections": [],
      "include_colab_link": true
    }
  },
  "cells": [
    {
      "cell_type": "markdown",
      "metadata": {
        "id": "view-in-github",
        "colab_type": "text"
      },
      "source": [
        "<a href=\"https://colab.research.google.com/github/vhpraneeth/VIT_DWDM/blob/main/Lab_4.ipynb\" target=\"_parent\"><img src=\"https://colab.research.google.com/assets/colab-badge.svg\" alt=\"Open In Colab\"/></a>"
      ]
    },
    {
      "cell_type": "markdown",
      "metadata": {
        "id": "wUGWbgd-4yH-"
      },
      "source": [
        "18BCE7147\n",
        "\n",
        "[GitHub Link](https://github.com/vhpraneeth/VIT_DWDM/blob/main/Lab_4.ipynb)"
      ]
    },
    {
      "cell_type": "markdown",
      "metadata": {
        "id": "jxU5Ta5PqtgZ"
      },
      "source": [
        "# Handling Categorical Encodings"
      ]
    },
    {
      "cell_type": "markdown",
      "metadata": {
        "id": "A7ADNPGqqtge"
      },
      "source": [
        "> ## 1. Replace Values"
      ]
    },
    {
      "cell_type": "code",
      "metadata": {
        "id": "-Ni1bDJgqtgf"
      },
      "source": [
        "import pandas as pd\n",
        "import numpy as np\n",
        "%matplotlib inline"
      ],
      "execution_count": 1,
      "outputs": []
    },
    {
      "cell_type": "code",
      "metadata": {
        "id": "Zc20G3rxqtgl",
        "colab": {
          "base_uri": "https://localhost:8080/",
          "height": 194
        },
        "outputId": "be71cc75-9f21-485a-b6cf-4ed1c3e6e336"
      },
      "source": [
        "df_flights = pd.read_csv('https://raw.githubusercontent.com/ismayc/pnwflights14/master/data/flights.csv')\n",
        "df_flights.head()"
      ],
      "execution_count": 2,
      "outputs": [
        {
          "output_type": "execute_result",
          "data": {
            "text/html": [
              "<div>\n",
              "<style scoped>\n",
              "    .dataframe tbody tr th:only-of-type {\n",
              "        vertical-align: middle;\n",
              "    }\n",
              "\n",
              "    .dataframe tbody tr th {\n",
              "        vertical-align: top;\n",
              "    }\n",
              "\n",
              "    .dataframe thead th {\n",
              "        text-align: right;\n",
              "    }\n",
              "</style>\n",
              "<table border=\"1\" class=\"dataframe\">\n",
              "  <thead>\n",
              "    <tr style=\"text-align: right;\">\n",
              "      <th></th>\n",
              "      <th>year</th>\n",
              "      <th>month</th>\n",
              "      <th>day</th>\n",
              "      <th>dep_time</th>\n",
              "      <th>dep_delay</th>\n",
              "      <th>arr_time</th>\n",
              "      <th>arr_delay</th>\n",
              "      <th>carrier</th>\n",
              "      <th>tailnum</th>\n",
              "      <th>flight</th>\n",
              "      <th>origin</th>\n",
              "      <th>dest</th>\n",
              "      <th>air_time</th>\n",
              "      <th>distance</th>\n",
              "      <th>hour</th>\n",
              "      <th>minute</th>\n",
              "    </tr>\n",
              "  </thead>\n",
              "  <tbody>\n",
              "    <tr>\n",
              "      <th>0</th>\n",
              "      <td>2014</td>\n",
              "      <td>1</td>\n",
              "      <td>1</td>\n",
              "      <td>1.0</td>\n",
              "      <td>96.0</td>\n",
              "      <td>235.0</td>\n",
              "      <td>70.0</td>\n",
              "      <td>AS</td>\n",
              "      <td>N508AS</td>\n",
              "      <td>145</td>\n",
              "      <td>PDX</td>\n",
              "      <td>ANC</td>\n",
              "      <td>194.0</td>\n",
              "      <td>1542</td>\n",
              "      <td>0.0</td>\n",
              "      <td>1.0</td>\n",
              "    </tr>\n",
              "    <tr>\n",
              "      <th>1</th>\n",
              "      <td>2014</td>\n",
              "      <td>1</td>\n",
              "      <td>1</td>\n",
              "      <td>4.0</td>\n",
              "      <td>-6.0</td>\n",
              "      <td>738.0</td>\n",
              "      <td>-23.0</td>\n",
              "      <td>US</td>\n",
              "      <td>N195UW</td>\n",
              "      <td>1830</td>\n",
              "      <td>SEA</td>\n",
              "      <td>CLT</td>\n",
              "      <td>252.0</td>\n",
              "      <td>2279</td>\n",
              "      <td>0.0</td>\n",
              "      <td>4.0</td>\n",
              "    </tr>\n",
              "    <tr>\n",
              "      <th>2</th>\n",
              "      <td>2014</td>\n",
              "      <td>1</td>\n",
              "      <td>1</td>\n",
              "      <td>8.0</td>\n",
              "      <td>13.0</td>\n",
              "      <td>548.0</td>\n",
              "      <td>-4.0</td>\n",
              "      <td>UA</td>\n",
              "      <td>N37422</td>\n",
              "      <td>1609</td>\n",
              "      <td>PDX</td>\n",
              "      <td>IAH</td>\n",
              "      <td>201.0</td>\n",
              "      <td>1825</td>\n",
              "      <td>0.0</td>\n",
              "      <td>8.0</td>\n",
              "    </tr>\n",
              "    <tr>\n",
              "      <th>3</th>\n",
              "      <td>2014</td>\n",
              "      <td>1</td>\n",
              "      <td>1</td>\n",
              "      <td>28.0</td>\n",
              "      <td>-2.0</td>\n",
              "      <td>800.0</td>\n",
              "      <td>-23.0</td>\n",
              "      <td>US</td>\n",
              "      <td>N547UW</td>\n",
              "      <td>466</td>\n",
              "      <td>PDX</td>\n",
              "      <td>CLT</td>\n",
              "      <td>251.0</td>\n",
              "      <td>2282</td>\n",
              "      <td>0.0</td>\n",
              "      <td>28.0</td>\n",
              "    </tr>\n",
              "    <tr>\n",
              "      <th>4</th>\n",
              "      <td>2014</td>\n",
              "      <td>1</td>\n",
              "      <td>1</td>\n",
              "      <td>34.0</td>\n",
              "      <td>44.0</td>\n",
              "      <td>325.0</td>\n",
              "      <td>43.0</td>\n",
              "      <td>AS</td>\n",
              "      <td>N762AS</td>\n",
              "      <td>121</td>\n",
              "      <td>SEA</td>\n",
              "      <td>ANC</td>\n",
              "      <td>201.0</td>\n",
              "      <td>1448</td>\n",
              "      <td>0.0</td>\n",
              "      <td>34.0</td>\n",
              "    </tr>\n",
              "  </tbody>\n",
              "</table>\n",
              "</div>"
            ],
            "text/plain": [
              "   year  month  day  dep_time  dep_delay  ...  dest  air_time distance hour  minute\n",
              "0  2014      1    1       1.0       96.0  ...   ANC     194.0     1542  0.0     1.0\n",
              "1  2014      1    1       4.0       -6.0  ...   CLT     252.0     2279  0.0     4.0\n",
              "2  2014      1    1       8.0       13.0  ...   IAH     201.0     1825  0.0     8.0\n",
              "3  2014      1    1      28.0       -2.0  ...   CLT     251.0     2282  0.0    28.0\n",
              "4  2014      1    1      34.0       44.0  ...   ANC     201.0     1448  0.0    34.0\n",
              "\n",
              "[5 rows x 16 columns]"
            ]
          },
          "metadata": {
            "tags": []
          },
          "execution_count": 2
        }
      ]
    },
    {
      "cell_type": "code",
      "metadata": {
        "id": "fsuXhTTTqtgq",
        "colab": {
          "base_uri": "https://localhost:8080/",
          "height": 194
        },
        "outputId": "29df8807-b7e6-4731-97c4-5518756822ff"
      },
      "source": [
        "cat_df_flights = df_flights.select_dtypes(include=['object']).copy()\n",
        "cat_df_flights.tail()"
      ],
      "execution_count": 3,
      "outputs": [
        {
          "output_type": "execute_result",
          "data": {
            "text/html": [
              "<div>\n",
              "<style scoped>\n",
              "    .dataframe tbody tr th:only-of-type {\n",
              "        vertical-align: middle;\n",
              "    }\n",
              "\n",
              "    .dataframe tbody tr th {\n",
              "        vertical-align: top;\n",
              "    }\n",
              "\n",
              "    .dataframe thead th {\n",
              "        text-align: right;\n",
              "    }\n",
              "</style>\n",
              "<table border=\"1\" class=\"dataframe\">\n",
              "  <thead>\n",
              "    <tr style=\"text-align: right;\">\n",
              "      <th></th>\n",
              "      <th>carrier</th>\n",
              "      <th>tailnum</th>\n",
              "      <th>origin</th>\n",
              "      <th>dest</th>\n",
              "    </tr>\n",
              "  </thead>\n",
              "  <tbody>\n",
              "    <tr>\n",
              "      <th>162044</th>\n",
              "      <td>UA</td>\n",
              "      <td>N477UA</td>\n",
              "      <td>PDX</td>\n",
              "      <td>IAH</td>\n",
              "    </tr>\n",
              "    <tr>\n",
              "      <th>162045</th>\n",
              "      <td>DL</td>\n",
              "      <td>N137DL</td>\n",
              "      <td>SEA</td>\n",
              "      <td>ATL</td>\n",
              "    </tr>\n",
              "    <tr>\n",
              "      <th>162046</th>\n",
              "      <td>AS</td>\n",
              "      <td>N530AS</td>\n",
              "      <td>SEA</td>\n",
              "      <td>SAN</td>\n",
              "    </tr>\n",
              "    <tr>\n",
              "      <th>162047</th>\n",
              "      <td>US</td>\n",
              "      <td>NaN</td>\n",
              "      <td>PDX</td>\n",
              "      <td>PHX</td>\n",
              "    </tr>\n",
              "    <tr>\n",
              "      <th>162048</th>\n",
              "      <td>WN</td>\n",
              "      <td>N790SW</td>\n",
              "      <td>SEA</td>\n",
              "      <td>SMF</td>\n",
              "    </tr>\n",
              "  </tbody>\n",
              "</table>\n",
              "</div>"
            ],
            "text/plain": [
              "       carrier tailnum origin dest\n",
              "162044      UA  N477UA    PDX  IAH\n",
              "162045      DL  N137DL    SEA  ATL\n",
              "162046      AS  N530AS    SEA  SAN\n",
              "162047      US     NaN    PDX  PHX\n",
              "162048      WN  N790SW    SEA  SMF"
            ]
          },
          "metadata": {
            "tags": []
          },
          "execution_count": 3
        }
      ]
    },
    {
      "cell_type": "code",
      "metadata": {
        "id": "W_Vx_4b1qtgu",
        "colab": {
          "base_uri": "https://localhost:8080/"
        },
        "outputId": "410e8ec3-9ec5-4707-f5cc-18f376594c48"
      },
      "source": [
        "cat_df_flights.isnull().values.sum()"
      ],
      "execution_count": 4,
      "outputs": [
        {
          "output_type": "execute_result",
          "data": {
            "text/plain": [
              "248"
            ]
          },
          "metadata": {
            "tags": []
          },
          "execution_count": 4
        }
      ]
    },
    {
      "cell_type": "code",
      "metadata": {
        "id": "nJs8ACqdqtg0",
        "colab": {
          "base_uri": "https://localhost:8080/",
          "height": 36
        },
        "outputId": "bf192b9e-bd43-4e52-864d-480c9e3236e8"
      },
      "source": [
        "cat_df_flights['tailnum'].value_counts().index[0]"
      ],
      "execution_count": 5,
      "outputs": [
        {
          "output_type": "execute_result",
          "data": {
            "application/vnd.google.colaboratory.intrinsic+json": {
              "type": "string"
            },
            "text/plain": [
              "'N223AG'"
            ]
          },
          "metadata": {
            "tags": []
          },
          "execution_count": 5
        }
      ]
    },
    {
      "cell_type": "code",
      "metadata": {
        "id": "6wwb6EDmqtg3",
        "colab": {
          "base_uri": "https://localhost:8080/",
          "height": 194
        },
        "outputId": "4df1d366-f0a8-4323-a562-8463a6478635"
      },
      "source": [
        "cat_df_flights = cat_df_flights.fillna(cat_df_flights['tailnum'].value_counts().index[0])\n",
        "cat_df_flights.head()"
      ],
      "execution_count": 6,
      "outputs": [
        {
          "output_type": "execute_result",
          "data": {
            "text/html": [
              "<div>\n",
              "<style scoped>\n",
              "    .dataframe tbody tr th:only-of-type {\n",
              "        vertical-align: middle;\n",
              "    }\n",
              "\n",
              "    .dataframe tbody tr th {\n",
              "        vertical-align: top;\n",
              "    }\n",
              "\n",
              "    .dataframe thead th {\n",
              "        text-align: right;\n",
              "    }\n",
              "</style>\n",
              "<table border=\"1\" class=\"dataframe\">\n",
              "  <thead>\n",
              "    <tr style=\"text-align: right;\">\n",
              "      <th></th>\n",
              "      <th>carrier</th>\n",
              "      <th>tailnum</th>\n",
              "      <th>origin</th>\n",
              "      <th>dest</th>\n",
              "    </tr>\n",
              "  </thead>\n",
              "  <tbody>\n",
              "    <tr>\n",
              "      <th>0</th>\n",
              "      <td>AS</td>\n",
              "      <td>N508AS</td>\n",
              "      <td>PDX</td>\n",
              "      <td>ANC</td>\n",
              "    </tr>\n",
              "    <tr>\n",
              "      <th>1</th>\n",
              "      <td>US</td>\n",
              "      <td>N195UW</td>\n",
              "      <td>SEA</td>\n",
              "      <td>CLT</td>\n",
              "    </tr>\n",
              "    <tr>\n",
              "      <th>2</th>\n",
              "      <td>UA</td>\n",
              "      <td>N37422</td>\n",
              "      <td>PDX</td>\n",
              "      <td>IAH</td>\n",
              "    </tr>\n",
              "    <tr>\n",
              "      <th>3</th>\n",
              "      <td>US</td>\n",
              "      <td>N547UW</td>\n",
              "      <td>PDX</td>\n",
              "      <td>CLT</td>\n",
              "    </tr>\n",
              "    <tr>\n",
              "      <th>4</th>\n",
              "      <td>AS</td>\n",
              "      <td>N762AS</td>\n",
              "      <td>SEA</td>\n",
              "      <td>ANC</td>\n",
              "    </tr>\n",
              "  </tbody>\n",
              "</table>\n",
              "</div>"
            ],
            "text/plain": [
              "  carrier tailnum origin dest\n",
              "0      AS  N508AS    PDX  ANC\n",
              "1      US  N195UW    SEA  CLT\n",
              "2      UA  N37422    PDX  IAH\n",
              "3      US  N547UW    PDX  CLT\n",
              "4      AS  N762AS    SEA  ANC"
            ]
          },
          "metadata": {
            "tags": []
          },
          "execution_count": 6
        }
      ]
    },
    {
      "cell_type": "code",
      "metadata": {
        "id": "6UspU0aYqtg7",
        "colab": {
          "base_uri": "https://localhost:8080/"
        },
        "outputId": "fe5a1297-9f50-4d1e-b200-f0b4a319e08c"
      },
      "source": [
        "cat_df_flights_lc = cat_df_flights.copy()\n",
        "cat_df_flights_lc['carrier'] = cat_df_flights_lc['carrier'].astype('category')\n",
        "cat_df_flights_lc['origin'] = cat_df_flights_lc['origin'].astype('category')                                                              \n",
        "\n",
        "cat_df_flights_lc.dtypes"
      ],
      "execution_count": 7,
      "outputs": [
        {
          "output_type": "execute_result",
          "data": {
            "text/plain": [
              "carrier    category\n",
              "tailnum      object\n",
              "origin     category\n",
              "dest         object\n",
              "dtype: object"
            ]
          },
          "metadata": {
            "tags": []
          },
          "execution_count": 7
        }
      ]
    },
    {
      "cell_type": "markdown",
      "metadata": {
        "id": "IjAN0QPYqtg-"
      },
      "source": [
        "> ## 2. Label Encoding"
      ]
    },
    {
      "cell_type": "code",
      "metadata": {
        "id": "868c7gdRqtg_",
        "colab": {
          "base_uri": "https://localhost:8080/",
          "height": 194
        },
        "outputId": "0cd6c082-b682-4c73-bc32-9c3d0018a18d"
      },
      "source": [
        "cat_df_flights.head()"
      ],
      "execution_count": 8,
      "outputs": [
        {
          "output_type": "execute_result",
          "data": {
            "text/html": [
              "<div>\n",
              "<style scoped>\n",
              "    .dataframe tbody tr th:only-of-type {\n",
              "        vertical-align: middle;\n",
              "    }\n",
              "\n",
              "    .dataframe tbody tr th {\n",
              "        vertical-align: top;\n",
              "    }\n",
              "\n",
              "    .dataframe thead th {\n",
              "        text-align: right;\n",
              "    }\n",
              "</style>\n",
              "<table border=\"1\" class=\"dataframe\">\n",
              "  <thead>\n",
              "    <tr style=\"text-align: right;\">\n",
              "      <th></th>\n",
              "      <th>carrier</th>\n",
              "      <th>tailnum</th>\n",
              "      <th>origin</th>\n",
              "      <th>dest</th>\n",
              "    </tr>\n",
              "  </thead>\n",
              "  <tbody>\n",
              "    <tr>\n",
              "      <th>0</th>\n",
              "      <td>AS</td>\n",
              "      <td>N508AS</td>\n",
              "      <td>PDX</td>\n",
              "      <td>ANC</td>\n",
              "    </tr>\n",
              "    <tr>\n",
              "      <th>1</th>\n",
              "      <td>US</td>\n",
              "      <td>N195UW</td>\n",
              "      <td>SEA</td>\n",
              "      <td>CLT</td>\n",
              "    </tr>\n",
              "    <tr>\n",
              "      <th>2</th>\n",
              "      <td>UA</td>\n",
              "      <td>N37422</td>\n",
              "      <td>PDX</td>\n",
              "      <td>IAH</td>\n",
              "    </tr>\n",
              "    <tr>\n",
              "      <th>3</th>\n",
              "      <td>US</td>\n",
              "      <td>N547UW</td>\n",
              "      <td>PDX</td>\n",
              "      <td>CLT</td>\n",
              "    </tr>\n",
              "    <tr>\n",
              "      <th>4</th>\n",
              "      <td>AS</td>\n",
              "      <td>N762AS</td>\n",
              "      <td>SEA</td>\n",
              "      <td>ANC</td>\n",
              "    </tr>\n",
              "  </tbody>\n",
              "</table>\n",
              "</div>"
            ],
            "text/plain": [
              "  carrier tailnum origin dest\n",
              "0      AS  N508AS    PDX  ANC\n",
              "1      US  N195UW    SEA  CLT\n",
              "2      UA  N37422    PDX  IAH\n",
              "3      US  N547UW    PDX  CLT\n",
              "4      AS  N762AS    SEA  ANC"
            ]
          },
          "metadata": {
            "tags": []
          },
          "execution_count": 8
        }
      ]
    },
    {
      "cell_type": "code",
      "metadata": {
        "id": "YP4TmNH9qthC",
        "colab": {
          "base_uri": "https://localhost:8080/",
          "height": 194
        },
        "outputId": "7b92dcf5-ee7d-4355-e9ef-1db80c648962"
      },
      "source": [
        "cat_df_flights_sklearn = cat_df_flights.copy()\n",
        "\n",
        "from sklearn.preprocessing import LabelEncoder\n",
        "\n",
        "lb_make = LabelEncoder()\n",
        "cat_df_flights_sklearn['carrier_code'] = lb_make.fit_transform(cat_df_flights['carrier'])\n",
        "\n",
        "cat_df_flights_sklearn.head()  # Results in appending a new column to df"
      ],
      "execution_count": 9,
      "outputs": [
        {
          "output_type": "execute_result",
          "data": {
            "text/html": [
              "<div>\n",
              "<style scoped>\n",
              "    .dataframe tbody tr th:only-of-type {\n",
              "        vertical-align: middle;\n",
              "    }\n",
              "\n",
              "    .dataframe tbody tr th {\n",
              "        vertical-align: top;\n",
              "    }\n",
              "\n",
              "    .dataframe thead th {\n",
              "        text-align: right;\n",
              "    }\n",
              "</style>\n",
              "<table border=\"1\" class=\"dataframe\">\n",
              "  <thead>\n",
              "    <tr style=\"text-align: right;\">\n",
              "      <th></th>\n",
              "      <th>carrier</th>\n",
              "      <th>tailnum</th>\n",
              "      <th>origin</th>\n",
              "      <th>dest</th>\n",
              "      <th>carrier_code</th>\n",
              "    </tr>\n",
              "  </thead>\n",
              "  <tbody>\n",
              "    <tr>\n",
              "      <th>0</th>\n",
              "      <td>AS</td>\n",
              "      <td>N508AS</td>\n",
              "      <td>PDX</td>\n",
              "      <td>ANC</td>\n",
              "      <td>1</td>\n",
              "    </tr>\n",
              "    <tr>\n",
              "      <th>1</th>\n",
              "      <td>US</td>\n",
              "      <td>N195UW</td>\n",
              "      <td>SEA</td>\n",
              "      <td>CLT</td>\n",
              "      <td>8</td>\n",
              "    </tr>\n",
              "    <tr>\n",
              "      <th>2</th>\n",
              "      <td>UA</td>\n",
              "      <td>N37422</td>\n",
              "      <td>PDX</td>\n",
              "      <td>IAH</td>\n",
              "      <td>7</td>\n",
              "    </tr>\n",
              "    <tr>\n",
              "      <th>3</th>\n",
              "      <td>US</td>\n",
              "      <td>N547UW</td>\n",
              "      <td>PDX</td>\n",
              "      <td>CLT</td>\n",
              "      <td>8</td>\n",
              "    </tr>\n",
              "    <tr>\n",
              "      <th>4</th>\n",
              "      <td>AS</td>\n",
              "      <td>N762AS</td>\n",
              "      <td>SEA</td>\n",
              "      <td>ANC</td>\n",
              "      <td>1</td>\n",
              "    </tr>\n",
              "  </tbody>\n",
              "</table>\n",
              "</div>"
            ],
            "text/plain": [
              "  carrier tailnum origin dest  carrier_code\n",
              "0      AS  N508AS    PDX  ANC             1\n",
              "1      US  N195UW    SEA  CLT             8\n",
              "2      UA  N37422    PDX  IAH             7\n",
              "3      US  N547UW    PDX  CLT             8\n",
              "4      AS  N762AS    SEA  ANC             1"
            ]
          },
          "metadata": {
            "tags": []
          },
          "execution_count": 9
        }
      ]
    },
    {
      "cell_type": "code",
      "metadata": {
        "id": "3mdF5gE3qthF",
        "colab": {
          "base_uri": "https://localhost:8080/",
          "height": 194
        },
        "outputId": "2c381380-22d3-4d17-f975-b097ba84cda9"
      },
      "source": [
        "cat_df_flights.head()"
      ],
      "execution_count": 10,
      "outputs": [
        {
          "output_type": "execute_result",
          "data": {
            "text/html": [
              "<div>\n",
              "<style scoped>\n",
              "    .dataframe tbody tr th:only-of-type {\n",
              "        vertical-align: middle;\n",
              "    }\n",
              "\n",
              "    .dataframe tbody tr th {\n",
              "        vertical-align: top;\n",
              "    }\n",
              "\n",
              "    .dataframe thead th {\n",
              "        text-align: right;\n",
              "    }\n",
              "</style>\n",
              "<table border=\"1\" class=\"dataframe\">\n",
              "  <thead>\n",
              "    <tr style=\"text-align: right;\">\n",
              "      <th></th>\n",
              "      <th>carrier</th>\n",
              "      <th>tailnum</th>\n",
              "      <th>origin</th>\n",
              "      <th>dest</th>\n",
              "    </tr>\n",
              "  </thead>\n",
              "  <tbody>\n",
              "    <tr>\n",
              "      <th>0</th>\n",
              "      <td>AS</td>\n",
              "      <td>N508AS</td>\n",
              "      <td>PDX</td>\n",
              "      <td>ANC</td>\n",
              "    </tr>\n",
              "    <tr>\n",
              "      <th>1</th>\n",
              "      <td>US</td>\n",
              "      <td>N195UW</td>\n",
              "      <td>SEA</td>\n",
              "      <td>CLT</td>\n",
              "    </tr>\n",
              "    <tr>\n",
              "      <th>2</th>\n",
              "      <td>UA</td>\n",
              "      <td>N37422</td>\n",
              "      <td>PDX</td>\n",
              "      <td>IAH</td>\n",
              "    </tr>\n",
              "    <tr>\n",
              "      <th>3</th>\n",
              "      <td>US</td>\n",
              "      <td>N547UW</td>\n",
              "      <td>PDX</td>\n",
              "      <td>CLT</td>\n",
              "    </tr>\n",
              "    <tr>\n",
              "      <th>4</th>\n",
              "      <td>AS</td>\n",
              "      <td>N762AS</td>\n",
              "      <td>SEA</td>\n",
              "      <td>ANC</td>\n",
              "    </tr>\n",
              "  </tbody>\n",
              "</table>\n",
              "</div>"
            ],
            "text/plain": [
              "  carrier tailnum origin dest\n",
              "0      AS  N508AS    PDX  ANC\n",
              "1      US  N195UW    SEA  CLT\n",
              "2      UA  N37422    PDX  IAH\n",
              "3      US  N547UW    PDX  CLT\n",
              "4      AS  N762AS    SEA  ANC"
            ]
          },
          "metadata": {
            "tags": []
          },
          "execution_count": 10
        }
      ]
    },
    {
      "cell_type": "markdown",
      "metadata": {
        "id": "auSsCAwCqthI"
      },
      "source": [
        "# 3. Dummy Encoding"
      ]
    },
    {
      "cell_type": "code",
      "metadata": {
        "id": "0-GgnpNhqthJ",
        "colab": {
          "base_uri": "https://localhost:8080/",
          "height": 194
        },
        "outputId": "2e86e636-8487-43ff-ce6a-f6b204acc770"
      },
      "source": [
        "cat_df_flights_onehot = cat_df_flights.copy()\n",
        "cat_df_flights_onehot = pd.get_dummies(cat_df_flights_onehot, columns=['carrier'], prefix = ['carrier'])\n",
        "\n",
        "cat_df_flights_onehot.head()"
      ],
      "execution_count": 11,
      "outputs": [
        {
          "output_type": "execute_result",
          "data": {
            "text/html": [
              "<div>\n",
              "<style scoped>\n",
              "    .dataframe tbody tr th:only-of-type {\n",
              "        vertical-align: middle;\n",
              "    }\n",
              "\n",
              "    .dataframe tbody tr th {\n",
              "        vertical-align: top;\n",
              "    }\n",
              "\n",
              "    .dataframe thead th {\n",
              "        text-align: right;\n",
              "    }\n",
              "</style>\n",
              "<table border=\"1\" class=\"dataframe\">\n",
              "  <thead>\n",
              "    <tr style=\"text-align: right;\">\n",
              "      <th></th>\n",
              "      <th>tailnum</th>\n",
              "      <th>origin</th>\n",
              "      <th>dest</th>\n",
              "      <th>carrier_AA</th>\n",
              "      <th>carrier_AS</th>\n",
              "      <th>carrier_B6</th>\n",
              "      <th>carrier_DL</th>\n",
              "      <th>carrier_F9</th>\n",
              "      <th>carrier_HA</th>\n",
              "      <th>carrier_OO</th>\n",
              "      <th>carrier_UA</th>\n",
              "      <th>carrier_US</th>\n",
              "      <th>carrier_VX</th>\n",
              "      <th>carrier_WN</th>\n",
              "    </tr>\n",
              "  </thead>\n",
              "  <tbody>\n",
              "    <tr>\n",
              "      <th>0</th>\n",
              "      <td>N508AS</td>\n",
              "      <td>PDX</td>\n",
              "      <td>ANC</td>\n",
              "      <td>0</td>\n",
              "      <td>1</td>\n",
              "      <td>0</td>\n",
              "      <td>0</td>\n",
              "      <td>0</td>\n",
              "      <td>0</td>\n",
              "      <td>0</td>\n",
              "      <td>0</td>\n",
              "      <td>0</td>\n",
              "      <td>0</td>\n",
              "      <td>0</td>\n",
              "    </tr>\n",
              "    <tr>\n",
              "      <th>1</th>\n",
              "      <td>N195UW</td>\n",
              "      <td>SEA</td>\n",
              "      <td>CLT</td>\n",
              "      <td>0</td>\n",
              "      <td>0</td>\n",
              "      <td>0</td>\n",
              "      <td>0</td>\n",
              "      <td>0</td>\n",
              "      <td>0</td>\n",
              "      <td>0</td>\n",
              "      <td>0</td>\n",
              "      <td>1</td>\n",
              "      <td>0</td>\n",
              "      <td>0</td>\n",
              "    </tr>\n",
              "    <tr>\n",
              "      <th>2</th>\n",
              "      <td>N37422</td>\n",
              "      <td>PDX</td>\n",
              "      <td>IAH</td>\n",
              "      <td>0</td>\n",
              "      <td>0</td>\n",
              "      <td>0</td>\n",
              "      <td>0</td>\n",
              "      <td>0</td>\n",
              "      <td>0</td>\n",
              "      <td>0</td>\n",
              "      <td>1</td>\n",
              "      <td>0</td>\n",
              "      <td>0</td>\n",
              "      <td>0</td>\n",
              "    </tr>\n",
              "    <tr>\n",
              "      <th>3</th>\n",
              "      <td>N547UW</td>\n",
              "      <td>PDX</td>\n",
              "      <td>CLT</td>\n",
              "      <td>0</td>\n",
              "      <td>0</td>\n",
              "      <td>0</td>\n",
              "      <td>0</td>\n",
              "      <td>0</td>\n",
              "      <td>0</td>\n",
              "      <td>0</td>\n",
              "      <td>0</td>\n",
              "      <td>1</td>\n",
              "      <td>0</td>\n",
              "      <td>0</td>\n",
              "    </tr>\n",
              "    <tr>\n",
              "      <th>4</th>\n",
              "      <td>N762AS</td>\n",
              "      <td>SEA</td>\n",
              "      <td>ANC</td>\n",
              "      <td>0</td>\n",
              "      <td>1</td>\n",
              "      <td>0</td>\n",
              "      <td>0</td>\n",
              "      <td>0</td>\n",
              "      <td>0</td>\n",
              "      <td>0</td>\n",
              "      <td>0</td>\n",
              "      <td>0</td>\n",
              "      <td>0</td>\n",
              "      <td>0</td>\n",
              "    </tr>\n",
              "  </tbody>\n",
              "</table>\n",
              "</div>"
            ],
            "text/plain": [
              "  tailnum origin dest  ...  carrier_US  carrier_VX  carrier_WN\n",
              "0  N508AS    PDX  ANC  ...           0           0           0\n",
              "1  N195UW    SEA  CLT  ...           1           0           0\n",
              "2  N37422    PDX  IAH  ...           0           0           0\n",
              "3  N547UW    PDX  CLT  ...           1           0           0\n",
              "4  N762AS    SEA  ANC  ...           0           0           0\n",
              "\n",
              "[5 rows x 14 columns]"
            ]
          },
          "metadata": {
            "tags": []
          },
          "execution_count": 11
        }
      ]
    },
    {
      "cell_type": "markdown",
      "metadata": {
        "id": "f7vd6JGZqthM"
      },
      "source": [
        "> ## 4. Binary Encoding"
      ]
    },
    {
      "cell_type": "code",
      "metadata": {
        "colab": {
          "base_uri": "https://localhost:8080/"
        },
        "id": "yLG2aYVl5XXM",
        "outputId": "f02fcdc2-6600-46bb-f82a-a57f1d53ba66"
      },
      "source": [
        "!pip install category_encoders"
      ],
      "execution_count": 12,
      "outputs": [
        {
          "output_type": "stream",
          "text": [
            "Requirement already satisfied: category_encoders in /usr/local/lib/python3.6/dist-packages (2.2.2)\n",
            "Requirement already satisfied: scikit-learn>=0.20.0 in /usr/local/lib/python3.6/dist-packages (from category_encoders) (0.22.2.post1)\n",
            "Requirement already satisfied: statsmodels>=0.9.0 in /usr/local/lib/python3.6/dist-packages (from category_encoders) (0.10.2)\n",
            "Requirement already satisfied: pandas>=0.21.1 in /usr/local/lib/python3.6/dist-packages (from category_encoders) (1.1.4)\n",
            "Requirement already satisfied: numpy>=1.14.0 in /usr/local/lib/python3.6/dist-packages (from category_encoders) (1.18.5)\n",
            "Requirement already satisfied: scipy>=1.0.0 in /usr/local/lib/python3.6/dist-packages (from category_encoders) (1.4.1)\n",
            "Requirement already satisfied: patsy>=0.5.1 in /usr/local/lib/python3.6/dist-packages (from category_encoders) (0.5.1)\n",
            "Requirement already satisfied: joblib>=0.11 in /usr/local/lib/python3.6/dist-packages (from scikit-learn>=0.20.0->category_encoders) (0.17.0)\n",
            "Requirement already satisfied: pytz>=2017.2 in /usr/local/lib/python3.6/dist-packages (from pandas>=0.21.1->category_encoders) (2018.9)\n",
            "Requirement already satisfied: python-dateutil>=2.7.3 in /usr/local/lib/python3.6/dist-packages (from pandas>=0.21.1->category_encoders) (2.8.1)\n",
            "Requirement already satisfied: six in /usr/local/lib/python3.6/dist-packages (from patsy>=0.5.1->category_encoders) (1.15.0)\n"
          ],
          "name": "stdout"
        }
      ]
    },
    {
      "cell_type": "code",
      "metadata": {
        "id": "eRftHlsAqthN",
        "colab": {
          "base_uri": "https://localhost:8080/",
          "height": 265
        },
        "outputId": "2734df6c-3221-4f98-eda5-41476abc154d"
      },
      "source": [
        "import category_encoders as ce\n",
        "\n",
        "encoder = ce.BinaryEncoder(cols=['carrier'])\n",
        "df_binary = encoder.fit_transform(cat_df_flights.copy())\n",
        "\n",
        "df_binary.head()"
      ],
      "execution_count": 13,
      "outputs": [
        {
          "output_type": "stream",
          "text": [
            "/usr/local/lib/python3.6/dist-packages/statsmodels/tools/_testing.py:19: FutureWarning: pandas.util.testing is deprecated. Use the functions in the public API at pandas.testing instead.\n",
            "  import pandas.util.testing as tm\n",
            "/usr/local/lib/python3.6/dist-packages/category_encoders/utils.py:21: FutureWarning: is_categorical is deprecated and will be removed in a future version.  Use is_categorical_dtype instead\n",
            "  elif pd.api.types.is_categorical(cols):\n"
          ],
          "name": "stderr"
        },
        {
          "output_type": "execute_result",
          "data": {
            "text/html": [
              "<div>\n",
              "<style scoped>\n",
              "    .dataframe tbody tr th:only-of-type {\n",
              "        vertical-align: middle;\n",
              "    }\n",
              "\n",
              "    .dataframe tbody tr th {\n",
              "        vertical-align: top;\n",
              "    }\n",
              "\n",
              "    .dataframe thead th {\n",
              "        text-align: right;\n",
              "    }\n",
              "</style>\n",
              "<table border=\"1\" class=\"dataframe\">\n",
              "  <thead>\n",
              "    <tr style=\"text-align: right;\">\n",
              "      <th></th>\n",
              "      <th>carrier_0</th>\n",
              "      <th>carrier_1</th>\n",
              "      <th>carrier_2</th>\n",
              "      <th>carrier_3</th>\n",
              "      <th>carrier_4</th>\n",
              "      <th>tailnum</th>\n",
              "      <th>origin</th>\n",
              "      <th>dest</th>\n",
              "    </tr>\n",
              "  </thead>\n",
              "  <tbody>\n",
              "    <tr>\n",
              "      <th>0</th>\n",
              "      <td>0</td>\n",
              "      <td>0</td>\n",
              "      <td>0</td>\n",
              "      <td>0</td>\n",
              "      <td>1</td>\n",
              "      <td>N508AS</td>\n",
              "      <td>PDX</td>\n",
              "      <td>ANC</td>\n",
              "    </tr>\n",
              "    <tr>\n",
              "      <th>1</th>\n",
              "      <td>0</td>\n",
              "      <td>0</td>\n",
              "      <td>0</td>\n",
              "      <td>1</td>\n",
              "      <td>0</td>\n",
              "      <td>N195UW</td>\n",
              "      <td>SEA</td>\n",
              "      <td>CLT</td>\n",
              "    </tr>\n",
              "    <tr>\n",
              "      <th>2</th>\n",
              "      <td>0</td>\n",
              "      <td>0</td>\n",
              "      <td>0</td>\n",
              "      <td>1</td>\n",
              "      <td>1</td>\n",
              "      <td>N37422</td>\n",
              "      <td>PDX</td>\n",
              "      <td>IAH</td>\n",
              "    </tr>\n",
              "    <tr>\n",
              "      <th>3</th>\n",
              "      <td>0</td>\n",
              "      <td>0</td>\n",
              "      <td>0</td>\n",
              "      <td>1</td>\n",
              "      <td>0</td>\n",
              "      <td>N547UW</td>\n",
              "      <td>PDX</td>\n",
              "      <td>CLT</td>\n",
              "    </tr>\n",
              "    <tr>\n",
              "      <th>4</th>\n",
              "      <td>0</td>\n",
              "      <td>0</td>\n",
              "      <td>0</td>\n",
              "      <td>0</td>\n",
              "      <td>1</td>\n",
              "      <td>N762AS</td>\n",
              "      <td>SEA</td>\n",
              "      <td>ANC</td>\n",
              "    </tr>\n",
              "  </tbody>\n",
              "</table>\n",
              "</div>"
            ],
            "text/plain": [
              "   carrier_0  carrier_1  carrier_2  carrier_3  carrier_4 tailnum origin dest\n",
              "0          0          0          0          0          1  N508AS    PDX  ANC\n",
              "1          0          0          0          1          0  N195UW    SEA  CLT\n",
              "2          0          0          0          1          1  N37422    PDX  IAH\n",
              "3          0          0          0          1          0  N547UW    PDX  CLT\n",
              "4          0          0          0          0          1  N762AS    SEA  ANC"
            ]
          },
          "metadata": {
            "tags": []
          },
          "execution_count": 13
        }
      ]
    }
  ]
}