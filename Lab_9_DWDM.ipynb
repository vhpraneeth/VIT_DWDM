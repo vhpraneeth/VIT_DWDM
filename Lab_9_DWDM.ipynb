{
  "nbformat": 4,
  "nbformat_minor": 0,
  "metadata": {
    "colab": {
      "name": "Lab_9_DWDM.ipynb",
      "provenance": [],
      "collapsed_sections": [],
      "include_colab_link": true
    },
    "kernelspec": {
      "display_name": "Python 3",
      "language": "python",
      "name": "python3"
    },
    "language_info": {
      "codemirror_mode": {
        "name": "ipython",
        "version": 3
      },
      "file_extension": ".py",
      "mimetype": "text/x-python",
      "name": "python",
      "nbconvert_exporter": "python",
      "pygments_lexer": "ipython3",
      "version": "3.7.4"
    }
  },
  "cells": [
    {
      "cell_type": "markdown",
      "metadata": {
        "id": "view-in-github",
        "colab_type": "text"
      },
      "source": [
        "<a href=\"https://colab.research.google.com/github/vhpraneeth/VIT_DWDM/blob/main/Lab_9_DWDM.ipynb\" target=\"_parent\"><img src=\"https://colab.research.google.com/assets/colab-badge.svg\" alt=\"Open In Colab\"/></a>"
      ]
    },
    {
      "cell_type": "markdown",
      "metadata": {
        "id": "_PhXBy8GQTiU"
      },
      "source": [
        "18BCE7147\n",
        "\n",
        "[GitHub Link](https://github.com/vhpraneeth/VIT_DWDM/blob/main/Lab_9_DWDM.ipynb)"
      ]
    },
    {
      "cell_type": "markdown",
      "metadata": {
        "id": "3iEtKjCHgWwH"
      },
      "source": [
        "## Ensemble Methods \n"
      ]
    },
    {
      "cell_type": "code",
      "metadata": {
        "id": "naaBCWAlAdIX"
      },
      "source": [
        "import numpy as np\n",
        "import seaborn as sns\n",
        "import matplotlib.pyplot as plt\n",
        "%matplotlib inline\n",
        "import pandas as pd"
      ],
      "execution_count": 2,
      "outputs": []
    },
    {
      "cell_type": "code",
      "metadata": {
        "id": "8tpDAaprAfPq"
      },
      "source": [
        "df = sns.load_dataset('titanic')\n",
        "df.dropna(inplace=True)"
      ],
      "execution_count": 3,
      "outputs": []
    },
    {
      "cell_type": "code",
      "metadata": {
        "id": "7e79pHTcAlMW"
      },
      "source": [
        "from sklearn import preprocessing\n",
        "lb = preprocessing.LabelBinarizer()"
      ],
      "execution_count": 4,
      "outputs": []
    },
    {
      "cell_type": "code",
      "metadata": {
        "colab": {
          "base_uri": "https://localhost:8080/"
        },
        "id": "z-7HBZf6Alb1",
        "outputId": "99165762-1344-4811-ec6a-af95b60e4409"
      },
      "source": [
        "X = df[['pclass', 'sex', 'age']]\n",
        "X['sex'] = lb.fit_transform(X['sex'])\n",
        "y = df['survived']"
      ],
      "execution_count": 5,
      "outputs": [
        {
          "output_type": "stream",
          "text": [
            "/usr/local/lib/python3.6/dist-packages/ipykernel_launcher.py:2: SettingWithCopyWarning: \n",
            "A value is trying to be set on a copy of a slice from a DataFrame.\n",
            "Try using .loc[row_indexer,col_indexer] = value instead\n",
            "\n",
            "See the caveats in the documentation: https://pandas.pydata.org/pandas-docs/stable/user_guide/indexing.html#returning-a-view-versus-a-copy\n",
            "  \n"
          ],
          "name": "stderr"
        }
      ]
    },
    {
      "cell_type": "code",
      "metadata": {
        "id": "n3cDxh9lAuIN"
      },
      "source": [
        "from sklearn.tree import DecisionTreeClassifier\n",
        "from sklearn.ensemble import BaggingClassifier\n",
        "\n",
        "from sklearn.model_selection import train_test_split\n",
        "\n",
        "X_train, X_test, y_train, y_test = train_test_split(X, y, test_size=0.3)"
      ],
      "execution_count": 6,
      "outputs": []
    },
    {
      "cell_type": "markdown",
      "metadata": {
        "id": "JE_FIgefM7gT"
      },
      "source": [
        "# Boosting \n",
        "\n"
      ]
    },
    {
      "cell_type": "code",
      "metadata": {
        "id": "s9LW-j4_BEo9"
      },
      "source": [
        "from sklearn.model_selection import cross_val_score, cross_val_predict\n",
        "from sklearn.metrics import accuracy_score, classification_report, confusion_matrix\n",
        "\n",
        "def print_score(clf, X_train, y_train, X_test, y_test, train=True):\n",
        "    'print the accuracy score, classification report and confusion matrix of classifier'\n",
        "    if train:\n",
        "        'training performance'\n",
        "        print(\"Train Result:\\n\")\n",
        "        print(\"accuracy score: {0:.4f}\\n\".format(accuracy_score(y_train, clf.predict(X_train))))\n",
        "        print(\"Classification Report: \\n {}\\n\".format(classification_report(y_train, clf.predict(X_train))))\n",
        "        print(\"Confusion Matrix: \\n {}\\n\".format(confusion_matrix(y_train, clf.predict(X_train))))\n",
        "\n",
        "        res = cross_val_score(clf, X_train, y_train, cv=10, scoring='accuracy')\n",
        "        print(\"Average Accuracy: \\t {0:.4f}\".format(np.mean(res)))\n",
        "        print(\"Accuracy SD: \\t\\t {0:.4f}\".format(np.std(res)))\n",
        "        \n",
        "    elif train==False:\n",
        "        'test performance'\n",
        "        print(\"Test Result:\\n\")        \n",
        "        print(\"accuracy score: {0:.4f}\\n\".format(accuracy_score(y_test, clf.predict(X_test))))\n",
        "        print(\"Classification Report: \\n {}\\n\".format(classification_report(y_test, clf.predict(X_test))))\n",
        "        print(\"Confusion Matrix: \\n {}\\n\".format(confusion_matrix(y_test, clf.predict(X_test))))    \n",
        "        "
      ],
      "execution_count": 7,
      "outputs": []
    },
    {
      "cell_type": "code",
      "metadata": {
        "id": "1XnmK5MiBu7x"
      },
      "source": [
        "from sklearn import preprocessing\n",
        "from sklearn.model_selection import cross_val_score, cross_val_predict\n",
        "from sklearn.metrics import accuracy_score, classification_report\n",
        "from sklearn.metrics import confusion_matrix, roc_auc_score\n",
        "def print_score(clf, X_train, X_test, y_train, y_test, train=True):\n",
        "    '''\n",
        "    v0.1 Follow the scikit learn library format in terms of input\n",
        "    print the accuracy score, classification report and confusion matrix of classifier\n",
        "    '''\n",
        "    lb = preprocessing.LabelBinarizer()\n",
        "    lb.fit(y_train)\n",
        "    if train:\n",
        "        'training performance'\n",
        "        res = clf.predict(X_train)\n",
        "        print(\"Train Result:\\n\")\n",
        "        print(\"accuracy score: {0:.4f}\\n\".format(accuracy_score(y_train, \n",
        "                                                                res)))\n",
        "        print(\"Classification Report: \\n {}\\n\".format(classification_report(y_train, \n",
        "                                                                            res)))\n",
        "        print(\"Confusion Matrix: \\n {}\\n\".format(confusion_matrix(y_train, \n",
        "                                                                  res)))\n",
        "        print(\"ROC AUC: {0:.4f}\\n\".format(roc_auc_score(lb.transform(y_train), \n",
        "                                                      lb.transform(res))))\n",
        "\n",
        "        res = cross_val_score(clf, X_train, y_train, cv=10, scoring='accuracy')\n",
        "        print(\"Average Accuracy: \\t {0:.4f}\".format(np.mean(res)))\n",
        "        print(\"Accuracy SD: \\t\\t {0:.4f}\".format(np.std(res)))\n",
        "        \n",
        "    elif train==False:\n",
        "        'test performance'\n",
        "        res_test = clf.predict(X_test)\n",
        "        print(\"Test Result:\\n\")        \n",
        "        print(\"accuracy score: {0:.4f}\\n\".format(accuracy_score(y_test, \n",
        "                                                                res_test)))\n",
        "        print(\"Classification Report: \\n {}\\n\".format(classification_report(y_test, \n",
        "                                                                            res_test)))\n",
        "        print(\"Confusion Matrix: \\n {}\\n\".format(confusion_matrix(y_test, \n",
        "                                                                  res_test)))   \n",
        "        print(\"ROC AUC: {0:.4f}\\n\".format(roc_auc_score(lb.transform(y_test), \n",
        "                                                      lb.transform(res_test))))\n",
        "        "
      ],
      "execution_count": 8,
      "outputs": []
    },
    {
      "cell_type": "markdown",
      "metadata": {
        "id": "PYM-rYy0M9_Z"
      },
      "source": [
        "# AdaBoost / Adaptive Boosting\n",
        "\n",
        "\n",
        "\n"
      ]
    },
    {
      "cell_type": "code",
      "metadata": {
        "colab": {
          "base_uri": "https://localhost:8080/"
        },
        "id": "JmPqZkAaNCdA",
        "outputId": "2c485eaf-34d6-4cd9-8fe1-07a362f19b83"
      },
      "source": [
        "from sklearn.ensemble import AdaBoostClassifier\n",
        "ada_clf = AdaBoostClassifier()\n",
        "ada_clf.fit(X_train, y_train)"
      ],
      "execution_count": 9,
      "outputs": [
        {
          "output_type": "execute_result",
          "data": {
            "text/plain": [
              "AdaBoostClassifier(algorithm='SAMME.R', base_estimator=None, learning_rate=1.0,\n",
              "                   n_estimators=50, random_state=None)"
            ]
          },
          "metadata": {
            "tags": []
          },
          "execution_count": 9
        }
      ]
    },
    {
      "cell_type": "code",
      "metadata": {
        "colab": {
          "base_uri": "https://localhost:8080/"
        },
        "id": "F7Rp_OApNE1q",
        "outputId": "591a434b-bf9b-4e8b-cf28-be9f7f1b13d1"
      },
      "source": [
        "print_score(ada_clf, X_train, X_test, y_train, y_test, train=True)"
      ],
      "execution_count": 10,
      "outputs": [
        {
          "output_type": "stream",
          "text": [
            "Train Result:\n",
            "\n",
            "accuracy score: 0.9134\n",
            "\n",
            "Classification Report: \n",
            "               precision    recall  f1-score   support\n",
            "\n",
            "           0       0.89      0.82      0.85        38\n",
            "           1       0.92      0.96      0.94        89\n",
            "\n",
            "    accuracy                           0.91       127\n",
            "   macro avg       0.90      0.89      0.89       127\n",
            "weighted avg       0.91      0.91      0.91       127\n",
            "\n",
            "\n",
            "Confusion Matrix: \n",
            " [[31  7]\n",
            " [ 4 85]]\n",
            "\n",
            "ROC AUC: 0.8854\n",
            "\n",
            "Average Accuracy: \t 0.7654\n",
            "Accuracy SD: \t\t 0.0879\n"
          ],
          "name": "stdout"
        }
      ]
    },
    {
      "cell_type": "code",
      "metadata": {
        "colab": {
          "base_uri": "https://localhost:8080/"
        },
        "id": "hStoNVF2NKrw",
        "outputId": "bd5e4d1d-6628-4f67-8275-e9f5c8c35f95"
      },
      "source": [
        "print_score(ada_clf, X_train, X_test, y_train, y_test, train=False)"
      ],
      "execution_count": 11,
      "outputs": [
        {
          "output_type": "stream",
          "text": [
            "Test Result:\n",
            "\n",
            "accuracy score: 0.7455\n",
            "\n",
            "Classification Report: \n",
            "               precision    recall  f1-score   support\n",
            "\n",
            "           0       0.68      0.62      0.65        21\n",
            "           1       0.78      0.82      0.80        34\n",
            "\n",
            "    accuracy                           0.75        55\n",
            "   macro avg       0.73      0.72      0.73        55\n",
            "weighted avg       0.74      0.75      0.74        55\n",
            "\n",
            "\n",
            "Confusion Matrix: \n",
            " [[13  8]\n",
            " [ 6 28]]\n",
            "\n",
            "ROC AUC: 0.7213\n",
            "\n"
          ],
          "name": "stdout"
        }
      ]
    },
    {
      "cell_type": "markdown",
      "metadata": {
        "id": "U_HPrM82NQBO"
      },
      "source": [
        "## AdaBoost with Random Forest"
      ]
    },
    {
      "cell_type": "code",
      "metadata": {
        "colab": {
          "base_uri": "https://localhost:8080/"
        },
        "id": "RRB3kHgDNTa2",
        "outputId": "22468f44-73b6-4648-f77a-bd84b99e43a3"
      },
      "source": [
        "from sklearn.ensemble import RandomForestClassifier\n",
        "ada_clf = AdaBoostClassifier(RandomForestClassifier())\n",
        "ada_clf.fit(X_train, y_train)"
      ],
      "execution_count": 12,
      "outputs": [
        {
          "output_type": "execute_result",
          "data": {
            "text/plain": [
              "AdaBoostClassifier(algorithm='SAMME.R',\n",
              "                   base_estimator=RandomForestClassifier(bootstrap=True,\n",
              "                                                         ccp_alpha=0.0,\n",
              "                                                         class_weight=None,\n",
              "                                                         criterion='gini',\n",
              "                                                         max_depth=None,\n",
              "                                                         max_features='auto',\n",
              "                                                         max_leaf_nodes=None,\n",
              "                                                         max_samples=None,\n",
              "                                                         min_impurity_decrease=0.0,\n",
              "                                                         min_impurity_split=None,\n",
              "                                                         min_samples_leaf=1,\n",
              "                                                         min_samples_split=2,\n",
              "                                                         min_weight_fraction_leaf=0.0,\n",
              "                                                         n_estimators=100,\n",
              "                                                         n_jobs=None,\n",
              "                                                         oob_score=False,\n",
              "                                                         random_state=None,\n",
              "                                                         verbose=0,\n",
              "                                                         warm_start=False),\n",
              "                   learning_rate=1.0, n_estimators=50, random_state=None)"
            ]
          },
          "metadata": {
            "tags": []
          },
          "execution_count": 12
        }
      ]
    },
    {
      "cell_type": "code",
      "metadata": {
        "colab": {
          "base_uri": "https://localhost:8080/"
        },
        "id": "xfVddF16NUzl",
        "outputId": "03e21fdf-ef75-4a8a-c182-67fe8f8312fc"
      },
      "source": [
        "print_score(ada_clf, X_train, X_test, y_train, y_test, train=True)"
      ],
      "execution_count": 13,
      "outputs": [
        {
          "output_type": "stream",
          "text": [
            "Train Result:\n",
            "\n",
            "accuracy score: 0.9528\n",
            "\n",
            "Classification Report: \n",
            "               precision    recall  f1-score   support\n",
            "\n",
            "           0       0.97      0.87      0.92        38\n",
            "           1       0.95      0.99      0.97        89\n",
            "\n",
            "    accuracy                           0.95       127\n",
            "   macro avg       0.96      0.93      0.94       127\n",
            "weighted avg       0.95      0.95      0.95       127\n",
            "\n",
            "\n",
            "Confusion Matrix: \n",
            " [[33  5]\n",
            " [ 1 88]]\n",
            "\n",
            "ROC AUC: 0.9286\n",
            "\n",
            "Average Accuracy: \t 0.7231\n",
            "Accuracy SD: \t\t 0.1475\n"
          ],
          "name": "stdout"
        }
      ]
    },
    {
      "cell_type": "code",
      "metadata": {
        "colab": {
          "base_uri": "https://localhost:8080/"
        },
        "id": "fo_YxfuONYW3",
        "outputId": "75110b3c-9d12-413b-a6b3-ee1d4295032b"
      },
      "source": [
        "print_score(ada_clf, X_train, X_test, y_train, y_test, train=False)"
      ],
      "execution_count": 14,
      "outputs": [
        {
          "output_type": "stream",
          "text": [
            "Test Result:\n",
            "\n",
            "accuracy score: 0.7636\n",
            "\n",
            "Classification Report: \n",
            "               precision    recall  f1-score   support\n",
            "\n",
            "           0       0.79      0.52      0.63        21\n",
            "           1       0.76      0.91      0.83        34\n",
            "\n",
            "    accuracy                           0.76        55\n",
            "   macro avg       0.77      0.72      0.73        55\n",
            "weighted avg       0.77      0.76      0.75        55\n",
            "\n",
            "\n",
            "Confusion Matrix: \n",
            " [[11 10]\n",
            " [ 3 31]]\n",
            "\n",
            "ROC AUC: 0.7178\n",
            "\n"
          ],
          "name": "stdout"
        }
      ]
    },
    {
      "cell_type": "markdown",
      "metadata": {
        "id": "yNcaIp3rYABq"
      },
      "source": [
        "# Gradient Boosting / Gradient Boosting Machine (GBM)"
      ]
    },
    {
      "cell_type": "code",
      "metadata": {
        "colab": {
          "base_uri": "https://localhost:8080/"
        },
        "id": "hT1xQRZnalEf",
        "outputId": "7010a4ba-120b-41bd-8232-5d1ecfe4350d"
      },
      "source": [
        "from sklearn.ensemble import GradientBoostingClassifier\n",
        "gbc_clf = GradientBoostingClassifier()\n",
        "gbc_clf.fit(X_train, y_train)"
      ],
      "execution_count": 15,
      "outputs": [
        {
          "output_type": "execute_result",
          "data": {
            "text/plain": [
              "GradientBoostingClassifier(ccp_alpha=0.0, criterion='friedman_mse', init=None,\n",
              "                           learning_rate=0.1, loss='deviance', max_depth=3,\n",
              "                           max_features=None, max_leaf_nodes=None,\n",
              "                           min_impurity_decrease=0.0, min_impurity_split=None,\n",
              "                           min_samples_leaf=1, min_samples_split=2,\n",
              "                           min_weight_fraction_leaf=0.0, n_estimators=100,\n",
              "                           n_iter_no_change=None, presort='deprecated',\n",
              "                           random_state=None, subsample=1.0, tol=0.0001,\n",
              "                           validation_fraction=0.1, verbose=0,\n",
              "                           warm_start=False)"
            ]
          },
          "metadata": {
            "tags": []
          },
          "execution_count": 15
        }
      ]
    },
    {
      "cell_type": "code",
      "metadata": {
        "colab": {
          "base_uri": "https://localhost:8080/"
        },
        "id": "GJV3w9Tnam2E",
        "outputId": "807e6c1b-f7a5-40d7-c54a-51b325ccb63b"
      },
      "source": [
        "print_score(gbc_clf, X_train, X_test, y_train, y_test, train=True)"
      ],
      "execution_count": 16,
      "outputs": [
        {
          "output_type": "stream",
          "text": [
            "Train Result:\n",
            "\n",
            "accuracy score: 0.9528\n",
            "\n",
            "Classification Report: \n",
            "               precision    recall  f1-score   support\n",
            "\n",
            "           0       0.97      0.87      0.92        38\n",
            "           1       0.95      0.99      0.97        89\n",
            "\n",
            "    accuracy                           0.95       127\n",
            "   macro avg       0.96      0.93      0.94       127\n",
            "weighted avg       0.95      0.95      0.95       127\n",
            "\n",
            "\n",
            "Confusion Matrix: \n",
            " [[33  5]\n",
            " [ 1 88]]\n",
            "\n",
            "ROC AUC: 0.9286\n",
            "\n",
            "Average Accuracy: \t 0.7468\n",
            "Accuracy SD: \t\t 0.1616\n"
          ],
          "name": "stdout"
        }
      ]
    },
    {
      "cell_type": "code",
      "metadata": {
        "colab": {
          "base_uri": "https://localhost:8080/"
        },
        "id": "hZtJweXVap7p",
        "outputId": "f2ccc612-2b88-4c17-a42e-5b5f365309b9"
      },
      "source": [
        "print_score(gbc_clf, X_train, X_test, y_train, y_test, train=False)"
      ],
      "execution_count": 17,
      "outputs": [
        {
          "output_type": "stream",
          "text": [
            "Test Result:\n",
            "\n",
            "accuracy score: 0.8182\n",
            "\n",
            "Classification Report: \n",
            "               precision    recall  f1-score   support\n",
            "\n",
            "           0       0.87      0.62      0.72        21\n",
            "           1       0.80      0.94      0.86        34\n",
            "\n",
            "    accuracy                           0.82        55\n",
            "   macro avg       0.83      0.78      0.79        55\n",
            "weighted avg       0.83      0.82      0.81        55\n",
            "\n",
            "\n",
            "Confusion Matrix: \n",
            " [[13  8]\n",
            " [ 2 32]]\n",
            "\n",
            "ROC AUC: 0.7801\n",
            "\n"
          ],
          "name": "stdout"
        }
      ]
    },
    {
      "cell_type": "markdown",
      "metadata": {
        "id": "U7ZeqHcXauJR"
      },
      "source": [
        "| Classifier | Decision Tree | Bagging | Random Forest | Optimised RF | Extra-Trees | AdaBoost (CART) | AdaBoost (RF) | Gradient Boosting |\n",
        "|:-|:-|:- |:- |:- |:- |:-|:-| :- |\n",
        "| Train accuracy score | 0.9528 | 0.9528 | 0.9325 | 0.9264 | 0.9448 | 0.8661 | 0.9528 | 0.9449 |\n",
        "| Average accuracy score | 0.7724 | 0.7879 | 0.7801 | 0.7059 | 0.7548 | 0.7793 | 0.7353 | 0.7906 |\n",
        "| SD | 0.1018 | 0.1008 | 0.1474 | 0.1308 | 0.1406 | 0.1172 | 0.0881 | 0.0912 |\n",
        "| Test accuracy score | 0.7636 | 0.7455 | 0.7895 | 0.6316 | 0.7895 | 0.6545 | 0.7818 | 0.7818 |\n"
      ]
    },
    {
      "cell_type": "markdown",
      "metadata": {
        "id": "Ai4lm1jrGExk"
      },
      "source": [
        "# XGBoost (Extreme Gradient Boosting)\n",
        "\n"
      ]
    },
    {
      "cell_type": "code",
      "metadata": {
        "id": "eBi15UvnJHLa"
      },
      "source": [
        "import xgboost as xgb"
      ],
      "execution_count": 18,
      "outputs": []
    },
    {
      "cell_type": "code",
      "metadata": {
        "id": "ZiV5S0EoJ2Q3"
      },
      "source": [
        "xgb_clf = xgb.XGBClassifier(max_depth=5, n_estimators=10000, learning_rate=0.3,\n",
        "                            n_jobs=-1)"
      ],
      "execution_count": 19,
      "outputs": []
    },
    {
      "cell_type": "code",
      "metadata": {
        "id": "LN3tZQN_J14Y",
        "colab": {
          "base_uri": "https://localhost:8080/"
        },
        "outputId": "a2710f50-75ea-49e5-a293-264742f11306"
      },
      "source": [
        "xgb_clf.fit(X_train, y_train)"
      ],
      "execution_count": 20,
      "outputs": [
        {
          "output_type": "execute_result",
          "data": {
            "text/plain": [
              "XGBClassifier(base_score=0.5, booster='gbtree', colsample_bylevel=1,\n",
              "              colsample_bynode=1, colsample_bytree=1, gamma=0,\n",
              "              learning_rate=0.3, max_delta_step=0, max_depth=5,\n",
              "              min_child_weight=1, missing=None, n_estimators=10000, n_jobs=-1,\n",
              "              nthread=None, objective='binary:logistic', random_state=0,\n",
              "              reg_alpha=0, reg_lambda=1, scale_pos_weight=1, seed=None,\n",
              "              silent=None, subsample=1, verbosity=1)"
            ]
          },
          "metadata": {
            "tags": []
          },
          "execution_count": 20
        }
      ]
    },
    {
      "cell_type": "code",
      "metadata": {
        "id": "_KtefvU0CFhg"
      },
      "source": [
        "from sklearn.model_selection import cross_val_score, cross_val_predict\n",
        "from sklearn.metrics import accuracy_score, classification_report, confusion_matrix\n",
        "\n",
        "def print_score(clf, X_train, y_train, X_test, y_test, train=True):\n",
        "    'print the accuracy score, classification report and confusion matrix of classifier'\n",
        "    if train:\n",
        "        'training performance'\n",
        "        print(\"Train Result:\\n\")\n",
        "        print(\"accuracy score: {0:.4f}\\n\".format(accuracy_score(y_train, clf.predict(X_train))))\n",
        "        print(\"Classification Report: \\n {}\\n\".format(classification_report(y_train, clf.predict(X_train))))\n",
        "        print(\"Confusion Matrix: \\n {}\\n\".format(confusion_matrix(y_train, clf.predict(X_train))))\n",
        "\n",
        "        res = cross_val_score(clf, X_train, y_train, cv=10, scoring='accuracy')\n",
        "        print(\"Average Accuracy: \\t {0:.4f}\".format(np.mean(res)))\n",
        "        print(\"Accuracy SD: \\t\\t {0:.4f}\".format(np.std(res)))\n",
        "        \n",
        "    elif train==False:\n",
        "        'test performance'\n",
        "        print(\"Test Result:\\n\")        \n",
        "        print(\"accuracy score: {0:.4f}\\n\".format(accuracy_score(y_test, clf.predict(X_test))))\n",
        "        print(\"Classification Report: \\n {}\\n\".format(classification_report(y_test, clf.predict(X_test))))\n",
        "        print(\"Confusion Matrix: \\n {}\\n\".format(confusion_matrix(y_test, clf.predict(X_test))))    \n",
        "        "
      ],
      "execution_count": 21,
      "outputs": []
    },
    {
      "cell_type": "code",
      "metadata": {
        "id": "Dtqr0ogcJ1lV",
        "colab": {
          "base_uri": "https://localhost:8080/"
        },
        "outputId": "60840581-6d7a-4edb-937d-24145c09d979"
      },
      "source": [
        "print_score(xgb_clf, X_train, y_train, X_test, y_test, train=True)"
      ],
      "execution_count": 22,
      "outputs": [
        {
          "output_type": "stream",
          "text": [
            "Train Result:\n",
            "\n",
            "accuracy score: 0.9370\n",
            "\n",
            "Classification Report: \n",
            "               precision    recall  f1-score   support\n",
            "\n",
            "           0       0.97      0.82      0.89        38\n",
            "           1       0.93      0.99      0.96        89\n",
            "\n",
            "    accuracy                           0.94       127\n",
            "   macro avg       0.95      0.90      0.92       127\n",
            "weighted avg       0.94      0.94      0.94       127\n",
            "\n",
            "\n",
            "Confusion Matrix: \n",
            " [[31  7]\n",
            " [ 1 88]]\n",
            "\n",
            "Average Accuracy: \t 0.7468\n",
            "Accuracy SD: \t\t 0.1064\n"
          ],
          "name": "stdout"
        }
      ]
    },
    {
      "cell_type": "code",
      "metadata": {
        "id": "80ENURYUQOld",
        "colab": {
          "base_uri": "https://localhost:8080/"
        },
        "outputId": "4aedf67e-91fc-4072-8f50-6024c39798ea"
      },
      "source": [
        "print_score(xgb_clf, X_train, y_train, X_test, y_test, train=False)"
      ],
      "execution_count": 23,
      "outputs": [
        {
          "output_type": "stream",
          "text": [
            "Test Result:\n",
            "\n",
            "accuracy score: 0.8000\n",
            "\n",
            "Classification Report: \n",
            "               precision    recall  f1-score   support\n",
            "\n",
            "           0       0.86      0.57      0.69        21\n",
            "           1       0.78      0.94      0.85        34\n",
            "\n",
            "    accuracy                           0.80        55\n",
            "   macro avg       0.82      0.76      0.77        55\n",
            "weighted avg       0.81      0.80      0.79        55\n",
            "\n",
            "\n",
            "Confusion Matrix: \n",
            " [[12  9]\n",
            " [ 2 32]]\n",
            "\n"
          ],
          "name": "stdout"
        }
      ]
    }
  ]
}