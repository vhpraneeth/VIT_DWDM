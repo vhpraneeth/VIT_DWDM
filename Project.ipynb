{
  "nbformat": 4,
  "nbformat_minor": 0,
  "metadata": {
    "colab": {
      "name": "Project.ipynb",
      "provenance": [],
      "collapsed_sections": [
        "BVlSnDj6rtKk"
      ],
      "authorship_tag": "ABX9TyNkElIN73kyXcI6u4GbhTSE",
      "include_colab_link": true
    },
    "kernelspec": {
      "name": "python3",
      "display_name": "Python 3"
    }
  },
  "cells": [
    {
      "cell_type": "markdown",
      "metadata": {
        "id": "view-in-github",
        "colab_type": "text"
      },
      "source": [
        "<a href=\"https://colab.research.google.com/github/vhpraneeth/VIT_DWDM/blob/main/Project.ipynb\" target=\"_parent\"><img src=\"https://colab.research.google.com/assets/colab-badge.svg\" alt=\"Open In Colab\"/></a>"
      ]
    },
    {
      "cell_type": "markdown",
      "metadata": {
        "id": "hK0JFhHt9AIy"
      },
      "source": [
        "Done by\n",
        "\n",
        "Slot: L7\n",
        "\n",
        "Reg no: 18BCE7147\n",
        "\n",
        "Name: V. Hari Praneeth\n",
        "\n",
        "[GitHub Link](https://github.com/vhpraneeth/VIT_DWDM/blob/main/Project.ipynb)\n"
      ]
    },
    {
      "cell_type": "markdown",
      "metadata": {
        "id": "79x-nqQ883di"
      },
      "source": [
        "# Project: __COVID-19 daily cases prediction__ - India"
      ]
    },
    {
      "cell_type": "markdown",
      "metadata": {
        "id": "45cgHeedJdog"
      },
      "source": [
        "## Load data"
      ]
    },
    {
      "cell_type": "code",
      "metadata": {
        "id": "8ifA8ocOGUiB"
      },
      "source": [
        "import plotly.express as px  # for data visualization"
      ],
      "execution_count": 296,
      "outputs": []
    },
    {
      "cell_type": "markdown",
      "metadata": {
        "id": "mEetgymKevHY"
      },
      "source": [
        "Loading worldwide data"
      ]
    },
    {
      "cell_type": "code",
      "metadata": {
        "colab": {
          "base_uri": "https://localhost:8080/"
        },
        "id": "4ScNEag_edmZ",
        "outputId": "283be745-6596-4e88-bd75-b4fc99c1a7f4"
      },
      "source": [
        "import pandas as pd\r\n",
        "link = 'https://raw.githubusercontent.com/owid/covid-19-data/master/public/data/owid-covid-data.csv'\r\n",
        "df = pd.read_csv(link)  # public data - continuously updated\r\n",
        "df.shape  # (rows, columns)"
      ],
      "execution_count": 297,
      "outputs": [
        {
          "output_type": "execute_result",
          "data": {
            "text/plain": [
              "(62392, 50)"
            ]
          },
          "metadata": {
            "tags": []
          },
          "execution_count": 297
        }
      ]
    },
    {
      "cell_type": "code",
      "metadata": {
        "colab": {
          "base_uri": "https://localhost:8080/",
          "height": 298
        },
        "id": "eHfbKlwee3Ih",
        "outputId": "89e7e248-e9a5-4619-96f5-63bf7e316125"
      },
      "source": [
        "df.head()"
      ],
      "execution_count": 298,
      "outputs": [
        {
          "output_type": "execute_result",
          "data": {
            "text/html": [
              "<div>\n",
              "<style scoped>\n",
              "    .dataframe tbody tr th:only-of-type {\n",
              "        vertical-align: middle;\n",
              "    }\n",
              "\n",
              "    .dataframe tbody tr th {\n",
              "        vertical-align: top;\n",
              "    }\n",
              "\n",
              "    .dataframe thead th {\n",
              "        text-align: right;\n",
              "    }\n",
              "</style>\n",
              "<table border=\"1\" class=\"dataframe\">\n",
              "  <thead>\n",
              "    <tr style=\"text-align: right;\">\n",
              "      <th></th>\n",
              "      <th>iso_code</th>\n",
              "      <th>continent</th>\n",
              "      <th>location</th>\n",
              "      <th>date</th>\n",
              "      <th>total_cases</th>\n",
              "      <th>new_cases</th>\n",
              "      <th>new_cases_smoothed</th>\n",
              "      <th>total_deaths</th>\n",
              "      <th>new_deaths</th>\n",
              "      <th>new_deaths_smoothed</th>\n",
              "      <th>total_cases_per_million</th>\n",
              "      <th>new_cases_per_million</th>\n",
              "      <th>new_cases_smoothed_per_million</th>\n",
              "      <th>total_deaths_per_million</th>\n",
              "      <th>new_deaths_per_million</th>\n",
              "      <th>new_deaths_smoothed_per_million</th>\n",
              "      <th>reproduction_rate</th>\n",
              "      <th>icu_patients</th>\n",
              "      <th>icu_patients_per_million</th>\n",
              "      <th>hosp_patients</th>\n",
              "      <th>hosp_patients_per_million</th>\n",
              "      <th>weekly_icu_admissions</th>\n",
              "      <th>weekly_icu_admissions_per_million</th>\n",
              "      <th>weekly_hosp_admissions</th>\n",
              "      <th>weekly_hosp_admissions_per_million</th>\n",
              "      <th>new_tests</th>\n",
              "      <th>total_tests</th>\n",
              "      <th>total_tests_per_thousand</th>\n",
              "      <th>new_tests_per_thousand</th>\n",
              "      <th>new_tests_smoothed</th>\n",
              "      <th>new_tests_smoothed_per_thousand</th>\n",
              "      <th>positive_rate</th>\n",
              "      <th>tests_per_case</th>\n",
              "      <th>tests_units</th>\n",
              "      <th>stringency_index</th>\n",
              "      <th>population</th>\n",
              "      <th>population_density</th>\n",
              "      <th>median_age</th>\n",
              "      <th>aged_65_older</th>\n",
              "      <th>aged_70_older</th>\n",
              "      <th>gdp_per_capita</th>\n",
              "      <th>extreme_poverty</th>\n",
              "      <th>cardiovasc_death_rate</th>\n",
              "      <th>diabetes_prevalence</th>\n",
              "      <th>female_smokers</th>\n",
              "      <th>male_smokers</th>\n",
              "      <th>handwashing_facilities</th>\n",
              "      <th>hospital_beds_per_thousand</th>\n",
              "      <th>life_expectancy</th>\n",
              "      <th>human_development_index</th>\n",
              "    </tr>\n",
              "  </thead>\n",
              "  <tbody>\n",
              "    <tr>\n",
              "      <th>0</th>\n",
              "      <td>AFG</td>\n",
              "      <td>Asia</td>\n",
              "      <td>Afghanistan</td>\n",
              "      <td>2020-01-23</td>\n",
              "      <td>NaN</td>\n",
              "      <td>0.0</td>\n",
              "      <td>NaN</td>\n",
              "      <td>NaN</td>\n",
              "      <td>0.0</td>\n",
              "      <td>NaN</td>\n",
              "      <td>NaN</td>\n",
              "      <td>0.0</td>\n",
              "      <td>NaN</td>\n",
              "      <td>NaN</td>\n",
              "      <td>0.0</td>\n",
              "      <td>NaN</td>\n",
              "      <td>NaN</td>\n",
              "      <td>NaN</td>\n",
              "      <td>NaN</td>\n",
              "      <td>NaN</td>\n",
              "      <td>NaN</td>\n",
              "      <td>NaN</td>\n",
              "      <td>NaN</td>\n",
              "      <td>NaN</td>\n",
              "      <td>NaN</td>\n",
              "      <td>NaN</td>\n",
              "      <td>NaN</td>\n",
              "      <td>NaN</td>\n",
              "      <td>NaN</td>\n",
              "      <td>NaN</td>\n",
              "      <td>NaN</td>\n",
              "      <td>NaN</td>\n",
              "      <td>NaN</td>\n",
              "      <td>NaN</td>\n",
              "      <td>0.0</td>\n",
              "      <td>38928341.0</td>\n",
              "      <td>54.422</td>\n",
              "      <td>18.6</td>\n",
              "      <td>2.581</td>\n",
              "      <td>1.337</td>\n",
              "      <td>1803.987</td>\n",
              "      <td>NaN</td>\n",
              "      <td>597.029</td>\n",
              "      <td>9.59</td>\n",
              "      <td>NaN</td>\n",
              "      <td>NaN</td>\n",
              "      <td>37.746</td>\n",
              "      <td>0.5</td>\n",
              "      <td>64.83</td>\n",
              "      <td>0.498</td>\n",
              "    </tr>\n",
              "    <tr>\n",
              "      <th>1</th>\n",
              "      <td>AFG</td>\n",
              "      <td>Asia</td>\n",
              "      <td>Afghanistan</td>\n",
              "      <td>2020-01-24</td>\n",
              "      <td>NaN</td>\n",
              "      <td>0.0</td>\n",
              "      <td>NaN</td>\n",
              "      <td>NaN</td>\n",
              "      <td>0.0</td>\n",
              "      <td>NaN</td>\n",
              "      <td>NaN</td>\n",
              "      <td>0.0</td>\n",
              "      <td>NaN</td>\n",
              "      <td>NaN</td>\n",
              "      <td>0.0</td>\n",
              "      <td>NaN</td>\n",
              "      <td>NaN</td>\n",
              "      <td>NaN</td>\n",
              "      <td>NaN</td>\n",
              "      <td>NaN</td>\n",
              "      <td>NaN</td>\n",
              "      <td>NaN</td>\n",
              "      <td>NaN</td>\n",
              "      <td>NaN</td>\n",
              "      <td>NaN</td>\n",
              "      <td>NaN</td>\n",
              "      <td>NaN</td>\n",
              "      <td>NaN</td>\n",
              "      <td>NaN</td>\n",
              "      <td>NaN</td>\n",
              "      <td>NaN</td>\n",
              "      <td>NaN</td>\n",
              "      <td>NaN</td>\n",
              "      <td>NaN</td>\n",
              "      <td>0.0</td>\n",
              "      <td>38928341.0</td>\n",
              "      <td>54.422</td>\n",
              "      <td>18.6</td>\n",
              "      <td>2.581</td>\n",
              "      <td>1.337</td>\n",
              "      <td>1803.987</td>\n",
              "      <td>NaN</td>\n",
              "      <td>597.029</td>\n",
              "      <td>9.59</td>\n",
              "      <td>NaN</td>\n",
              "      <td>NaN</td>\n",
              "      <td>37.746</td>\n",
              "      <td>0.5</td>\n",
              "      <td>64.83</td>\n",
              "      <td>0.498</td>\n",
              "    </tr>\n",
              "    <tr>\n",
              "      <th>2</th>\n",
              "      <td>AFG</td>\n",
              "      <td>Asia</td>\n",
              "      <td>Afghanistan</td>\n",
              "      <td>2020-01-25</td>\n",
              "      <td>NaN</td>\n",
              "      <td>0.0</td>\n",
              "      <td>NaN</td>\n",
              "      <td>NaN</td>\n",
              "      <td>0.0</td>\n",
              "      <td>NaN</td>\n",
              "      <td>NaN</td>\n",
              "      <td>0.0</td>\n",
              "      <td>NaN</td>\n",
              "      <td>NaN</td>\n",
              "      <td>0.0</td>\n",
              "      <td>NaN</td>\n",
              "      <td>NaN</td>\n",
              "      <td>NaN</td>\n",
              "      <td>NaN</td>\n",
              "      <td>NaN</td>\n",
              "      <td>NaN</td>\n",
              "      <td>NaN</td>\n",
              "      <td>NaN</td>\n",
              "      <td>NaN</td>\n",
              "      <td>NaN</td>\n",
              "      <td>NaN</td>\n",
              "      <td>NaN</td>\n",
              "      <td>NaN</td>\n",
              "      <td>NaN</td>\n",
              "      <td>NaN</td>\n",
              "      <td>NaN</td>\n",
              "      <td>NaN</td>\n",
              "      <td>NaN</td>\n",
              "      <td>NaN</td>\n",
              "      <td>0.0</td>\n",
              "      <td>38928341.0</td>\n",
              "      <td>54.422</td>\n",
              "      <td>18.6</td>\n",
              "      <td>2.581</td>\n",
              "      <td>1.337</td>\n",
              "      <td>1803.987</td>\n",
              "      <td>NaN</td>\n",
              "      <td>597.029</td>\n",
              "      <td>9.59</td>\n",
              "      <td>NaN</td>\n",
              "      <td>NaN</td>\n",
              "      <td>37.746</td>\n",
              "      <td>0.5</td>\n",
              "      <td>64.83</td>\n",
              "      <td>0.498</td>\n",
              "    </tr>\n",
              "    <tr>\n",
              "      <th>3</th>\n",
              "      <td>AFG</td>\n",
              "      <td>Asia</td>\n",
              "      <td>Afghanistan</td>\n",
              "      <td>2020-01-26</td>\n",
              "      <td>NaN</td>\n",
              "      <td>0.0</td>\n",
              "      <td>NaN</td>\n",
              "      <td>NaN</td>\n",
              "      <td>0.0</td>\n",
              "      <td>NaN</td>\n",
              "      <td>NaN</td>\n",
              "      <td>0.0</td>\n",
              "      <td>NaN</td>\n",
              "      <td>NaN</td>\n",
              "      <td>0.0</td>\n",
              "      <td>NaN</td>\n",
              "      <td>NaN</td>\n",
              "      <td>NaN</td>\n",
              "      <td>NaN</td>\n",
              "      <td>NaN</td>\n",
              "      <td>NaN</td>\n",
              "      <td>NaN</td>\n",
              "      <td>NaN</td>\n",
              "      <td>NaN</td>\n",
              "      <td>NaN</td>\n",
              "      <td>NaN</td>\n",
              "      <td>NaN</td>\n",
              "      <td>NaN</td>\n",
              "      <td>NaN</td>\n",
              "      <td>NaN</td>\n",
              "      <td>NaN</td>\n",
              "      <td>NaN</td>\n",
              "      <td>NaN</td>\n",
              "      <td>NaN</td>\n",
              "      <td>0.0</td>\n",
              "      <td>38928341.0</td>\n",
              "      <td>54.422</td>\n",
              "      <td>18.6</td>\n",
              "      <td>2.581</td>\n",
              "      <td>1.337</td>\n",
              "      <td>1803.987</td>\n",
              "      <td>NaN</td>\n",
              "      <td>597.029</td>\n",
              "      <td>9.59</td>\n",
              "      <td>NaN</td>\n",
              "      <td>NaN</td>\n",
              "      <td>37.746</td>\n",
              "      <td>0.5</td>\n",
              "      <td>64.83</td>\n",
              "      <td>0.498</td>\n",
              "    </tr>\n",
              "    <tr>\n",
              "      <th>4</th>\n",
              "      <td>AFG</td>\n",
              "      <td>Asia</td>\n",
              "      <td>Afghanistan</td>\n",
              "      <td>2020-01-27</td>\n",
              "      <td>NaN</td>\n",
              "      <td>0.0</td>\n",
              "      <td>NaN</td>\n",
              "      <td>NaN</td>\n",
              "      <td>0.0</td>\n",
              "      <td>NaN</td>\n",
              "      <td>NaN</td>\n",
              "      <td>0.0</td>\n",
              "      <td>NaN</td>\n",
              "      <td>NaN</td>\n",
              "      <td>0.0</td>\n",
              "      <td>NaN</td>\n",
              "      <td>NaN</td>\n",
              "      <td>NaN</td>\n",
              "      <td>NaN</td>\n",
              "      <td>NaN</td>\n",
              "      <td>NaN</td>\n",
              "      <td>NaN</td>\n",
              "      <td>NaN</td>\n",
              "      <td>NaN</td>\n",
              "      <td>NaN</td>\n",
              "      <td>NaN</td>\n",
              "      <td>NaN</td>\n",
              "      <td>NaN</td>\n",
              "      <td>NaN</td>\n",
              "      <td>NaN</td>\n",
              "      <td>NaN</td>\n",
              "      <td>NaN</td>\n",
              "      <td>NaN</td>\n",
              "      <td>NaN</td>\n",
              "      <td>0.0</td>\n",
              "      <td>38928341.0</td>\n",
              "      <td>54.422</td>\n",
              "      <td>18.6</td>\n",
              "      <td>2.581</td>\n",
              "      <td>1.337</td>\n",
              "      <td>1803.987</td>\n",
              "      <td>NaN</td>\n",
              "      <td>597.029</td>\n",
              "      <td>9.59</td>\n",
              "      <td>NaN</td>\n",
              "      <td>NaN</td>\n",
              "      <td>37.746</td>\n",
              "      <td>0.5</td>\n",
              "      <td>64.83</td>\n",
              "      <td>0.498</td>\n",
              "    </tr>\n",
              "  </tbody>\n",
              "</table>\n",
              "</div>"
            ],
            "text/plain": [
              "  iso_code continent  ... life_expectancy human_development_index\n",
              "0      AFG      Asia  ...           64.83                   0.498\n",
              "1      AFG      Asia  ...           64.83                   0.498\n",
              "2      AFG      Asia  ...           64.83                   0.498\n",
              "3      AFG      Asia  ...           64.83                   0.498\n",
              "4      AFG      Asia  ...           64.83                   0.498\n",
              "\n",
              "[5 rows x 50 columns]"
            ]
          },
          "metadata": {
            "tags": []
          },
          "execution_count": 298
        }
      ]
    },
    {
      "cell_type": "markdown",
      "metadata": {
        "id": "E0SWNI3Bex2I"
      },
      "source": [
        "Extracting data for India"
      ]
    },
    {
      "cell_type": "code",
      "metadata": {
        "colab": {
          "base_uri": "https://localhost:8080/",
          "height": 298
        },
        "id": "EBDTOhslemq4",
        "outputId": "a181ae1d-c43e-4c7b-c9be-6752ef35b556"
      },
      "source": [
        "country = 'India'\r\n",
        "df = df[df['location']==country]  # extract India data from the large dataset\r\n",
        "df.tail()"
      ],
      "execution_count": 299,
      "outputs": [
        {
          "output_type": "execute_result",
          "data": {
            "text/html": [
              "<div>\n",
              "<style scoped>\n",
              "    .dataframe tbody tr th:only-of-type {\n",
              "        vertical-align: middle;\n",
              "    }\n",
              "\n",
              "    .dataframe tbody tr th {\n",
              "        vertical-align: top;\n",
              "    }\n",
              "\n",
              "    .dataframe thead th {\n",
              "        text-align: right;\n",
              "    }\n",
              "</style>\n",
              "<table border=\"1\" class=\"dataframe\">\n",
              "  <thead>\n",
              "    <tr style=\"text-align: right;\">\n",
              "      <th></th>\n",
              "      <th>iso_code</th>\n",
              "      <th>continent</th>\n",
              "      <th>location</th>\n",
              "      <th>date</th>\n",
              "      <th>total_cases</th>\n",
              "      <th>new_cases</th>\n",
              "      <th>new_cases_smoothed</th>\n",
              "      <th>total_deaths</th>\n",
              "      <th>new_deaths</th>\n",
              "      <th>new_deaths_smoothed</th>\n",
              "      <th>total_cases_per_million</th>\n",
              "      <th>new_cases_per_million</th>\n",
              "      <th>new_cases_smoothed_per_million</th>\n",
              "      <th>total_deaths_per_million</th>\n",
              "      <th>new_deaths_per_million</th>\n",
              "      <th>new_deaths_smoothed_per_million</th>\n",
              "      <th>reproduction_rate</th>\n",
              "      <th>icu_patients</th>\n",
              "      <th>icu_patients_per_million</th>\n",
              "      <th>hosp_patients</th>\n",
              "      <th>hosp_patients_per_million</th>\n",
              "      <th>weekly_icu_admissions</th>\n",
              "      <th>weekly_icu_admissions_per_million</th>\n",
              "      <th>weekly_hosp_admissions</th>\n",
              "      <th>weekly_hosp_admissions_per_million</th>\n",
              "      <th>new_tests</th>\n",
              "      <th>total_tests</th>\n",
              "      <th>total_tests_per_thousand</th>\n",
              "      <th>new_tests_per_thousand</th>\n",
              "      <th>new_tests_smoothed</th>\n",
              "      <th>new_tests_smoothed_per_thousand</th>\n",
              "      <th>positive_rate</th>\n",
              "      <th>tests_per_case</th>\n",
              "      <th>tests_units</th>\n",
              "      <th>stringency_index</th>\n",
              "      <th>population</th>\n",
              "      <th>population_density</th>\n",
              "      <th>median_age</th>\n",
              "      <th>aged_65_older</th>\n",
              "      <th>aged_70_older</th>\n",
              "      <th>gdp_per_capita</th>\n",
              "      <th>extreme_poverty</th>\n",
              "      <th>cardiovasc_death_rate</th>\n",
              "      <th>diabetes_prevalence</th>\n",
              "      <th>female_smokers</th>\n",
              "      <th>male_smokers</th>\n",
              "      <th>handwashing_facilities</th>\n",
              "      <th>hospital_beds_per_thousand</th>\n",
              "      <th>life_expectancy</th>\n",
              "      <th>human_development_index</th>\n",
              "    </tr>\n",
              "  </thead>\n",
              "  <tbody>\n",
              "    <tr>\n",
              "      <th>25170</th>\n",
              "      <td>IND</td>\n",
              "      <td>Asia</td>\n",
              "      <td>India</td>\n",
              "      <td>2020-12-09</td>\n",
              "      <td>9767371.0</td>\n",
              "      <td>31521.0</td>\n",
              "      <td>33201.000</td>\n",
              "      <td>141772.0</td>\n",
              "      <td>412.0</td>\n",
              "      <td>446.286</td>\n",
              "      <td>7077.783</td>\n",
              "      <td>22.841</td>\n",
              "      <td>24.059</td>\n",
              "      <td>102.733</td>\n",
              "      <td>0.299</td>\n",
              "      <td>0.323</td>\n",
              "      <td>NaN</td>\n",
              "      <td>NaN</td>\n",
              "      <td>NaN</td>\n",
              "      <td>NaN</td>\n",
              "      <td>NaN</td>\n",
              "      <td>NaN</td>\n",
              "      <td>NaN</td>\n",
              "      <td>NaN</td>\n",
              "      <td>NaN</td>\n",
              "      <td>1022712.0</td>\n",
              "      <td>149836767.0</td>\n",
              "      <td>108.577</td>\n",
              "      <td>0.741</td>\n",
              "      <td>1055831.0</td>\n",
              "      <td>0.765</td>\n",
              "      <td>0.031</td>\n",
              "      <td>31.8</td>\n",
              "      <td>samples tested</td>\n",
              "      <td>NaN</td>\n",
              "      <td>1.380004e+09</td>\n",
              "      <td>450.419</td>\n",
              "      <td>28.2</td>\n",
              "      <td>5.989</td>\n",
              "      <td>3.414</td>\n",
              "      <td>6426.674</td>\n",
              "      <td>21.2</td>\n",
              "      <td>282.28</td>\n",
              "      <td>10.39</td>\n",
              "      <td>1.9</td>\n",
              "      <td>20.6</td>\n",
              "      <td>59.55</td>\n",
              "      <td>0.53</td>\n",
              "      <td>69.66</td>\n",
              "      <td>0.64</td>\n",
              "    </tr>\n",
              "    <tr>\n",
              "      <th>25171</th>\n",
              "      <td>IND</td>\n",
              "      <td>Asia</td>\n",
              "      <td>India</td>\n",
              "      <td>2020-12-10</td>\n",
              "      <td>9796744.0</td>\n",
              "      <td>29373.0</td>\n",
              "      <td>32169.286</td>\n",
              "      <td>142185.0</td>\n",
              "      <td>413.0</td>\n",
              "      <td>428.143</td>\n",
              "      <td>7099.067</td>\n",
              "      <td>21.285</td>\n",
              "      <td>23.311</td>\n",
              "      <td>103.032</td>\n",
              "      <td>0.299</td>\n",
              "      <td>0.310</td>\n",
              "      <td>NaN</td>\n",
              "      <td>NaN</td>\n",
              "      <td>NaN</td>\n",
              "      <td>NaN</td>\n",
              "      <td>NaN</td>\n",
              "      <td>NaN</td>\n",
              "      <td>NaN</td>\n",
              "      <td>NaN</td>\n",
              "      <td>NaN</td>\n",
              "      <td>922959.0</td>\n",
              "      <td>150759726.0</td>\n",
              "      <td>109.246</td>\n",
              "      <td>0.669</td>\n",
              "      <td>1028868.0</td>\n",
              "      <td>0.746</td>\n",
              "      <td>0.031</td>\n",
              "      <td>32.0</td>\n",
              "      <td>samples tested</td>\n",
              "      <td>NaN</td>\n",
              "      <td>1.380004e+09</td>\n",
              "      <td>450.419</td>\n",
              "      <td>28.2</td>\n",
              "      <td>5.989</td>\n",
              "      <td>3.414</td>\n",
              "      <td>6426.674</td>\n",
              "      <td>21.2</td>\n",
              "      <td>282.28</td>\n",
              "      <td>10.39</td>\n",
              "      <td>1.9</td>\n",
              "      <td>20.6</td>\n",
              "      <td>59.55</td>\n",
              "      <td>0.53</td>\n",
              "      <td>69.66</td>\n",
              "      <td>0.64</td>\n",
              "    </tr>\n",
              "    <tr>\n",
              "      <th>25172</th>\n",
              "      <td>IND</td>\n",
              "      <td>Asia</td>\n",
              "      <td>India</td>\n",
              "      <td>2020-12-11</td>\n",
              "      <td>9826775.0</td>\n",
              "      <td>30031.0</td>\n",
              "      <td>31223.429</td>\n",
              "      <td>142628.0</td>\n",
              "      <td>443.0</td>\n",
              "      <td>418.286</td>\n",
              "      <td>7120.829</td>\n",
              "      <td>21.762</td>\n",
              "      <td>22.626</td>\n",
              "      <td>103.353</td>\n",
              "      <td>0.321</td>\n",
              "      <td>0.303</td>\n",
              "      <td>NaN</td>\n",
              "      <td>NaN</td>\n",
              "      <td>NaN</td>\n",
              "      <td>NaN</td>\n",
              "      <td>NaN</td>\n",
              "      <td>NaN</td>\n",
              "      <td>NaN</td>\n",
              "      <td>NaN</td>\n",
              "      <td>NaN</td>\n",
              "      <td>NaN</td>\n",
              "      <td>NaN</td>\n",
              "      <td>NaN</td>\n",
              "      <td>NaN</td>\n",
              "      <td>NaN</td>\n",
              "      <td>NaN</td>\n",
              "      <td>NaN</td>\n",
              "      <td>NaN</td>\n",
              "      <td>NaN</td>\n",
              "      <td>NaN</td>\n",
              "      <td>1.380004e+09</td>\n",
              "      <td>450.419</td>\n",
              "      <td>28.2</td>\n",
              "      <td>5.989</td>\n",
              "      <td>3.414</td>\n",
              "      <td>6426.674</td>\n",
              "      <td>21.2</td>\n",
              "      <td>282.28</td>\n",
              "      <td>10.39</td>\n",
              "      <td>1.9</td>\n",
              "      <td>20.6</td>\n",
              "      <td>59.55</td>\n",
              "      <td>0.53</td>\n",
              "      <td>69.66</td>\n",
              "      <td>0.64</td>\n",
              "    </tr>\n",
              "    <tr>\n",
              "      <th>25173</th>\n",
              "      <td>IND</td>\n",
              "      <td>Asia</td>\n",
              "      <td>India</td>\n",
              "      <td>2020-12-12</td>\n",
              "      <td>9857029.0</td>\n",
              "      <td>30254.0</td>\n",
              "      <td>30401.000</td>\n",
              "      <td>143019.0</td>\n",
              "      <td>391.0</td>\n",
              "      <td>405.286</td>\n",
              "      <td>7142.752</td>\n",
              "      <td>21.923</td>\n",
              "      <td>22.030</td>\n",
              "      <td>103.637</td>\n",
              "      <td>0.283</td>\n",
              "      <td>0.294</td>\n",
              "      <td>NaN</td>\n",
              "      <td>NaN</td>\n",
              "      <td>NaN</td>\n",
              "      <td>NaN</td>\n",
              "      <td>NaN</td>\n",
              "      <td>NaN</td>\n",
              "      <td>NaN</td>\n",
              "      <td>NaN</td>\n",
              "      <td>NaN</td>\n",
              "      <td>NaN</td>\n",
              "      <td>NaN</td>\n",
              "      <td>NaN</td>\n",
              "      <td>NaN</td>\n",
              "      <td>NaN</td>\n",
              "      <td>NaN</td>\n",
              "      <td>NaN</td>\n",
              "      <td>NaN</td>\n",
              "      <td>NaN</td>\n",
              "      <td>NaN</td>\n",
              "      <td>1.380004e+09</td>\n",
              "      <td>450.419</td>\n",
              "      <td>28.2</td>\n",
              "      <td>5.989</td>\n",
              "      <td>3.414</td>\n",
              "      <td>6426.674</td>\n",
              "      <td>21.2</td>\n",
              "      <td>282.28</td>\n",
              "      <td>10.39</td>\n",
              "      <td>1.9</td>\n",
              "      <td>20.6</td>\n",
              "      <td>59.55</td>\n",
              "      <td>0.53</td>\n",
              "      <td>69.66</td>\n",
              "      <td>0.64</td>\n",
              "    </tr>\n",
              "    <tr>\n",
              "      <th>25174</th>\n",
              "      <td>IND</td>\n",
              "      <td>Asia</td>\n",
              "      <td>India</td>\n",
              "      <td>2020-12-13</td>\n",
              "      <td>9884100.0</td>\n",
              "      <td>27071.0</td>\n",
              "      <td>29556.714</td>\n",
              "      <td>143355.0</td>\n",
              "      <td>336.0</td>\n",
              "      <td>397.429</td>\n",
              "      <td>7162.369</td>\n",
              "      <td>19.617</td>\n",
              "      <td>21.418</td>\n",
              "      <td>103.880</td>\n",
              "      <td>0.243</td>\n",
              "      <td>0.288</td>\n",
              "      <td>NaN</td>\n",
              "      <td>NaN</td>\n",
              "      <td>NaN</td>\n",
              "      <td>NaN</td>\n",
              "      <td>NaN</td>\n",
              "      <td>NaN</td>\n",
              "      <td>NaN</td>\n",
              "      <td>NaN</td>\n",
              "      <td>NaN</td>\n",
              "      <td>NaN</td>\n",
              "      <td>NaN</td>\n",
              "      <td>NaN</td>\n",
              "      <td>NaN</td>\n",
              "      <td>NaN</td>\n",
              "      <td>NaN</td>\n",
              "      <td>NaN</td>\n",
              "      <td>NaN</td>\n",
              "      <td>NaN</td>\n",
              "      <td>NaN</td>\n",
              "      <td>1.380004e+09</td>\n",
              "      <td>450.419</td>\n",
              "      <td>28.2</td>\n",
              "      <td>5.989</td>\n",
              "      <td>3.414</td>\n",
              "      <td>6426.674</td>\n",
              "      <td>21.2</td>\n",
              "      <td>282.28</td>\n",
              "      <td>10.39</td>\n",
              "      <td>1.9</td>\n",
              "      <td>20.6</td>\n",
              "      <td>59.55</td>\n",
              "      <td>0.53</td>\n",
              "      <td>69.66</td>\n",
              "      <td>0.64</td>\n",
              "    </tr>\n",
              "  </tbody>\n",
              "</table>\n",
              "</div>"
            ],
            "text/plain": [
              "      iso_code continent  ... life_expectancy human_development_index\n",
              "25170      IND      Asia  ...           69.66                    0.64\n",
              "25171      IND      Asia  ...           69.66                    0.64\n",
              "25172      IND      Asia  ...           69.66                    0.64\n",
              "25173      IND      Asia  ...           69.66                    0.64\n",
              "25174      IND      Asia  ...           69.66                    0.64\n",
              "\n",
              "[5 rows x 50 columns]"
            ]
          },
          "metadata": {
            "tags": []
          },
          "execution_count": 299
        }
      ]
    },
    {
      "cell_type": "code",
      "metadata": {
        "colab": {
          "base_uri": "https://localhost:8080/"
        },
        "id": "hyloHCbTIVCt",
        "outputId": "44dae865-1dbf-4257-9059-74b196c7c9cb"
      },
      "source": [
        "df.columns  # display column names"
      ],
      "execution_count": 300,
      "outputs": [
        {
          "output_type": "execute_result",
          "data": {
            "text/plain": [
              "Index(['iso_code', 'continent', 'location', 'date', 'total_cases', 'new_cases',\n",
              "       'new_cases_smoothed', 'total_deaths', 'new_deaths',\n",
              "       'new_deaths_smoothed', 'total_cases_per_million',\n",
              "       'new_cases_per_million', 'new_cases_smoothed_per_million',\n",
              "       'total_deaths_per_million', 'new_deaths_per_million',\n",
              "       'new_deaths_smoothed_per_million', 'reproduction_rate', 'icu_patients',\n",
              "       'icu_patients_per_million', 'hosp_patients',\n",
              "       'hosp_patients_per_million', 'weekly_icu_admissions',\n",
              "       'weekly_icu_admissions_per_million', 'weekly_hosp_admissions',\n",
              "       'weekly_hosp_admissions_per_million', 'new_tests', 'total_tests',\n",
              "       'total_tests_per_thousand', 'new_tests_per_thousand',\n",
              "       'new_tests_smoothed', 'new_tests_smoothed_per_thousand',\n",
              "       'positive_rate', 'tests_per_case', 'tests_units', 'stringency_index',\n",
              "       'population', 'population_density', 'median_age', 'aged_65_older',\n",
              "       'aged_70_older', 'gdp_per_capita', 'extreme_poverty',\n",
              "       'cardiovasc_death_rate', 'diabetes_prevalence', 'female_smokers',\n",
              "       'male_smokers', 'handwashing_facilities', 'hospital_beds_per_thousand',\n",
              "       'life_expectancy', 'human_development_index'],\n",
              "      dtype='object')"
            ]
          },
          "metadata": {
            "tags": []
          },
          "execution_count": 300
        }
      ]
    },
    {
      "cell_type": "code",
      "metadata": {
        "colab": {
          "base_uri": "https://localhost:8080/",
          "height": 298
        },
        "id": "yBOwKfhzX-ZL",
        "outputId": "cdd8c972-667e-44e4-b178-c8b226afa273"
      },
      "source": [
        "df.tail()"
      ],
      "execution_count": 301,
      "outputs": [
        {
          "output_type": "execute_result",
          "data": {
            "text/html": [
              "<div>\n",
              "<style scoped>\n",
              "    .dataframe tbody tr th:only-of-type {\n",
              "        vertical-align: middle;\n",
              "    }\n",
              "\n",
              "    .dataframe tbody tr th {\n",
              "        vertical-align: top;\n",
              "    }\n",
              "\n",
              "    .dataframe thead th {\n",
              "        text-align: right;\n",
              "    }\n",
              "</style>\n",
              "<table border=\"1\" class=\"dataframe\">\n",
              "  <thead>\n",
              "    <tr style=\"text-align: right;\">\n",
              "      <th></th>\n",
              "      <th>iso_code</th>\n",
              "      <th>continent</th>\n",
              "      <th>location</th>\n",
              "      <th>date</th>\n",
              "      <th>total_cases</th>\n",
              "      <th>new_cases</th>\n",
              "      <th>new_cases_smoothed</th>\n",
              "      <th>total_deaths</th>\n",
              "      <th>new_deaths</th>\n",
              "      <th>new_deaths_smoothed</th>\n",
              "      <th>total_cases_per_million</th>\n",
              "      <th>new_cases_per_million</th>\n",
              "      <th>new_cases_smoothed_per_million</th>\n",
              "      <th>total_deaths_per_million</th>\n",
              "      <th>new_deaths_per_million</th>\n",
              "      <th>new_deaths_smoothed_per_million</th>\n",
              "      <th>reproduction_rate</th>\n",
              "      <th>icu_patients</th>\n",
              "      <th>icu_patients_per_million</th>\n",
              "      <th>hosp_patients</th>\n",
              "      <th>hosp_patients_per_million</th>\n",
              "      <th>weekly_icu_admissions</th>\n",
              "      <th>weekly_icu_admissions_per_million</th>\n",
              "      <th>weekly_hosp_admissions</th>\n",
              "      <th>weekly_hosp_admissions_per_million</th>\n",
              "      <th>new_tests</th>\n",
              "      <th>total_tests</th>\n",
              "      <th>total_tests_per_thousand</th>\n",
              "      <th>new_tests_per_thousand</th>\n",
              "      <th>new_tests_smoothed</th>\n",
              "      <th>new_tests_smoothed_per_thousand</th>\n",
              "      <th>positive_rate</th>\n",
              "      <th>tests_per_case</th>\n",
              "      <th>tests_units</th>\n",
              "      <th>stringency_index</th>\n",
              "      <th>population</th>\n",
              "      <th>population_density</th>\n",
              "      <th>median_age</th>\n",
              "      <th>aged_65_older</th>\n",
              "      <th>aged_70_older</th>\n",
              "      <th>gdp_per_capita</th>\n",
              "      <th>extreme_poverty</th>\n",
              "      <th>cardiovasc_death_rate</th>\n",
              "      <th>diabetes_prevalence</th>\n",
              "      <th>female_smokers</th>\n",
              "      <th>male_smokers</th>\n",
              "      <th>handwashing_facilities</th>\n",
              "      <th>hospital_beds_per_thousand</th>\n",
              "      <th>life_expectancy</th>\n",
              "      <th>human_development_index</th>\n",
              "    </tr>\n",
              "  </thead>\n",
              "  <tbody>\n",
              "    <tr>\n",
              "      <th>25170</th>\n",
              "      <td>IND</td>\n",
              "      <td>Asia</td>\n",
              "      <td>India</td>\n",
              "      <td>2020-12-09</td>\n",
              "      <td>9767371.0</td>\n",
              "      <td>31521.0</td>\n",
              "      <td>33201.000</td>\n",
              "      <td>141772.0</td>\n",
              "      <td>412.0</td>\n",
              "      <td>446.286</td>\n",
              "      <td>7077.783</td>\n",
              "      <td>22.841</td>\n",
              "      <td>24.059</td>\n",
              "      <td>102.733</td>\n",
              "      <td>0.299</td>\n",
              "      <td>0.323</td>\n",
              "      <td>NaN</td>\n",
              "      <td>NaN</td>\n",
              "      <td>NaN</td>\n",
              "      <td>NaN</td>\n",
              "      <td>NaN</td>\n",
              "      <td>NaN</td>\n",
              "      <td>NaN</td>\n",
              "      <td>NaN</td>\n",
              "      <td>NaN</td>\n",
              "      <td>1022712.0</td>\n",
              "      <td>149836767.0</td>\n",
              "      <td>108.577</td>\n",
              "      <td>0.741</td>\n",
              "      <td>1055831.0</td>\n",
              "      <td>0.765</td>\n",
              "      <td>0.031</td>\n",
              "      <td>31.8</td>\n",
              "      <td>samples tested</td>\n",
              "      <td>NaN</td>\n",
              "      <td>1.380004e+09</td>\n",
              "      <td>450.419</td>\n",
              "      <td>28.2</td>\n",
              "      <td>5.989</td>\n",
              "      <td>3.414</td>\n",
              "      <td>6426.674</td>\n",
              "      <td>21.2</td>\n",
              "      <td>282.28</td>\n",
              "      <td>10.39</td>\n",
              "      <td>1.9</td>\n",
              "      <td>20.6</td>\n",
              "      <td>59.55</td>\n",
              "      <td>0.53</td>\n",
              "      <td>69.66</td>\n",
              "      <td>0.64</td>\n",
              "    </tr>\n",
              "    <tr>\n",
              "      <th>25171</th>\n",
              "      <td>IND</td>\n",
              "      <td>Asia</td>\n",
              "      <td>India</td>\n",
              "      <td>2020-12-10</td>\n",
              "      <td>9796744.0</td>\n",
              "      <td>29373.0</td>\n",
              "      <td>32169.286</td>\n",
              "      <td>142185.0</td>\n",
              "      <td>413.0</td>\n",
              "      <td>428.143</td>\n",
              "      <td>7099.067</td>\n",
              "      <td>21.285</td>\n",
              "      <td>23.311</td>\n",
              "      <td>103.032</td>\n",
              "      <td>0.299</td>\n",
              "      <td>0.310</td>\n",
              "      <td>NaN</td>\n",
              "      <td>NaN</td>\n",
              "      <td>NaN</td>\n",
              "      <td>NaN</td>\n",
              "      <td>NaN</td>\n",
              "      <td>NaN</td>\n",
              "      <td>NaN</td>\n",
              "      <td>NaN</td>\n",
              "      <td>NaN</td>\n",
              "      <td>922959.0</td>\n",
              "      <td>150759726.0</td>\n",
              "      <td>109.246</td>\n",
              "      <td>0.669</td>\n",
              "      <td>1028868.0</td>\n",
              "      <td>0.746</td>\n",
              "      <td>0.031</td>\n",
              "      <td>32.0</td>\n",
              "      <td>samples tested</td>\n",
              "      <td>NaN</td>\n",
              "      <td>1.380004e+09</td>\n",
              "      <td>450.419</td>\n",
              "      <td>28.2</td>\n",
              "      <td>5.989</td>\n",
              "      <td>3.414</td>\n",
              "      <td>6426.674</td>\n",
              "      <td>21.2</td>\n",
              "      <td>282.28</td>\n",
              "      <td>10.39</td>\n",
              "      <td>1.9</td>\n",
              "      <td>20.6</td>\n",
              "      <td>59.55</td>\n",
              "      <td>0.53</td>\n",
              "      <td>69.66</td>\n",
              "      <td>0.64</td>\n",
              "    </tr>\n",
              "    <tr>\n",
              "      <th>25172</th>\n",
              "      <td>IND</td>\n",
              "      <td>Asia</td>\n",
              "      <td>India</td>\n",
              "      <td>2020-12-11</td>\n",
              "      <td>9826775.0</td>\n",
              "      <td>30031.0</td>\n",
              "      <td>31223.429</td>\n",
              "      <td>142628.0</td>\n",
              "      <td>443.0</td>\n",
              "      <td>418.286</td>\n",
              "      <td>7120.829</td>\n",
              "      <td>21.762</td>\n",
              "      <td>22.626</td>\n",
              "      <td>103.353</td>\n",
              "      <td>0.321</td>\n",
              "      <td>0.303</td>\n",
              "      <td>NaN</td>\n",
              "      <td>NaN</td>\n",
              "      <td>NaN</td>\n",
              "      <td>NaN</td>\n",
              "      <td>NaN</td>\n",
              "      <td>NaN</td>\n",
              "      <td>NaN</td>\n",
              "      <td>NaN</td>\n",
              "      <td>NaN</td>\n",
              "      <td>NaN</td>\n",
              "      <td>NaN</td>\n",
              "      <td>NaN</td>\n",
              "      <td>NaN</td>\n",
              "      <td>NaN</td>\n",
              "      <td>NaN</td>\n",
              "      <td>NaN</td>\n",
              "      <td>NaN</td>\n",
              "      <td>NaN</td>\n",
              "      <td>NaN</td>\n",
              "      <td>1.380004e+09</td>\n",
              "      <td>450.419</td>\n",
              "      <td>28.2</td>\n",
              "      <td>5.989</td>\n",
              "      <td>3.414</td>\n",
              "      <td>6426.674</td>\n",
              "      <td>21.2</td>\n",
              "      <td>282.28</td>\n",
              "      <td>10.39</td>\n",
              "      <td>1.9</td>\n",
              "      <td>20.6</td>\n",
              "      <td>59.55</td>\n",
              "      <td>0.53</td>\n",
              "      <td>69.66</td>\n",
              "      <td>0.64</td>\n",
              "    </tr>\n",
              "    <tr>\n",
              "      <th>25173</th>\n",
              "      <td>IND</td>\n",
              "      <td>Asia</td>\n",
              "      <td>India</td>\n",
              "      <td>2020-12-12</td>\n",
              "      <td>9857029.0</td>\n",
              "      <td>30254.0</td>\n",
              "      <td>30401.000</td>\n",
              "      <td>143019.0</td>\n",
              "      <td>391.0</td>\n",
              "      <td>405.286</td>\n",
              "      <td>7142.752</td>\n",
              "      <td>21.923</td>\n",
              "      <td>22.030</td>\n",
              "      <td>103.637</td>\n",
              "      <td>0.283</td>\n",
              "      <td>0.294</td>\n",
              "      <td>NaN</td>\n",
              "      <td>NaN</td>\n",
              "      <td>NaN</td>\n",
              "      <td>NaN</td>\n",
              "      <td>NaN</td>\n",
              "      <td>NaN</td>\n",
              "      <td>NaN</td>\n",
              "      <td>NaN</td>\n",
              "      <td>NaN</td>\n",
              "      <td>NaN</td>\n",
              "      <td>NaN</td>\n",
              "      <td>NaN</td>\n",
              "      <td>NaN</td>\n",
              "      <td>NaN</td>\n",
              "      <td>NaN</td>\n",
              "      <td>NaN</td>\n",
              "      <td>NaN</td>\n",
              "      <td>NaN</td>\n",
              "      <td>NaN</td>\n",
              "      <td>1.380004e+09</td>\n",
              "      <td>450.419</td>\n",
              "      <td>28.2</td>\n",
              "      <td>5.989</td>\n",
              "      <td>3.414</td>\n",
              "      <td>6426.674</td>\n",
              "      <td>21.2</td>\n",
              "      <td>282.28</td>\n",
              "      <td>10.39</td>\n",
              "      <td>1.9</td>\n",
              "      <td>20.6</td>\n",
              "      <td>59.55</td>\n",
              "      <td>0.53</td>\n",
              "      <td>69.66</td>\n",
              "      <td>0.64</td>\n",
              "    </tr>\n",
              "    <tr>\n",
              "      <th>25174</th>\n",
              "      <td>IND</td>\n",
              "      <td>Asia</td>\n",
              "      <td>India</td>\n",
              "      <td>2020-12-13</td>\n",
              "      <td>9884100.0</td>\n",
              "      <td>27071.0</td>\n",
              "      <td>29556.714</td>\n",
              "      <td>143355.0</td>\n",
              "      <td>336.0</td>\n",
              "      <td>397.429</td>\n",
              "      <td>7162.369</td>\n",
              "      <td>19.617</td>\n",
              "      <td>21.418</td>\n",
              "      <td>103.880</td>\n",
              "      <td>0.243</td>\n",
              "      <td>0.288</td>\n",
              "      <td>NaN</td>\n",
              "      <td>NaN</td>\n",
              "      <td>NaN</td>\n",
              "      <td>NaN</td>\n",
              "      <td>NaN</td>\n",
              "      <td>NaN</td>\n",
              "      <td>NaN</td>\n",
              "      <td>NaN</td>\n",
              "      <td>NaN</td>\n",
              "      <td>NaN</td>\n",
              "      <td>NaN</td>\n",
              "      <td>NaN</td>\n",
              "      <td>NaN</td>\n",
              "      <td>NaN</td>\n",
              "      <td>NaN</td>\n",
              "      <td>NaN</td>\n",
              "      <td>NaN</td>\n",
              "      <td>NaN</td>\n",
              "      <td>NaN</td>\n",
              "      <td>1.380004e+09</td>\n",
              "      <td>450.419</td>\n",
              "      <td>28.2</td>\n",
              "      <td>5.989</td>\n",
              "      <td>3.414</td>\n",
              "      <td>6426.674</td>\n",
              "      <td>21.2</td>\n",
              "      <td>282.28</td>\n",
              "      <td>10.39</td>\n",
              "      <td>1.9</td>\n",
              "      <td>20.6</td>\n",
              "      <td>59.55</td>\n",
              "      <td>0.53</td>\n",
              "      <td>69.66</td>\n",
              "      <td>0.64</td>\n",
              "    </tr>\n",
              "  </tbody>\n",
              "</table>\n",
              "</div>"
            ],
            "text/plain": [
              "      iso_code continent  ... life_expectancy human_development_index\n",
              "25170      IND      Asia  ...           69.66                    0.64\n",
              "25171      IND      Asia  ...           69.66                    0.64\n",
              "25172      IND      Asia  ...           69.66                    0.64\n",
              "25173      IND      Asia  ...           69.66                    0.64\n",
              "25174      IND      Asia  ...           69.66                    0.64\n",
              "\n",
              "[5 rows x 50 columns]"
            ]
          },
          "metadata": {
            "tags": []
          },
          "execution_count": 301
        }
      ]
    },
    {
      "cell_type": "code",
      "metadata": {
        "id": "RzT2MceHlPuG",
        "colab": {
          "base_uri": "https://localhost:8080/",
          "height": 194
        },
        "outputId": "452af8c8-3dac-4117-89a3-6dc103483a11"
      },
      "source": [
        "df = df[['date', 'new_cases', 'new_deaths']]  # extract required data\r\n",
        "df['date'] = pd.to_datetime(df['date'])\r\n",
        "df.reset_index(drop=True, inplace=True)  # reset index\r\n",
        "df.tail()"
      ],
      "execution_count": 302,
      "outputs": [
        {
          "output_type": "execute_result",
          "data": {
            "text/html": [
              "<div>\n",
              "<style scoped>\n",
              "    .dataframe tbody tr th:only-of-type {\n",
              "        vertical-align: middle;\n",
              "    }\n",
              "\n",
              "    .dataframe tbody tr th {\n",
              "        vertical-align: top;\n",
              "    }\n",
              "\n",
              "    .dataframe thead th {\n",
              "        text-align: right;\n",
              "    }\n",
              "</style>\n",
              "<table border=\"1\" class=\"dataframe\">\n",
              "  <thead>\n",
              "    <tr style=\"text-align: right;\">\n",
              "      <th></th>\n",
              "      <th>date</th>\n",
              "      <th>new_cases</th>\n",
              "      <th>new_deaths</th>\n",
              "    </tr>\n",
              "  </thead>\n",
              "  <tbody>\n",
              "    <tr>\n",
              "      <th>321</th>\n",
              "      <td>2020-12-09</td>\n",
              "      <td>31521.0</td>\n",
              "      <td>412.0</td>\n",
              "    </tr>\n",
              "    <tr>\n",
              "      <th>322</th>\n",
              "      <td>2020-12-10</td>\n",
              "      <td>29373.0</td>\n",
              "      <td>413.0</td>\n",
              "    </tr>\n",
              "    <tr>\n",
              "      <th>323</th>\n",
              "      <td>2020-12-11</td>\n",
              "      <td>30031.0</td>\n",
              "      <td>443.0</td>\n",
              "    </tr>\n",
              "    <tr>\n",
              "      <th>324</th>\n",
              "      <td>2020-12-12</td>\n",
              "      <td>30254.0</td>\n",
              "      <td>391.0</td>\n",
              "    </tr>\n",
              "    <tr>\n",
              "      <th>325</th>\n",
              "      <td>2020-12-13</td>\n",
              "      <td>27071.0</td>\n",
              "      <td>336.0</td>\n",
              "    </tr>\n",
              "  </tbody>\n",
              "</table>\n",
              "</div>"
            ],
            "text/plain": [
              "          date  new_cases  new_deaths\n",
              "321 2020-12-09    31521.0       412.0\n",
              "322 2020-12-10    29373.0       413.0\n",
              "323 2020-12-11    30031.0       443.0\n",
              "324 2020-12-12    30254.0       391.0\n",
              "325 2020-12-13    27071.0       336.0"
            ]
          },
          "metadata": {
            "tags": []
          },
          "execution_count": 302
        }
      ]
    },
    {
      "cell_type": "markdown",
      "metadata": {
        "id": "VsOYw2K_fY2B"
      },
      "source": [
        "##Checking data - __Data validation__"
      ]
    },
    {
      "cell_type": "code",
      "metadata": {
        "colab": {
          "base_uri": "https://localhost:8080/"
        },
        "id": "gddZpA8kIf9I",
        "outputId": "42ea07e8-41bd-4b8a-93b3-a5de66a1ef21"
      },
      "source": [
        "df.shape  # rows, columns"
      ],
      "execution_count": 303,
      "outputs": [
        {
          "output_type": "execute_result",
          "data": {
            "text/plain": [
              "(326, 3)"
            ]
          },
          "metadata": {
            "tags": []
          },
          "execution_count": 303
        }
      ]
    },
    {
      "cell_type": "markdown",
      "metadata": {
        "id": "eoaGR6PqgGpy"
      },
      "source": [
        "No Null values found"
      ]
    },
    {
      "cell_type": "code",
      "metadata": {
        "colab": {
          "base_uri": "https://localhost:8080/"
        },
        "id": "QVT0SFM-fY2G",
        "outputId": "1c733d19-1d2c-423f-fb0a-d5b9d228c202"
      },
      "source": [
        "df.isnull().sum()"
      ],
      "execution_count": 304,
      "outputs": [
        {
          "output_type": "execute_result",
          "data": {
            "text/plain": [
              "date          0\n",
              "new_cases     0\n",
              "new_deaths    0\n",
              "dtype: int64"
            ]
          },
          "metadata": {
            "tags": []
          },
          "execution_count": 304
        }
      ]
    },
    {
      "cell_type": "markdown",
      "metadata": {
        "id": "-CMmy5vHgIDX"
      },
      "source": [
        "No NA values are found"
      ]
    },
    {
      "cell_type": "code",
      "metadata": {
        "colab": {
          "base_uri": "https://localhost:8080/"
        },
        "id": "MLt4j8Qjn5Ip",
        "outputId": "3e3f1bca-87e8-4a77-9a24-defec750eb21"
      },
      "source": [
        "#df = df.fillna(df.mean())  # if NA values are found\r\n",
        "df.isna().sum()"
      ],
      "execution_count": 305,
      "outputs": [
        {
          "output_type": "execute_result",
          "data": {
            "text/plain": [
              "date          0\n",
              "new_cases     0\n",
              "new_deaths    0\n",
              "dtype: int64"
            ]
          },
          "metadata": {
            "tags": []
          },
          "execution_count": 305
        }
      ]
    },
    {
      "cell_type": "code",
      "metadata": {
        "colab": {
          "base_uri": "https://localhost:8080/"
        },
        "id": "TAqi_yKqfY2I",
        "outputId": "aef69406-9096-4371-83b2-25fbbc1a4bd2"
      },
      "source": [
        "df.info()"
      ],
      "execution_count": 306,
      "outputs": [
        {
          "output_type": "stream",
          "text": [
            "<class 'pandas.core.frame.DataFrame'>\n",
            "RangeIndex: 326 entries, 0 to 325\n",
            "Data columns (total 3 columns):\n",
            " #   Column      Non-Null Count  Dtype         \n",
            "---  ------      --------------  -----         \n",
            " 0   date        326 non-null    datetime64[ns]\n",
            " 1   new_cases   326 non-null    float64       \n",
            " 2   new_deaths  326 non-null    float64       \n",
            "dtypes: datetime64[ns](1), float64(2)\n",
            "memory usage: 7.8 KB\n"
          ],
          "name": "stdout"
        }
      ]
    },
    {
      "cell_type": "code",
      "metadata": {
        "colab": {
          "base_uri": "https://localhost:8080/",
          "height": 282
        },
        "id": "GPnusRzzfY2J",
        "outputId": "9c36c62e-5c82-4766-cdfc-1622e9c7e470"
      },
      "source": [
        "df.describe()"
      ],
      "execution_count": 307,
      "outputs": [
        {
          "output_type": "execute_result",
          "data": {
            "text/html": [
              "<div>\n",
              "<style scoped>\n",
              "    .dataframe tbody tr th:only-of-type {\n",
              "        vertical-align: middle;\n",
              "    }\n",
              "\n",
              "    .dataframe tbody tr th {\n",
              "        vertical-align: top;\n",
              "    }\n",
              "\n",
              "    .dataframe thead th {\n",
              "        text-align: right;\n",
              "    }\n",
              "</style>\n",
              "<table border=\"1\" class=\"dataframe\">\n",
              "  <thead>\n",
              "    <tr style=\"text-align: right;\">\n",
              "      <th></th>\n",
              "      <th>new_cases</th>\n",
              "      <th>new_deaths</th>\n",
              "    </tr>\n",
              "  </thead>\n",
              "  <tbody>\n",
              "    <tr>\n",
              "      <th>count</th>\n",
              "      <td>326.000000</td>\n",
              "      <td>326.000000</td>\n",
              "    </tr>\n",
              "    <tr>\n",
              "      <th>mean</th>\n",
              "      <td>30319.325153</td>\n",
              "      <td>439.739264</td>\n",
              "    </tr>\n",
              "    <tr>\n",
              "      <th>std</th>\n",
              "      <td>30300.141872</td>\n",
              "      <td>398.600370</td>\n",
              "    </tr>\n",
              "    <tr>\n",
              "      <th>min</th>\n",
              "      <td>0.000000</td>\n",
              "      <td>-1.000000</td>\n",
              "    </tr>\n",
              "    <tr>\n",
              "      <th>25%</th>\n",
              "      <td>922.500000</td>\n",
              "      <td>35.250000</td>\n",
              "    </tr>\n",
              "    <tr>\n",
              "      <th>50%</th>\n",
              "      <td>22502.000000</td>\n",
              "      <td>418.000000</td>\n",
              "    </tr>\n",
              "    <tr>\n",
              "      <th>75%</th>\n",
              "      <td>52924.750000</td>\n",
              "      <td>752.750000</td>\n",
              "    </tr>\n",
              "    <tr>\n",
              "      <th>max</th>\n",
              "      <td>97894.000000</td>\n",
              "      <td>2003.000000</td>\n",
              "    </tr>\n",
              "  </tbody>\n",
              "</table>\n",
              "</div>"
            ],
            "text/plain": [
              "          new_cases   new_deaths\n",
              "count    326.000000   326.000000\n",
              "mean   30319.325153   439.739264\n",
              "std    30300.141872   398.600370\n",
              "min        0.000000    -1.000000\n",
              "25%      922.500000    35.250000\n",
              "50%    22502.000000   418.000000\n",
              "75%    52924.750000   752.750000\n",
              "max    97894.000000  2003.000000"
            ]
          },
          "metadata": {
            "tags": []
          },
          "execution_count": 307
        }
      ]
    },
    {
      "cell_type": "markdown",
      "metadata": {
        "id": "-1A0Np4yJgCJ"
      },
      "source": [
        "##Visualize the data"
      ]
    },
    {
      "cell_type": "code",
      "metadata": {
        "colab": {
          "base_uri": "https://localhost:8080/",
          "height": 542
        },
        "id": "LttD-jsqJksQ",
        "outputId": "85815e8e-45b7-4969-a28c-2a042b2f3e29"
      },
      "source": [
        "px.line(df, x='date',y='new_cases', title='date vs new_cases')"
      ],
      "execution_count": 308,
      "outputs": [
        {
          "output_type": "display_data",
          "data": {
            "text/html": [
              "<html>\n",
              "<head><meta charset=\"utf-8\" /></head>\n",
              "<body>\n",
              "    <div>\n",
              "            <script src=\"https://cdnjs.cloudflare.com/ajax/libs/mathjax/2.7.5/MathJax.js?config=TeX-AMS-MML_SVG\"></script><script type=\"text/javascript\">if (window.MathJax) {MathJax.Hub.Config({SVG: {font: \"STIX-Web\"}});}</script>\n",
              "                <script type=\"text/javascript\">window.PlotlyConfig = {MathJaxConfig: 'local'};</script>\n",
              "        <script src=\"https://cdn.plot.ly/plotly-latest.min.js\"></script>    \n",
              "            <div id=\"11300568-d359-4d87-b854-26349d4569c1\" class=\"plotly-graph-div\" style=\"height:525px; width:100%;\"></div>\n",
              "            <script type=\"text/javascript\">\n",
              "                \n",
              "                    window.PLOTLYENV=window.PLOTLYENV || {};\n",
              "                    \n",
              "                if (document.getElementById(\"11300568-d359-4d87-b854-26349d4569c1\")) {\n",
              "                    Plotly.newPlot(\n",
              "                        '11300568-d359-4d87-b854-26349d4569c1',\n",
              "                        [{\"hoverlabel\": {\"namelength\": 0}, \"hovertemplate\": \"date=%{x}<br>new_cases=%{y}\", \"legendgroup\": \"\", \"line\": {\"color\": \"#636efa\", \"dash\": \"solid\"}, \"mode\": \"lines\", \"name\": \"\", \"showlegend\": false, \"type\": \"scatter\", \"x\": [\"2020-01-23T00:00:00\", \"2020-01-24T00:00:00\", \"2020-01-25T00:00:00\", \"2020-01-26T00:00:00\", \"2020-01-27T00:00:00\", \"2020-01-28T00:00:00\", \"2020-01-29T00:00:00\", \"2020-01-30T00:00:00\", \"2020-01-31T00:00:00\", \"2020-02-01T00:00:00\", \"2020-02-02T00:00:00\", \"2020-02-03T00:00:00\", \"2020-02-04T00:00:00\", \"2020-02-05T00:00:00\", \"2020-02-06T00:00:00\", \"2020-02-07T00:00:00\", \"2020-02-08T00:00:00\", \"2020-02-09T00:00:00\", \"2020-02-10T00:00:00\", \"2020-02-11T00:00:00\", \"2020-02-12T00:00:00\", \"2020-02-13T00:00:00\", \"2020-02-14T00:00:00\", \"2020-02-15T00:00:00\", \"2020-02-16T00:00:00\", \"2020-02-17T00:00:00\", \"2020-02-18T00:00:00\", \"2020-02-19T00:00:00\", \"2020-02-20T00:00:00\", \"2020-02-21T00:00:00\", \"2020-02-22T00:00:00\", \"2020-02-23T00:00:00\", \"2020-02-24T00:00:00\", \"2020-02-25T00:00:00\", \"2020-02-26T00:00:00\", \"2020-02-27T00:00:00\", \"2020-02-28T00:00:00\", \"2020-02-29T00:00:00\", \"2020-03-01T00:00:00\", \"2020-03-02T00:00:00\", \"2020-03-03T00:00:00\", \"2020-03-04T00:00:00\", \"2020-03-05T00:00:00\", \"2020-03-06T00:00:00\", \"2020-03-07T00:00:00\", \"2020-03-08T00:00:00\", \"2020-03-09T00:00:00\", \"2020-03-10T00:00:00\", \"2020-03-11T00:00:00\", \"2020-03-12T00:00:00\", \"2020-03-13T00:00:00\", \"2020-03-14T00:00:00\", \"2020-03-15T00:00:00\", \"2020-03-16T00:00:00\", \"2020-03-17T00:00:00\", \"2020-03-18T00:00:00\", \"2020-03-19T00:00:00\", \"2020-03-20T00:00:00\", \"2020-03-21T00:00:00\", \"2020-03-22T00:00:00\", \"2020-03-23T00:00:00\", \"2020-03-24T00:00:00\", \"2020-03-25T00:00:00\", \"2020-03-26T00:00:00\", \"2020-03-27T00:00:00\", \"2020-03-28T00:00:00\", \"2020-03-29T00:00:00\", \"2020-03-30T00:00:00\", \"2020-03-31T00:00:00\", \"2020-04-01T00:00:00\", \"2020-04-02T00:00:00\", \"2020-04-03T00:00:00\", \"2020-04-04T00:00:00\", \"2020-04-05T00:00:00\", \"2020-04-06T00:00:00\", \"2020-04-07T00:00:00\", \"2020-04-08T00:00:00\", \"2020-04-09T00:00:00\", \"2020-04-10T00:00:00\", \"2020-04-11T00:00:00\", \"2020-04-12T00:00:00\", \"2020-04-13T00:00:00\", \"2020-04-14T00:00:00\", \"2020-04-15T00:00:00\", \"2020-04-16T00:00:00\", \"2020-04-17T00:00:00\", \"2020-04-18T00:00:00\", \"2020-04-19T00:00:00\", \"2020-04-20T00:00:00\", \"2020-04-21T00:00:00\", \"2020-04-22T00:00:00\", \"2020-04-23T00:00:00\", \"2020-04-24T00:00:00\", \"2020-04-25T00:00:00\", \"2020-04-26T00:00:00\", \"2020-04-27T00:00:00\", \"2020-04-28T00:00:00\", \"2020-04-29T00:00:00\", \"2020-04-30T00:00:00\", \"2020-05-01T00:00:00\", \"2020-05-02T00:00:00\", \"2020-05-03T00:00:00\", \"2020-05-04T00:00:00\", \"2020-05-05T00:00:00\", \"2020-05-06T00:00:00\", \"2020-05-07T00:00:00\", \"2020-05-08T00:00:00\", \"2020-05-09T00:00:00\", \"2020-05-10T00:00:00\", \"2020-05-11T00:00:00\", \"2020-05-12T00:00:00\", \"2020-05-13T00:00:00\", \"2020-05-14T00:00:00\", \"2020-05-15T00:00:00\", \"2020-05-16T00:00:00\", \"2020-05-17T00:00:00\", \"2020-05-18T00:00:00\", \"2020-05-19T00:00:00\", \"2020-05-20T00:00:00\", \"2020-05-21T00:00:00\", \"2020-05-22T00:00:00\", \"2020-05-23T00:00:00\", \"2020-05-24T00:00:00\", \"2020-05-25T00:00:00\", \"2020-05-26T00:00:00\", \"2020-05-27T00:00:00\", \"2020-05-28T00:00:00\", \"2020-05-29T00:00:00\", \"2020-05-30T00:00:00\", \"2020-05-31T00:00:00\", \"2020-06-01T00:00:00\", \"2020-06-02T00:00:00\", \"2020-06-03T00:00:00\", \"2020-06-04T00:00:00\", \"2020-06-05T00:00:00\", \"2020-06-06T00:00:00\", \"2020-06-07T00:00:00\", \"2020-06-08T00:00:00\", \"2020-06-09T00:00:00\", \"2020-06-10T00:00:00\", \"2020-06-11T00:00:00\", \"2020-06-12T00:00:00\", \"2020-06-13T00:00:00\", \"2020-06-14T00:00:00\", \"2020-06-15T00:00:00\", \"2020-06-16T00:00:00\", \"2020-06-17T00:00:00\", \"2020-06-18T00:00:00\", \"2020-06-19T00:00:00\", \"2020-06-20T00:00:00\", \"2020-06-21T00:00:00\", \"2020-06-22T00:00:00\", \"2020-06-23T00:00:00\", \"2020-06-24T00:00:00\", \"2020-06-25T00:00:00\", \"2020-06-26T00:00:00\", \"2020-06-27T00:00:00\", \"2020-06-28T00:00:00\", \"2020-06-29T00:00:00\", \"2020-06-30T00:00:00\", \"2020-07-01T00:00:00\", \"2020-07-02T00:00:00\", \"2020-07-03T00:00:00\", \"2020-07-04T00:00:00\", \"2020-07-05T00:00:00\", \"2020-07-06T00:00:00\", \"2020-07-07T00:00:00\", \"2020-07-08T00:00:00\", \"2020-07-09T00:00:00\", \"2020-07-10T00:00:00\", \"2020-07-11T00:00:00\", \"2020-07-12T00:00:00\", \"2020-07-13T00:00:00\", \"2020-07-14T00:00:00\", \"2020-07-15T00:00:00\", \"2020-07-16T00:00:00\", \"2020-07-17T00:00:00\", \"2020-07-18T00:00:00\", \"2020-07-19T00:00:00\", \"2020-07-20T00:00:00\", \"2020-07-21T00:00:00\", \"2020-07-22T00:00:00\", \"2020-07-23T00:00:00\", \"2020-07-24T00:00:00\", \"2020-07-25T00:00:00\", \"2020-07-26T00:00:00\", \"2020-07-27T00:00:00\", \"2020-07-28T00:00:00\", \"2020-07-29T00:00:00\", \"2020-07-30T00:00:00\", \"2020-07-31T00:00:00\", \"2020-08-01T00:00:00\", \"2020-08-02T00:00:00\", \"2020-08-03T00:00:00\", \"2020-08-04T00:00:00\", \"2020-08-05T00:00:00\", \"2020-08-06T00:00:00\", \"2020-08-07T00:00:00\", \"2020-08-08T00:00:00\", \"2020-08-09T00:00:00\", \"2020-08-10T00:00:00\", \"2020-08-11T00:00:00\", \"2020-08-12T00:00:00\", \"2020-08-13T00:00:00\", \"2020-08-14T00:00:00\", \"2020-08-15T00:00:00\", \"2020-08-16T00:00:00\", \"2020-08-17T00:00:00\", \"2020-08-18T00:00:00\", \"2020-08-19T00:00:00\", \"2020-08-20T00:00:00\", \"2020-08-21T00:00:00\", \"2020-08-22T00:00:00\", \"2020-08-23T00:00:00\", \"2020-08-24T00:00:00\", \"2020-08-25T00:00:00\", \"2020-08-26T00:00:00\", \"2020-08-27T00:00:00\", \"2020-08-28T00:00:00\", \"2020-08-29T00:00:00\", \"2020-08-30T00:00:00\", \"2020-08-31T00:00:00\", \"2020-09-01T00:00:00\", \"2020-09-02T00:00:00\", \"2020-09-03T00:00:00\", \"2020-09-04T00:00:00\", \"2020-09-05T00:00:00\", \"2020-09-06T00:00:00\", \"2020-09-07T00:00:00\", \"2020-09-08T00:00:00\", \"2020-09-09T00:00:00\", \"2020-09-10T00:00:00\", \"2020-09-11T00:00:00\", \"2020-09-12T00:00:00\", \"2020-09-13T00:00:00\", \"2020-09-14T00:00:00\", \"2020-09-15T00:00:00\", \"2020-09-16T00:00:00\", \"2020-09-17T00:00:00\", \"2020-09-18T00:00:00\", \"2020-09-19T00:00:00\", \"2020-09-20T00:00:00\", \"2020-09-21T00:00:00\", \"2020-09-22T00:00:00\", \"2020-09-23T00:00:00\", \"2020-09-24T00:00:00\", \"2020-09-25T00:00:00\", \"2020-09-26T00:00:00\", \"2020-09-27T00:00:00\", \"2020-09-28T00:00:00\", \"2020-09-29T00:00:00\", \"2020-09-30T00:00:00\", \"2020-10-01T00:00:00\", \"2020-10-02T00:00:00\", \"2020-10-03T00:00:00\", \"2020-10-04T00:00:00\", \"2020-10-05T00:00:00\", \"2020-10-06T00:00:00\", \"2020-10-07T00:00:00\", \"2020-10-08T00:00:00\", \"2020-10-09T00:00:00\", \"2020-10-10T00:00:00\", \"2020-10-11T00:00:00\", \"2020-10-12T00:00:00\", \"2020-10-13T00:00:00\", \"2020-10-14T00:00:00\", \"2020-10-15T00:00:00\", \"2020-10-16T00:00:00\", \"2020-10-17T00:00:00\", \"2020-10-18T00:00:00\", \"2020-10-19T00:00:00\", \"2020-10-20T00:00:00\", \"2020-10-21T00:00:00\", \"2020-10-22T00:00:00\", \"2020-10-23T00:00:00\", \"2020-10-24T00:00:00\", \"2020-10-25T00:00:00\", \"2020-10-26T00:00:00\", \"2020-10-27T00:00:00\", \"2020-10-28T00:00:00\", \"2020-10-29T00:00:00\", \"2020-10-30T00:00:00\", \"2020-10-31T00:00:00\", \"2020-11-01T00:00:00\", \"2020-11-02T00:00:00\", \"2020-11-03T00:00:00\", \"2020-11-04T00:00:00\", \"2020-11-05T00:00:00\", \"2020-11-06T00:00:00\", \"2020-11-07T00:00:00\", \"2020-11-08T00:00:00\", \"2020-11-09T00:00:00\", \"2020-11-10T00:00:00\", \"2020-11-11T00:00:00\", \"2020-11-12T00:00:00\", \"2020-11-13T00:00:00\", \"2020-11-14T00:00:00\", \"2020-11-15T00:00:00\", \"2020-11-16T00:00:00\", \"2020-11-17T00:00:00\", \"2020-11-18T00:00:00\", \"2020-11-19T00:00:00\", \"2020-11-20T00:00:00\", \"2020-11-21T00:00:00\", \"2020-11-22T00:00:00\", \"2020-11-23T00:00:00\", \"2020-11-24T00:00:00\", \"2020-11-25T00:00:00\", \"2020-11-26T00:00:00\", \"2020-11-27T00:00:00\", \"2020-11-28T00:00:00\", \"2020-11-29T00:00:00\", \"2020-11-30T00:00:00\", \"2020-12-01T00:00:00\", \"2020-12-02T00:00:00\", \"2020-12-03T00:00:00\", \"2020-12-04T00:00:00\", \"2020-12-05T00:00:00\", \"2020-12-06T00:00:00\", \"2020-12-07T00:00:00\", \"2020-12-08T00:00:00\", \"2020-12-09T00:00:00\", \"2020-12-10T00:00:00\", \"2020-12-11T00:00:00\", \"2020-12-12T00:00:00\", \"2020-12-13T00:00:00\"], \"xaxis\": \"x\", \"y\": [0.0, 0.0, 0.0, 0.0, 0.0, 0.0, 0.0, 1.0, 0.0, 0.0, 1.0, 1.0, 0.0, 0.0, 0.0, 0.0, 0.0, 0.0, 0.0, 0.0, 0.0, 0.0, 0.0, 0.0, 0.0, 0.0, 0.0, 0.0, 0.0, 0.0, 0.0, 0.0, 0.0, 0.0, 0.0, 0.0, 0.0, 0.0, 0.0, 2.0, 0.0, 23.0, 2.0, 1.0, 3.0, 5.0, 4.0, 13.0, 6.0, 11.0, 9.0, 20.0, 11.0, 6.0, 23.0, 14.0, 38.0, 50.0, 86.0, 66.0, 103.0, 37.0, 121.0, 70.0, 160.0, 100.0, 37.0, 227.0, 146.0, 601.0, 545.0, 24.0, 515.0, 506.0, 1190.0, 533.0, 605.0, 809.0, 873.0, 848.0, 759.0, 1248.0, 1034.0, 835.0, 1108.0, 922.0, 1370.0, 1893.0, 924.0, 1541.0, 1290.0, 1707.0, 1453.0, 1753.0, 1607.0, 1561.0, 1873.0, 1738.0, 1801.0, 2394.0, 2442.0, 2806.0, 3932.0, 2963.0, 3587.0, 3364.0, 3344.0, 3113.0, 4353.0, 3607.0, 3524.0, 3763.0, 3942.0, 3787.0, 4864.0, 5050.0, 4630.0, 6147.0, 5553.0, 6198.0, 6568.0, 6629.0, 7113.0, 6414.0, 5843.0, 7293.0, 7300.0, 8105.0, 8336.0, 8782.0, 7761.0, 8821.0, 9633.0, 9889.0, 9471.0, 10438.0, 10864.0, 8442.0, 10218.0, 10459.0, 10930.0, 11458.0, 11929.0, 11502.0, 10667.0, 10974.0, 12881.0, 13586.0, 14516.0, 15403.0, 14831.0, 14933.0, 15968.0, 16922.0, 17296.0, 18552.0, 19906.0, 19459.0, 18522.0, 18641.0, 19160.0, 20903.0, 22771.0, 24850.0, 24248.0, 22251.0, 22753.0, 24879.0, 26506.0, 27114.0, 28606.0, 28732.0, 28498.0, 29429.0, 32676.0, 34975.0, 35252.0, 38697.0, 40425.0, 37132.0, 37740.0, 45720.0, 49310.0, 48916.0, 48611.0, 49981.0, 44457.0, 51596.0, 50294.0, 52783.0, 61242.0, 54735.0, 52972.0, 52050.0, 52509.0, 56282.0, 62538.0, 61537.0, 64399.0, 62064.0, 53601.0, 60963.0, 66999.0, 64553.0, 64732.0, 64030.0, 57711.0, 55018.0, 64572.0, 69672.0, 68900.0, 69876.0, 69239.0, 61408.0, 60975.0, 57224.0, 85687.0, 77266.0, 76472.0, 78761.0, 78512.0, 69921.0, 78357.0, 83883.0, 83341.0, 86432.0, 90632.0, 90802.0, 75809.0, 89706.0, 95735.0, 96551.0, 97570.0, 94372.0, 92071.0, 83809.0, 90123.0, 97894.0, 96424.0, 93337.0, 92605.0, 86961.0, 75083.0, 83347.0, 86508.0, 86052.0, 85362.0, 88600.0, 82170.0, 70589.0, 80472.0, 86821.0, 81484.0, 79476.0, 75829.0, 74442.0, 61267.0, 72049.0, 78524.0, 70496.0, 73272.0, 74383.0, 66732.0, 55342.0, 63509.0, 67708.0, 63371.0, 62212.0, 61871.0, 55722.0, 46790.0, 54044.0, 55839.0, 54366.0, 53370.0, 50129.0, 45148.0, 36470.0, 43893.0, 49881.0, 48648.0, 48268.0, 46963.0, 45231.0, 38310.0, 46253.0, 50210.0, 47638.0, 50356.0, 45674.0, 45903.0, 38073.0, 44281.0, 47905.0, 44879.0, 44684.0, 41100.0, 30548.0, 29163.0, 38617.0, 45576.0, 45882.0, 46232.0, 45209.0, 44059.0, 37975.0, 44376.0, 44489.0, 43082.0, 41322.0, 41810.0, 38772.0, 31118.0, 36604.0, 35551.0, 36595.0, 36652.0, 36011.0, 32981.0, 26567.0, 32080.0, 31521.0, 29373.0, 30031.0, 30254.0, 27071.0], \"yaxis\": \"y\"}],\n",
              "                        {\"legend\": {\"tracegroupgap\": 0}, \"template\": {\"data\": {\"bar\": [{\"error_x\": {\"color\": \"#2a3f5f\"}, \"error_y\": {\"color\": \"#2a3f5f\"}, \"marker\": {\"line\": {\"color\": \"#E5ECF6\", \"width\": 0.5}}, \"type\": \"bar\"}], \"barpolar\": [{\"marker\": {\"line\": {\"color\": \"#E5ECF6\", \"width\": 0.5}}, \"type\": \"barpolar\"}], \"carpet\": [{\"aaxis\": {\"endlinecolor\": \"#2a3f5f\", \"gridcolor\": \"white\", \"linecolor\": \"white\", \"minorgridcolor\": \"white\", \"startlinecolor\": \"#2a3f5f\"}, \"baxis\": {\"endlinecolor\": \"#2a3f5f\", \"gridcolor\": \"white\", \"linecolor\": \"white\", \"minorgridcolor\": \"white\", \"startlinecolor\": \"#2a3f5f\"}, \"type\": \"carpet\"}], \"choropleth\": [{\"colorbar\": {\"outlinewidth\": 0, \"ticks\": \"\"}, \"type\": \"choropleth\"}], \"contour\": [{\"colorbar\": {\"outlinewidth\": 0, \"ticks\": \"\"}, \"colorscale\": [[0.0, \"#0d0887\"], [0.1111111111111111, \"#46039f\"], [0.2222222222222222, \"#7201a8\"], [0.3333333333333333, \"#9c179e\"], [0.4444444444444444, \"#bd3786\"], [0.5555555555555556, \"#d8576b\"], [0.6666666666666666, \"#ed7953\"], [0.7777777777777778, \"#fb9f3a\"], [0.8888888888888888, \"#fdca26\"], [1.0, \"#f0f921\"]], \"type\": \"contour\"}], \"contourcarpet\": [{\"colorbar\": {\"outlinewidth\": 0, \"ticks\": \"\"}, \"type\": \"contourcarpet\"}], \"heatmap\": [{\"colorbar\": {\"outlinewidth\": 0, \"ticks\": \"\"}, \"colorscale\": [[0.0, \"#0d0887\"], [0.1111111111111111, \"#46039f\"], [0.2222222222222222, \"#7201a8\"], [0.3333333333333333, \"#9c179e\"], [0.4444444444444444, \"#bd3786\"], [0.5555555555555556, \"#d8576b\"], [0.6666666666666666, \"#ed7953\"], [0.7777777777777778, \"#fb9f3a\"], [0.8888888888888888, \"#fdca26\"], [1.0, \"#f0f921\"]], \"type\": \"heatmap\"}], \"heatmapgl\": [{\"colorbar\": {\"outlinewidth\": 0, \"ticks\": \"\"}, \"colorscale\": [[0.0, \"#0d0887\"], [0.1111111111111111, \"#46039f\"], [0.2222222222222222, \"#7201a8\"], [0.3333333333333333, \"#9c179e\"], [0.4444444444444444, \"#bd3786\"], [0.5555555555555556, \"#d8576b\"], [0.6666666666666666, \"#ed7953\"], [0.7777777777777778, \"#fb9f3a\"], [0.8888888888888888, \"#fdca26\"], [1.0, \"#f0f921\"]], \"type\": \"heatmapgl\"}], \"histogram\": [{\"marker\": {\"colorbar\": {\"outlinewidth\": 0, \"ticks\": \"\"}}, \"type\": \"histogram\"}], \"histogram2d\": [{\"colorbar\": {\"outlinewidth\": 0, \"ticks\": \"\"}, \"colorscale\": [[0.0, \"#0d0887\"], [0.1111111111111111, \"#46039f\"], [0.2222222222222222, \"#7201a8\"], [0.3333333333333333, \"#9c179e\"], [0.4444444444444444, \"#bd3786\"], [0.5555555555555556, \"#d8576b\"], [0.6666666666666666, \"#ed7953\"], [0.7777777777777778, \"#fb9f3a\"], [0.8888888888888888, \"#fdca26\"], [1.0, \"#f0f921\"]], \"type\": \"histogram2d\"}], \"histogram2dcontour\": [{\"colorbar\": {\"outlinewidth\": 0, \"ticks\": \"\"}, \"colorscale\": [[0.0, \"#0d0887\"], [0.1111111111111111, \"#46039f\"], [0.2222222222222222, \"#7201a8\"], [0.3333333333333333, \"#9c179e\"], [0.4444444444444444, \"#bd3786\"], [0.5555555555555556, \"#d8576b\"], [0.6666666666666666, \"#ed7953\"], [0.7777777777777778, \"#fb9f3a\"], [0.8888888888888888, \"#fdca26\"], [1.0, \"#f0f921\"]], \"type\": \"histogram2dcontour\"}], \"mesh3d\": [{\"colorbar\": {\"outlinewidth\": 0, \"ticks\": \"\"}, \"type\": \"mesh3d\"}], \"parcoords\": [{\"line\": {\"colorbar\": {\"outlinewidth\": 0, \"ticks\": \"\"}}, \"type\": \"parcoords\"}], \"pie\": [{\"automargin\": true, \"type\": \"pie\"}], \"scatter\": [{\"marker\": {\"colorbar\": {\"outlinewidth\": 0, \"ticks\": \"\"}}, \"type\": \"scatter\"}], \"scatter3d\": [{\"line\": {\"colorbar\": {\"outlinewidth\": 0, \"ticks\": \"\"}}, \"marker\": {\"colorbar\": {\"outlinewidth\": 0, \"ticks\": \"\"}}, \"type\": \"scatter3d\"}], \"scattercarpet\": [{\"marker\": {\"colorbar\": {\"outlinewidth\": 0, \"ticks\": \"\"}}, \"type\": \"scattercarpet\"}], \"scattergeo\": [{\"marker\": {\"colorbar\": {\"outlinewidth\": 0, \"ticks\": \"\"}}, \"type\": \"scattergeo\"}], \"scattergl\": [{\"marker\": {\"colorbar\": {\"outlinewidth\": 0, \"ticks\": \"\"}}, \"type\": \"scattergl\"}], \"scattermapbox\": [{\"marker\": {\"colorbar\": {\"outlinewidth\": 0, \"ticks\": \"\"}}, \"type\": \"scattermapbox\"}], \"scatterpolar\": [{\"marker\": {\"colorbar\": {\"outlinewidth\": 0, \"ticks\": \"\"}}, \"type\": \"scatterpolar\"}], \"scatterpolargl\": [{\"marker\": {\"colorbar\": {\"outlinewidth\": 0, \"ticks\": \"\"}}, \"type\": \"scatterpolargl\"}], \"scatterternary\": [{\"marker\": {\"colorbar\": {\"outlinewidth\": 0, \"ticks\": \"\"}}, \"type\": \"scatterternary\"}], \"surface\": [{\"colorbar\": {\"outlinewidth\": 0, \"ticks\": \"\"}, \"colorscale\": [[0.0, \"#0d0887\"], [0.1111111111111111, \"#46039f\"], [0.2222222222222222, \"#7201a8\"], [0.3333333333333333, \"#9c179e\"], [0.4444444444444444, \"#bd3786\"], [0.5555555555555556, \"#d8576b\"], [0.6666666666666666, \"#ed7953\"], [0.7777777777777778, \"#fb9f3a\"], [0.8888888888888888, \"#fdca26\"], [1.0, \"#f0f921\"]], \"type\": \"surface\"}], \"table\": [{\"cells\": {\"fill\": {\"color\": \"#EBF0F8\"}, \"line\": {\"color\": \"white\"}}, \"header\": {\"fill\": {\"color\": \"#C8D4E3\"}, \"line\": {\"color\": \"white\"}}, \"type\": \"table\"}]}, \"layout\": {\"annotationdefaults\": {\"arrowcolor\": \"#2a3f5f\", \"arrowhead\": 0, \"arrowwidth\": 1}, \"coloraxis\": {\"colorbar\": {\"outlinewidth\": 0, \"ticks\": \"\"}}, \"colorscale\": {\"diverging\": [[0, \"#8e0152\"], [0.1, \"#c51b7d\"], [0.2, \"#de77ae\"], [0.3, \"#f1b6da\"], [0.4, \"#fde0ef\"], [0.5, \"#f7f7f7\"], [0.6, \"#e6f5d0\"], [0.7, \"#b8e186\"], [0.8, \"#7fbc41\"], [0.9, \"#4d9221\"], [1, \"#276419\"]], \"sequential\": [[0.0, \"#0d0887\"], [0.1111111111111111, \"#46039f\"], [0.2222222222222222, \"#7201a8\"], [0.3333333333333333, \"#9c179e\"], [0.4444444444444444, \"#bd3786\"], [0.5555555555555556, \"#d8576b\"], [0.6666666666666666, \"#ed7953\"], [0.7777777777777778, \"#fb9f3a\"], [0.8888888888888888, \"#fdca26\"], [1.0, \"#f0f921\"]], \"sequentialminus\": [[0.0, \"#0d0887\"], [0.1111111111111111, \"#46039f\"], [0.2222222222222222, \"#7201a8\"], [0.3333333333333333, \"#9c179e\"], [0.4444444444444444, \"#bd3786\"], [0.5555555555555556, \"#d8576b\"], [0.6666666666666666, \"#ed7953\"], [0.7777777777777778, \"#fb9f3a\"], [0.8888888888888888, \"#fdca26\"], [1.0, \"#f0f921\"]]}, \"colorway\": [\"#636efa\", \"#EF553B\", \"#00cc96\", \"#ab63fa\", \"#FFA15A\", \"#19d3f3\", \"#FF6692\", \"#B6E880\", \"#FF97FF\", \"#FECB52\"], \"font\": {\"color\": \"#2a3f5f\"}, \"geo\": {\"bgcolor\": \"white\", \"lakecolor\": \"white\", \"landcolor\": \"#E5ECF6\", \"showlakes\": true, \"showland\": true, \"subunitcolor\": \"white\"}, \"hoverlabel\": {\"align\": \"left\"}, \"hovermode\": \"closest\", \"mapbox\": {\"style\": \"light\"}, \"paper_bgcolor\": \"white\", \"plot_bgcolor\": \"#E5ECF6\", \"polar\": {\"angularaxis\": {\"gridcolor\": \"white\", \"linecolor\": \"white\", \"ticks\": \"\"}, \"bgcolor\": \"#E5ECF6\", \"radialaxis\": {\"gridcolor\": \"white\", \"linecolor\": \"white\", \"ticks\": \"\"}}, \"scene\": {\"xaxis\": {\"backgroundcolor\": \"#E5ECF6\", \"gridcolor\": \"white\", \"gridwidth\": 2, \"linecolor\": \"white\", \"showbackground\": true, \"ticks\": \"\", \"zerolinecolor\": \"white\"}, \"yaxis\": {\"backgroundcolor\": \"#E5ECF6\", \"gridcolor\": \"white\", \"gridwidth\": 2, \"linecolor\": \"white\", \"showbackground\": true, \"ticks\": \"\", \"zerolinecolor\": \"white\"}, \"zaxis\": {\"backgroundcolor\": \"#E5ECF6\", \"gridcolor\": \"white\", \"gridwidth\": 2, \"linecolor\": \"white\", \"showbackground\": true, \"ticks\": \"\", \"zerolinecolor\": \"white\"}}, \"shapedefaults\": {\"line\": {\"color\": \"#2a3f5f\"}}, \"ternary\": {\"aaxis\": {\"gridcolor\": \"white\", \"linecolor\": \"white\", \"ticks\": \"\"}, \"baxis\": {\"gridcolor\": \"white\", \"linecolor\": \"white\", \"ticks\": \"\"}, \"bgcolor\": \"#E5ECF6\", \"caxis\": {\"gridcolor\": \"white\", \"linecolor\": \"white\", \"ticks\": \"\"}}, \"title\": {\"x\": 0.05}, \"xaxis\": {\"automargin\": true, \"gridcolor\": \"white\", \"linecolor\": \"white\", \"ticks\": \"\", \"title\": {\"standoff\": 15}, \"zerolinecolor\": \"white\", \"zerolinewidth\": 2}, \"yaxis\": {\"automargin\": true, \"gridcolor\": \"white\", \"linecolor\": \"white\", \"ticks\": \"\", \"title\": {\"standoff\": 15}, \"zerolinecolor\": \"white\", \"zerolinewidth\": 2}}}, \"title\": {\"text\": \"date vs new_cases\"}, \"xaxis\": {\"anchor\": \"y\", \"domain\": [0.0, 1.0], \"title\": {\"text\": \"date\"}}, \"yaxis\": {\"anchor\": \"x\", \"domain\": [0.0, 1.0], \"title\": {\"text\": \"new_cases\"}}},\n",
              "                        {\"responsive\": true}\n",
              "                    ).then(function(){\n",
              "                            \n",
              "var gd = document.getElementById('11300568-d359-4d87-b854-26349d4569c1');\n",
              "var x = new MutationObserver(function (mutations, observer) {{\n",
              "        var display = window.getComputedStyle(gd).display;\n",
              "        if (!display || display === 'none') {{\n",
              "            console.log([gd, 'removed!']);\n",
              "            Plotly.purge(gd);\n",
              "            observer.disconnect();\n",
              "        }}\n",
              "}});\n",
              "\n",
              "// Listen for the removal of the full notebook cells\n",
              "var notebookContainer = gd.closest('#notebook-container');\n",
              "if (notebookContainer) {{\n",
              "    x.observe(notebookContainer, {childList: true});\n",
              "}}\n",
              "\n",
              "// Listen for the clearing of the current output cell\n",
              "var outputEl = gd.closest('.output');\n",
              "if (outputEl) {{\n",
              "    x.observe(outputEl, {childList: true});\n",
              "}}\n",
              "\n",
              "                        })\n",
              "                };\n",
              "                \n",
              "            </script>\n",
              "        </div>\n",
              "</body>\n",
              "</html>"
            ]
          },
          "metadata": {
            "tags": []
          }
        }
      ]
    },
    {
      "cell_type": "markdown",
      "metadata": {
        "id": "Fxu59xXeUgi1"
      },
      "source": [
        "## Preparing the data before training - __Preprocessing__"
      ]
    },
    {
      "cell_type": "code",
      "metadata": {
        "colab": {
          "base_uri": "https://localhost:8080/",
          "height": 194
        },
        "id": "gqSfzGSkS_EB",
        "outputId": "c183cd67-0594-4c41-853e-22a9553ee76f"
      },
      "source": [
        "df2 = df.iloc[230:].copy()  # Using data partially\n",
        "df2.reset_index(drop=True, inplace=True)\n",
        "df2.head()"
      ],
      "execution_count": 309,
      "outputs": [
        {
          "output_type": "execute_result",
          "data": {
            "text/html": [
              "<div>\n",
              "<style scoped>\n",
              "    .dataframe tbody tr th:only-of-type {\n",
              "        vertical-align: middle;\n",
              "    }\n",
              "\n",
              "    .dataframe tbody tr th {\n",
              "        vertical-align: top;\n",
              "    }\n",
              "\n",
              "    .dataframe thead th {\n",
              "        text-align: right;\n",
              "    }\n",
              "</style>\n",
              "<table border=\"1\" class=\"dataframe\">\n",
              "  <thead>\n",
              "    <tr style=\"text-align: right;\">\n",
              "      <th></th>\n",
              "      <th>date</th>\n",
              "      <th>new_cases</th>\n",
              "      <th>new_deaths</th>\n",
              "    </tr>\n",
              "  </thead>\n",
              "  <tbody>\n",
              "    <tr>\n",
              "      <th>0</th>\n",
              "      <td>2020-09-09</td>\n",
              "      <td>95735.0</td>\n",
              "      <td>1172.0</td>\n",
              "    </tr>\n",
              "    <tr>\n",
              "      <th>1</th>\n",
              "      <td>2020-09-10</td>\n",
              "      <td>96551.0</td>\n",
              "      <td>1209.0</td>\n",
              "    </tr>\n",
              "    <tr>\n",
              "      <th>2</th>\n",
              "      <td>2020-09-11</td>\n",
              "      <td>97570.0</td>\n",
              "      <td>1201.0</td>\n",
              "    </tr>\n",
              "    <tr>\n",
              "      <th>3</th>\n",
              "      <td>2020-09-12</td>\n",
              "      <td>94372.0</td>\n",
              "      <td>1114.0</td>\n",
              "    </tr>\n",
              "    <tr>\n",
              "      <th>4</th>\n",
              "      <td>2020-09-13</td>\n",
              "      <td>92071.0</td>\n",
              "      <td>1136.0</td>\n",
              "    </tr>\n",
              "  </tbody>\n",
              "</table>\n",
              "</div>"
            ],
            "text/plain": [
              "        date  new_cases  new_deaths\n",
              "0 2020-09-09    95735.0      1172.0\n",
              "1 2020-09-10    96551.0      1209.0\n",
              "2 2020-09-11    97570.0      1201.0\n",
              "3 2020-09-12    94372.0      1114.0\n",
              "4 2020-09-13    92071.0      1136.0"
            ]
          },
          "metadata": {
            "tags": []
          },
          "execution_count": 309
        }
      ]
    },
    {
      "cell_type": "code",
      "metadata": {
        "colab": {
          "base_uri": "https://localhost:8080/",
          "height": 542
        },
        "id": "FDQK_8PBTqFj",
        "outputId": "e0218d10-1c90-4b26-c43b-de2e1e72752c"
      },
      "source": [
        "px.line(df2, x='date', y='new_cases', title='Date vs New cases')"
      ],
      "execution_count": 310,
      "outputs": [
        {
          "output_type": "display_data",
          "data": {
            "text/html": [
              "<html>\n",
              "<head><meta charset=\"utf-8\" /></head>\n",
              "<body>\n",
              "    <div>\n",
              "            <script src=\"https://cdnjs.cloudflare.com/ajax/libs/mathjax/2.7.5/MathJax.js?config=TeX-AMS-MML_SVG\"></script><script type=\"text/javascript\">if (window.MathJax) {MathJax.Hub.Config({SVG: {font: \"STIX-Web\"}});}</script>\n",
              "                <script type=\"text/javascript\">window.PlotlyConfig = {MathJaxConfig: 'local'};</script>\n",
              "        <script src=\"https://cdn.plot.ly/plotly-latest.min.js\"></script>    \n",
              "            <div id=\"666f897f-ad73-43a7-aaa4-b96c2805a916\" class=\"plotly-graph-div\" style=\"height:525px; width:100%;\"></div>\n",
              "            <script type=\"text/javascript\">\n",
              "                \n",
              "                    window.PLOTLYENV=window.PLOTLYENV || {};\n",
              "                    \n",
              "                if (document.getElementById(\"666f897f-ad73-43a7-aaa4-b96c2805a916\")) {\n",
              "                    Plotly.newPlot(\n",
              "                        '666f897f-ad73-43a7-aaa4-b96c2805a916',\n",
              "                        [{\"hoverlabel\": {\"namelength\": 0}, \"hovertemplate\": \"date=%{x}<br>new_cases=%{y}\", \"legendgroup\": \"\", \"line\": {\"color\": \"#636efa\", \"dash\": \"solid\"}, \"mode\": \"lines\", \"name\": \"\", \"showlegend\": false, \"type\": \"scatter\", \"x\": [\"2020-09-09T00:00:00\", \"2020-09-10T00:00:00\", \"2020-09-11T00:00:00\", \"2020-09-12T00:00:00\", \"2020-09-13T00:00:00\", \"2020-09-14T00:00:00\", \"2020-09-15T00:00:00\", \"2020-09-16T00:00:00\", \"2020-09-17T00:00:00\", \"2020-09-18T00:00:00\", \"2020-09-19T00:00:00\", \"2020-09-20T00:00:00\", \"2020-09-21T00:00:00\", \"2020-09-22T00:00:00\", \"2020-09-23T00:00:00\", \"2020-09-24T00:00:00\", \"2020-09-25T00:00:00\", \"2020-09-26T00:00:00\", \"2020-09-27T00:00:00\", \"2020-09-28T00:00:00\", \"2020-09-29T00:00:00\", \"2020-09-30T00:00:00\", \"2020-10-01T00:00:00\", \"2020-10-02T00:00:00\", \"2020-10-03T00:00:00\", \"2020-10-04T00:00:00\", \"2020-10-05T00:00:00\", \"2020-10-06T00:00:00\", \"2020-10-07T00:00:00\", \"2020-10-08T00:00:00\", \"2020-10-09T00:00:00\", \"2020-10-10T00:00:00\", \"2020-10-11T00:00:00\", \"2020-10-12T00:00:00\", \"2020-10-13T00:00:00\", \"2020-10-14T00:00:00\", \"2020-10-15T00:00:00\", \"2020-10-16T00:00:00\", \"2020-10-17T00:00:00\", \"2020-10-18T00:00:00\", \"2020-10-19T00:00:00\", \"2020-10-20T00:00:00\", \"2020-10-21T00:00:00\", \"2020-10-22T00:00:00\", \"2020-10-23T00:00:00\", \"2020-10-24T00:00:00\", \"2020-10-25T00:00:00\", \"2020-10-26T00:00:00\", \"2020-10-27T00:00:00\", \"2020-10-28T00:00:00\", \"2020-10-29T00:00:00\", \"2020-10-30T00:00:00\", \"2020-10-31T00:00:00\", \"2020-11-01T00:00:00\", \"2020-11-02T00:00:00\", \"2020-11-03T00:00:00\", \"2020-11-04T00:00:00\", \"2020-11-05T00:00:00\", \"2020-11-06T00:00:00\", \"2020-11-07T00:00:00\", \"2020-11-08T00:00:00\", \"2020-11-09T00:00:00\", \"2020-11-10T00:00:00\", \"2020-11-11T00:00:00\", \"2020-11-12T00:00:00\", \"2020-11-13T00:00:00\", \"2020-11-14T00:00:00\", \"2020-11-15T00:00:00\", \"2020-11-16T00:00:00\", \"2020-11-17T00:00:00\", \"2020-11-18T00:00:00\", \"2020-11-19T00:00:00\", \"2020-11-20T00:00:00\", \"2020-11-21T00:00:00\", \"2020-11-22T00:00:00\", \"2020-11-23T00:00:00\", \"2020-11-24T00:00:00\", \"2020-11-25T00:00:00\", \"2020-11-26T00:00:00\", \"2020-11-27T00:00:00\", \"2020-11-28T00:00:00\", \"2020-11-29T00:00:00\", \"2020-11-30T00:00:00\", \"2020-12-01T00:00:00\", \"2020-12-02T00:00:00\", \"2020-12-03T00:00:00\", \"2020-12-04T00:00:00\", \"2020-12-05T00:00:00\", \"2020-12-06T00:00:00\", \"2020-12-07T00:00:00\", \"2020-12-08T00:00:00\", \"2020-12-09T00:00:00\", \"2020-12-10T00:00:00\", \"2020-12-11T00:00:00\", \"2020-12-12T00:00:00\", \"2020-12-13T00:00:00\"], \"xaxis\": \"x\", \"y\": [95735.0, 96551.0, 97570.0, 94372.0, 92071.0, 83809.0, 90123.0, 97894.0, 96424.0, 93337.0, 92605.0, 86961.0, 75083.0, 83347.0, 86508.0, 86052.0, 85362.0, 88600.0, 82170.0, 70589.0, 80472.0, 86821.0, 81484.0, 79476.0, 75829.0, 74442.0, 61267.0, 72049.0, 78524.0, 70496.0, 73272.0, 74383.0, 66732.0, 55342.0, 63509.0, 67708.0, 63371.0, 62212.0, 61871.0, 55722.0, 46790.0, 54044.0, 55839.0, 54366.0, 53370.0, 50129.0, 45148.0, 36470.0, 43893.0, 49881.0, 48648.0, 48268.0, 46963.0, 45231.0, 38310.0, 46253.0, 50210.0, 47638.0, 50356.0, 45674.0, 45903.0, 38073.0, 44281.0, 47905.0, 44879.0, 44684.0, 41100.0, 30548.0, 29163.0, 38617.0, 45576.0, 45882.0, 46232.0, 45209.0, 44059.0, 37975.0, 44376.0, 44489.0, 43082.0, 41322.0, 41810.0, 38772.0, 31118.0, 36604.0, 35551.0, 36595.0, 36652.0, 36011.0, 32981.0, 26567.0, 32080.0, 31521.0, 29373.0, 30031.0, 30254.0, 27071.0], \"yaxis\": \"y\"}],\n",
              "                        {\"legend\": {\"tracegroupgap\": 0}, \"template\": {\"data\": {\"bar\": [{\"error_x\": {\"color\": \"#2a3f5f\"}, \"error_y\": {\"color\": \"#2a3f5f\"}, \"marker\": {\"line\": {\"color\": \"#E5ECF6\", \"width\": 0.5}}, \"type\": \"bar\"}], \"barpolar\": [{\"marker\": {\"line\": {\"color\": \"#E5ECF6\", \"width\": 0.5}}, \"type\": \"barpolar\"}], \"carpet\": [{\"aaxis\": {\"endlinecolor\": \"#2a3f5f\", \"gridcolor\": \"white\", \"linecolor\": \"white\", \"minorgridcolor\": \"white\", \"startlinecolor\": \"#2a3f5f\"}, \"baxis\": {\"endlinecolor\": \"#2a3f5f\", \"gridcolor\": \"white\", \"linecolor\": \"white\", \"minorgridcolor\": \"white\", \"startlinecolor\": \"#2a3f5f\"}, \"type\": \"carpet\"}], \"choropleth\": [{\"colorbar\": {\"outlinewidth\": 0, \"ticks\": \"\"}, \"type\": \"choropleth\"}], \"contour\": [{\"colorbar\": {\"outlinewidth\": 0, \"ticks\": \"\"}, \"colorscale\": [[0.0, \"#0d0887\"], [0.1111111111111111, \"#46039f\"], [0.2222222222222222, \"#7201a8\"], [0.3333333333333333, \"#9c179e\"], [0.4444444444444444, \"#bd3786\"], [0.5555555555555556, \"#d8576b\"], [0.6666666666666666, \"#ed7953\"], [0.7777777777777778, \"#fb9f3a\"], [0.8888888888888888, \"#fdca26\"], [1.0, \"#f0f921\"]], \"type\": \"contour\"}], \"contourcarpet\": [{\"colorbar\": {\"outlinewidth\": 0, \"ticks\": \"\"}, \"type\": \"contourcarpet\"}], \"heatmap\": [{\"colorbar\": {\"outlinewidth\": 0, \"ticks\": \"\"}, \"colorscale\": [[0.0, \"#0d0887\"], [0.1111111111111111, \"#46039f\"], [0.2222222222222222, \"#7201a8\"], [0.3333333333333333, \"#9c179e\"], [0.4444444444444444, \"#bd3786\"], [0.5555555555555556, \"#d8576b\"], [0.6666666666666666, \"#ed7953\"], [0.7777777777777778, \"#fb9f3a\"], [0.8888888888888888, \"#fdca26\"], [1.0, \"#f0f921\"]], \"type\": \"heatmap\"}], \"heatmapgl\": [{\"colorbar\": {\"outlinewidth\": 0, \"ticks\": \"\"}, \"colorscale\": [[0.0, \"#0d0887\"], [0.1111111111111111, \"#46039f\"], [0.2222222222222222, \"#7201a8\"], [0.3333333333333333, \"#9c179e\"], [0.4444444444444444, \"#bd3786\"], [0.5555555555555556, \"#d8576b\"], [0.6666666666666666, \"#ed7953\"], [0.7777777777777778, \"#fb9f3a\"], [0.8888888888888888, \"#fdca26\"], [1.0, \"#f0f921\"]], \"type\": \"heatmapgl\"}], \"histogram\": [{\"marker\": {\"colorbar\": {\"outlinewidth\": 0, \"ticks\": \"\"}}, \"type\": \"histogram\"}], \"histogram2d\": [{\"colorbar\": {\"outlinewidth\": 0, \"ticks\": \"\"}, \"colorscale\": [[0.0, \"#0d0887\"], [0.1111111111111111, \"#46039f\"], [0.2222222222222222, \"#7201a8\"], [0.3333333333333333, \"#9c179e\"], [0.4444444444444444, \"#bd3786\"], [0.5555555555555556, \"#d8576b\"], [0.6666666666666666, \"#ed7953\"], [0.7777777777777778, \"#fb9f3a\"], [0.8888888888888888, \"#fdca26\"], [1.0, \"#f0f921\"]], \"type\": \"histogram2d\"}], \"histogram2dcontour\": [{\"colorbar\": {\"outlinewidth\": 0, \"ticks\": \"\"}, \"colorscale\": [[0.0, \"#0d0887\"], [0.1111111111111111, \"#46039f\"], [0.2222222222222222, \"#7201a8\"], [0.3333333333333333, \"#9c179e\"], [0.4444444444444444, \"#bd3786\"], [0.5555555555555556, \"#d8576b\"], [0.6666666666666666, \"#ed7953\"], [0.7777777777777778, \"#fb9f3a\"], [0.8888888888888888, \"#fdca26\"], [1.0, \"#f0f921\"]], \"type\": \"histogram2dcontour\"}], \"mesh3d\": [{\"colorbar\": {\"outlinewidth\": 0, \"ticks\": \"\"}, \"type\": \"mesh3d\"}], \"parcoords\": [{\"line\": {\"colorbar\": {\"outlinewidth\": 0, \"ticks\": \"\"}}, \"type\": \"parcoords\"}], \"pie\": [{\"automargin\": true, \"type\": \"pie\"}], \"scatter\": [{\"marker\": {\"colorbar\": {\"outlinewidth\": 0, \"ticks\": \"\"}}, \"type\": \"scatter\"}], \"scatter3d\": [{\"line\": {\"colorbar\": {\"outlinewidth\": 0, \"ticks\": \"\"}}, \"marker\": {\"colorbar\": {\"outlinewidth\": 0, \"ticks\": \"\"}}, \"type\": \"scatter3d\"}], \"scattercarpet\": [{\"marker\": {\"colorbar\": {\"outlinewidth\": 0, \"ticks\": \"\"}}, \"type\": \"scattercarpet\"}], \"scattergeo\": [{\"marker\": {\"colorbar\": {\"outlinewidth\": 0, \"ticks\": \"\"}}, \"type\": \"scattergeo\"}], \"scattergl\": [{\"marker\": {\"colorbar\": {\"outlinewidth\": 0, \"ticks\": \"\"}}, \"type\": \"scattergl\"}], \"scattermapbox\": [{\"marker\": {\"colorbar\": {\"outlinewidth\": 0, \"ticks\": \"\"}}, \"type\": \"scattermapbox\"}], \"scatterpolar\": [{\"marker\": {\"colorbar\": {\"outlinewidth\": 0, \"ticks\": \"\"}}, \"type\": \"scatterpolar\"}], \"scatterpolargl\": [{\"marker\": {\"colorbar\": {\"outlinewidth\": 0, \"ticks\": \"\"}}, \"type\": \"scatterpolargl\"}], \"scatterternary\": [{\"marker\": {\"colorbar\": {\"outlinewidth\": 0, \"ticks\": \"\"}}, \"type\": \"scatterternary\"}], \"surface\": [{\"colorbar\": {\"outlinewidth\": 0, \"ticks\": \"\"}, \"colorscale\": [[0.0, \"#0d0887\"], [0.1111111111111111, \"#46039f\"], [0.2222222222222222, \"#7201a8\"], [0.3333333333333333, \"#9c179e\"], [0.4444444444444444, \"#bd3786\"], [0.5555555555555556, \"#d8576b\"], [0.6666666666666666, \"#ed7953\"], [0.7777777777777778, \"#fb9f3a\"], [0.8888888888888888, \"#fdca26\"], [1.0, \"#f0f921\"]], \"type\": \"surface\"}], \"table\": [{\"cells\": {\"fill\": {\"color\": \"#EBF0F8\"}, \"line\": {\"color\": \"white\"}}, \"header\": {\"fill\": {\"color\": \"#C8D4E3\"}, \"line\": {\"color\": \"white\"}}, \"type\": \"table\"}]}, \"layout\": {\"annotationdefaults\": {\"arrowcolor\": \"#2a3f5f\", \"arrowhead\": 0, \"arrowwidth\": 1}, \"coloraxis\": {\"colorbar\": {\"outlinewidth\": 0, \"ticks\": \"\"}}, \"colorscale\": {\"diverging\": [[0, \"#8e0152\"], [0.1, \"#c51b7d\"], [0.2, \"#de77ae\"], [0.3, \"#f1b6da\"], [0.4, \"#fde0ef\"], [0.5, \"#f7f7f7\"], [0.6, \"#e6f5d0\"], [0.7, \"#b8e186\"], [0.8, \"#7fbc41\"], [0.9, \"#4d9221\"], [1, \"#276419\"]], \"sequential\": [[0.0, \"#0d0887\"], [0.1111111111111111, \"#46039f\"], [0.2222222222222222, \"#7201a8\"], [0.3333333333333333, \"#9c179e\"], [0.4444444444444444, \"#bd3786\"], [0.5555555555555556, \"#d8576b\"], [0.6666666666666666, \"#ed7953\"], [0.7777777777777778, \"#fb9f3a\"], [0.8888888888888888, \"#fdca26\"], [1.0, \"#f0f921\"]], \"sequentialminus\": [[0.0, \"#0d0887\"], [0.1111111111111111, \"#46039f\"], [0.2222222222222222, \"#7201a8\"], [0.3333333333333333, \"#9c179e\"], [0.4444444444444444, \"#bd3786\"], [0.5555555555555556, \"#d8576b\"], [0.6666666666666666, \"#ed7953\"], [0.7777777777777778, \"#fb9f3a\"], [0.8888888888888888, \"#fdca26\"], [1.0, \"#f0f921\"]]}, \"colorway\": [\"#636efa\", \"#EF553B\", \"#00cc96\", \"#ab63fa\", \"#FFA15A\", \"#19d3f3\", \"#FF6692\", \"#B6E880\", \"#FF97FF\", \"#FECB52\"], \"font\": {\"color\": \"#2a3f5f\"}, \"geo\": {\"bgcolor\": \"white\", \"lakecolor\": \"white\", \"landcolor\": \"#E5ECF6\", \"showlakes\": true, \"showland\": true, \"subunitcolor\": \"white\"}, \"hoverlabel\": {\"align\": \"left\"}, \"hovermode\": \"closest\", \"mapbox\": {\"style\": \"light\"}, \"paper_bgcolor\": \"white\", \"plot_bgcolor\": \"#E5ECF6\", \"polar\": {\"angularaxis\": {\"gridcolor\": \"white\", \"linecolor\": \"white\", \"ticks\": \"\"}, \"bgcolor\": \"#E5ECF6\", \"radialaxis\": {\"gridcolor\": \"white\", \"linecolor\": \"white\", \"ticks\": \"\"}}, \"scene\": {\"xaxis\": {\"backgroundcolor\": \"#E5ECF6\", \"gridcolor\": \"white\", \"gridwidth\": 2, \"linecolor\": \"white\", \"showbackground\": true, \"ticks\": \"\", \"zerolinecolor\": \"white\"}, \"yaxis\": {\"backgroundcolor\": \"#E5ECF6\", \"gridcolor\": \"white\", \"gridwidth\": 2, \"linecolor\": \"white\", \"showbackground\": true, \"ticks\": \"\", \"zerolinecolor\": \"white\"}, \"zaxis\": {\"backgroundcolor\": \"#E5ECF6\", \"gridcolor\": \"white\", \"gridwidth\": 2, \"linecolor\": \"white\", \"showbackground\": true, \"ticks\": \"\", \"zerolinecolor\": \"white\"}}, \"shapedefaults\": {\"line\": {\"color\": \"#2a3f5f\"}}, \"ternary\": {\"aaxis\": {\"gridcolor\": \"white\", \"linecolor\": \"white\", \"ticks\": \"\"}, \"baxis\": {\"gridcolor\": \"white\", \"linecolor\": \"white\", \"ticks\": \"\"}, \"bgcolor\": \"#E5ECF6\", \"caxis\": {\"gridcolor\": \"white\", \"linecolor\": \"white\", \"ticks\": \"\"}}, \"title\": {\"x\": 0.05}, \"xaxis\": {\"automargin\": true, \"gridcolor\": \"white\", \"linecolor\": \"white\", \"ticks\": \"\", \"title\": {\"standoff\": 15}, \"zerolinecolor\": \"white\", \"zerolinewidth\": 2}, \"yaxis\": {\"automargin\": true, \"gridcolor\": \"white\", \"linecolor\": \"white\", \"ticks\": \"\", \"title\": {\"standoff\": 15}, \"zerolinecolor\": \"white\", \"zerolinewidth\": 2}}}, \"title\": {\"text\": \"Date vs New cases\"}, \"xaxis\": {\"anchor\": \"y\", \"domain\": [0.0, 1.0], \"title\": {\"text\": \"date\"}}, \"yaxis\": {\"anchor\": \"x\", \"domain\": [0.0, 1.0], \"title\": {\"text\": \"new_cases\"}}},\n",
              "                        {\"responsive\": true}\n",
              "                    ).then(function(){\n",
              "                            \n",
              "var gd = document.getElementById('666f897f-ad73-43a7-aaa4-b96c2805a916');\n",
              "var x = new MutationObserver(function (mutations, observer) {{\n",
              "        var display = window.getComputedStyle(gd).display;\n",
              "        if (!display || display === 'none') {{\n",
              "            console.log([gd, 'removed!']);\n",
              "            Plotly.purge(gd);\n",
              "            observer.disconnect();\n",
              "        }}\n",
              "}});\n",
              "\n",
              "// Listen for the removal of the full notebook cells\n",
              "var notebookContainer = gd.closest('#notebook-container');\n",
              "if (notebookContainer) {{\n",
              "    x.observe(notebookContainer, {childList: true});\n",
              "}}\n",
              "\n",
              "// Listen for the clearing of the current output cell\n",
              "var outputEl = gd.closest('.output');\n",
              "if (outputEl) {{\n",
              "    x.observe(outputEl, {childList: true});\n",
              "}}\n",
              "\n",
              "                        })\n",
              "                };\n",
              "                \n",
              "            </script>\n",
              "        </div>\n",
              "</body>\n",
              "</html>"
            ]
          },
          "metadata": {
            "tags": []
          }
        }
      ]
    },
    {
      "cell_type": "code",
      "metadata": {
        "colab": {
          "base_uri": "https://localhost:8080/",
          "height": 542
        },
        "id": "HBrh21lImIfM",
        "outputId": "9170c6a6-551f-4764-d39c-04188b4bfa40"
      },
      "source": [
        "px.scatter(df2, x='date', y='new_cases', title='Date vs New cases')"
      ],
      "execution_count": 311,
      "outputs": [
        {
          "output_type": "display_data",
          "data": {
            "text/html": [
              "<html>\n",
              "<head><meta charset=\"utf-8\" /></head>\n",
              "<body>\n",
              "    <div>\n",
              "            <script src=\"https://cdnjs.cloudflare.com/ajax/libs/mathjax/2.7.5/MathJax.js?config=TeX-AMS-MML_SVG\"></script><script type=\"text/javascript\">if (window.MathJax) {MathJax.Hub.Config({SVG: {font: \"STIX-Web\"}});}</script>\n",
              "                <script type=\"text/javascript\">window.PlotlyConfig = {MathJaxConfig: 'local'};</script>\n",
              "        <script src=\"https://cdn.plot.ly/plotly-latest.min.js\"></script>    \n",
              "            <div id=\"bd9996ba-4146-4e41-8768-64abae140e56\" class=\"plotly-graph-div\" style=\"height:525px; width:100%;\"></div>\n",
              "            <script type=\"text/javascript\">\n",
              "                \n",
              "                    window.PLOTLYENV=window.PLOTLYENV || {};\n",
              "                    \n",
              "                if (document.getElementById(\"bd9996ba-4146-4e41-8768-64abae140e56\")) {\n",
              "                    Plotly.newPlot(\n",
              "                        'bd9996ba-4146-4e41-8768-64abae140e56',\n",
              "                        [{\"hoverlabel\": {\"namelength\": 0}, \"hovertemplate\": \"date=%{x}<br>new_cases=%{y}\", \"legendgroup\": \"\", \"marker\": {\"color\": \"#636efa\", \"symbol\": \"circle\"}, \"mode\": \"markers\", \"name\": \"\", \"showlegend\": false, \"type\": \"scatter\", \"x\": [\"2020-09-09T00:00:00\", \"2020-09-10T00:00:00\", \"2020-09-11T00:00:00\", \"2020-09-12T00:00:00\", \"2020-09-13T00:00:00\", \"2020-09-14T00:00:00\", \"2020-09-15T00:00:00\", \"2020-09-16T00:00:00\", \"2020-09-17T00:00:00\", \"2020-09-18T00:00:00\", \"2020-09-19T00:00:00\", \"2020-09-20T00:00:00\", \"2020-09-21T00:00:00\", \"2020-09-22T00:00:00\", \"2020-09-23T00:00:00\", \"2020-09-24T00:00:00\", \"2020-09-25T00:00:00\", \"2020-09-26T00:00:00\", \"2020-09-27T00:00:00\", \"2020-09-28T00:00:00\", \"2020-09-29T00:00:00\", \"2020-09-30T00:00:00\", \"2020-10-01T00:00:00\", \"2020-10-02T00:00:00\", \"2020-10-03T00:00:00\", \"2020-10-04T00:00:00\", \"2020-10-05T00:00:00\", \"2020-10-06T00:00:00\", \"2020-10-07T00:00:00\", \"2020-10-08T00:00:00\", \"2020-10-09T00:00:00\", \"2020-10-10T00:00:00\", \"2020-10-11T00:00:00\", \"2020-10-12T00:00:00\", \"2020-10-13T00:00:00\", \"2020-10-14T00:00:00\", \"2020-10-15T00:00:00\", \"2020-10-16T00:00:00\", \"2020-10-17T00:00:00\", \"2020-10-18T00:00:00\", \"2020-10-19T00:00:00\", \"2020-10-20T00:00:00\", \"2020-10-21T00:00:00\", \"2020-10-22T00:00:00\", \"2020-10-23T00:00:00\", \"2020-10-24T00:00:00\", \"2020-10-25T00:00:00\", \"2020-10-26T00:00:00\", \"2020-10-27T00:00:00\", \"2020-10-28T00:00:00\", \"2020-10-29T00:00:00\", \"2020-10-30T00:00:00\", \"2020-10-31T00:00:00\", \"2020-11-01T00:00:00\", \"2020-11-02T00:00:00\", \"2020-11-03T00:00:00\", \"2020-11-04T00:00:00\", \"2020-11-05T00:00:00\", \"2020-11-06T00:00:00\", \"2020-11-07T00:00:00\", \"2020-11-08T00:00:00\", \"2020-11-09T00:00:00\", \"2020-11-10T00:00:00\", \"2020-11-11T00:00:00\", \"2020-11-12T00:00:00\", \"2020-11-13T00:00:00\", \"2020-11-14T00:00:00\", \"2020-11-15T00:00:00\", \"2020-11-16T00:00:00\", \"2020-11-17T00:00:00\", \"2020-11-18T00:00:00\", \"2020-11-19T00:00:00\", \"2020-11-20T00:00:00\", \"2020-11-21T00:00:00\", \"2020-11-22T00:00:00\", \"2020-11-23T00:00:00\", \"2020-11-24T00:00:00\", \"2020-11-25T00:00:00\", \"2020-11-26T00:00:00\", \"2020-11-27T00:00:00\", \"2020-11-28T00:00:00\", \"2020-11-29T00:00:00\", \"2020-11-30T00:00:00\", \"2020-12-01T00:00:00\", \"2020-12-02T00:00:00\", \"2020-12-03T00:00:00\", \"2020-12-04T00:00:00\", \"2020-12-05T00:00:00\", \"2020-12-06T00:00:00\", \"2020-12-07T00:00:00\", \"2020-12-08T00:00:00\", \"2020-12-09T00:00:00\", \"2020-12-10T00:00:00\", \"2020-12-11T00:00:00\", \"2020-12-12T00:00:00\", \"2020-12-13T00:00:00\"], \"xaxis\": \"x\", \"y\": [95735.0, 96551.0, 97570.0, 94372.0, 92071.0, 83809.0, 90123.0, 97894.0, 96424.0, 93337.0, 92605.0, 86961.0, 75083.0, 83347.0, 86508.0, 86052.0, 85362.0, 88600.0, 82170.0, 70589.0, 80472.0, 86821.0, 81484.0, 79476.0, 75829.0, 74442.0, 61267.0, 72049.0, 78524.0, 70496.0, 73272.0, 74383.0, 66732.0, 55342.0, 63509.0, 67708.0, 63371.0, 62212.0, 61871.0, 55722.0, 46790.0, 54044.0, 55839.0, 54366.0, 53370.0, 50129.0, 45148.0, 36470.0, 43893.0, 49881.0, 48648.0, 48268.0, 46963.0, 45231.0, 38310.0, 46253.0, 50210.0, 47638.0, 50356.0, 45674.0, 45903.0, 38073.0, 44281.0, 47905.0, 44879.0, 44684.0, 41100.0, 30548.0, 29163.0, 38617.0, 45576.0, 45882.0, 46232.0, 45209.0, 44059.0, 37975.0, 44376.0, 44489.0, 43082.0, 41322.0, 41810.0, 38772.0, 31118.0, 36604.0, 35551.0, 36595.0, 36652.0, 36011.0, 32981.0, 26567.0, 32080.0, 31521.0, 29373.0, 30031.0, 30254.0, 27071.0], \"yaxis\": \"y\"}],\n",
              "                        {\"legend\": {\"tracegroupgap\": 0}, \"template\": {\"data\": {\"bar\": [{\"error_x\": {\"color\": \"#2a3f5f\"}, \"error_y\": {\"color\": \"#2a3f5f\"}, \"marker\": {\"line\": {\"color\": \"#E5ECF6\", \"width\": 0.5}}, \"type\": \"bar\"}], \"barpolar\": [{\"marker\": {\"line\": {\"color\": \"#E5ECF6\", \"width\": 0.5}}, \"type\": \"barpolar\"}], \"carpet\": [{\"aaxis\": {\"endlinecolor\": \"#2a3f5f\", \"gridcolor\": \"white\", \"linecolor\": \"white\", \"minorgridcolor\": \"white\", \"startlinecolor\": \"#2a3f5f\"}, \"baxis\": {\"endlinecolor\": \"#2a3f5f\", \"gridcolor\": \"white\", \"linecolor\": \"white\", \"minorgridcolor\": \"white\", \"startlinecolor\": \"#2a3f5f\"}, \"type\": \"carpet\"}], \"choropleth\": [{\"colorbar\": {\"outlinewidth\": 0, \"ticks\": \"\"}, \"type\": \"choropleth\"}], \"contour\": [{\"colorbar\": {\"outlinewidth\": 0, \"ticks\": \"\"}, \"colorscale\": [[0.0, \"#0d0887\"], [0.1111111111111111, \"#46039f\"], [0.2222222222222222, \"#7201a8\"], [0.3333333333333333, \"#9c179e\"], [0.4444444444444444, \"#bd3786\"], [0.5555555555555556, \"#d8576b\"], [0.6666666666666666, \"#ed7953\"], [0.7777777777777778, \"#fb9f3a\"], [0.8888888888888888, \"#fdca26\"], [1.0, \"#f0f921\"]], \"type\": \"contour\"}], \"contourcarpet\": [{\"colorbar\": {\"outlinewidth\": 0, \"ticks\": \"\"}, \"type\": \"contourcarpet\"}], \"heatmap\": [{\"colorbar\": {\"outlinewidth\": 0, \"ticks\": \"\"}, \"colorscale\": [[0.0, \"#0d0887\"], [0.1111111111111111, \"#46039f\"], [0.2222222222222222, \"#7201a8\"], [0.3333333333333333, \"#9c179e\"], [0.4444444444444444, \"#bd3786\"], [0.5555555555555556, \"#d8576b\"], [0.6666666666666666, \"#ed7953\"], [0.7777777777777778, \"#fb9f3a\"], [0.8888888888888888, \"#fdca26\"], [1.0, \"#f0f921\"]], \"type\": \"heatmap\"}], \"heatmapgl\": [{\"colorbar\": {\"outlinewidth\": 0, \"ticks\": \"\"}, \"colorscale\": [[0.0, \"#0d0887\"], [0.1111111111111111, \"#46039f\"], [0.2222222222222222, \"#7201a8\"], [0.3333333333333333, \"#9c179e\"], [0.4444444444444444, \"#bd3786\"], [0.5555555555555556, \"#d8576b\"], [0.6666666666666666, \"#ed7953\"], [0.7777777777777778, \"#fb9f3a\"], [0.8888888888888888, \"#fdca26\"], [1.0, \"#f0f921\"]], \"type\": \"heatmapgl\"}], \"histogram\": [{\"marker\": {\"colorbar\": {\"outlinewidth\": 0, \"ticks\": \"\"}}, \"type\": \"histogram\"}], \"histogram2d\": [{\"colorbar\": {\"outlinewidth\": 0, \"ticks\": \"\"}, \"colorscale\": [[0.0, \"#0d0887\"], [0.1111111111111111, \"#46039f\"], [0.2222222222222222, \"#7201a8\"], [0.3333333333333333, \"#9c179e\"], [0.4444444444444444, \"#bd3786\"], [0.5555555555555556, \"#d8576b\"], [0.6666666666666666, \"#ed7953\"], [0.7777777777777778, \"#fb9f3a\"], [0.8888888888888888, \"#fdca26\"], [1.0, \"#f0f921\"]], \"type\": \"histogram2d\"}], \"histogram2dcontour\": [{\"colorbar\": {\"outlinewidth\": 0, \"ticks\": \"\"}, \"colorscale\": [[0.0, \"#0d0887\"], [0.1111111111111111, \"#46039f\"], [0.2222222222222222, \"#7201a8\"], [0.3333333333333333, \"#9c179e\"], [0.4444444444444444, \"#bd3786\"], [0.5555555555555556, \"#d8576b\"], [0.6666666666666666, \"#ed7953\"], [0.7777777777777778, \"#fb9f3a\"], [0.8888888888888888, \"#fdca26\"], [1.0, \"#f0f921\"]], \"type\": \"histogram2dcontour\"}], \"mesh3d\": [{\"colorbar\": {\"outlinewidth\": 0, \"ticks\": \"\"}, \"type\": \"mesh3d\"}], \"parcoords\": [{\"line\": {\"colorbar\": {\"outlinewidth\": 0, \"ticks\": \"\"}}, \"type\": \"parcoords\"}], \"pie\": [{\"automargin\": true, \"type\": \"pie\"}], \"scatter\": [{\"marker\": {\"colorbar\": {\"outlinewidth\": 0, \"ticks\": \"\"}}, \"type\": \"scatter\"}], \"scatter3d\": [{\"line\": {\"colorbar\": {\"outlinewidth\": 0, \"ticks\": \"\"}}, \"marker\": {\"colorbar\": {\"outlinewidth\": 0, \"ticks\": \"\"}}, \"type\": \"scatter3d\"}], \"scattercarpet\": [{\"marker\": {\"colorbar\": {\"outlinewidth\": 0, \"ticks\": \"\"}}, \"type\": \"scattercarpet\"}], \"scattergeo\": [{\"marker\": {\"colorbar\": {\"outlinewidth\": 0, \"ticks\": \"\"}}, \"type\": \"scattergeo\"}], \"scattergl\": [{\"marker\": {\"colorbar\": {\"outlinewidth\": 0, \"ticks\": \"\"}}, \"type\": \"scattergl\"}], \"scattermapbox\": [{\"marker\": {\"colorbar\": {\"outlinewidth\": 0, \"ticks\": \"\"}}, \"type\": \"scattermapbox\"}], \"scatterpolar\": [{\"marker\": {\"colorbar\": {\"outlinewidth\": 0, \"ticks\": \"\"}}, \"type\": \"scatterpolar\"}], \"scatterpolargl\": [{\"marker\": {\"colorbar\": {\"outlinewidth\": 0, \"ticks\": \"\"}}, \"type\": \"scatterpolargl\"}], \"scatterternary\": [{\"marker\": {\"colorbar\": {\"outlinewidth\": 0, \"ticks\": \"\"}}, \"type\": \"scatterternary\"}], \"surface\": [{\"colorbar\": {\"outlinewidth\": 0, \"ticks\": \"\"}, \"colorscale\": [[0.0, \"#0d0887\"], [0.1111111111111111, \"#46039f\"], [0.2222222222222222, \"#7201a8\"], [0.3333333333333333, \"#9c179e\"], [0.4444444444444444, \"#bd3786\"], [0.5555555555555556, \"#d8576b\"], [0.6666666666666666, \"#ed7953\"], [0.7777777777777778, \"#fb9f3a\"], [0.8888888888888888, \"#fdca26\"], [1.0, \"#f0f921\"]], \"type\": \"surface\"}], \"table\": [{\"cells\": {\"fill\": {\"color\": \"#EBF0F8\"}, \"line\": {\"color\": \"white\"}}, \"header\": {\"fill\": {\"color\": \"#C8D4E3\"}, \"line\": {\"color\": \"white\"}}, \"type\": \"table\"}]}, \"layout\": {\"annotationdefaults\": {\"arrowcolor\": \"#2a3f5f\", \"arrowhead\": 0, \"arrowwidth\": 1}, \"coloraxis\": {\"colorbar\": {\"outlinewidth\": 0, \"ticks\": \"\"}}, \"colorscale\": {\"diverging\": [[0, \"#8e0152\"], [0.1, \"#c51b7d\"], [0.2, \"#de77ae\"], [0.3, \"#f1b6da\"], [0.4, \"#fde0ef\"], [0.5, \"#f7f7f7\"], [0.6, \"#e6f5d0\"], [0.7, \"#b8e186\"], [0.8, \"#7fbc41\"], [0.9, \"#4d9221\"], [1, \"#276419\"]], \"sequential\": [[0.0, \"#0d0887\"], [0.1111111111111111, \"#46039f\"], [0.2222222222222222, \"#7201a8\"], [0.3333333333333333, \"#9c179e\"], [0.4444444444444444, \"#bd3786\"], [0.5555555555555556, \"#d8576b\"], [0.6666666666666666, \"#ed7953\"], [0.7777777777777778, \"#fb9f3a\"], [0.8888888888888888, \"#fdca26\"], [1.0, \"#f0f921\"]], \"sequentialminus\": [[0.0, \"#0d0887\"], [0.1111111111111111, \"#46039f\"], [0.2222222222222222, \"#7201a8\"], [0.3333333333333333, \"#9c179e\"], [0.4444444444444444, \"#bd3786\"], [0.5555555555555556, \"#d8576b\"], [0.6666666666666666, \"#ed7953\"], [0.7777777777777778, \"#fb9f3a\"], [0.8888888888888888, \"#fdca26\"], [1.0, \"#f0f921\"]]}, \"colorway\": [\"#636efa\", \"#EF553B\", \"#00cc96\", \"#ab63fa\", \"#FFA15A\", \"#19d3f3\", \"#FF6692\", \"#B6E880\", \"#FF97FF\", \"#FECB52\"], \"font\": {\"color\": \"#2a3f5f\"}, \"geo\": {\"bgcolor\": \"white\", \"lakecolor\": \"white\", \"landcolor\": \"#E5ECF6\", \"showlakes\": true, \"showland\": true, \"subunitcolor\": \"white\"}, \"hoverlabel\": {\"align\": \"left\"}, \"hovermode\": \"closest\", \"mapbox\": {\"style\": \"light\"}, \"paper_bgcolor\": \"white\", \"plot_bgcolor\": \"#E5ECF6\", \"polar\": {\"angularaxis\": {\"gridcolor\": \"white\", \"linecolor\": \"white\", \"ticks\": \"\"}, \"bgcolor\": \"#E5ECF6\", \"radialaxis\": {\"gridcolor\": \"white\", \"linecolor\": \"white\", \"ticks\": \"\"}}, \"scene\": {\"xaxis\": {\"backgroundcolor\": \"#E5ECF6\", \"gridcolor\": \"white\", \"gridwidth\": 2, \"linecolor\": \"white\", \"showbackground\": true, \"ticks\": \"\", \"zerolinecolor\": \"white\"}, \"yaxis\": {\"backgroundcolor\": \"#E5ECF6\", \"gridcolor\": \"white\", \"gridwidth\": 2, \"linecolor\": \"white\", \"showbackground\": true, \"ticks\": \"\", \"zerolinecolor\": \"white\"}, \"zaxis\": {\"backgroundcolor\": \"#E5ECF6\", \"gridcolor\": \"white\", \"gridwidth\": 2, \"linecolor\": \"white\", \"showbackground\": true, \"ticks\": \"\", \"zerolinecolor\": \"white\"}}, \"shapedefaults\": {\"line\": {\"color\": \"#2a3f5f\"}}, \"ternary\": {\"aaxis\": {\"gridcolor\": \"white\", \"linecolor\": \"white\", \"ticks\": \"\"}, \"baxis\": {\"gridcolor\": \"white\", \"linecolor\": \"white\", \"ticks\": \"\"}, \"bgcolor\": \"#E5ECF6\", \"caxis\": {\"gridcolor\": \"white\", \"linecolor\": \"white\", \"ticks\": \"\"}}, \"title\": {\"x\": 0.05}, \"xaxis\": {\"automargin\": true, \"gridcolor\": \"white\", \"linecolor\": \"white\", \"ticks\": \"\", \"title\": {\"standoff\": 15}, \"zerolinecolor\": \"white\", \"zerolinewidth\": 2}, \"yaxis\": {\"automargin\": true, \"gridcolor\": \"white\", \"linecolor\": \"white\", \"ticks\": \"\", \"title\": {\"standoff\": 15}, \"zerolinecolor\": \"white\", \"zerolinewidth\": 2}}}, \"title\": {\"text\": \"Date vs New cases\"}, \"xaxis\": {\"anchor\": \"y\", \"domain\": [0.0, 1.0], \"title\": {\"text\": \"date\"}}, \"yaxis\": {\"anchor\": \"x\", \"domain\": [0.0, 1.0], \"title\": {\"text\": \"new_cases\"}}},\n",
              "                        {\"responsive\": true}\n",
              "                    ).then(function(){\n",
              "                            \n",
              "var gd = document.getElementById('bd9996ba-4146-4e41-8768-64abae140e56');\n",
              "var x = new MutationObserver(function (mutations, observer) {{\n",
              "        var display = window.getComputedStyle(gd).display;\n",
              "        if (!display || display === 'none') {{\n",
              "            console.log([gd, 'removed!']);\n",
              "            Plotly.purge(gd);\n",
              "            observer.disconnect();\n",
              "        }}\n",
              "}});\n",
              "\n",
              "// Listen for the removal of the full notebook cells\n",
              "var notebookContainer = gd.closest('#notebook-container');\n",
              "if (notebookContainer) {{\n",
              "    x.observe(notebookContainer, {childList: true});\n",
              "}}\n",
              "\n",
              "// Listen for the clearing of the current output cell\n",
              "var outputEl = gd.closest('.output');\n",
              "if (outputEl) {{\n",
              "    x.observe(outputEl, {childList: true});\n",
              "}}\n",
              "\n",
              "                        })\n",
              "                };\n",
              "                \n",
              "            </script>\n",
              "        </div>\n",
              "</body>\n",
              "</html>"
            ]
          },
          "metadata": {
            "tags": []
          }
        }
      ]
    },
    {
      "cell_type": "code",
      "metadata": {
        "id": "QO_wPGLEUsIx"
      },
      "source": [
        "X = df2[['date']]\n",
        "y = df2['new_cases']"
      ],
      "execution_count": 312,
      "outputs": []
    },
    {
      "cell_type": "code",
      "metadata": {
        "id": "TUZqU8CKb9Lj"
      },
      "source": [
        "import datetime\n",
        "X = pd.DataFrame(X, dtype='<M8[ns]')\n",
        "X['date'] = pd.to_datetime(X['date'])\n",
        "X['date'] = X['date'].map(datetime.datetime.toordinal)"
      ],
      "execution_count": 313,
      "outputs": []
    },
    {
      "cell_type": "code",
      "metadata": {
        "id": "1DD8G_gnUsXz"
      },
      "source": [
        "from sklearn.model_selection import train_test_split"
      ],
      "execution_count": 314,
      "outputs": []
    },
    {
      "cell_type": "markdown",
      "metadata": {
        "id": "1b5rzqJuZCdg"
      },
      "source": [
        "Finding best test size"
      ]
    },
    {
      "cell_type": "code",
      "metadata": {
        "colab": {
          "base_uri": "https://localhost:8080/"
        },
        "id": "d4--A40lP3-7",
        "outputId": "99f2c591-6a2d-423f-ded1-bd3190590697"
      },
      "source": [
        "from sklearn.linear_model import LinearRegression\r\n",
        "regressor = LinearRegression()\r\n",
        "\r\n",
        "for size in range(5, 11):\r\n",
        "    X_train, X_test, y_train, y_test = train_test_split(X, y, test_size=size)\r\n",
        "    regressor.fit(X_train, y_train)\r\n",
        "    score = regressor.score(X_test, y_test) * 100\r\n",
        "    print(f\"{size}: {score}, {score1}\")"
      ],
      "execution_count": 328,
      "outputs": [
        {
          "output_type": "stream",
          "text": [
            "5: 90.98168620734126, 89.81014080111213\n",
            "6: 92.01455675592027, 89.81014080111213\n",
            "7: 68.91997325200936, 89.81014080111213\n",
            "8: 70.5251618250944, 89.81014080111213\n",
            "9: 88.35742666055889, 89.81014080111213\n",
            "10: 87.95247234449668, 89.81014080111213\n"
          ],
          "name": "stdout"
        }
      ]
    },
    {
      "cell_type": "markdown",
      "metadata": {
        "id": "vkA-z6NDZIVZ"
      },
      "source": [
        "Splitting train and test data"
      ]
    },
    {
      "cell_type": "code",
      "metadata": {
        "colab": {
          "base_uri": "https://localhost:8080/"
        },
        "id": "alkAHzFbP6LR",
        "outputId": "fb0efe09-1632-423a-d01e-e8e3965a89b5"
      },
      "source": [
        "X_train, X_test, y_train, y_test = train_test_split(X, y, test_size=6)\r\n",
        "X_test.shape"
      ],
      "execution_count": 316,
      "outputs": [
        {
          "output_type": "execute_result",
          "data": {
            "text/plain": [
              "(6, 1)"
            ]
          },
          "metadata": {
            "tags": []
          },
          "execution_count": 316
        }
      ]
    },
    {
      "cell_type": "markdown",
      "metadata": {
        "id": "WJxj2fkMVA0z"
      },
      "source": [
        "## Training the model - using __Linear Regression__"
      ]
    },
    {
      "cell_type": "markdown",
      "metadata": {
        "id": "acFP5VQFZLO8"
      },
      "source": [
        "This finds the equation of a straight line that is __closest to all points observed__.\r\n",
        "\r\n",
        "Finds supremum distance along Y-axis"
      ]
    },
    {
      "cell_type": "code",
      "metadata": {
        "colab": {
          "base_uri": "https://localhost:8080/"
        },
        "id": "N_zuvRmCVDgg",
        "outputId": "63862e34-a327-43ca-c035-b63b366c8ac1"
      },
      "source": [
        "from sklearn.linear_model import LinearRegression\n",
        "regressor = LinearRegression()\n",
        "regressor.fit(X_train, y_train)"
      ],
      "execution_count": 317,
      "outputs": [
        {
          "output_type": "execute_result",
          "data": {
            "text/plain": [
              "LinearRegression(copy_X=True, fit_intercept=True, n_jobs=None, normalize=False)"
            ]
          },
          "metadata": {
            "tags": []
          },
          "execution_count": 317
        }
      ]
    },
    {
      "cell_type": "markdown",
      "metadata": {
        "id": "rbxHtuL1DyYO"
      },
      "source": [
        "Plotting the regression line"
      ]
    },
    {
      "cell_type": "code",
      "metadata": {
        "colab": {
          "base_uri": "https://localhost:8080/",
          "height": 295
        },
        "id": "PUHe6SkEe0b-",
        "outputId": "7d6551e7-37fd-41ab-b8e6-722d491d54d3"
      },
      "source": [
        "import matplotlib.pyplot as plt\n",
        "\n",
        "plt.scatter(X_train, y_train, color='red')  # scatter values\n",
        "plt.plot(X_train, regressor.predict(X_train), color='blue')  # plot regression line\n",
        "plt.title('Date vs New cases')\n",
        "plt.xlabel('Date')\n",
        "plt.ylabel('New cases')\n",
        "plt.show() "
      ],
      "execution_count": 318,
      "outputs": [
        {
          "output_type": "display_data",
          "data": {
            "image/png": "[encoded data removed]",
            "text/plain": [
              "<Figure size 432x288 with 1 Axes>"
            ]
          },
          "metadata": {
            "tags": [],
            "needs_background": "light"
          }
        }
      ]
    },
    {
      "cell_type": "code",
      "metadata": {
        "colab": {
          "base_uri": "https://localhost:8080/"
        },
        "id": "fZXSq3RAVGTn",
        "outputId": "72d9e613-cf1d-4b00-815d-0df56e0c953f"
      },
      "source": [
        "predicted = regressor.predict(X_test)\n",
        "predicted"
      ],
      "execution_count": 319,
      "outputs": [
        {
          "output_type": "execute_result",
          "data": {
            "text/plain": [
              "array([71296.50597781, 41833.11979061, 32491.0705117 , 24586.25958341,\n",
              "       36802.78556347, 27460.73628461])"
            ]
          },
          "metadata": {
            "tags": []
          },
          "execution_count": 319
        }
      ]
    },
    {
      "cell_type": "markdown",
      "metadata": {
        "id": "TYeXYCXVVNWj"
      },
      "source": [
        "## Comparing predicted and actual"
      ]
    },
    {
      "cell_type": "code",
      "metadata": {
        "colab": {
          "base_uri": "https://localhost:8080/",
          "height": 194
        },
        "id": "VvC5d-quVQzf",
        "outputId": "8ad52d91-a5b2-42b4-e446-cd92fd44877b"
      },
      "source": [
        "df_compare = pd.DataFrame({'Actual': y_test, 'Predicted': predicted})\n",
        "df_compare = df_compare.join(X_test['date'])\n",
        "df_compare.head()"
      ],
      "execution_count": 320,
      "outputs": [
        {
          "output_type": "execute_result",
          "data": {
            "text/html": [
              "<div>\n",
              "<style scoped>\n",
              "    .dataframe tbody tr th:only-of-type {\n",
              "        vertical-align: middle;\n",
              "    }\n",
              "\n",
              "    .dataframe tbody tr th {\n",
              "        vertical-align: top;\n",
              "    }\n",
              "\n",
              "    .dataframe thead th {\n",
              "        text-align: right;\n",
              "    }\n",
              "</style>\n",
              "<table border=\"1\" class=\"dataframe\">\n",
              "  <thead>\n",
              "    <tr style=\"text-align: right;\">\n",
              "      <th></th>\n",
              "      <th>Actual</th>\n",
              "      <th>Predicted</th>\n",
              "      <th>date</th>\n",
              "    </tr>\n",
              "  </thead>\n",
              "  <tbody>\n",
              "    <tr>\n",
              "      <th>28</th>\n",
              "      <td>78524.0</td>\n",
              "      <td>71296.505978</td>\n",
              "      <td>737705</td>\n",
              "    </tr>\n",
              "    <tr>\n",
              "      <th>69</th>\n",
              "      <td>38617.0</td>\n",
              "      <td>41833.119791</td>\n",
              "      <td>737746</td>\n",
              "    </tr>\n",
              "    <tr>\n",
              "      <th>82</th>\n",
              "      <td>31118.0</td>\n",
              "      <td>32491.070512</td>\n",
              "      <td>737759</td>\n",
              "    </tr>\n",
              "    <tr>\n",
              "      <th>93</th>\n",
              "      <td>30031.0</td>\n",
              "      <td>24586.259583</td>\n",
              "      <td>737770</td>\n",
              "    </tr>\n",
              "    <tr>\n",
              "      <th>76</th>\n",
              "      <td>44376.0</td>\n",
              "      <td>36802.785563</td>\n",
              "      <td>737753</td>\n",
              "    </tr>\n",
              "  </tbody>\n",
              "</table>\n",
              "</div>"
            ],
            "text/plain": [
              "     Actual     Predicted    date\n",
              "28  78524.0  71296.505978  737705\n",
              "69  38617.0  41833.119791  737746\n",
              "82  31118.0  32491.070512  737759\n",
              "93  30031.0  24586.259583  737770\n",
              "76  44376.0  36802.785563  737753"
            ]
          },
          "metadata": {
            "tags": []
          },
          "execution_count": 320
        }
      ]
    },
    {
      "cell_type": "code",
      "metadata": {
        "colab": {
          "base_uri": "https://localhost:8080/"
        },
        "id": "NAQMFMKjVVcR",
        "outputId": "9f63ba0c-6b82-485e-e5b7-41fc88aac393"
      },
      "source": [
        "df_compare.shape"
      ],
      "execution_count": 321,
      "outputs": [
        {
          "output_type": "execute_result",
          "data": {
            "text/plain": [
              "(6, 3)"
            ]
          },
          "metadata": {
            "tags": []
          },
          "execution_count": 321
        }
      ]
    },
    {
      "cell_type": "code",
      "metadata": {
        "colab": {
          "base_uri": "https://localhost:8080/",
          "height": 194
        },
        "id": "ApyJbAhfVYcq",
        "outputId": "af42a434-8466-4238-8e9c-3bf04eccffb7"
      },
      "source": [
        "graph_df = df_compare.head(50).copy()\n",
        "graph_df.drop(['date'], axis=1, inplace=True)\n",
        "graph_df.head()"
      ],
      "execution_count": 322,
      "outputs": [
        {
          "output_type": "execute_result",
          "data": {
            "text/html": [
              "<div>\n",
              "<style scoped>\n",
              "    .dataframe tbody tr th:only-of-type {\n",
              "        vertical-align: middle;\n",
              "    }\n",
              "\n",
              "    .dataframe tbody tr th {\n",
              "        vertical-align: top;\n",
              "    }\n",
              "\n",
              "    .dataframe thead th {\n",
              "        text-align: right;\n",
              "    }\n",
              "</style>\n",
              "<table border=\"1\" class=\"dataframe\">\n",
              "  <thead>\n",
              "    <tr style=\"text-align: right;\">\n",
              "      <th></th>\n",
              "      <th>Actual</th>\n",
              "      <th>Predicted</th>\n",
              "    </tr>\n",
              "  </thead>\n",
              "  <tbody>\n",
              "    <tr>\n",
              "      <th>28</th>\n",
              "      <td>78524.0</td>\n",
              "      <td>71296.505978</td>\n",
              "    </tr>\n",
              "    <tr>\n",
              "      <th>69</th>\n",
              "      <td>38617.0</td>\n",
              "      <td>41833.119791</td>\n",
              "    </tr>\n",
              "    <tr>\n",
              "      <th>82</th>\n",
              "      <td>31118.0</td>\n",
              "      <td>32491.070512</td>\n",
              "    </tr>\n",
              "    <tr>\n",
              "      <th>93</th>\n",
              "      <td>30031.0</td>\n",
              "      <td>24586.259583</td>\n",
              "    </tr>\n",
              "    <tr>\n",
              "      <th>76</th>\n",
              "      <td>44376.0</td>\n",
              "      <td>36802.785563</td>\n",
              "    </tr>\n",
              "  </tbody>\n",
              "</table>\n",
              "</div>"
            ],
            "text/plain": [
              "     Actual     Predicted\n",
              "28  78524.0  71296.505978\n",
              "69  38617.0  41833.119791\n",
              "82  31118.0  32491.070512\n",
              "93  30031.0  24586.259583\n",
              "76  44376.0  36802.785563"
            ]
          },
          "metadata": {
            "tags": []
          },
          "execution_count": 322
        }
      ]
    },
    {
      "cell_type": "code",
      "metadata": {
        "colab": {
          "base_uri": "https://localhost:8080/",
          "height": 504
        },
        "id": "D48Le2lAdAsm",
        "outputId": "a872f403-c148-4963-ad5a-af9bf82d47b3"
      },
      "source": [
        "graph_df.plot(kind='bar', figsize=(20,8))"
      ],
      "execution_count": 323,
      "outputs": [
        {
          "output_type": "execute_result",
          "data": {
            "text/plain": [
              "<matplotlib.axes._subplots.AxesSubplot at 0x7fd8aefe85f8>"
            ]
          },
          "metadata": {
            "tags": []
          },
          "execution_count": 323
        },
        {
          "output_type": "display_data",
          "data": {
            "image/png": "[encoded data removed]",
            "text/plain": [
              "<Figure size 1440x576 with 1 Axes>"
            ]
          },
          "metadata": {
            "tags": [],
            "needs_background": "light"
          }
        }
      ]
    },
    {
      "cell_type": "code",
      "metadata": {
        "id": "ujNaLTqkVdoP",
        "colab": {
          "base_uri": "https://localhost:8080/"
        },
        "outputId": "87b56671-0d98-44ff-d8cf-70e4606c4245"
      },
      "source": [
        "regressor.score(X_test, y_test)  # Score of the regressor"
      ],
      "execution_count": 324,
      "outputs": [
        {
          "output_type": "execute_result",
          "data": {
            "text/plain": [
              "0.9176809681295147"
            ]
          },
          "metadata": {
            "tags": []
          },
          "execution_count": 324
        }
      ]
    },
    {
      "cell_type": "markdown",
      "metadata": {
        "id": "HBjARGaOVfyV"
      },
      "source": [
        "## Prediction using custom values"
      ]
    },
    {
      "cell_type": "markdown",
      "metadata": {
        "id": "d0tZJmdWlvoy"
      },
      "source": [
        "Display today's date"
      ]
    },
    {
      "cell_type": "code",
      "metadata": {
        "colab": {
          "base_uri": "https://localhost:8080/"
        },
        "id": "4WHcuK1Hf6k8",
        "outputId": "dcaf8dad-1710-4625-abde-fe47823c2c0e"
      },
      "source": [
        "from datetime import date\n",
        "\n",
        "today_date = date.today().strftime(\"%d-%m-%y\")\n",
        "print(\"Today's date:\", today_date)"
      ],
      "execution_count": 325,
      "outputs": [
        {
          "output_type": "stream",
          "text": [
            "Today's date: 14-12-20\n"
          ],
          "name": "stdout"
        }
      ]
    },
    {
      "cell_type": "markdown",
      "metadata": {
        "id": "xvUGw9InlyPp"
      },
      "source": [
        "Predict for today"
      ]
    },
    {
      "cell_type": "code",
      "metadata": {
        "colab": {
          "base_uri": "https://localhost:8080/"
        },
        "id": "yBwU1DokVig_",
        "outputId": "8c981542-a7b2-445c-c744-9602bffdffb0"
      },
      "source": [
        "X_test_2 = pd.DataFrame({'date': date.today()}, index=[0])\n",
        "X_test_2 = pd.DataFrame(X_test_2, dtype='<M8[ns]')\n",
        "X_test_2['date'] = X_test_2['date'].map(datetime.datetime.toordinal)\n",
        "\n",
        "#regressor.fit(X, y)  # training using the whole data\n",
        "result = regressor.predict(X_test_2)\n",
        "result = int(result[0])\n",
        "print('Prediction for today:', result)"
      ],
      "execution_count": 326,
      "outputs": [
        {
          "output_type": "stream",
          "text": [
            "Prediction for today: 22430\n"
          ],
          "name": "stdout"
        }
      ]
    },
    {
      "cell_type": "markdown",
      "metadata": {
        "id": "ozkN7PMZmuNu"
      },
      "source": [
        "#Thank you\n",
        "\n",
        ".\n",
        "\n",
        ".\n",
        "\n",
        ".\n",
        "\n",
        "\n",
        ".\n",
        "\n",
        ".\n",
        "\n",
        ".\n",
        "\n",
        ".\n",
        "\n",
        ".\n",
        "\n",
        ".\n",
        "\n",
        ".\n",
        "\n",
        ".\n",
        "\n",
        ".\n",
        "\n",
        "Extra project below"
      ]
    },
    {
      "cell_type": "markdown",
      "metadata": {
        "id": "BVlSnDj6rtKk"
      },
      "source": [
        "# Project 2: __Stock market prediction__ using Regression"
      ]
    },
    {
      "cell_type": "markdown",
      "metadata": {
        "id": "y5i6lYFcsMqT"
      },
      "source": [
        "Import the library for data visualization"
      ]
    },
    {
      "cell_type": "code",
      "metadata": {
        "id": "hjWWpEAd8-tj"
      },
      "source": [
        "import plotly.express as px"
      ],
      "execution_count": null,
      "outputs": []
    },
    {
      "cell_type": "markdown",
      "metadata": {
        "id": "F6Ed9F0asSIm"
      },
      "source": [
        "##Get the stock data"
      ]
    },
    {
      "cell_type": "code",
      "metadata": {
        "colab": {
          "base_uri": "https://localhost:8080/",
          "height": 223
        },
        "id": "tdWPbLBEsHcz",
        "outputId": "842bb355-4a01-4b64-9b94-4134c5985672"
      },
      "source": [
        "import pandas as pd\n",
        "import pandas_datareader as web  # for loading stock market data\n",
        "df = web.DataReader('AAPL', data_source='yahoo', start='2015-01-01', end='2020-12-11')\n",
        "df.head()  # Show the data "
      ],
      "execution_count": null,
      "outputs": [
        {
          "output_type": "execute_result",
          "data": {
            "text/html": [
              "<div>\n",
              "<style scoped>\n",
              "    .dataframe tbody tr th:only-of-type {\n",
              "        vertical-align: middle;\n",
              "    }\n",
              "\n",
              "    .dataframe tbody tr th {\n",
              "        vertical-align: top;\n",
              "    }\n",
              "\n",
              "    .dataframe thead th {\n",
              "        text-align: right;\n",
              "    }\n",
              "</style>\n",
              "<table border=\"1\" class=\"dataframe\">\n",
              "  <thead>\n",
              "    <tr style=\"text-align: right;\">\n",
              "      <th></th>\n",
              "      <th>High</th>\n",
              "      <th>Low</th>\n",
              "      <th>Open</th>\n",
              "      <th>Close</th>\n",
              "      <th>Volume</th>\n",
              "      <th>Adj Close</th>\n",
              "    </tr>\n",
              "    <tr>\n",
              "      <th>Date</th>\n",
              "      <th></th>\n",
              "      <th></th>\n",
              "      <th></th>\n",
              "      <th></th>\n",
              "      <th></th>\n",
              "      <th></th>\n",
              "    </tr>\n",
              "  </thead>\n",
              "  <tbody>\n",
              "    <tr>\n",
              "      <th>2015-01-02</th>\n",
              "      <td>27.860001</td>\n",
              "      <td>26.837500</td>\n",
              "      <td>27.847500</td>\n",
              "      <td>27.332500</td>\n",
              "      <td>212818400.0</td>\n",
              "      <td>24.696352</td>\n",
              "    </tr>\n",
              "    <tr>\n",
              "      <th>2015-01-05</th>\n",
              "      <td>27.162500</td>\n",
              "      <td>26.352501</td>\n",
              "      <td>27.072500</td>\n",
              "      <td>26.562500</td>\n",
              "      <td>257142000.0</td>\n",
              "      <td>24.000614</td>\n",
              "    </tr>\n",
              "    <tr>\n",
              "      <th>2015-01-06</th>\n",
              "      <td>26.857500</td>\n",
              "      <td>26.157499</td>\n",
              "      <td>26.635000</td>\n",
              "      <td>26.565001</td>\n",
              "      <td>263188400.0</td>\n",
              "      <td>24.002876</td>\n",
              "    </tr>\n",
              "    <tr>\n",
              "      <th>2015-01-07</th>\n",
              "      <td>27.049999</td>\n",
              "      <td>26.674999</td>\n",
              "      <td>26.799999</td>\n",
              "      <td>26.937500</td>\n",
              "      <td>160423600.0</td>\n",
              "      <td>24.339447</td>\n",
              "    </tr>\n",
              "    <tr>\n",
              "      <th>2015-01-08</th>\n",
              "      <td>28.037500</td>\n",
              "      <td>27.174999</td>\n",
              "      <td>27.307501</td>\n",
              "      <td>27.972500</td>\n",
              "      <td>237458000.0</td>\n",
              "      <td>25.274624</td>\n",
              "    </tr>\n",
              "  </tbody>\n",
              "</table>\n",
              "</div>"
            ],
            "text/plain": [
              "                 High        Low       Open      Close       Volume  Adj Close\n",
              "Date                                                                          \n",
              "2015-01-02  27.860001  26.837500  27.847500  27.332500  212818400.0  24.696352\n",
              "2015-01-05  27.162500  26.352501  27.072500  26.562500  257142000.0  24.000614\n",
              "2015-01-06  26.857500  26.157499  26.635000  26.565001  263188400.0  24.002876\n",
              "2015-01-07  27.049999  26.674999  26.799999  26.937500  160423600.0  24.339447\n",
              "2015-01-08  28.037500  27.174999  27.307501  27.972500  237458000.0  25.274624"
            ]
          },
          "metadata": {
            "tags": []
          },
          "execution_count": 112
        }
      ]
    },
    {
      "cell_type": "markdown",
      "metadata": {
        "id": "6ZGuTzTJuGeG"
      },
      "source": [
        "Data has 2003 rows and 7 columns"
      ]
    },
    {
      "cell_type": "markdown",
      "metadata": {
        "id": "cZrBaJxxt7MC"
      },
      "source": [
        "Drop Adj Close column and make Date as a column instead of index"
      ]
    },
    {
      "cell_type": "code",
      "metadata": {
        "colab": {
          "base_uri": "https://localhost:8080/",
          "height": 194
        },
        "id": "Mfa3dGRztZp_",
        "outputId": "167f4884-d3bb-4702-8caf-da26ff9ab30f"
      },
      "source": [
        "df.drop('Adj Close',axis = 1, inplace = True)\n",
        "df['Date'] = pd.to_datetime(df.index)\n",
        "df.reset_index(drop=True, inplace=True)\n",
        "df.head()"
      ],
      "execution_count": null,
      "outputs": [
        {
          "output_type": "execute_result",
          "data": {
            "text/html": [
              "<div>\n",
              "<style scoped>\n",
              "    .dataframe tbody tr th:only-of-type {\n",
              "        vertical-align: middle;\n",
              "    }\n",
              "\n",
              "    .dataframe tbody tr th {\n",
              "        vertical-align: top;\n",
              "    }\n",
              "\n",
              "    .dataframe thead th {\n",
              "        text-align: right;\n",
              "    }\n",
              "</style>\n",
              "<table border=\"1\" class=\"dataframe\">\n",
              "  <thead>\n",
              "    <tr style=\"text-align: right;\">\n",
              "      <th></th>\n",
              "      <th>High</th>\n",
              "      <th>Low</th>\n",
              "      <th>Open</th>\n",
              "      <th>Close</th>\n",
              "      <th>Volume</th>\n",
              "      <th>Date</th>\n",
              "    </tr>\n",
              "  </thead>\n",
              "  <tbody>\n",
              "    <tr>\n",
              "      <th>0</th>\n",
              "      <td>27.860001</td>\n",
              "      <td>26.837500</td>\n",
              "      <td>27.847500</td>\n",
              "      <td>27.332500</td>\n",
              "      <td>212818400.0</td>\n",
              "      <td>2015-01-02</td>\n",
              "    </tr>\n",
              "    <tr>\n",
              "      <th>1</th>\n",
              "      <td>27.162500</td>\n",
              "      <td>26.352501</td>\n",
              "      <td>27.072500</td>\n",
              "      <td>26.562500</td>\n",
              "      <td>257142000.0</td>\n",
              "      <td>2015-01-05</td>\n",
              "    </tr>\n",
              "    <tr>\n",
              "      <th>2</th>\n",
              "      <td>26.857500</td>\n",
              "      <td>26.157499</td>\n",
              "      <td>26.635000</td>\n",
              "      <td>26.565001</td>\n",
              "      <td>263188400.0</td>\n",
              "      <td>2015-01-06</td>\n",
              "    </tr>\n",
              "    <tr>\n",
              "      <th>3</th>\n",
              "      <td>27.049999</td>\n",
              "      <td>26.674999</td>\n",
              "      <td>26.799999</td>\n",
              "      <td>26.937500</td>\n",
              "      <td>160423600.0</td>\n",
              "      <td>2015-01-07</td>\n",
              "    </tr>\n",
              "    <tr>\n",
              "      <th>4</th>\n",
              "      <td>28.037500</td>\n",
              "      <td>27.174999</td>\n",
              "      <td>27.307501</td>\n",
              "      <td>27.972500</td>\n",
              "      <td>237458000.0</td>\n",
              "      <td>2015-01-08</td>\n",
              "    </tr>\n",
              "  </tbody>\n",
              "</table>\n",
              "</div>"
            ],
            "text/plain": [
              "        High        Low       Open      Close       Volume       Date\n",
              "0  27.860001  26.837500  27.847500  27.332500  212818400.0 2015-01-02\n",
              "1  27.162500  26.352501  27.072500  26.562500  257142000.0 2015-01-05\n",
              "2  26.857500  26.157499  26.635000  26.565001  263188400.0 2015-01-06\n",
              "3  27.049999  26.674999  26.799999  26.937500  160423600.0 2015-01-07\n",
              "4  28.037500  27.174999  27.307501  27.972500  237458000.0 2015-01-08"
            ]
          },
          "metadata": {
            "tags": []
          },
          "execution_count": 113
        }
      ]
    },
    {
      "cell_type": "markdown",
      "metadata": {
        "id": "vy6eWfWsuRF7"
      },
      "source": [
        "##Checking data"
      ]
    },
    {
      "cell_type": "code",
      "metadata": {
        "colab": {
          "base_uri": "https://localhost:8080/"
        },
        "id": "gyLyRdk_sbOP",
        "outputId": "51f45da7-74ee-4a17-a281-94661856f51e"
      },
      "source": [
        "df.shape"
      ],
      "execution_count": null,
      "outputs": [
        {
          "output_type": "execute_result",
          "data": {
            "text/plain": [
              "(1498, 6)"
            ]
          },
          "metadata": {
            "tags": []
          },
          "execution_count": 114
        }
      ]
    },
    {
      "cell_type": "markdown",
      "metadata": {
        "id": "DibKTWvdf6Cz"
      },
      "source": [
        "No null values found"
      ]
    },
    {
      "cell_type": "code",
      "metadata": {
        "colab": {
          "base_uri": "https://localhost:8080/"
        },
        "id": "oK1MvVvTsHje",
        "outputId": "bdda9c51-5449-43a0-b56d-871ede6b62fe"
      },
      "source": [
        "df.isnull().sum()"
      ],
      "execution_count": null,
      "outputs": [
        {
          "output_type": "execute_result",
          "data": {
            "text/plain": [
              "High      0\n",
              "Low       0\n",
              "Open      0\n",
              "Close     0\n",
              "Volume    0\n",
              "Date      0\n",
              "dtype: int64"
            ]
          },
          "metadata": {
            "tags": []
          },
          "execution_count": 115
        }
      ]
    },
    {
      "cell_type": "markdown",
      "metadata": {
        "id": "cZxJ0iZdf8dr"
      },
      "source": [
        "No NA values found"
      ]
    },
    {
      "cell_type": "code",
      "metadata": {
        "colab": {
          "base_uri": "https://localhost:8080/"
        },
        "id": "5V6t3vgCuV2S",
        "outputId": "0eea9f4f-041e-4da2-aa70-48043d17eb7d"
      },
      "source": [
        "df.isna().any()"
      ],
      "execution_count": null,
      "outputs": [
        {
          "output_type": "execute_result",
          "data": {
            "text/plain": [
              "High      False\n",
              "Low       False\n",
              "Open      False\n",
              "Close     False\n",
              "Volume    False\n",
              "Date      False\n",
              "dtype: bool"
            ]
          },
          "metadata": {
            "tags": []
          },
          "execution_count": 116
        }
      ]
    },
    {
      "cell_type": "code",
      "metadata": {
        "colab": {
          "base_uri": "https://localhost:8080/"
        },
        "id": "rKkHKUySuWDS",
        "outputId": "ffcf6533-e6f2-4ee1-debb-334517260e20"
      },
      "source": [
        "df.info()"
      ],
      "execution_count": null,
      "outputs": [
        {
          "output_type": "stream",
          "text": [
            "<class 'pandas.core.frame.DataFrame'>\n",
            "RangeIndex: 1498 entries, 0 to 1497\n",
            "Data columns (total 6 columns):\n",
            " #   Column  Non-Null Count  Dtype         \n",
            "---  ------  --------------  -----         \n",
            " 0   High    1498 non-null   float64       \n",
            " 1   Low     1498 non-null   float64       \n",
            " 2   Open    1498 non-null   float64       \n",
            " 3   Close   1498 non-null   float64       \n",
            " 4   Volume  1498 non-null   float64       \n",
            " 5   Date    1498 non-null   datetime64[ns]\n",
            "dtypes: datetime64[ns](1), float64(5)\n",
            "memory usage: 70.3 KB\n"
          ],
          "name": "stdout"
        }
      ]
    },
    {
      "cell_type": "code",
      "metadata": {
        "colab": {
          "base_uri": "https://localhost:8080/",
          "height": 282
        },
        "id": "susMf2b4uYq_",
        "outputId": "0b6656bf-6626-49d0-f511-c42fe51864dc"
      },
      "source": [
        "df.describe()"
      ],
      "execution_count": null,
      "outputs": [
        {
          "output_type": "execute_result",
          "data": {
            "text/html": [
              "<div>\n",
              "<style scoped>\n",
              "    .dataframe tbody tr th:only-of-type {\n",
              "        vertical-align: middle;\n",
              "    }\n",
              "\n",
              "    .dataframe tbody tr th {\n",
              "        vertical-align: top;\n",
              "    }\n",
              "\n",
              "    .dataframe thead th {\n",
              "        text-align: right;\n",
              "    }\n",
              "</style>\n",
              "<table border=\"1\" class=\"dataframe\">\n",
              "  <thead>\n",
              "    <tr style=\"text-align: right;\">\n",
              "      <th></th>\n",
              "      <th>High</th>\n",
              "      <th>Low</th>\n",
              "      <th>Open</th>\n",
              "      <th>Close</th>\n",
              "      <th>Volume</th>\n",
              "    </tr>\n",
              "  </thead>\n",
              "  <tbody>\n",
              "    <tr>\n",
              "      <th>count</th>\n",
              "      <td>1498.000000</td>\n",
              "      <td>1498.000000</td>\n",
              "      <td>1498.000000</td>\n",
              "      <td>1498.000000</td>\n",
              "      <td>1.498000e+03</td>\n",
              "    </tr>\n",
              "    <tr>\n",
              "      <th>mean</th>\n",
              "      <td>47.881831</td>\n",
              "      <td>46.880966</td>\n",
              "      <td>47.374282</td>\n",
              "      <td>47.404439</td>\n",
              "      <td>1.441474e+08</td>\n",
              "    </tr>\n",
              "    <tr>\n",
              "      <th>std</th>\n",
              "      <td>24.365712</td>\n",
              "      <td>23.587720</td>\n",
              "      <td>23.993151</td>\n",
              "      <td>23.994762</td>\n",
              "      <td>7.309331e+07</td>\n",
              "    </tr>\n",
              "    <tr>\n",
              "      <th>min</th>\n",
              "      <td>22.917500</td>\n",
              "      <td>22.367500</td>\n",
              "      <td>22.500000</td>\n",
              "      <td>22.584999</td>\n",
              "      <td>2.019780e+07</td>\n",
              "    </tr>\n",
              "    <tr>\n",
              "      <th>25%</th>\n",
              "      <td>29.943125</td>\n",
              "      <td>29.481250</td>\n",
              "      <td>29.677499</td>\n",
              "      <td>29.762500</td>\n",
              "      <td>9.515900e+07</td>\n",
              "    </tr>\n",
              "    <tr>\n",
              "      <th>50%</th>\n",
              "      <td>41.559999</td>\n",
              "      <td>40.627501</td>\n",
              "      <td>40.986250</td>\n",
              "      <td>41.006250</td>\n",
              "      <td>1.269370e+08</td>\n",
              "    </tr>\n",
              "    <tr>\n",
              "      <th>75%</th>\n",
              "      <td>54.024375</td>\n",
              "      <td>52.856875</td>\n",
              "      <td>53.438750</td>\n",
              "      <td>53.318749</td>\n",
              "      <td>1.752112e+08</td>\n",
              "    </tr>\n",
              "    <tr>\n",
              "      <th>max</th>\n",
              "      <td>137.979996</td>\n",
              "      <td>130.529999</td>\n",
              "      <td>137.589996</td>\n",
              "      <td>134.179993</td>\n",
              "      <td>6.488252e+08</td>\n",
              "    </tr>\n",
              "  </tbody>\n",
              "</table>\n",
              "</div>"
            ],
            "text/plain": [
              "              High          Low         Open        Close        Volume\n",
              "count  1498.000000  1498.000000  1498.000000  1498.000000  1.498000e+03\n",
              "mean     47.881831    46.880966    47.374282    47.404439  1.441474e+08\n",
              "std      24.365712    23.587720    23.993151    23.994762  7.309331e+07\n",
              "min      22.917500    22.367500    22.500000    22.584999  2.019780e+07\n",
              "25%      29.943125    29.481250    29.677499    29.762500  9.515900e+07\n",
              "50%      41.559999    40.627501    40.986250    41.006250  1.269370e+08\n",
              "75%      54.024375    52.856875    53.438750    53.318749  1.752112e+08\n",
              "max     137.979996   130.529999   137.589996   134.179993  6.488252e+08"
            ]
          },
          "metadata": {
            "tags": []
          },
          "execution_count": 118
        }
      ]
    },
    {
      "cell_type": "markdown",
      "metadata": {
        "id": "mdBd8BoesgMt"
      },
      "source": [
        "##Visualize the data"
      ]
    },
    {
      "cell_type": "markdown",
      "metadata": {
        "id": "-9cXG9gHzxz2"
      },
      "source": [
        "Plotting the close price history"
      ]
    },
    {
      "cell_type": "code",
      "metadata": {
        "colab": {
          "base_uri": "https://localhost:8080/",
          "height": 542
        },
        "id": "Rwpqz9TfsHfM",
        "outputId": "2d430e59-bfc2-48f4-99f8-9d36090efd20"
      },
      "source": [
        "px.line(df, x='Date',y='Close', title='Close Price History')"
      ],
      "execution_count": null,
      "outputs": [
        {
          "output_type": "display_data",
          "data": {
            "text/html": [
              "<html>\n",
              "<head><meta charset=\"utf-8\" /></head>\n",
              "<body>\n",
              "    <div>\n",
              "            <script src=\"https://cdnjs.cloudflare.com/ajax/libs/mathjax/2.7.5/MathJax.js?config=TeX-AMS-MML_SVG\"></script><script type=\"text/javascript\">if (window.MathJax) {MathJax.Hub.Config({SVG: {font: \"STIX-Web\"}});}</script>\n",
              "                <script type=\"text/javascript\">window.PlotlyConfig = {MathJaxConfig: 'local'};</script>\n",
              "        <script src=\"https://cdn.plot.ly/plotly-latest.min.js\"></script>    \n",
              "            <div id=\"cb128c6a-2047-4883-a968-f7168925ec03\" class=\"plotly-graph-div\" style=\"height:525px; width:100%;\"></div>\n",
              "            <script type=\"text/javascript\">\n",
              "                \n",
              "                    window.PLOTLYENV=window.PLOTLYENV || {};\n",
              "                    \n",
              "                if (document.getElementById(\"cb128c6a-2047-4883-a968-f7168925ec03\")) {\n",
              "                    Plotly.newPlot(\n",
              "                        'cb128c6a-2047-4883-a968-f7168925ec03',\n",
              "                        [{\"hoverlabel\": {\"namelength\": 0}, \"hovertemplate\": \"Date=%{x}<br>Close=%{y}\", \"legendgroup\": \"\", \"line\": {\"color\": \"#636efa\", \"dash\": \"solid\"}, \"mode\": \"lines\", \"name\": \"\", \"showlegend\": false, \"type\": \"scattergl\", \"x\": [\"2015-01-02T00:00:00\", \"2015-01-05T00:00:00\", \"2015-01-06T00:00:00\", \"2015-01-07T00:00:00\", \"2015-01-08T00:00:00\", \"2015-01-09T00:00:00\", \"2015-01-12T00:00:00\", \"2015-01-13T00:00:00\", \"2015-01-14T00:00:00\", \"2015-01-15T00:00:00\", \"2015-01-16T00:00:00\", \"2015-01-20T00:00:00\", \"2015-01-21T00:00:00\", \"2015-01-22T00:00:00\", \"2015-01-23T00:00:00\", \"2015-01-26T00:00:00\", \"2015-01-27T00:00:00\", \"2015-01-28T00:00:00\", \"2015-01-29T00:00:00\", \"2015-01-30T00:00:00\", \"2015-02-02T00:00:00\", \"2015-02-03T00:00:00\", \"2015-02-04T00:00:00\", \"2015-02-05T00:00:00\", \"2015-02-06T00:00:00\", \"2015-02-09T00:00:00\", \"2015-02-10T00:00:00\", \"2015-02-11T00:00:00\", \"2015-02-12T00:00:00\", \"2015-02-13T00:00:00\", \"2015-02-17T00:00:00\", \"2015-02-18T00:00:00\", \"2015-02-19T00:00:00\", \"2015-02-20T00:00:00\", \"2015-02-23T00:00:00\", \"2015-02-24T00:00:00\", \"2015-02-25T00:00:00\", \"2015-02-26T00:00:00\", \"2015-02-27T00:00:00\", \"2015-03-02T00:00:00\", \"2015-03-03T00:00:00\", \"2015-03-04T00:00:00\", \"2015-03-05T00:00:00\", \"2015-03-06T00:00:00\", \"2015-03-09T00:00:00\", \"2015-03-10T00:00:00\", \"2015-03-11T00:00:00\", \"2015-03-12T00:00:00\", \"2015-03-13T00:00:00\", \"2015-03-16T00:00:00\", \"2015-03-17T00:00:00\", \"2015-03-18T00:00:00\", \"2015-03-19T00:00:00\", \"2015-03-20T00:00:00\", \"2015-03-23T00:00:00\", \"2015-03-24T00:00:00\", \"2015-03-25T00:00:00\", \"2015-03-26T00:00:00\", \"2015-03-27T00:00:00\", \"2015-03-30T00:00:00\", \"2015-03-31T00:00:00\", \"2015-04-01T00:00:00\", \"2015-04-02T00:00:00\", \"2015-04-06T00:00:00\", \"2015-04-07T00:00:00\", \"2015-04-08T00:00:00\", \"2015-04-09T00:00:00\", \"2015-04-10T00:00:00\", \"2015-04-13T00:00:00\", \"2015-04-14T00:00:00\", \"2015-04-15T00:00:00\", \"2015-04-16T00:00:00\", \"2015-04-17T00:00:00\", \"2015-04-20T00:00:00\", \"2015-04-21T00:00:00\", \"2015-04-22T00:00:00\", \"2015-04-23T00:00:00\", \"2015-04-24T00:00:00\", \"2015-04-27T00:00:00\", \"2015-04-28T00:00:00\", \"2015-04-29T00:00:00\", \"2015-04-30T00:00:00\", \"2015-05-01T00:00:00\", \"2015-05-04T00:00:00\", \"2015-05-05T00:00:00\", \"2015-05-06T00:00:00\", \"2015-05-07T00:00:00\", \"2015-05-08T00:00:00\", \"2015-05-11T00:00:00\", \"2015-05-12T00:00:00\", \"2015-05-13T00:00:00\", \"2015-05-14T00:00:00\", \"2015-05-15T00:00:00\", \"2015-05-18T00:00:00\", \"2015-05-19T00:00:00\", \"2015-05-20T00:00:00\", \"2015-05-21T00:00:00\", \"2015-05-22T00:00:00\", \"2015-05-26T00:00:00\", \"2015-05-27T00:00:00\", \"2015-05-28T00:00:00\", \"2015-05-29T00:00:00\", \"2015-06-01T00:00:00\", \"2015-06-02T00:00:00\", \"2015-06-03T00:00:00\", \"2015-06-04T00:00:00\", \"2015-06-05T00:00:00\", \"2015-06-08T00:00:00\", \"2015-06-09T00:00:00\", \"2015-06-10T00:00:00\", \"2015-06-11T00:00:00\", \"2015-06-12T00:00:00\", \"2015-06-15T00:00:00\", \"2015-06-16T00:00:00\", \"2015-06-17T00:00:00\", \"2015-06-18T00:00:00\", \"2015-06-19T00:00:00\", \"2015-06-22T00:00:00\", \"2015-06-23T00:00:00\", \"2015-06-24T00:00:00\", \"2015-06-25T00:00:00\", \"2015-06-26T00:00:00\", \"2015-06-29T00:00:00\", \"2015-06-30T00:00:00\", \"2015-07-01T00:00:00\", \"2015-07-02T00:00:00\", \"2015-07-06T00:00:00\", \"2015-07-07T00:00:00\", \"2015-07-08T00:00:00\", \"2015-07-09T00:00:00\", \"2015-07-10T00:00:00\", \"2015-07-13T00:00:00\", \"2015-07-14T00:00:00\", \"2015-07-15T00:00:00\", \"2015-07-16T00:00:00\", \"2015-07-17T00:00:00\", \"2015-07-20T00:00:00\", \"2015-07-21T00:00:00\", \"2015-07-22T00:00:00\", \"2015-07-23T00:00:00\", \"2015-07-24T00:00:00\", \"2015-07-27T00:00:00\", \"2015-07-28T00:00:00\", \"2015-07-29T00:00:00\", \"2015-07-30T00:00:00\", \"2015-07-31T00:00:00\", \"2015-08-03T00:00:00\", \"2015-08-04T00:00:00\", \"2015-08-05T00:00:00\", \"2015-08-06T00:00:00\", \"2015-08-07T00:00:00\", \"2015-08-10T00:00:00\", \"2015-08-11T00:00:00\", \"2015-08-12T00:00:00\", \"2015-08-13T00:00:00\", \"2015-08-14T00:00:00\", \"2015-08-17T00:00:00\", \"2015-08-18T00:00:00\", \"2015-08-19T00:00:00\", \"2015-08-20T00:00:00\", \"2015-08-21T00:00:00\", \"2015-08-24T00:00:00\", \"2015-08-25T00:00:00\", \"2015-08-26T00:00:00\", \"2015-08-27T00:00:00\", \"2015-08-28T00:00:00\", \"2015-08-31T00:00:00\", \"2015-09-01T00:00:00\", \"2015-09-02T00:00:00\", \"2015-09-03T00:00:00\", \"2015-09-04T00:00:00\", \"2015-09-08T00:00:00\", \"2015-09-09T00:00:00\", \"2015-09-10T00:00:00\", \"2015-09-11T00:00:00\", \"2015-09-14T00:00:00\", \"2015-09-15T00:00:00\", \"2015-09-16T00:00:00\", \"2015-09-17T00:00:00\", \"2015-09-18T00:00:00\", \"2015-09-21T00:00:00\", \"2015-09-22T00:00:00\", \"2015-09-23T00:00:00\", \"2015-09-24T00:00:00\", \"2015-09-25T00:00:00\", \"2015-09-28T00:00:00\", \"2015-09-29T00:00:00\", \"2015-09-30T00:00:00\", \"2015-10-01T00:00:00\", \"2015-10-02T00:00:00\", \"2015-10-05T00:00:00\", \"2015-10-06T00:00:00\", \"2015-10-07T00:00:00\", \"2015-10-08T00:00:00\", \"2015-10-09T00:00:00\", \"2015-10-12T00:00:00\", \"2015-10-13T00:00:00\", \"2015-10-14T00:00:00\", \"2015-10-15T00:00:00\", \"2015-10-16T00:00:00\", \"2015-10-19T00:00:00\", \"2015-10-20T00:00:00\", \"2015-10-21T00:00:00\", \"2015-10-22T00:00:00\", \"2015-10-23T00:00:00\", \"2015-10-26T00:00:00\", \"2015-10-27T00:00:00\", \"2015-10-28T00:00:00\", \"2015-10-29T00:00:00\", \"2015-10-30T00:00:00\", \"2015-11-02T00:00:00\", \"2015-11-03T00:00:00\", \"2015-11-04T00:00:00\", \"2015-11-05T00:00:00\", \"2015-11-06T00:00:00\", \"2015-11-09T00:00:00\", \"2015-11-10T00:00:00\", \"2015-11-11T00:00:00\", \"2015-11-12T00:00:00\", \"2015-11-13T00:00:00\", \"2015-11-16T00:00:00\", \"2015-11-17T00:00:00\", \"2015-11-18T00:00:00\", \"2015-11-19T00:00:00\", \"2015-11-20T00:00:00\", \"2015-11-23T00:00:00\", \"2015-11-24T00:00:00\", \"2015-11-25T00:00:00\", \"2015-11-27T00:00:00\", \"2015-11-30T00:00:00\", \"2015-12-01T00:00:00\", \"2015-12-02T00:00:00\", \"2015-12-03T00:00:00\", \"2015-12-04T00:00:00\", \"2015-12-07T00:00:00\", \"2015-12-08T00:00:00\", \"2015-12-09T00:00:00\", \"2015-12-10T00:00:00\", \"2015-12-11T00:00:00\", \"2015-12-14T00:00:00\", \"2015-12-15T00:00:00\", \"2015-12-16T00:00:00\", \"2015-12-17T00:00:00\", \"2015-12-18T00:00:00\", \"2015-12-21T00:00:00\", \"2015-12-22T00:00:00\", \"2015-12-23T00:00:00\", \"2015-12-24T00:00:00\", \"2015-12-28T00:00:00\", \"2015-12-29T00:00:00\", \"2015-12-30T00:00:00\", \"2015-12-31T00:00:00\", \"2016-01-04T00:00:00\", \"2016-01-05T00:00:00\", \"2016-01-06T00:00:00\", \"2016-01-07T00:00:00\", \"2016-01-08T00:00:00\", \"2016-01-11T00:00:00\", \"2016-01-12T00:00:00\", \"2016-01-13T00:00:00\", \"2016-01-14T00:00:00\", \"2016-01-15T00:00:00\", \"2016-01-19T00:00:00\", \"2016-01-20T00:00:00\", \"2016-01-21T00:00:00\", \"2016-01-22T00:00:00\", \"2016-01-25T00:00:00\", \"2016-01-26T00:00:00\", \"2016-01-27T00:00:00\", \"2016-01-28T00:00:00\", \"2016-01-29T00:00:00\", \"2016-02-01T00:00:00\", \"2016-02-02T00:00:00\", \"2016-02-03T00:00:00\", \"2016-02-04T00:00:00\", \"2016-02-05T00:00:00\", \"2016-02-08T00:00:00\", \"2016-02-09T00:00:00\", \"2016-02-10T00:00:00\", \"2016-02-11T00:00:00\", \"2016-02-12T00:00:00\", \"2016-02-16T00:00:00\", \"2016-02-17T00:00:00\", \"2016-02-18T00:00:00\", \"2016-02-19T00:00:00\", \"2016-02-22T00:00:00\", \"2016-02-23T00:00:00\", \"2016-02-24T00:00:00\", \"2016-02-25T00:00:00\", \"2016-02-26T00:00:00\", \"2016-02-29T00:00:00\", \"2016-03-01T00:00:00\", \"2016-03-02T00:00:00\", \"2016-03-03T00:00:00\", \"2016-03-04T00:00:00\", \"2016-03-07T00:00:00\", \"2016-03-08T00:00:00\", \"2016-03-09T00:00:00\", \"2016-03-10T00:00:00\", \"2016-03-11T00:00:00\", \"2016-03-14T00:00:00\", \"2016-03-15T00:00:00\", \"2016-03-16T00:00:00\", \"2016-03-17T00:00:00\", \"2016-03-18T00:00:00\", \"2016-03-21T00:00:00\", \"2016-03-22T00:00:00\", \"2016-03-23T00:00:00\", \"2016-03-24T00:00:00\", \"2016-03-28T00:00:00\", \"2016-03-29T00:00:00\", \"2016-03-30T00:00:00\", \"2016-03-31T00:00:00\", \"2016-04-01T00:00:00\", \"2016-04-04T00:00:00\", \"2016-04-05T00:00:00\", \"2016-04-06T00:00:00\", \"2016-04-07T00:00:00\", \"2016-04-08T00:00:00\", \"2016-04-11T00:00:00\", \"2016-04-12T00:00:00\", \"2016-04-13T00:00:00\", \"2016-04-14T00:00:00\", \"2016-04-15T00:00:00\", \"2016-04-18T00:00:00\", \"2016-04-19T00:00:00\", \"2016-04-20T00:00:00\", \"2016-04-21T00:00:00\", \"2016-04-22T00:00:00\", \"2016-04-25T00:00:00\", \"2016-04-26T00:00:00\", \"2016-04-27T00:00:00\", \"2016-04-28T00:00:00\", \"2016-04-29T00:00:00\", \"2016-05-02T00:00:00\", \"2016-05-03T00:00:00\", \"2016-05-04T00:00:00\", \"2016-05-05T00:00:00\", \"2016-05-06T00:00:00\", \"2016-05-09T00:00:00\", \"2016-05-10T00:00:00\", \"2016-05-11T00:00:00\", \"2016-05-12T00:00:00\", \"2016-05-13T00:00:00\", \"2016-05-16T00:00:00\", \"2016-05-17T00:00:00\", \"2016-05-18T00:00:00\", \"2016-05-19T00:00:00\", \"2016-05-20T00:00:00\", \"2016-05-23T00:00:00\", \"2016-05-24T00:00:00\", \"2016-05-25T00:00:00\", \"2016-05-26T00:00:00\", \"2016-05-27T00:00:00\", \"2016-05-31T00:00:00\", \"2016-06-01T00:00:00\", \"2016-06-02T00:00:00\", \"2016-06-03T00:00:00\", \"2016-06-06T00:00:00\", \"2016-06-07T00:00:00\", \"2016-06-08T00:00:00\", \"2016-06-09T00:00:00\", \"2016-06-10T00:00:00\", \"2016-06-13T00:00:00\", \"2016-06-14T00:00:00\", \"2016-06-15T00:00:00\", \"2016-06-16T00:00:00\", \"2016-06-17T00:00:00\", \"2016-06-20T00:00:00\", \"2016-06-21T00:00:00\", \"2016-06-22T00:00:00\", \"2016-06-23T00:00:00\", \"2016-06-24T00:00:00\", \"2016-06-27T00:00:00\", \"2016-06-28T00:00:00\", \"2016-06-29T00:00:00\", \"2016-06-30T00:00:00\", \"2016-07-01T00:00:00\", \"2016-07-05T00:00:00\", \"2016-07-06T00:00:00\", \"2016-07-07T00:00:00\", \"2016-07-08T00:00:00\", \"2016-07-11T00:00:00\", \"2016-07-12T00:00:00\", \"2016-07-13T00:00:00\", \"2016-07-14T00:00:00\", \"2016-07-15T00:00:00\", \"2016-07-18T00:00:00\", \"2016-07-19T00:00:00\", \"2016-07-20T00:00:00\", \"2016-07-21T00:00:00\", \"2016-07-22T00:00:00\", \"2016-07-25T00:00:00\", \"2016-07-26T00:00:00\", \"2016-07-27T00:00:00\", \"2016-07-28T00:00:00\", \"2016-07-29T00:00:00\", \"2016-08-01T00:00:00\", \"2016-08-02T00:00:00\", \"2016-08-03T00:00:00\", \"2016-08-04T00:00:00\", \"2016-08-05T00:00:00\", \"2016-08-08T00:00:00\", \"2016-08-09T00:00:00\", \"2016-08-10T00:00:00\", \"2016-08-11T00:00:00\", \"2016-08-12T00:00:00\", \"2016-08-15T00:00:00\", \"2016-08-16T00:00:00\", \"2016-08-17T00:00:00\", \"2016-08-18T00:00:00\", \"2016-08-19T00:00:00\", \"2016-08-22T00:00:00\", \"2016-08-23T00:00:00\", \"2016-08-24T00:00:00\", \"2016-08-25T00:00:00\", \"2016-08-26T00:00:00\", \"2016-08-29T00:00:00\", \"2016-08-30T00:00:00\", \"2016-08-31T00:00:00\", \"2016-09-01T00:00:00\", \"2016-09-02T00:00:00\", \"2016-09-06T00:00:00\", \"2016-09-07T00:00:00\", \"2016-09-08T00:00:00\", \"2016-09-09T00:00:00\", \"2016-09-12T00:00:00\", \"2016-09-13T00:00:00\", \"2016-09-14T00:00:00\", \"2016-09-15T00:00:00\", \"2016-09-16T00:00:00\", \"2016-09-19T00:00:00\", \"2016-09-20T00:00:00\", \"2016-09-21T00:00:00\", \"2016-09-22T00:00:00\", \"2016-09-23T00:00:00\", \"2016-09-26T00:00:00\", \"2016-09-27T00:00:00\", \"2016-09-28T00:00:00\", \"2016-09-29T00:00:00\", \"2016-09-30T00:00:00\", \"2016-10-03T00:00:00\", \"2016-10-04T00:00:00\", \"2016-10-05T00:00:00\", \"2016-10-06T00:00:00\", \"2016-10-07T00:00:00\", \"2016-10-10T00:00:00\", \"2016-10-11T00:00:00\", \"2016-10-12T00:00:00\", \"2016-10-13T00:00:00\", \"2016-10-14T00:00:00\", \"2016-10-17T00:00:00\", \"2016-10-18T00:00:00\", \"2016-10-19T00:00:00\", \"2016-10-20T00:00:00\", \"2016-10-21T00:00:00\", \"2016-10-24T00:00:00\", \"2016-10-25T00:00:00\", \"2016-10-26T00:00:00\", \"2016-10-27T00:00:00\", \"2016-10-28T00:00:00\", \"2016-10-31T00:00:00\", \"2016-11-01T00:00:00\", \"2016-11-02T00:00:00\", \"2016-11-03T00:00:00\", \"2016-11-04T00:00:00\", \"2016-11-07T00:00:00\", \"2016-11-08T00:00:00\", \"2016-11-09T00:00:00\", \"2016-11-10T00:00:00\", \"2016-11-11T00:00:00\", \"2016-11-14T00:00:00\", \"2016-11-15T00:00:00\", \"2016-11-16T00:00:00\", \"2016-11-17T00:00:00\", \"2016-11-18T00:00:00\", \"2016-11-21T00:00:00\", \"2016-11-22T00:00:00\", \"2016-11-23T00:00:00\", \"2016-11-25T00:00:00\", \"2016-11-28T00:00:00\", \"2016-11-29T00:00:00\", \"2016-11-30T00:00:00\", \"2016-12-01T00:00:00\", \"2016-12-02T00:00:00\", \"2016-12-05T00:00:00\", \"2016-12-06T00:00:00\", \"2016-12-07T00:00:00\", \"2016-12-08T00:00:00\", \"2016-12-09T00:00:00\", \"2016-12-12T00:00:00\", \"2016-12-13T00:00:00\", \"2016-12-14T00:00:00\", \"2016-12-15T00:00:00\", \"2016-12-16T00:00:00\", \"2016-12-19T00:00:00\", \"2016-12-20T00:00:00\", \"2016-12-21T00:00:00\", \"2016-12-22T00:00:00\", \"2016-12-23T00:00:00\", \"2016-12-27T00:00:00\", \"2016-12-28T00:00:00\", \"2016-12-29T00:00:00\", \"2016-12-30T00:00:00\", \"2017-01-03T00:00:00\", \"2017-01-04T00:00:00\", \"2017-01-05T00:00:00\", \"2017-01-06T00:00:00\", \"2017-01-09T00:00:00\", \"2017-01-10T00:00:00\", \"2017-01-11T00:00:00\", \"2017-01-12T00:00:00\", \"2017-01-13T00:00:00\", \"2017-01-17T00:00:00\", \"2017-01-18T00:00:00\", \"2017-01-19T00:00:00\", \"2017-01-20T00:00:00\", \"2017-01-23T00:00:00\", \"2017-01-24T00:00:00\", \"2017-01-25T00:00:00\", \"2017-01-26T00:00:00\", \"2017-01-27T00:00:00\", \"2017-01-30T00:00:00\", \"2017-01-31T00:00:00\", \"2017-02-01T00:00:00\", \"2017-02-02T00:00:00\", \"2017-02-03T00:00:00\", \"2017-02-06T00:00:00\", \"2017-02-07T00:00:00\", \"2017-02-08T00:00:00\", \"2017-02-09T00:00:00\", \"2017-02-10T00:00:00\", \"2017-02-13T00:00:00\", \"2017-02-14T00:00:00\", \"2017-02-15T00:00:00\", \"2017-02-16T00:00:00\", \"2017-02-17T00:00:00\", \"2017-02-21T00:00:00\", \"2017-02-22T00:00:00\", \"2017-02-23T00:00:00\", \"2017-02-24T00:00:00\", \"2017-02-27T00:00:00\", \"2017-02-28T00:00:00\", \"2017-03-01T00:00:00\", \"2017-03-02T00:00:00\", \"2017-03-03T00:00:00\", \"2017-03-06T00:00:00\", \"2017-03-07T00:00:00\", \"2017-03-08T00:00:00\", \"2017-03-09T00:00:00\", \"2017-03-10T00:00:00\", \"2017-03-13T00:00:00\", \"2017-03-14T00:00:00\", \"2017-03-15T00:00:00\", \"2017-03-16T00:00:00\", \"2017-03-17T00:00:00\", \"2017-03-20T00:00:00\", \"2017-03-21T00:00:00\", \"2017-03-22T00:00:00\", \"2017-03-23T00:00:00\", \"2017-03-24T00:00:00\", \"2017-03-27T00:00:00\", \"2017-03-28T00:00:00\", \"2017-03-29T00:00:00\", \"2017-03-30T00:00:00\", \"2017-03-31T00:00:00\", \"2017-04-03T00:00:00\", \"2017-04-04T00:00:00\", \"2017-04-05T00:00:00\", \"2017-04-06T00:00:00\", \"2017-04-07T00:00:00\", \"2017-04-10T00:00:00\", \"2017-04-11T00:00:00\", \"2017-04-12T00:00:00\", \"2017-04-13T00:00:00\", \"2017-04-17T00:00:00\", \"2017-04-18T00:00:00\", \"2017-04-19T00:00:00\", \"2017-04-20T00:00:00\", \"2017-04-21T00:00:00\", \"2017-04-24T00:00:00\", \"2017-04-25T00:00:00\", \"2017-04-26T00:00:00\", \"2017-04-27T00:00:00\", \"2017-04-28T00:00:00\", \"2017-05-01T00:00:00\", \"2017-05-02T00:00:00\", \"2017-05-03T00:00:00\", \"2017-05-04T00:00:00\", \"2017-05-05T00:00:00\", \"2017-05-08T00:00:00\", \"2017-05-09T00:00:00\", \"2017-05-10T00:00:00\", \"2017-05-11T00:00:00\", \"2017-05-12T00:00:00\", \"2017-05-15T00:00:00\", \"2017-05-16T00:00:00\", \"2017-05-17T00:00:00\", \"2017-05-18T00:00:00\", \"2017-05-19T00:00:00\", \"2017-05-22T00:00:00\", \"2017-05-23T00:00:00\", \"2017-05-24T00:00:00\", \"2017-05-25T00:00:00\", \"2017-05-26T00:00:00\", \"2017-05-30T00:00:00\", \"2017-05-31T00:00:00\", \"2017-06-01T00:00:00\", \"2017-06-02T00:00:00\", \"2017-06-05T00:00:00\", \"2017-06-06T00:00:00\", \"2017-06-07T00:00:00\", \"2017-06-08T00:00:00\", \"2017-06-09T00:00:00\", \"2017-06-12T00:00:00\", \"2017-06-13T00:00:00\", \"2017-06-14T00:00:00\", \"2017-06-15T00:00:00\", \"2017-06-16T00:00:00\", \"2017-06-19T00:00:00\", \"2017-06-20T00:00:00\", \"2017-06-21T00:00:00\", \"2017-06-22T00:00:00\", \"2017-06-23T00:00:00\", \"2017-06-26T00:00:00\", \"2017-06-27T00:00:00\", \"2017-06-28T00:00:00\", \"2017-06-29T00:00:00\", \"2017-06-30T00:00:00\", \"2017-07-03T00:00:00\", \"2017-07-05T00:00:00\", \"2017-07-06T00:00:00\", \"2017-07-07T00:00:00\", \"2017-07-10T00:00:00\", \"2017-07-11T00:00:00\", \"2017-07-12T00:00:00\", \"2017-07-13T00:00:00\", \"2017-07-14T00:00:00\", \"2017-07-17T00:00:00\", \"2017-07-18T00:00:00\", \"2017-07-19T00:00:00\", \"2017-07-20T00:00:00\", \"2017-07-21T00:00:00\", \"2017-07-24T00:00:00\", \"2017-07-25T00:00:00\", \"2017-07-26T00:00:00\", \"2017-07-27T00:00:00\", \"2017-07-28T00:00:00\", \"2017-07-31T00:00:00\", \"2017-08-01T00:00:00\", \"2017-08-02T00:00:00\", \"2017-08-03T00:00:00\", \"2017-08-04T00:00:00\", \"2017-08-07T00:00:00\", \"2017-08-08T00:00:00\", \"2017-08-09T00:00:00\", \"2017-08-10T00:00:00\", \"2017-08-11T00:00:00\", \"2017-08-14T00:00:00\", \"2017-08-15T00:00:00\", \"2017-08-16T00:00:00\", \"2017-08-17T00:00:00\", \"2017-08-18T00:00:00\", \"2017-08-21T00:00:00\", \"2017-08-22T00:00:00\", \"2017-08-23T00:00:00\", \"2017-08-24T00:00:00\", \"2017-08-25T00:00:00\", \"2017-08-28T00:00:00\", \"2017-08-29T00:00:00\", \"2017-08-30T00:00:00\", \"2017-08-31T00:00:00\", \"2017-09-01T00:00:00\", \"2017-09-05T00:00:00\", \"2017-09-06T00:00:00\", \"2017-09-07T00:00:00\", \"2017-09-08T00:00:00\", \"2017-09-11T00:00:00\", \"2017-09-12T00:00:00\", \"2017-09-13T00:00:00\", \"2017-09-14T00:00:00\", \"2017-09-15T00:00:00\", \"2017-09-18T00:00:00\", \"2017-09-19T00:00:00\", \"2017-09-20T00:00:00\", \"2017-09-21T00:00:00\", \"2017-09-22T00:00:00\", \"2017-09-25T00:00:00\", \"2017-09-26T00:00:00\", \"2017-09-27T00:00:00\", \"2017-09-28T00:00:00\", \"2017-09-29T00:00:00\", \"2017-10-02T00:00:00\", \"2017-10-03T00:00:00\", \"2017-10-04T00:00:00\", \"2017-10-05T00:00:00\", \"2017-10-06T00:00:00\", \"2017-10-09T00:00:00\", \"2017-10-10T00:00:00\", \"2017-10-11T00:00:00\", \"2017-10-12T00:00:00\", \"2017-10-13T00:00:00\", \"2017-10-16T00:00:00\", \"2017-10-17T00:00:00\", \"2017-10-18T00:00:00\", \"2017-10-19T00:00:00\", \"2017-10-20T00:00:00\", \"2017-10-23T00:00:00\", \"2017-10-24T00:00:00\", \"2017-10-25T00:00:00\", \"2017-10-26T00:00:00\", \"2017-10-27T00:00:00\", \"2017-10-30T00:00:00\", \"2017-10-31T00:00:00\", \"2017-11-01T00:00:00\", \"2017-11-02T00:00:00\", \"2017-11-03T00:00:00\", \"2017-11-06T00:00:00\", \"2017-11-07T00:00:00\", \"2017-11-08T00:00:00\", \"2017-11-09T00:00:00\", \"2017-11-10T00:00:00\", \"2017-11-13T00:00:00\", \"2017-11-14T00:00:00\", \"2017-11-15T00:00:00\", \"2017-11-16T00:00:00\", \"2017-11-17T00:00:00\", \"2017-11-20T00:00:00\", \"2017-11-21T00:00:00\", \"2017-11-22T00:00:00\", \"2017-11-24T00:00:00\", \"2017-11-27T00:00:00\", \"2017-11-28T00:00:00\", \"2017-11-29T00:00:00\", \"2017-11-30T00:00:00\", \"2017-12-01T00:00:00\", \"2017-12-04T00:00:00\", \"2017-12-05T00:00:00\", \"2017-12-06T00:00:00\", \"2017-12-07T00:00:00\", \"2017-12-08T00:00:00\", \"2017-12-11T00:00:00\", \"2017-12-12T00:00:00\", \"2017-12-13T00:00:00\", \"2017-12-14T00:00:00\", \"2017-12-15T00:00:00\", \"2017-12-18T00:00:00\", \"2017-12-19T00:00:00\", \"2017-12-20T00:00:00\", \"2017-12-21T00:00:00\", \"2017-12-22T00:00:00\", \"2017-12-26T00:00:00\", \"2017-12-27T00:00:00\", \"2017-12-28T00:00:00\", \"2017-12-29T00:00:00\", \"2018-01-02T00:00:00\", \"2018-01-03T00:00:00\", \"2018-01-04T00:00:00\", \"2018-01-05T00:00:00\", \"2018-01-08T00:00:00\", \"2018-01-09T00:00:00\", \"2018-01-10T00:00:00\", \"2018-01-11T00:00:00\", \"2018-01-12T00:00:00\", \"2018-01-16T00:00:00\", \"2018-01-17T00:00:00\", \"2018-01-18T00:00:00\", \"2018-01-19T00:00:00\", \"2018-01-22T00:00:00\", \"2018-01-23T00:00:00\", \"2018-01-24T00:00:00\", \"2018-01-25T00:00:00\", \"2018-01-26T00:00:00\", \"2018-01-29T00:00:00\", \"2018-01-30T00:00:00\", \"2018-01-31T00:00:00\", \"2018-02-01T00:00:00\", \"2018-02-02T00:00:00\", \"2018-02-05T00:00:00\", \"2018-02-06T00:00:00\", \"2018-02-07T00:00:00\", \"2018-02-08T00:00:00\", \"2018-02-09T00:00:00\", \"2018-02-12T00:00:00\", \"2018-02-13T00:00:00\", \"2018-02-14T00:00:00\", \"2018-02-15T00:00:00\", \"2018-02-16T00:00:00\", \"2018-02-20T00:00:00\", \"2018-02-21T00:00:00\", \"2018-02-22T00:00:00\", \"2018-02-23T00:00:00\", \"2018-02-26T00:00:00\", \"2018-02-27T00:00:00\", \"2018-02-28T00:00:00\", \"2018-03-01T00:00:00\", \"2018-03-02T00:00:00\", \"2018-03-05T00:00:00\", \"2018-03-06T00:00:00\", \"2018-03-07T00:00:00\", \"2018-03-08T00:00:00\", \"2018-03-09T00:00:00\", \"2018-03-12T00:00:00\", \"2018-03-13T00:00:00\", \"2018-03-14T00:00:00\", \"2018-03-15T00:00:00\", \"2018-03-16T00:00:00\", \"2018-03-19T00:00:00\", \"2018-03-20T00:00:00\", \"2018-03-21T00:00:00\", \"2018-03-22T00:00:00\", \"2018-03-23T00:00:00\", \"2018-03-26T00:00:00\", \"2018-03-27T00:00:00\", \"2018-03-28T00:00:00\", \"2018-03-29T00:00:00\", \"2018-04-02T00:00:00\", \"2018-04-03T00:00:00\", \"2018-04-04T00:00:00\", \"2018-04-05T00:00:00\", \"2018-04-06T00:00:00\", \"2018-04-09T00:00:00\", \"2018-04-10T00:00:00\", \"2018-04-11T00:00:00\", \"2018-04-12T00:00:00\", \"2018-04-13T00:00:00\", \"2018-04-16T00:00:00\", \"2018-04-17T00:00:00\", \"2018-04-18T00:00:00\", \"2018-04-19T00:00:00\", \"2018-04-20T00:00:00\", \"2018-04-23T00:00:00\", \"2018-04-24T00:00:00\", \"2018-04-25T00:00:00\", \"2018-04-26T00:00:00\", \"2018-04-27T00:00:00\", \"2018-04-30T00:00:00\", \"2018-05-01T00:00:00\", \"2018-05-02T00:00:00\", \"2018-05-03T00:00:00\", \"2018-05-04T00:00:00\", \"2018-05-07T00:00:00\", \"2018-05-08T00:00:00\", \"2018-05-09T00:00:00\", \"2018-05-10T00:00:00\", \"2018-05-11T00:00:00\", \"2018-05-14T00:00:00\", \"2018-05-15T00:00:00\", \"2018-05-16T00:00:00\", \"2018-05-17T00:00:00\", \"2018-05-18T00:00:00\", \"2018-05-21T00:00:00\", \"2018-05-22T00:00:00\", \"2018-05-23T00:00:00\", \"2018-05-24T00:00:00\", \"2018-05-25T00:00:00\", \"2018-05-29T00:00:00\", \"2018-05-30T00:00:00\", \"2018-05-31T00:00:00\", \"2018-06-01T00:00:00\", \"2018-06-04T00:00:00\", \"2018-06-05T00:00:00\", \"2018-06-06T00:00:00\", \"2018-06-07T00:00:00\", \"2018-06-08T00:00:00\", \"2018-06-11T00:00:00\", \"2018-06-12T00:00:00\", \"2018-06-13T00:00:00\", \"2018-06-14T00:00:00\", \"2018-06-15T00:00:00\", \"2018-06-18T00:00:00\", \"2018-06-19T00:00:00\", \"2018-06-20T00:00:00\", \"2018-06-21T00:00:00\", \"2018-06-22T00:00:00\", \"2018-06-25T00:00:00\", \"2018-06-26T00:00:00\", \"2018-06-27T00:00:00\", \"2018-06-28T00:00:00\", \"2018-06-29T00:00:00\", \"2018-07-02T00:00:00\", \"2018-07-03T00:00:00\", \"2018-07-05T00:00:00\", \"2018-07-06T00:00:00\", \"2018-07-09T00:00:00\", \"2018-07-10T00:00:00\", \"2018-07-11T00:00:00\", \"2018-07-12T00:00:00\", \"2018-07-13T00:00:00\", \"2018-07-16T00:00:00\", \"2018-07-17T00:00:00\", \"2018-07-18T00:00:00\", \"2018-07-19T00:00:00\", \"2018-07-20T00:00:00\", \"2018-07-23T00:00:00\", \"2018-07-24T00:00:00\", \"2018-07-25T00:00:00\", \"2018-07-26T00:00:00\", \"2018-07-27T00:00:00\", \"2018-07-30T00:00:00\", \"2018-07-31T00:00:00\", \"2018-08-01T00:00:00\", \"2018-08-02T00:00:00\", \"2018-08-03T00:00:00\", \"2018-08-06T00:00:00\", \"2018-08-07T00:00:00\", \"2018-08-08T00:00:00\", \"2018-08-09T00:00:00\", \"2018-08-10T00:00:00\", \"2018-08-13T00:00:00\", \"2018-08-14T00:00:00\", \"2018-08-15T00:00:00\", \"2018-08-16T00:00:00\", \"2018-08-17T00:00:00\", \"2018-08-20T00:00:00\", \"2018-08-21T00:00:00\", \"2018-08-22T00:00:00\", \"2018-08-23T00:00:00\", \"2018-08-24T00:00:00\", \"2018-08-27T00:00:00\", \"2018-08-28T00:00:00\", \"2018-08-29T00:00:00\", \"2018-08-30T00:00:00\", \"2018-08-31T00:00:00\", \"2018-09-04T00:00:00\", \"2018-09-05T00:00:00\", \"2018-09-06T00:00:00\", \"2018-09-07T00:00:00\", \"2018-09-10T00:00:00\", \"2018-09-11T00:00:00\", \"2018-09-12T00:00:00\", \"2018-09-13T00:00:00\", \"2018-09-14T00:00:00\", \"2018-09-17T00:00:00\", \"2018-09-18T00:00:00\", \"2018-09-19T00:00:00\", \"2018-09-20T00:00:00\", \"2018-09-21T00:00:00\", \"2018-09-24T00:00:00\", \"2018-09-25T00:00:00\", \"2018-09-26T00:00:00\", \"2018-09-27T00:00:00\", \"2018-09-28T00:00:00\", \"2018-10-01T00:00:00\", \"2018-10-02T00:00:00\", \"2018-10-03T00:00:00\", \"2018-10-04T00:00:00\", \"2018-10-05T00:00:00\", \"2018-10-08T00:00:00\", \"2018-10-09T00:00:00\", \"2018-10-10T00:00:00\", \"2018-10-11T00:00:00\", \"2018-10-12T00:00:00\", \"2018-10-15T00:00:00\", \"2018-10-16T00:00:00\", \"2018-10-17T00:00:00\", \"2018-10-18T00:00:00\", \"2018-10-19T00:00:00\", \"2018-10-22T00:00:00\", \"2018-10-23T00:00:00\", \"2018-10-24T00:00:00\", \"2018-10-25T00:00:00\", \"2018-10-26T00:00:00\", \"2018-10-29T00:00:00\", \"2018-10-30T00:00:00\", \"2018-10-31T00:00:00\", \"2018-11-01T00:00:00\", \"2018-11-02T00:00:00\", \"2018-11-05T00:00:00\", \"2018-11-06T00:00:00\", \"2018-11-07T00:00:00\", \"2018-11-08T00:00:00\", \"2018-11-09T00:00:00\", \"2018-11-12T00:00:00\", \"2018-11-13T00:00:00\", \"2018-11-14T00:00:00\", \"2018-11-15T00:00:00\", \"2018-11-16T00:00:00\", \"2018-11-19T00:00:00\", \"2018-11-20T00:00:00\", \"2018-11-21T00:00:00\", \"2018-11-23T00:00:00\", \"2018-11-26T00:00:00\", \"2018-11-27T00:00:00\", \"2018-11-28T00:00:00\", \"2018-11-29T00:00:00\", \"2018-11-30T00:00:00\", \"2018-12-03T00:00:00\", \"2018-12-04T00:00:00\", \"2018-12-06T00:00:00\", \"2018-12-07T00:00:00\", \"2018-12-10T00:00:00\", \"2018-12-11T00:00:00\", \"2018-12-12T00:00:00\", \"2018-12-13T00:00:00\", \"2018-12-14T00:00:00\", \"2018-12-17T00:00:00\", \"2018-12-18T00:00:00\", \"2018-12-19T00:00:00\", \"2018-12-20T00:00:00\", \"2018-12-21T00:00:00\", \"2018-12-24T00:00:00\", \"2018-12-26T00:00:00\", \"2018-12-27T00:00:00\", \"2018-12-28T00:00:00\", \"2018-12-31T00:00:00\", \"2019-01-02T00:00:00\", \"2019-01-03T00:00:00\", \"2019-01-04T00:00:00\", \"2019-01-07T00:00:00\", \"2019-01-08T00:00:00\", \"2019-01-09T00:00:00\", \"2019-01-10T00:00:00\", \"2019-01-11T00:00:00\", \"2019-01-14T00:00:00\", \"2019-01-15T00:00:00\", \"2019-01-16T00:00:00\", \"2019-01-17T00:00:00\", \"2019-01-18T00:00:00\", \"2019-01-22T00:00:00\", \"2019-01-23T00:00:00\", \"2019-01-24T00:00:00\", \"2019-01-25T00:00:00\", \"2019-01-28T00:00:00\", \"2019-01-29T00:00:00\", \"2019-01-30T00:00:00\", \"2019-01-31T00:00:00\", \"2019-02-01T00:00:00\", \"2019-02-04T00:00:00\", \"2019-02-05T00:00:00\", \"2019-02-06T00:00:00\", \"2019-02-07T00:00:00\", \"2019-02-08T00:00:00\", \"2019-02-11T00:00:00\", \"2019-02-12T00:00:00\", \"2019-02-13T00:00:00\", \"2019-02-14T00:00:00\", \"2019-02-15T00:00:00\", \"2019-02-19T00:00:00\", \"2019-02-20T00:00:00\", \"2019-02-21T00:00:00\", \"2019-02-22T00:00:00\", \"2019-02-25T00:00:00\", \"2019-02-26T00:00:00\", \"2019-02-27T00:00:00\", \"2019-02-28T00:00:00\", \"2019-03-01T00:00:00\", \"2019-03-04T00:00:00\", \"2019-03-05T00:00:00\", \"2019-03-06T00:00:00\", \"2019-03-07T00:00:00\", \"2019-03-08T00:00:00\", \"2019-03-11T00:00:00\", \"2019-03-12T00:00:00\", \"2019-03-13T00:00:00\", \"2019-03-14T00:00:00\", \"2019-03-15T00:00:00\", \"2019-03-18T00:00:00\", \"2019-03-19T00:00:00\", \"2019-03-20T00:00:00\", \"2019-03-21T00:00:00\", \"2019-03-22T00:00:00\", \"2019-03-25T00:00:00\", \"2019-03-26T00:00:00\", \"2019-03-27T00:00:00\", \"2019-03-28T00:00:00\", \"2019-03-29T00:00:00\", \"2019-04-01T00:00:00\", \"2019-04-02T00:00:00\", \"2019-04-03T00:00:00\", \"2019-04-04T00:00:00\", \"2019-04-05T00:00:00\", \"2019-04-08T00:00:00\", \"2019-04-09T00:00:00\", \"2019-04-10T00:00:00\", \"2019-04-11T00:00:00\", \"2019-04-12T00:00:00\", \"2019-04-15T00:00:00\", \"2019-04-16T00:00:00\", \"2019-04-17T00:00:00\", \"2019-04-18T00:00:00\", \"2019-04-22T00:00:00\", \"2019-04-23T00:00:00\", \"2019-04-24T00:00:00\", \"2019-04-25T00:00:00\", \"2019-04-26T00:00:00\", \"2019-04-29T00:00:00\", \"2019-04-30T00:00:00\", \"2019-05-01T00:00:00\", \"2019-05-02T00:00:00\", \"2019-05-03T00:00:00\", \"2019-05-06T00:00:00\", \"2019-05-07T00:00:00\", \"2019-05-08T00:00:00\", \"2019-05-09T00:00:00\", \"2019-05-10T00:00:00\", \"2019-05-13T00:00:00\", \"2019-05-14T00:00:00\", \"2019-05-15T00:00:00\", \"2019-05-16T00:00:00\", \"2019-05-17T00:00:00\", \"2019-05-20T00:00:00\", \"2019-05-21T00:00:00\", \"2019-05-22T00:00:00\", \"2019-05-23T00:00:00\", \"2019-05-24T00:00:00\", \"2019-05-28T00:00:00\", \"2019-05-29T00:00:00\", \"2019-05-30T00:00:00\", \"2019-05-31T00:00:00\", \"2019-06-03T00:00:00\", \"2019-06-04T00:00:00\", \"2019-06-05T00:00:00\", \"2019-06-06T00:00:00\", \"2019-06-07T00:00:00\", \"2019-06-10T00:00:00\", \"2019-06-11T00:00:00\", \"2019-06-12T00:00:00\", \"2019-06-13T00:00:00\", \"2019-06-14T00:00:00\", \"2019-06-17T00:00:00\", \"2019-06-18T00:00:00\", \"2019-06-19T00:00:00\", \"2019-06-20T00:00:00\", \"2019-06-21T00:00:00\", \"2019-06-24T00:00:00\", \"2019-06-25T00:00:00\", \"2019-06-26T00:00:00\", \"2019-06-27T00:00:00\", \"2019-06-28T00:00:00\", \"2019-07-01T00:00:00\", \"2019-07-02T00:00:00\", \"2019-07-03T00:00:00\", \"2019-07-05T00:00:00\", \"2019-07-08T00:00:00\", \"2019-07-09T00:00:00\", \"2019-07-10T00:00:00\", \"2019-07-11T00:00:00\", \"2019-07-12T00:00:00\", \"2019-07-15T00:00:00\", \"2019-07-16T00:00:00\", \"2019-07-17T00:00:00\", \"2019-07-18T00:00:00\", \"2019-07-19T00:00:00\", \"2019-07-22T00:00:00\", \"2019-07-23T00:00:00\", \"2019-07-24T00:00:00\", \"2019-07-25T00:00:00\", \"2019-07-26T00:00:00\", \"2019-07-29T00:00:00\", \"2019-07-30T00:00:00\", \"2019-07-31T00:00:00\", \"2019-08-01T00:00:00\", \"2019-08-02T00:00:00\", \"2019-08-05T00:00:00\", \"2019-08-06T00:00:00\", \"2019-08-07T00:00:00\", \"2019-08-08T00:00:00\", \"2019-08-09T00:00:00\", \"2019-08-12T00:00:00\", \"2019-08-13T00:00:00\", \"2019-08-14T00:00:00\", \"2019-08-15T00:00:00\", \"2019-08-16T00:00:00\", \"2019-08-19T00:00:00\", \"2019-08-20T00:00:00\", \"2019-08-21T00:00:00\", \"2019-08-22T00:00:00\", \"2019-08-23T00:00:00\", \"2019-08-26T00:00:00\", \"2019-08-27T00:00:00\", \"2019-08-28T00:00:00\", \"2019-08-29T00:00:00\", \"2019-08-30T00:00:00\", \"2019-09-03T00:00:00\", \"2019-09-04T00:00:00\", \"2019-09-05T00:00:00\", \"2019-09-06T00:00:00\", \"2019-09-09T00:00:00\", \"2019-09-10T00:00:00\", \"2019-09-11T00:00:00\", \"2019-09-12T00:00:00\", \"2019-09-13T00:00:00\", \"2019-09-16T00:00:00\", \"2019-09-17T00:00:00\", \"2019-09-18T00:00:00\", \"2019-09-19T00:00:00\", \"2019-09-20T00:00:00\", \"2019-09-23T00:00:00\", \"2019-09-24T00:00:00\", \"2019-09-25T00:00:00\", \"2019-09-26T00:00:00\", \"2019-09-27T00:00:00\", \"2019-09-30T00:00:00\", \"2019-10-01T00:00:00\", \"2019-10-02T00:00:00\", \"2019-10-03T00:00:00\", \"2019-10-04T00:00:00\", \"2019-10-07T00:00:00\", \"2019-10-08T00:00:00\", \"2019-10-09T00:00:00\", \"2019-10-10T00:00:00\", \"2019-10-11T00:00:00\", \"2019-10-14T00:00:00\", \"2019-10-15T00:00:00\", \"2019-10-16T00:00:00\", \"2019-10-17T00:00:00\", \"2019-10-18T00:00:00\", \"2019-10-21T00:00:00\", \"2019-10-22T00:00:00\", \"2019-10-23T00:00:00\", \"2019-10-24T00:00:00\", \"2019-10-25T00:00:00\", \"2019-10-28T00:00:00\", \"2019-10-29T00:00:00\", \"2019-10-30T00:00:00\", \"2019-10-31T00:00:00\", \"2019-11-01T00:00:00\", \"2019-11-04T00:00:00\", \"2019-11-05T00:00:00\", \"2019-11-06T00:00:00\", \"2019-11-07T00:00:00\", \"2019-11-08T00:00:00\", \"2019-11-11T00:00:00\", \"2019-11-12T00:00:00\", \"2019-11-13T00:00:00\", \"2019-11-14T00:00:00\", \"2019-11-15T00:00:00\", \"2019-11-18T00:00:00\", \"2019-11-19T00:00:00\", \"2019-11-20T00:00:00\", \"2019-11-21T00:00:00\", \"2019-11-22T00:00:00\", \"2019-11-25T00:00:00\", \"2019-11-26T00:00:00\", \"2019-11-27T00:00:00\", \"2019-11-29T00:00:00\", \"2019-12-02T00:00:00\", \"2019-12-03T00:00:00\", \"2019-12-04T00:00:00\", \"2019-12-05T00:00:00\", \"2019-12-06T00:00:00\", \"2019-12-09T00:00:00\", \"2019-12-10T00:00:00\", \"2019-12-11T00:00:00\", \"2019-12-12T00:00:00\", \"2019-12-13T00:00:00\", \"2019-12-16T00:00:00\", \"2019-12-17T00:00:00\", \"2019-12-18T00:00:00\", \"2019-12-19T00:00:00\", \"2019-12-20T00:00:00\", \"2019-12-23T00:00:00\", \"2019-12-24T00:00:00\", \"2019-12-26T00:00:00\", \"2019-12-27T00:00:00\", \"2019-12-30T00:00:00\", \"2019-12-31T00:00:00\", \"2020-01-02T00:00:00\", \"2020-01-03T00:00:00\", \"2020-01-06T00:00:00\", \"2020-01-07T00:00:00\", \"2020-01-08T00:00:00\", \"2020-01-09T00:00:00\", \"2020-01-10T00:00:00\", \"2020-01-13T00:00:00\", \"2020-01-14T00:00:00\", \"2020-01-15T00:00:00\", \"2020-01-16T00:00:00\", \"2020-01-17T00:00:00\", \"2020-01-21T00:00:00\", \"2020-01-22T00:00:00\", \"2020-01-23T00:00:00\", \"2020-01-24T00:00:00\", \"2020-01-27T00:00:00\", \"2020-01-28T00:00:00\", \"2020-01-29T00:00:00\", \"2020-01-30T00:00:00\", \"2020-01-31T00:00:00\", \"2020-02-03T00:00:00\", \"2020-02-04T00:00:00\", \"2020-02-05T00:00:00\", \"2020-02-06T00:00:00\", \"2020-02-07T00:00:00\", \"2020-02-10T00:00:00\", \"2020-02-11T00:00:00\", \"2020-02-12T00:00:00\", \"2020-02-13T00:00:00\", \"2020-02-14T00:00:00\", \"2020-02-18T00:00:00\", \"2020-02-19T00:00:00\", \"2020-02-20T00:00:00\", \"2020-02-21T00:00:00\", \"2020-02-24T00:00:00\", \"2020-02-25T00:00:00\", \"2020-02-26T00:00:00\", \"2020-02-27T00:00:00\", \"2020-02-28T00:00:00\", \"2020-03-02T00:00:00\", \"2020-03-03T00:00:00\", \"2020-03-04T00:00:00\", \"2020-03-05T00:00:00\", \"2020-03-06T00:00:00\", \"2020-03-09T00:00:00\", \"2020-03-10T00:00:00\", \"2020-03-11T00:00:00\", \"2020-03-12T00:00:00\", \"2020-03-13T00:00:00\", \"2020-03-16T00:00:00\", \"2020-03-17T00:00:00\", \"2020-03-18T00:00:00\", \"2020-03-19T00:00:00\", \"2020-03-20T00:00:00\", \"2020-03-23T00:00:00\", \"2020-03-24T00:00:00\", \"2020-03-25T00:00:00\", \"2020-03-26T00:00:00\", \"2020-03-27T00:00:00\", \"2020-03-30T00:00:00\", \"2020-03-31T00:00:00\", \"2020-04-01T00:00:00\", \"2020-04-02T00:00:00\", \"2020-04-03T00:00:00\", \"2020-04-06T00:00:00\", \"2020-04-07T00:00:00\", \"2020-04-08T00:00:00\", \"2020-04-09T00:00:00\", \"2020-04-13T00:00:00\", \"2020-04-14T00:00:00\", \"2020-04-15T00:00:00\", \"2020-04-16T00:00:00\", \"2020-04-17T00:00:00\", \"2020-04-20T00:00:00\", \"2020-04-21T00:00:00\", \"2020-04-22T00:00:00\", \"2020-04-23T00:00:00\", \"2020-04-24T00:00:00\", \"2020-04-27T00:00:00\", \"2020-04-28T00:00:00\", \"2020-04-29T00:00:00\", \"2020-04-30T00:00:00\", \"2020-05-01T00:00:00\", \"2020-05-04T00:00:00\", \"2020-05-05T00:00:00\", \"2020-05-06T00:00:00\", \"2020-05-07T00:00:00\", \"2020-05-08T00:00:00\", \"2020-05-11T00:00:00\", \"2020-05-12T00:00:00\", \"2020-05-13T00:00:00\", \"2020-05-14T00:00:00\", \"2020-05-15T00:00:00\", \"2020-05-18T00:00:00\", \"2020-05-19T00:00:00\", \"2020-05-20T00:00:00\", \"2020-05-21T00:00:00\", \"2020-05-22T00:00:00\", \"2020-05-26T00:00:00\", \"2020-05-27T00:00:00\", \"2020-05-28T00:00:00\", \"2020-05-29T00:00:00\", \"2020-06-01T00:00:00\", \"2020-06-02T00:00:00\", \"2020-06-03T00:00:00\", \"2020-06-04T00:00:00\", \"2020-06-05T00:00:00\", \"2020-06-08T00:00:00\", \"2020-06-09T00:00:00\", \"2020-06-10T00:00:00\", \"2020-06-11T00:00:00\", \"2020-06-12T00:00:00\", \"2020-06-15T00:00:00\", \"2020-06-16T00:00:00\", \"2020-06-17T00:00:00\", \"2020-06-18T00:00:00\", \"2020-06-19T00:00:00\", \"2020-06-22T00:00:00\", \"2020-06-23T00:00:00\", \"2020-06-24T00:00:00\", \"2020-06-25T00:00:00\", \"2020-06-26T00:00:00\", \"2020-06-29T00:00:00\", \"2020-06-30T00:00:00\", \"2020-07-01T00:00:00\", \"2020-07-02T00:00:00\", \"2020-07-06T00:00:00\", \"2020-07-07T00:00:00\", \"2020-07-08T00:00:00\", \"2020-07-09T00:00:00\", \"2020-07-10T00:00:00\", \"2020-07-13T00:00:00\", \"2020-07-14T00:00:00\", \"2020-07-15T00:00:00\", \"2020-07-16T00:00:00\", \"2020-07-17T00:00:00\", \"2020-07-20T00:00:00\", \"2020-07-21T00:00:00\", \"2020-07-22T00:00:00\", \"2020-07-23T00:00:00\", \"2020-07-24T00:00:00\", \"2020-07-27T00:00:00\", \"2020-07-28T00:00:00\", \"2020-07-29T00:00:00\", \"2020-07-30T00:00:00\", \"2020-07-31T00:00:00\", \"2020-08-03T00:00:00\", \"2020-08-04T00:00:00\", \"2020-08-05T00:00:00\", \"2020-08-06T00:00:00\", \"2020-08-07T00:00:00\", \"2020-08-10T00:00:00\", \"2020-08-11T00:00:00\", \"2020-08-12T00:00:00\", \"2020-08-13T00:00:00\", \"2020-08-14T00:00:00\", \"2020-08-17T00:00:00\", \"2020-08-18T00:00:00\", \"2020-08-19T00:00:00\", \"2020-08-20T00:00:00\", \"2020-08-21T00:00:00\", \"2020-08-24T00:00:00\", \"2020-08-25T00:00:00\", \"2020-08-26T00:00:00\", \"2020-08-27T00:00:00\", \"2020-08-28T00:00:00\", \"2020-08-31T00:00:00\", \"2020-09-01T00:00:00\", \"2020-09-02T00:00:00\", \"2020-09-03T00:00:00\", \"2020-09-04T00:00:00\", \"2020-09-08T00:00:00\", \"2020-09-09T00:00:00\", \"2020-09-10T00:00:00\", \"2020-09-11T00:00:00\", \"2020-09-14T00:00:00\", \"2020-09-15T00:00:00\", \"2020-09-16T00:00:00\", \"2020-09-17T00:00:00\", \"2020-09-18T00:00:00\", \"2020-09-21T00:00:00\", \"2020-09-22T00:00:00\", \"2020-09-23T00:00:00\", \"2020-09-24T00:00:00\", \"2020-09-25T00:00:00\", \"2020-09-28T00:00:00\", \"2020-09-29T00:00:00\", \"2020-09-30T00:00:00\", \"2020-10-01T00:00:00\", \"2020-10-02T00:00:00\", \"2020-10-05T00:00:00\", \"2020-10-06T00:00:00\", \"2020-10-07T00:00:00\", \"2020-10-08T00:00:00\", \"2020-10-09T00:00:00\", \"2020-10-12T00:00:00\", \"2020-10-13T00:00:00\", \"2020-10-14T00:00:00\", \"2020-10-15T00:00:00\", \"2020-10-16T00:00:00\", \"2020-10-19T00:00:00\", \"2020-10-20T00:00:00\", \"2020-10-21T00:00:00\", \"2020-10-22T00:00:00\", \"2020-10-23T00:00:00\", \"2020-10-26T00:00:00\", \"2020-10-27T00:00:00\", \"2020-10-28T00:00:00\", \"2020-10-29T00:00:00\", \"2020-10-30T00:00:00\", \"2020-11-02T00:00:00\", \"2020-11-03T00:00:00\", \"2020-11-04T00:00:00\", \"2020-11-05T00:00:00\", \"2020-11-06T00:00:00\", \"2020-11-09T00:00:00\", \"2020-11-10T00:00:00\", \"2020-11-11T00:00:00\", \"2020-11-12T00:00:00\", \"2020-11-13T00:00:00\", \"2020-11-16T00:00:00\", \"2020-11-17T00:00:00\", \"2020-11-18T00:00:00\", \"2020-11-19T00:00:00\", \"2020-11-20T00:00:00\", \"2020-11-23T00:00:00\", \"2020-11-24T00:00:00\", \"2020-11-25T00:00:00\", \"2020-11-27T00:00:00\", \"2020-11-30T00:00:00\", \"2020-12-01T00:00:00\", \"2020-12-02T00:00:00\", \"2020-12-03T00:00:00\", \"2020-12-04T00:00:00\", \"2020-12-07T00:00:00\", \"2020-12-08T00:00:00\", \"2020-12-09T00:00:00\", \"2020-12-10T00:00:00\", \"2020-12-11T00:00:00\"], \"xaxis\": \"x\", \"y\": [27.332500457763672, 26.5625, 26.565000534057617, 26.9375, 27.97249984741211, 28.002500534057617, 27.3125, 27.55500030517578, 27.450000762939453, 26.704999923706055, 26.497499465942383, 27.18000030517578, 27.387500762939453, 28.100000381469727, 28.2450008392334, 28.274999618530273, 27.28499984741211, 28.827499389648438, 29.725000381469727, 29.290000915527344, 29.657499313354492, 29.662500381469727, 29.889999389648438, 29.985000610351562, 29.732500076293945, 29.93000030517578, 30.5049991607666, 31.219999313354492, 31.614999771118164, 31.770000457763672, 31.957500457763672, 32.18000030517578, 32.11249923706055, 32.375, 33.25, 33.04249954223633, 32.1974983215332, 32.60499954223633, 32.1150016784668, 32.272499084472656, 32.34000015258789, 32.1349983215332, 31.602500915527344, 31.649999618530273, 31.78499984741211, 31.127500534057617, 30.559999465942383, 31.112499237060547, 30.897499084472656, 31.237499237060547, 31.760000228881836, 32.11750030517578, 31.875, 31.475000381469727, 31.802499771118164, 31.672500610351562, 30.844999313354492, 31.059999465942383, 30.8125, 31.592500686645508, 31.107500076293945, 31.0625, 31.329999923706055, 31.837499618530273, 31.502500534057617, 31.399999618530273, 31.639999389648438, 31.774999618530273, 31.712499618530273, 31.575000762939453, 31.69499969482422, 31.542499542236328, 31.1875, 31.899999618530273, 31.727500915527344, 32.154998779296875, 32.41749954223633, 32.56999969482422, 33.162498474121094, 32.63999938964844, 32.15999984741211, 31.287500381469727, 32.23749923706055, 32.17499923706055, 31.450000762939453, 31.252500534057617, 31.315000534057617, 31.905000686645508, 31.579999923706055, 31.467500686645508, 31.502500534057617, 32.23749923706055, 32.192501068115234, 32.54750061035156, 32.51750183105469, 32.51499938964844, 32.84749984741211, 33.1349983215332, 32.404998779296875, 33.0099983215332, 32.94499969482422, 32.56999969482422, 32.6349983215332, 32.4900016784668, 32.529998779296875, 32.34000015258789, 32.162498474121094, 31.950000762939453, 31.854999542236328, 32.220001220703125, 32.147499084472656, 31.792499542236328, 31.729999542236328, 31.899999618530273, 31.825000762939453, 31.969999313354492, 31.649999618530273, 31.90250015258789, 31.75749969482422, 32.02750015258789, 31.875, 31.6875, 31.13249969482422, 31.357500076293945, 31.649999618530273, 31.610000610351562, 31.5, 31.422500610351562, 30.642499923706055, 30.017499923706055, 30.81999969482422, 31.415000915527344, 31.40250015258789, 31.704999923706055, 32.127498626708984, 32.404998779296875, 33.01750183105469, 32.6875, 31.30500030517578, 31.290000915527344, 31.125, 30.6924991607666, 30.844999313354492, 30.747499465942383, 30.592500686645508, 30.325000762939453, 29.610000610351562, 28.65999984741211, 28.850000381469727, 28.782499313354492, 28.8799991607666, 29.93000030517578, 28.372499465942383, 28.809999465942383, 28.787500381469727, 28.989999771118164, 29.290000915527344, 29.125, 28.752500534057617, 28.162500381469727, 26.440000534057617, 25.780000686645508, 25.934999465942383, 27.422500610351562, 28.229999542236328, 28.322500228881836, 28.190000534057617, 26.93000030517578, 28.084999084472656, 27.592500686645508, 27.3174991607666, 28.077499389648438, 27.537500381469727, 28.142499923706055, 28.552499771118164, 28.827499389648438, 29.06999969482422, 29.102500915527344, 28.479999542236328, 28.362499237060547, 28.802499771118164, 28.350000381469727, 28.579999923706055, 28.75, 28.677499771118164, 28.110000610351562, 27.264999389648438, 27.575000762939453, 27.395000457763672, 27.594999313354492, 27.69499969482422, 27.827499389648438, 27.69499969482422, 27.375, 28.030000686645508, 27.899999618530273, 27.947500228881836, 27.552499771118164, 27.96500015258789, 27.760000228881836, 27.9325008392334, 28.4424991607666, 28.440000534057617, 28.875, 29.770000457763672, 28.81999969482422, 28.637500762939453, 29.8174991607666, 30.13249969482422, 29.875, 30.295000076293945, 30.642499923706055, 30.5, 30.229999542236328, 30.264999389648438, 30.142499923706055, 29.1924991607666, 29.02750015258789, 28.93000030517578, 28.084999084472656, 28.545000076293945, 28.422500610351562, 29.322500228881836, 29.69499969482422, 29.825000762939453, 29.4375, 29.719999313354492, 29.50749969482422, 29.452499389648438, 29.575000762939453, 29.334999084472656, 29.06999969482422, 28.799999237060547, 29.75749969482422, 29.56999969482422, 29.5575008392334, 28.905000686645508, 29.042499542236328, 28.295000076293945, 28.1200008392334, 27.622499465942383, 27.834999084472656, 27.2450008392334, 26.50749969482422, 26.832500457763672, 26.8075008392334, 27.15250015258789, 27.00749969482422, 26.704999923706055, 27.184999465942383, 26.829999923706055, 26.315000534057617, 26.337499618530273, 25.677499771118164, 25.174999237060547, 24.112499237060547, 24.239999771118164, 24.63249969482422, 24.989999771118164, 24.34749984741211, 24.8799991607666, 24.282499313354492, 24.165000915527344, 24.197500228881836, 24.075000762939453, 25.354999542236328, 24.860000610351562, 24.997499465942383, 23.354999542236328, 23.522499084472656, 24.334999084472656, 24.107500076293945, 23.6200008392334, 24.087499618530273, 24.149999618530273, 23.5049991607666, 23.752500534057617, 23.747499465942383, 23.5674991607666, 23.424999237060547, 23.497499465942383, 24.15999984741211, 24.530000686645508, 24.065000534057617, 24.010000228881836, 24.219999313354492, 23.672500610351562, 24.024999618530273, 24.190000534057617, 24.227500915527344, 24.172500610351562, 25.13249969482422, 25.1875, 25.375, 25.752500534057617, 25.467500686645508, 25.25749969482422, 25.280000686645508, 25.292499542236328, 25.565000534057617, 25.6299991607666, 26.145000457763672, 26.49250030517578, 26.450000762939453, 26.479999542236328, 26.477500915527344, 26.68000030517578, 26.532499313354492, 26.417499542236328, 26.297500610351562, 26.920000076293945, 27.389999389648438, 27.247499465942383, 27.497499465942383, 27.780000686645508, 27.452499389648438, 27.739999771118164, 27.135000228881836, 27.165000915527344, 27.2549991607666, 27.610000610351562, 28.010000228881836, 28.024999618530273, 27.462499618530273, 26.8700008392334, 26.727500915527344, 26.782499313354492, 26.49250030517578, 26.420000076293945, 26.270000457763672, 26.087499618530273, 24.454999923706055, 23.707500457763672, 23.434999465942383, 23.40999984741211, 23.795000076293945, 23.547500610351562, 23.309999465942383, 23.18000030517578, 23.197500228881836, 23.354999542236328, 23.127500534057617, 22.584999084472656, 22.6299991607666, 23.469999313354492, 23.372499465942383, 23.639999389648438, 23.549999237060547, 23.80500030517578, 24.107500076293945, 24.475000381469727, 24.905000686645508, 25.102500915527344, 25.087499618530273, 24.96500015258789, 24.614999771118164, 24.43000030517578, 24.479999542236328, 24.657499313354492, 24.75749969482422, 24.735000610351562, 24.912500381469727, 24.707500457763672, 24.334999084472656, 24.364999771118164, 24.28499984741211, 24.387500762939453, 23.832500457763672, 23.774999618530273, 23.977500915527344, 23.887500762939453, 24.024999618530273, 23.350000381469727, 23.010000228881836, 23.397499084472656, 23.600000381469727, 23.899999618530273, 23.97249984741211, 23.747499465942383, 23.88249969482422, 23.985000610351562, 24.170000076293945, 24.2450008392334, 24.354999542236328, 24.217500686645508, 24.697500228881836, 24.69499969482422, 24.957500457763672, 24.967500686645508, 24.989999771118164, 24.857500076293945, 24.665000915527344, 24.334999084472656, 24.167499542236328, 25.737499237060547, 26.084999084472656, 26.052499771118164, 26.512500762939453, 26.1200008392334, 26.447500228881836, 26.467500686645508, 26.8700008392334, 27.092500686645508, 27.202499389648438, 27.0, 26.982500076293945, 27.045000076293945, 27.3700008392334, 27.344999313354492, 27.30500030517578, 27.270000457763672, 27.34000015258789, 27.127500534057617, 27.212499618530273, 27.00749969482422, 26.892499923706055, 26.735000610351562, 26.704999923706055, 26.5, 26.524999618530273, 26.6825008392334, 26.9325008392334, 26.924999237060547, 27.09000015258789, 26.3799991607666, 25.782499313354492, 26.360000610351562, 26.987499237060547, 27.9424991607666, 28.892499923706055, 28.729999542236328, 28.395000457763672, 28.392499923706055, 28.387500762939453, 28.655000686645508, 28.177499771118164, 28.219999313354492, 28.272499084472656, 28.487499237060547, 28.045000076293945, 28.262500762939453, 28.1299991607666, 28.25, 28.262500762939453, 28.47249984741211, 28.514999389648438, 29.012500762939453, 29.075000762939453, 29.334999084472656, 29.2450008392334, 29.407499313354492, 29.387500762939453, 29.36750030517578, 29.280000686645508, 29.264999389648438, 29.149999618530273, 29.412500381469727, 29.5625, 28.897499084472656, 28.6200008392334, 28.43000030517578, 28.385000228881836, 27.872499465942383, 27.897499084472656, 27.457500457763672, 27.209999084472656, 27.602500915527344, 27.764999389648438, 27.719999313354492, 26.947500228881836, 27.107500076293945, 26.427499771118164, 26.77750015258789, 27.497499465942383, 27.487499237060547, 27.514999389648438, 27.9325008392334, 27.950000762939453, 27.8075008392334, 27.947500228881836, 27.892499923706055, 27.864999771118164, 27.6299991607666, 27.372499465942383, 27.475000381469727, 27.27750015258789, 27.487499237060547, 27.75749969482422, 28.030000686645508, 28.487499237060547, 28.325000762939453, 28.797500610351562, 28.797500610351562, 28.954999923706055, 28.99250030517578, 29.15999984741211, 29.237499237060547, 29.264999389648438, 29.072500228881836, 29.1299991607666, 29.315000534057617, 29.190000534057617, 29.1825008392334, 28.954999923706055, 29.037500381469727, 29.0049991607666, 29.15250015258789, 29.477500915527344, 29.747499465942383, 29.77750015258789, 29.9375, 29.8125, 29.760000228881836, 30.0, 29.997499465942383, 29.94499969482422, 30.0, 30.020000457763672, 29.99250030517578, 30.469999313354492, 30.485000610351562, 30.487499237060547, 30.407499313354492, 30.337499618530273, 32.1875, 32.13249969482422, 32.27000045776367, 32.5724983215332, 32.88249969482422, 33.0099983215332, 33.10499954223633, 33.029998779296875, 33.3224983215332, 33.755001068115234, 33.877498626708984, 33.837501525878906, 33.93000030517578, 34.17499923706055, 34.27750015258789, 34.13249969482422, 34.165000915527344, 34.23249816894531, 34.247501373291016, 34.9474983215332, 34.7400016784668, 34.94499969482422, 34.834999084472656, 34.880001068115234, 34.75, 34.66999816894531, 34.78499984741211, 34.79999923706055, 34.747501373291016, 35.1150016784668, 35.17250061035156, 34.997501373291016, 35.3650016784668, 34.959999084472656, 35.35499954223633, 35.22999954223633, 35.15999984741211, 35.220001220703125, 35.95000076293945, 36.029998779296875, 35.98249816894531, 35.915000915527344, 35.92499923706055, 36.192501068115234, 36.005001068115234, 35.915000915527344, 35.834999084472656, 35.79249954223633, 35.407501220703125, 35.45000076293945, 35.26250076293945, 35.45750045776367, 35.29999923706055, 35.16999816894531, 35.61000061035156, 35.567501068115234, 35.90999984741211, 36.13249969482422, 35.91999816894531, 35.9474983215332, 35.912498474121094, 36.64500045776367, 36.877498626708984, 36.76499938964844, 36.63249969482422, 37.2400016784668, 38.252498626708984, 38.497501373291016, 38.314998626708984, 38.48749923706055, 39.025001525878906, 38.92499923706055, 38.86750030517578, 37.5625, 38.1349983215332, 38.26499938964844, 38.497501373291016, 38.45000076293945, 38.334999084472656, 38.467498779296875, 38.40250015258789, 38.41749954223633, 38.189998626708984, 38.29499816894531, 38.86249923706055, 38.48249816894531, 38.61249923706055, 38.842498779296875, 38.747501373291016, 37.244998931884766, 36.35499954223633, 36.647499084472656, 36.290000915527344, 36.0724983215332, 35.567501068115234, 36.584999084472656, 36.252498626708984, 36.467498779296875, 36.407501220703125, 36.56999969482422, 36.45500183105469, 35.932498931884766, 36.45750045776367, 35.91999816894531, 36.005001068115234, 35.875, 36.022499084472656, 35.682498931884766, 36.04499816894531, 36.26499938964844, 36.38249969482422, 36.435001373291016, 36.942501068115234, 37.2599983215332, 37.38999938964844, 37.52000045776367, 37.755001068115234, 37.584999084472656, 37.567501068115234, 38.022499084472656, 38.185001373291016, 38.3650016784668, 37.63999938964844, 37.375, 37.182498931884766, 37.51250076293945, 39.28499984741211, 38.89250183105469, 39.09749984741211, 39.70249938964844, 40.02000045776367, 40.26499938964844, 38.83000183105469, 39.369998931884766, 39.962501525878906, 40.400001525878906, 40.23749923706055, 39.46500015258789, 39.375, 39.3025016784668, 39.94499969482422, 39.994998931884766, 39.817501068115234, 39.96500015258789, 40.36750030517578, 40.727500915527344, 40.837501525878906, 41.0, 41.01250076293945, 40.52000045776367, 40.477500915527344, 40.314998626708984, 39.657501220703125, 40.375, 40.21500015258789, 39.912498474121094, 39.56999969482422, 39.970001220703125, 39.66749954223633, 39.682498931884766, 39.01750183105469, 38.34749984741211, 37.97249984741211, 37.63750076293945, 38.28499984741211, 38.557498931884766, 38.31999969482422, 38.529998779296875, 38.45249938964844, 38.619998931884766, 38.369998931884766, 38.84749984741211, 38.82500076293945, 38.959999084472656, 38.974998474121094, 39.13750076293945, 39.0, 39.247501373291016, 39.970001220703125, 40.11750030517578, 39.939998626708984, 38.994998931884766, 39.0625, 39.04249954223633, 39.275001525878906, 39.102500915527344, 39.352500915527344, 40.76250076293945, 41.68000030517578, 42.2599983215332, 41.72249984741211, 42.02750015258789, 43.125, 43.5625, 43.70249938964844, 44.060001373291016, 43.970001220703125, 43.66749954223633, 43.49250030517578, 42.834999084472656, 42.27000045776367, 42.775001525878906, 42.537498474121094, 42.494998931884766, 43.28499984741211, 43.7400016784668, 43.74250030517578, 43.522499084472656, 43.26750183105469, 42.369998931884766, 42.962501525878906, 42.76250076293945, 42.45000076293945, 42.40999984741211, 42.252498626708984, 42.33000183105469, 42.342498779296875, 43.16749954223633, 42.92499923706055, 43.067501068115234, 43.05500030517578, 43.49250030517578, 44.10499954223633, 43.6349983215332, 43.587501525878906, 43.752498626708984, 43.752498626708984, 42.64250183105469, 42.650001525878906, 42.77000045776367, 42.307498931884766, 43.064998626708984, 43.057498931884766, 43.25749969482422, 43.75, 43.587501525878906, 43.58250045776367, 43.5724983215332, 43.81999969482422, 44.272499084472656, 44.04750061035156, 44.775001525878906, 44.814998626708984, 44.6150016784668, 44.25, 44.2599983215332, 43.55500030517578, 42.77750015258789, 42.877498626708984, 41.9900016784668, 41.74250030517578, 41.85749816894531, 41.94499969482422, 40.125, 39.122501373291016, 40.75749969482422, 39.8849983215332, 38.787498474121094, 39.102500915527344, 40.6775016784668, 41.084999084472656, 41.842498779296875, 43.247501373291016, 43.10749816894531, 42.962501525878906, 42.76750183105469, 43.125, 43.875, 44.74250030517578, 44.59749984741211, 44.529998779296875, 43.75, 44.0525016784668, 44.20500183105469, 44.16749954223633, 43.75749969482422, 44.23500061035156, 44.994998931884766, 45.43000030517578, 44.99250030517578, 44.61000061035156, 44.662498474121094, 44.505001068115234, 43.82500076293945, 43.810001373291016, 42.817501068115234, 42.212501525878906, 41.23500061035156, 43.192501068115234, 42.084999084472656, 41.619998931884766, 41.94499969482422, 41.66999816894531, 42.09749984741211, 42.90250015258789, 43.20000076293945, 42.095001220703125, 42.51250076293945, 43.3125, 43.11000061035156, 43.53499984741211, 43.682498931884766, 43.95500183105469, 44.560001373291016, 44.459999084472656, 43.20000076293945, 41.43000030517578, 41.310001373291016, 40.73500061035156, 40.912498474121094, 41.05500030517578, 40.58000183105469, 41.314998626708984, 42.275001525878906, 44.14250183105469, 44.22249984741211, 45.95750045776367, 46.290000915527344, 46.51250076293945, 46.84000015258789, 47.5099983215332, 47.147499084472656, 47.037498474121094, 46.61000061035156, 47.04499816894531, 46.747501373291016, 46.57749938964844, 46.907501220703125, 46.790000915527344, 47.09000015258789, 47.037498474121094, 47.14500045776367, 46.974998474121094, 46.875, 46.717498779296875, 47.560001373291016, 47.95750045776367, 48.32749938964844, 48.494998931884766, 48.3650016784668, 47.92499923706055, 47.807498931884766, 48.06999969482422, 47.67499923706055, 47.70000076293945, 47.209999084472656, 47.185001373291016, 46.42250061035156, 46.625, 46.3650016784668, 46.22999954223633, 45.54249954223633, 46.10749816894531, 46.040000915527344, 46.375, 46.27750015258789, 46.79499816894531, 45.97999954223633, 46.349998474121094, 46.99250030517578, 47.64500045776367, 47.587501525878906, 46.970001220703125, 47.75749969482422, 47.83250045776367, 47.727500915527344, 47.86249923706055, 47.599998474121094, 47.970001220703125, 47.86000061035156, 47.90250015258789, 48.25, 48.70500183105469, 48.5525016784668, 47.744998931884766, 47.477500915527344, 47.5724983215332, 50.375, 51.84749984741211, 51.997501373291016, 52.26750183105469, 51.77750015258789, 51.8125, 52.220001220703125, 51.88249969482422, 52.217498779296875, 52.4375, 52.560001373291016, 53.33000183105469, 54.39500045776367, 53.8650016784668, 53.7599983215332, 53.76250076293945, 53.872501373291016, 54.040000915527344, 54.48500061035156, 54.92499923706055, 55.744998931884766, 56.25749969482422, 56.907501220703125, 57.09000015258789, 56.717498779296875, 55.775001525878906, 55.32500076293945, 54.58250045776367, 55.962501525878906, 55.26750183105469, 56.602500915527344, 55.959999084472656, 54.470001220703125, 54.560001373291016, 54.592498779296875, 55.00749969482422, 54.415000915527344, 55.1974983215332, 55.54750061035156, 55.10499954223633, 56.23749923706055, 56.435001373291016, 56.814998626708984, 57.31999969482422, 58.01750183105469, 56.997501373291016, 56.0724983215332, 55.942501068115234, 56.717498779296875, 54.09000015258789, 53.61249923706055, 55.52750015258789, 54.34000015258789, 55.537498474121094, 55.29750061035156, 54.005001068115234, 54.82749938964844, 55.162498474121094, 55.682498931884766, 53.772499084472656, 54.95000076293945, 54.07500076293945, 53.060001373291016, 53.32500076293945, 54.71500015258789, 55.55500030517578, 51.869998931884766, 50.397499084472656, 50.942501068115234, 52.48749923706055, 52.122501373291016, 51.11750030517578, 48.54249954223633, 48.057498931884766, 46.70000076293945, 47.852500915527344, 48.38249969482422, 46.46500015258789, 44.244998931884766, 44.19499969482422, 43.0724983215332, 43.654998779296875, 43.560001373291016, 45.23500061035156, 44.88750076293945, 44.64500045776367, 46.20500183105469, 44.17250061035156, 43.68000030517578, 42.122501373291016, 42.400001525878906, 42.157501220703125, 42.275001525878906, 42.73749923706055, 41.369998931884766, 40.98500061035156, 41.51750183105469, 40.22249984741211, 39.20750045776367, 37.682498931884766, 36.70750045776367, 39.29249954223633, 39.037498474121094, 39.057498931884766, 39.435001373291016, 39.47999954223633, 35.54750061035156, 37.064998626708984, 36.98249816894531, 37.6875, 38.32749938964844, 38.45000076293945, 38.0724983215332, 37.5, 38.26750183105469, 38.73500061035156, 38.96500015258789, 39.20500183105469, 38.32500076293945, 38.47999954223633, 38.17499923706055, 39.439998626708984, 39.07500076293945, 38.66999816894531, 41.3125, 41.61000061035156, 41.630001068115234, 42.8125, 43.54499816894531, 43.560001373291016, 42.73500061035156, 42.602500915527344, 42.35749816894531, 42.72249984741211, 42.54499816894531, 42.70000076293945, 42.60499954223633, 42.73249816894531, 43.00749969482422, 42.76499938964844, 43.24250030517578, 43.557498931884766, 43.58250045776367, 43.717498779296875, 43.287498474121094, 43.74250030517578, 43.962501525878906, 43.88249969482422, 43.630001068115234, 43.125, 43.227500915527344, 44.724998474121094, 45.227500915527344, 45.4275016784668, 45.932498931884766, 46.529998779296875, 47.005001068115234, 46.63249969482422, 47.040000915527344, 48.772499084472656, 47.76250076293945, 47.185001373291016, 46.6974983215332, 47.11750030517578, 47.18000030517578, 47.48749923706055, 47.810001373291016, 48.505001068115234, 48.837501525878906, 48.92250061035156, 49.25, 50.025001525878906, 49.875, 50.154998779296875, 49.73749923706055, 49.717498779296875, 49.807498931884766, 49.8125, 50.782501220703125, 50.96500015258789, 51.13249969482422, 51.869998931884766, 51.790000915527344, 51.31999969482422, 51.07500076293945, 51.15250015258789, 50.16749954223633, 52.630001068115234, 52.287498474121094, 52.9375, 52.119998931884766, 50.71500015258789, 50.724998474121094, 50.18000030517578, 49.29499816894531, 46.43000030517578, 47.165000915527344, 47.72999954223633, 47.52000045776367, 47.25, 45.772499084472656, 46.650001525878906, 45.69499969482422, 44.915000915527344, 44.74250030517578, 44.557498931884766, 44.345001220703125, 44.57500076293945, 43.76750183105469, 43.32500076293945, 44.90999984741211, 45.6349983215332, 46.30500030517578, 47.537498474121094, 48.14500045776367, 48.70249938964844, 48.54750061035156, 48.537498474121094, 48.185001373291016, 48.47249984741211, 49.61249923706055, 49.467498779296875, 49.8650016784668, 49.69499969482422, 49.64500045776367, 48.89250183105469, 49.95000076293945, 49.935001373291016, 49.47999954223633, 50.38750076293945, 50.682498931884766, 51.102500915527344, 51.057498931884766, 50.005001068115234, 50.310001373291016, 50.807498931884766, 50.4375, 50.82500076293945, 51.3025016784668, 51.125, 50.837501525878906, 51.415000915527344, 50.647499084472656, 51.80500030517578, 52.209999084472656, 52.16749954223633, 51.755001068115234, 51.935001373291016, 52.41999816894531, 52.19499969482422, 53.2599983215332, 52.10749816894531, 51.005001068115234, 48.334999084472656, 49.25, 49.7599983215332, 50.85749816894531, 50.247501373291016, 50.119998931884766, 52.24250030517578, 50.6875, 50.435001373291016, 51.625, 52.587501525878906, 52.59000015258789, 53.15999984741211, 53.1150016784668, 50.65999984741211, 51.622501373291016, 51.040000915527344, 51.38249969482422, 52.252498626708984, 52.185001373291016, 51.42499923706055, 52.29750061035156, 53.31999969482422, 53.314998626708984, 53.54249954223633, 54.17499923706055, 55.897499084472656, 55.772499084472656, 54.6875, 54.974998474121094, 55.17499923706055, 55.692501068115234, 55.2400016784668, 54.432498931884766, 54.68000030517578, 54.41999816894531, 55.25749969482422, 54.97249984741211, 54.70500183105469, 55.99250030517578, 56.147499084472656, 54.7400016784668, 55.20500183105469, 56.752498626708984, 56.76499938964844, 56.099998474121094, 56.75749969482422, 57.522499084472656, 59.0525016784668, 58.967498779296875, 58.83000183105469, 58.592498779296875, 58.81999969482422, 59.102500915527344, 60.127498626708984, 59.9900016784668, 60.79499816894531, 60.89500045776367, 61.64500045776367, 62.26250076293945, 60.8224983215332, 60.814998626708984, 62.189998626708984, 63.95500183105469, 64.375, 64.28250122070312, 64.30999755859375, 64.85749816894531, 65.03500366210938, 65.55000305175781, 65.48999786376953, 66.11750030517578, 65.66000366210938, 66.44000244140625, 66.7750015258789, 66.57250213623047, 65.79750061035156, 65.50250244140625, 65.44499969482422, 66.59249877929688, 66.07250213623047, 66.95999908447266, 66.8125, 66.04000091552734, 64.86250305175781, 65.43499755859375, 66.3949966430664, 67.67749786376953, 66.7300033569336, 67.12000274658203, 67.69249725341797, 67.86499786376953, 68.7874984741211, 69.96499633789062, 70.10250091552734, 69.93499755859375, 70.00499725341797, 69.86000061035156, 71.0, 71.06749725341797, 72.47750091552734, 72.44999694824219, 72.87999725341797, 73.4124984741211, 75.0875015258789, 74.35749816894531, 74.94999694824219, 74.59750366210938, 75.79750061035156, 77.40750122070312, 77.5824966430664, 79.23999786376953, 78.16999816894531, 77.83499908447266, 78.80999755859375, 79.68250274658203, 79.14250183105469, 79.42500305175781, 79.80750274658203, 79.57749938964844, 77.23750305175781, 79.42250061035156, 81.08499908447266, 80.96749877929688, 77.37750244140625, 77.16500091552734, 79.7125015258789, 80.36250305175781, 81.30249786376953, 80.00749969482422, 80.38749694824219, 79.90249633789062, 81.80000305175781, 81.21749877929688, 81.23750305175781, 79.75, 80.90499877929688, 80.07499694824219, 78.26249694824219, 74.54499816894531, 72.0199966430664, 73.1624984741211, 68.37999725341797, 68.33999633789062, 74.70249938964844, 72.33000183105469, 75.68499755859375, 73.2300033569336, 72.25749969482422, 66.5425033569336, 71.33499908447266, 68.85749816894531, 62.057498931884766, 69.49250030517578, 60.5525016784668, 63.21500015258789, 61.66749954223633, 61.19499969482422, 57.310001373291016, 56.092498779296875, 61.720001220703125, 61.380001068115234, 64.61000061035156, 61.935001373291016, 63.70249938964844, 63.5724983215332, 60.227500915527344, 61.23249816894531, 60.352500915527344, 65.61750030517578, 64.85749816894531, 66.51750183105469, 66.99749755859375, 68.3125, 71.76249694824219, 71.10749816894531, 71.67250061035156, 70.69999694824219, 69.23249816894531, 67.09249877929688, 69.0250015258789, 68.75749969482422, 70.74250030517578, 70.7925033569336, 69.6449966430664, 71.93250274658203, 73.44999694824219, 72.26750183105469, 73.29000091552734, 74.38999938964844, 75.15750122070312, 75.93499755859375, 77.53250122070312, 78.75250244140625, 77.85250091552734, 76.9124984741211, 77.38500213623047, 76.92749786376953, 78.73999786376953, 78.28500366210938, 79.80750274658203, 79.2125015258789, 79.72250366210938, 79.18250274658203, 79.52749633789062, 79.5625, 79.48500061035156, 80.4625015258789, 80.83499908447266, 81.27999877929688, 80.58000183105469, 82.875, 83.36499786376953, 85.99749755859375, 88.20999908447266, 83.9749984741211, 84.69999694824219, 85.74749755859375, 88.0199966430664, 87.89749908447266, 87.93250274658203, 87.43000030517578, 89.71749877929688, 91.63249969482422, 90.01499938964844, 91.20999908447266, 88.40750122070312, 90.44499969482422, 91.19999694824219, 91.02749633789062, 91.02749633789062, 93.4625015258789, 93.17250061035156, 95.34249877929688, 95.75250244140625, 95.91999816894531, 95.47750091552734, 97.05750274658203, 97.7249984741211, 96.52249908447266, 96.32749938964844, 98.35749816894531, 97.0, 97.27249908447266, 92.84500122070312, 92.61499786376953, 94.80999755859375, 93.25250244140625, 95.04000091552734, 96.19000244140625, 106.26000213623047, 108.9375, 109.66500091552734, 110.0625, 113.90249633789062, 111.11250305175781, 112.72750091552734, 109.375, 113.01000213623047, 115.01000213623047, 114.90750122070312, 114.60749816894531, 115.5625, 115.7074966430664, 118.2750015258789, 124.37000274658203, 125.85749816894531, 124.82499694824219, 126.52249908447266, 125.01000213623047, 124.80750274658203, 129.0399932861328, 134.17999267578125, 131.39999389648438, 120.87999725341797, 120.95999908447266, 112.81999969482422, 117.31999969482422, 113.48999786376953, 112.0, 115.36000061035156, 115.54000091552734, 112.12999725341797, 110.33999633789062, 106.83999633789062, 110.08000183105469, 111.80999755859375, 107.12000274658203, 108.22000122070312, 112.27999877929688, 114.95999908447266, 114.08999633789062, 115.80999755859375, 116.79000091552734, 113.0199966430664, 116.5, 113.16000366210938, 115.08000183105469, 114.97000122070312, 116.97000122070312, 124.4000015258789, 121.0999984741211, 121.19000244140625, 120.70999908447266, 119.0199966430664, 115.9800033569336, 117.51000213623047, 116.87000274658203, 115.75, 115.04000091552734, 115.05000305175781, 116.5999984741211, 111.19999694824219, 115.31999969482422, 108.86000061035156, 108.7699966430664, 110.44000244140625, 114.94999694824219, 119.02999877929688, 118.69000244140625, 116.31999969482422, 115.97000122070312, 119.48999786376953, 119.20999908447266, 119.26000213623047, 120.30000305175781, 119.38999938964844, 118.02999877929688, 118.63999938964844, 117.33999633789062, 113.8499984741211, 115.16999816894531, 116.02999877929688, 116.58999633789062, 119.05000305175781, 122.72000122070312, 123.08000183105469, 122.94000244140625, 122.25, 123.75, 124.37999725341797, 121.77999877929688, 123.23999786376953, 122.41000366210938], \"yaxis\": \"y\"}],\n",
              "                        {\"legend\": {\"tracegroupgap\": 0}, \"template\": {\"data\": {\"bar\": [{\"error_x\": {\"color\": \"#2a3f5f\"}, \"error_y\": {\"color\": \"#2a3f5f\"}, \"marker\": {\"line\": {\"color\": \"#E5ECF6\", \"width\": 0.5}}, \"type\": \"bar\"}], \"barpolar\": [{\"marker\": {\"line\": {\"color\": \"#E5ECF6\", \"width\": 0.5}}, \"type\": \"barpolar\"}], \"carpet\": [{\"aaxis\": {\"endlinecolor\": \"#2a3f5f\", \"gridcolor\": \"white\", \"linecolor\": \"white\", \"minorgridcolor\": \"white\", \"startlinecolor\": \"#2a3f5f\"}, \"baxis\": {\"endlinecolor\": \"#2a3f5f\", \"gridcolor\": \"white\", \"linecolor\": \"white\", \"minorgridcolor\": \"white\", \"startlinecolor\": \"#2a3f5f\"}, \"type\": \"carpet\"}], \"choropleth\": [{\"colorbar\": {\"outlinewidth\": 0, \"ticks\": \"\"}, \"type\": \"choropleth\"}], \"contour\": [{\"colorbar\": {\"outlinewidth\": 0, \"ticks\": \"\"}, \"colorscale\": [[0.0, \"#0d0887\"], [0.1111111111111111, \"#46039f\"], [0.2222222222222222, \"#7201a8\"], [0.3333333333333333, \"#9c179e\"], [0.4444444444444444, \"#bd3786\"], [0.5555555555555556, \"#d8576b\"], [0.6666666666666666, \"#ed7953\"], [0.7777777777777778, \"#fb9f3a\"], [0.8888888888888888, \"#fdca26\"], [1.0, \"#f0f921\"]], \"type\": \"contour\"}], \"contourcarpet\": [{\"colorbar\": {\"outlinewidth\": 0, \"ticks\": \"\"}, \"type\": \"contourcarpet\"}], \"heatmap\": [{\"colorbar\": {\"outlinewidth\": 0, \"ticks\": \"\"}, \"colorscale\": [[0.0, \"#0d0887\"], [0.1111111111111111, \"#46039f\"], [0.2222222222222222, \"#7201a8\"], [0.3333333333333333, \"#9c179e\"], [0.4444444444444444, \"#bd3786\"], [0.5555555555555556, \"#d8576b\"], [0.6666666666666666, \"#ed7953\"], [0.7777777777777778, \"#fb9f3a\"], [0.8888888888888888, \"#fdca26\"], [1.0, \"#f0f921\"]], \"type\": \"heatmap\"}], \"heatmapgl\": [{\"colorbar\": {\"outlinewidth\": 0, \"ticks\": \"\"}, \"colorscale\": [[0.0, \"#0d0887\"], [0.1111111111111111, \"#46039f\"], [0.2222222222222222, \"#7201a8\"], [0.3333333333333333, \"#9c179e\"], [0.4444444444444444, \"#bd3786\"], [0.5555555555555556, \"#d8576b\"], [0.6666666666666666, \"#ed7953\"], [0.7777777777777778, \"#fb9f3a\"], [0.8888888888888888, \"#fdca26\"], [1.0, \"#f0f921\"]], \"type\": \"heatmapgl\"}], \"histogram\": [{\"marker\": {\"colorbar\": {\"outlinewidth\": 0, \"ticks\": \"\"}}, \"type\": \"histogram\"}], \"histogram2d\": [{\"colorbar\": {\"outlinewidth\": 0, \"ticks\": \"\"}, \"colorscale\": [[0.0, \"#0d0887\"], [0.1111111111111111, \"#46039f\"], [0.2222222222222222, \"#7201a8\"], [0.3333333333333333, \"#9c179e\"], [0.4444444444444444, \"#bd3786\"], [0.5555555555555556, \"#d8576b\"], [0.6666666666666666, \"#ed7953\"], [0.7777777777777778, \"#fb9f3a\"], [0.8888888888888888, \"#fdca26\"], [1.0, \"#f0f921\"]], \"type\": \"histogram2d\"}], \"histogram2dcontour\": [{\"colorbar\": {\"outlinewidth\": 0, \"ticks\": \"\"}, \"colorscale\": [[0.0, \"#0d0887\"], [0.1111111111111111, \"#46039f\"], [0.2222222222222222, \"#7201a8\"], [0.3333333333333333, \"#9c179e\"], [0.4444444444444444, \"#bd3786\"], [0.5555555555555556, \"#d8576b\"], [0.6666666666666666, \"#ed7953\"], [0.7777777777777778, \"#fb9f3a\"], [0.8888888888888888, \"#fdca26\"], [1.0, \"#f0f921\"]], \"type\": \"histogram2dcontour\"}], \"mesh3d\": [{\"colorbar\": {\"outlinewidth\": 0, \"ticks\": \"\"}, \"type\": \"mesh3d\"}], \"parcoords\": [{\"line\": {\"colorbar\": {\"outlinewidth\": 0, \"ticks\": \"\"}}, \"type\": \"parcoords\"}], \"pie\": [{\"automargin\": true, \"type\": \"pie\"}], \"scatter\": [{\"marker\": {\"colorbar\": {\"outlinewidth\": 0, \"ticks\": \"\"}}, \"type\": \"scatter\"}], \"scatter3d\": [{\"line\": {\"colorbar\": {\"outlinewidth\": 0, \"ticks\": \"\"}}, \"marker\": {\"colorbar\": {\"outlinewidth\": 0, \"ticks\": \"\"}}, \"type\": \"scatter3d\"}], \"scattercarpet\": [{\"marker\": {\"colorbar\": {\"outlinewidth\": 0, \"ticks\": \"\"}}, \"type\": \"scattercarpet\"}], \"scattergeo\": [{\"marker\": {\"colorbar\": {\"outlinewidth\": 0, \"ticks\": \"\"}}, \"type\": \"scattergeo\"}], \"scattergl\": [{\"marker\": {\"colorbar\": {\"outlinewidth\": 0, \"ticks\": \"\"}}, \"type\": \"scattergl\"}], \"scattermapbox\": [{\"marker\": {\"colorbar\": {\"outlinewidth\": 0, \"ticks\": \"\"}}, \"type\": \"scattermapbox\"}], \"scatterpolar\": [{\"marker\": {\"colorbar\": {\"outlinewidth\": 0, \"ticks\": \"\"}}, \"type\": \"scatterpolar\"}], \"scatterpolargl\": [{\"marker\": {\"colorbar\": {\"outlinewidth\": 0, \"ticks\": \"\"}}, \"type\": \"scatterpolargl\"}], \"scatterternary\": [{\"marker\": {\"colorbar\": {\"outlinewidth\": 0, \"ticks\": \"\"}}, \"type\": \"scatterternary\"}], \"surface\": [{\"colorbar\": {\"outlinewidth\": 0, \"ticks\": \"\"}, \"colorscale\": [[0.0, \"#0d0887\"], [0.1111111111111111, \"#46039f\"], [0.2222222222222222, \"#7201a8\"], [0.3333333333333333, \"#9c179e\"], [0.4444444444444444, \"#bd3786\"], [0.5555555555555556, \"#d8576b\"], [0.6666666666666666, \"#ed7953\"], [0.7777777777777778, \"#fb9f3a\"], [0.8888888888888888, \"#fdca26\"], [1.0, \"#f0f921\"]], \"type\": \"surface\"}], \"table\": [{\"cells\": {\"fill\": {\"color\": \"#EBF0F8\"}, \"line\": {\"color\": \"white\"}}, \"header\": {\"fill\": {\"color\": \"#C8D4E3\"}, \"line\": {\"color\": \"white\"}}, \"type\": \"table\"}]}, \"layout\": {\"annotationdefaults\": {\"arrowcolor\": \"#2a3f5f\", \"arrowhead\": 0, \"arrowwidth\": 1}, \"coloraxis\": {\"colorbar\": {\"outlinewidth\": 0, \"ticks\": \"\"}}, \"colorscale\": {\"diverging\": [[0, \"#8e0152\"], [0.1, \"#c51b7d\"], [0.2, \"#de77ae\"], [0.3, \"#f1b6da\"], [0.4, \"#fde0ef\"], [0.5, \"#f7f7f7\"], [0.6, \"#e6f5d0\"], [0.7, \"#b8e186\"], [0.8, \"#7fbc41\"], [0.9, \"#4d9221\"], [1, \"#276419\"]], \"sequential\": [[0.0, \"#0d0887\"], [0.1111111111111111, \"#46039f\"], [0.2222222222222222, \"#7201a8\"], [0.3333333333333333, \"#9c179e\"], [0.4444444444444444, \"#bd3786\"], [0.5555555555555556, \"#d8576b\"], [0.6666666666666666, \"#ed7953\"], [0.7777777777777778, \"#fb9f3a\"], [0.8888888888888888, \"#fdca26\"], [1.0, \"#f0f921\"]], \"sequentialminus\": [[0.0, \"#0d0887\"], [0.1111111111111111, \"#46039f\"], [0.2222222222222222, \"#7201a8\"], [0.3333333333333333, \"#9c179e\"], [0.4444444444444444, \"#bd3786\"], [0.5555555555555556, \"#d8576b\"], [0.6666666666666666, \"#ed7953\"], [0.7777777777777778, \"#fb9f3a\"], [0.8888888888888888, \"#fdca26\"], [1.0, \"#f0f921\"]]}, \"colorway\": [\"#636efa\", \"#EF553B\", \"#00cc96\", \"#ab63fa\", \"#FFA15A\", \"#19d3f3\", \"#FF6692\", \"#B6E880\", \"#FF97FF\", \"#FECB52\"], \"font\": {\"color\": \"#2a3f5f\"}, \"geo\": {\"bgcolor\": \"white\", \"lakecolor\": \"white\", \"landcolor\": \"#E5ECF6\", \"showlakes\": true, \"showland\": true, \"subunitcolor\": \"white\"}, \"hoverlabel\": {\"align\": \"left\"}, \"hovermode\": \"closest\", \"mapbox\": {\"style\": \"light\"}, \"paper_bgcolor\": \"white\", \"plot_bgcolor\": \"#E5ECF6\", \"polar\": {\"angularaxis\": {\"gridcolor\": \"white\", \"linecolor\": \"white\", \"ticks\": \"\"}, \"bgcolor\": \"#E5ECF6\", \"radialaxis\": {\"gridcolor\": \"white\", \"linecolor\": \"white\", \"ticks\": \"\"}}, \"scene\": {\"xaxis\": {\"backgroundcolor\": \"#E5ECF6\", \"gridcolor\": \"white\", \"gridwidth\": 2, \"linecolor\": \"white\", \"showbackground\": true, \"ticks\": \"\", \"zerolinecolor\": \"white\"}, \"yaxis\": {\"backgroundcolor\": \"#E5ECF6\", \"gridcolor\": \"white\", \"gridwidth\": 2, \"linecolor\": \"white\", \"showbackground\": true, \"ticks\": \"\", \"zerolinecolor\": \"white\"}, \"zaxis\": {\"backgroundcolor\": \"#E5ECF6\", \"gridcolor\": \"white\", \"gridwidth\": 2, \"linecolor\": \"white\", \"showbackground\": true, \"ticks\": \"\", \"zerolinecolor\": \"white\"}}, \"shapedefaults\": {\"line\": {\"color\": \"#2a3f5f\"}}, \"ternary\": {\"aaxis\": {\"gridcolor\": \"white\", \"linecolor\": \"white\", \"ticks\": \"\"}, \"baxis\": {\"gridcolor\": \"white\", \"linecolor\": \"white\", \"ticks\": \"\"}, \"bgcolor\": \"#E5ECF6\", \"caxis\": {\"gridcolor\": \"white\", \"linecolor\": \"white\", \"ticks\": \"\"}}, \"title\": {\"x\": 0.05}, \"xaxis\": {\"automargin\": true, \"gridcolor\": \"white\", \"linecolor\": \"white\", \"ticks\": \"\", \"title\": {\"standoff\": 15}, \"zerolinecolor\": \"white\", \"zerolinewidth\": 2}, \"yaxis\": {\"automargin\": true, \"gridcolor\": \"white\", \"linecolor\": \"white\", \"ticks\": \"\", \"title\": {\"standoff\": 15}, \"zerolinecolor\": \"white\", \"zerolinewidth\": 2}}}, \"title\": {\"text\": \"Close Price History\"}, \"xaxis\": {\"anchor\": \"y\", \"domain\": [0.0, 1.0], \"title\": {\"text\": \"Date\"}}, \"yaxis\": {\"anchor\": \"x\", \"domain\": [0.0, 1.0], \"title\": {\"text\": \"Close\"}}},\n",
              "                        {\"responsive\": true}\n",
              "                    ).then(function(){\n",
              "                            \n",
              "var gd = document.getElementById('cb128c6a-2047-4883-a968-f7168925ec03');\n",
              "var x = new MutationObserver(function (mutations, observer) {{\n",
              "        var display = window.getComputedStyle(gd).display;\n",
              "        if (!display || display === 'none') {{\n",
              "            console.log([gd, 'removed!']);\n",
              "            Plotly.purge(gd);\n",
              "            observer.disconnect();\n",
              "        }}\n",
              "}});\n",
              "\n",
              "// Listen for the removal of the full notebook cells\n",
              "var notebookContainer = gd.closest('#notebook-container');\n",
              "if (notebookContainer) {{\n",
              "    x.observe(notebookContainer, {childList: true});\n",
              "}}\n",
              "\n",
              "// Listen for the clearing of the current output cell\n",
              "var outputEl = gd.closest('.output');\n",
              "if (outputEl) {{\n",
              "    x.observe(outputEl, {childList: true});\n",
              "}}\n",
              "\n",
              "                        })\n",
              "                };\n",
              "                \n",
              "            </script>\n",
              "        </div>\n",
              "</body>\n",
              "</html>"
            ]
          },
          "metadata": {
            "tags": []
          }
        }
      ]
    },
    {
      "cell_type": "markdown",
      "metadata": {
        "id": "Tz0vAvLCz1fZ"
      },
      "source": [
        "Plotting High vs Low"
      ]
    },
    {
      "cell_type": "code",
      "metadata": {
        "colab": {
          "base_uri": "https://localhost:8080/",
          "height": 542
        },
        "id": "fAp6aOx40P1R",
        "outputId": "493e82cf-83e6-4467-9b61-81eca7fb93e2"
      },
      "source": [
        "px.scatter(df, x='High',y='Low', title='High vs Low')"
      ],
      "execution_count": null,
      "outputs": [
        {
          "output_type": "display_data",
          "data": {
            "text/html": [
              "<html>\n",
              "<head><meta charset=\"utf-8\" /></head>\n",
              "<body>\n",
              "    <div>\n",
              "            <script src=\"https://cdnjs.cloudflare.com/ajax/libs/mathjax/2.7.5/MathJax.js?config=TeX-AMS-MML_SVG\"></script><script type=\"text/javascript\">if (window.MathJax) {MathJax.Hub.Config({SVG: {font: \"STIX-Web\"}});}</script>\n",
              "                <script type=\"text/javascript\">window.PlotlyConfig = {MathJaxConfig: 'local'};</script>\n",
              "        <script src=\"https://cdn.plot.ly/plotly-latest.min.js\"></script>    \n",
              "            <div id=\"12ee1966-a30d-4e82-9c03-5775d5ff3f9a\" class=\"plotly-graph-div\" style=\"height:525px; width:100%;\"></div>\n",
              "            <script type=\"text/javascript\">\n",
              "                \n",
              "                    window.PLOTLYENV=window.PLOTLYENV || {};\n",
              "                    \n",
              "                if (document.getElementById(\"12ee1966-a30d-4e82-9c03-5775d5ff3f9a\")) {\n",
              "                    Plotly.newPlot(\n",
              "                        '12ee1966-a30d-4e82-9c03-5775d5ff3f9a',\n",
              "                        [{\"hoverlabel\": {\"namelength\": 0}, \"hovertemplate\": \"High=%{x}<br>Low=%{y}\", \"legendgroup\": \"\", \"marker\": {\"color\": \"#636efa\", \"symbol\": \"circle\"}, \"mode\": \"markers\", \"name\": \"\", \"showlegend\": false, \"type\": \"scattergl\", \"x\": [27.860000610351562, 27.162500381469727, 26.857500076293945, 27.049999237060547, 28.037500381469727, 28.3125, 28.157499313354492, 28.200000762939453, 27.622499465942383, 27.514999389648438, 26.895000457763672, 27.24250030517578, 27.764999389648438, 28.11750030517578, 28.4375, 28.59000015258789, 28.1200008392334, 29.530000686645508, 29.797500610351562, 30.0, 29.792499542236328, 29.772499084472656, 30.127500534057617, 30.0575008392334, 30.0625, 29.959999084472656, 30.537500381469727, 31.229999542236328, 31.8700008392334, 31.81999969482422, 32.220001220703125, 32.19499969482422, 32.25749969482422, 32.375, 33.25, 33.400001525878906, 32.900001525878906, 32.717498779296875, 32.64250183105469, 32.56999969482422, 32.380001068115234, 32.38999938964844, 32.1875, 32.342498779296875, 32.39250183105469, 31.80500030517578, 31.1924991607666, 31.225000381469727, 31.350000381469727, 31.237499237060547, 31.829999923706055, 32.290000915527344, 32.3125, 32.099998474121094, 31.962499618530273, 32.0099983215332, 31.704999923706055, 31.219999313354492, 31.174999237060547, 31.600000381469727, 31.622499465942383, 31.280000686645508, 31.389999389648438, 31.877500534057617, 32.029998779296875, 31.600000381469727, 31.645000457763672, 31.802499771118164, 32.14250183105469, 31.822500228881836, 31.782499313354492, 31.774999618530273, 31.53499984741211, 32.029998779296875, 32.04999923706055, 32.217498779296875, 32.60499954223633, 32.657501220703125, 33.282501220703125, 33.6349983215332, 32.897499084472656, 32.15999984741211, 32.532501220703125, 32.64250183105469, 32.11249923706055, 31.6875, 31.520000457763672, 31.905000686645508, 31.889999389648438, 31.719999313354492, 31.797500610351562, 32.23749923706055, 32.372501373291016, 32.68000030517578, 32.720001220703125, 32.744998931884766, 32.907501220703125, 33.24250030517578, 33.227500915527344, 33.064998626708984, 32.98749923706055, 32.86249923706055, 32.84749984741211, 32.665000915527344, 32.73500061035156, 32.64500045776367, 32.42250061035156, 32.3025016784668, 32.02000045776367, 32.334999084472656, 32.54499816894531, 32.08250045776367, 31.809999465942383, 31.962499618530273, 31.969999313354492, 32.07749938964844, 31.954999923706055, 32.01499938964844, 31.90250015258789, 32.45000076293945, 32.29999923706055, 31.997499465942383, 31.61750030517578, 31.530000686645508, 31.735000610351562, 31.672500610351562, 31.5575008392334, 31.537500381469727, 31.15999984741211, 31.014999389648438, 30.962499618530273, 31.440000534057617, 31.592500686645508, 31.787500381469727, 32.14250183105469, 32.404998779296875, 33.24250030517578, 33.22999954223633, 31.375, 31.772499084472656, 31.434999465942383, 30.90250015258789, 30.977500915527344, 30.875, 30.642499923706055, 30.65999984741211, 30.642499923706055, 29.424999237060547, 29.360000610351562, 29.125, 29.0625, 29.997499465942383, 29.545000076293945, 28.854999542236328, 29.100000381469727, 29.077499389648438, 29.412500381469727, 29.360000610351562, 29.1299991607666, 28.587499618530273, 27.975000381469727, 27.200000762939453, 27.77750015258789, 27.47249984741211, 28.309999465942383, 28.327499389648438, 28.63249969482422, 27.969999313354492, 28.084999084472656, 28.19499969482422, 27.612499237060547, 28.139999389648438, 28.5049991607666, 28.31999969482422, 28.552499771118164, 29.22249984741211, 29.13249969482422, 29.135000228881836, 29.122499465942383, 28.575000762939453, 28.842500686645508, 28.545000076293945, 28.68000030517578, 28.875, 29.172500610351562, 28.642499923706055, 28.377500534057617, 27.885000228881836, 27.405000686645508, 27.752500534057617, 27.842500686645508, 27.934999465942383, 27.9424991607666, 27.547500610351562, 28.06999969482422, 28.1875, 28.112499237060547, 27.8799991607666, 28.024999618530273, 28.0, 27.9375, 28.542499542236328, 28.895000457763672, 28.875, 29.8075008392334, 29.532499313354492, 29.135000228881836, 29.825000762939453, 30.172500610351562, 30.30500030517578, 30.34000015258789, 30.872499465942383, 30.954999923706055, 30.672500610351562, 30.452499389648438, 30.452499389648438, 29.517499923706055, 29.354999542236328, 29.204999923706055, 28.892499923706055, 28.559999465942383, 28.762500762939453, 29.372499465942383, 29.9375, 29.979999542236328, 29.9325008392334, 29.837499618530273, 29.8075008392334, 29.602500915527344, 29.852500915527344, 29.702499389648438, 29.52750015258789, 29.197500228881836, 29.8125, 29.96500015258789, 29.649999618530273, 29.422500610351562, 29.235000610351562, 28.84749984741211, 28.170000076293945, 28.200000762939453, 27.997499465942383, 28.0625, 27.3799991607666, 26.842500686645508, 26.93000030517578, 27.212499618530273, 27.25, 26.922500610351562, 27.357500076293945, 27.174999237060547, 26.75749969482422, 26.342500686645508, 26.462499618530273, 25.592500686645508, 25.032499313354492, 24.77750015258789, 24.764999389648438, 25.172500610351562, 25.297500610351562, 25.1200008392334, 24.427499771118164, 24.662500381469727, 24.547500610351562, 24.469999313354492, 25.364999771118164, 25.38249969482422, 25.219999313354492, 24.157499313354492, 23.6299991607666, 24.334999084472656, 24.177499771118164, 24.010000228881836, 24.209999084472656, 24.332500457763672, 24.229999542236328, 23.924999237060547, 23.985000610351562, 24.087499618530273, 23.68000030517578, 23.625, 24.212499618530273, 24.552499771118164, 24.72249984741211, 24.190000534057617, 24.225000381469727, 24.125, 24.094999313354492, 24.190000534057617, 24.5049991607666, 24.5575008392334, 25.1924991607666, 25.22249984741211, 25.427499771118164, 25.9375, 25.707500457763672, 25.440000534057617, 25.395000457763672, 25.559999465942383, 25.56999969482422, 25.727500915527344, 26.295000076293945, 26.577499389648438, 26.61750030517578, 26.625, 26.912500381469727, 26.822500228881836, 26.767499923706055, 26.5625, 26.547500610351562, 26.947500228881836, 27.604999542236328, 27.475000381469727, 27.5, 28.047500610351562, 27.6825008392334, 27.7450008392334, 27.604999542236328, 27.4424991607666, 27.65250015258789, 27.625, 28.084999084472656, 28.09749984741211, 28.075000762939453, 27.237499237060547, 27.0, 27.022499084472656, 26.732500076293945, 26.6200008392334, 26.412500381469727, 26.325000762939453, 24.677499771118164, 24.469999313354492, 23.68000030517578, 23.520000457763672, 23.934999465942383, 23.975000381469727, 23.517499923706055, 23.362499237060547, 23.4424991607666, 23.392499923706055, 23.392499923706055, 23.19499969482422, 22.917499542236328, 23.59749984741211, 23.674999237060547, 23.802499771118164, 23.65999984741211, 23.857500076293945, 24.297500610351562, 24.522499084472656, 24.934999465942383, 25.1825008392334, 25.11750030517578, 25.100000381469727, 24.885000228881836, 24.459999084472656, 24.5674991607666, 25.47249984741211, 24.967500686645508, 24.889999389648438, 24.997499465942383, 24.837499618530273, 24.780000686645508, 24.6200008392334, 24.602500915527344, 24.4375, 24.162500381469727, 24.142499923706055, 24.087499618530273, 24.22249984741211, 24.072500228881836, 23.665000915527344, 23.262500762939453, 23.415000915527344, 23.637500762939453, 23.9424991607666, 24.11750030517578, 23.850000381469727, 23.915000915527344, 24.125, 24.22249984741211, 24.412500381469727, 24.424999237060547, 24.417499542236328, 24.747499465942383, 24.825000762939453, 25.032499313354492, 25.0, 25.114999771118164, 25.25, 24.825000762939453, 24.709999084472656, 24.49250030517578, 26.087499618530273, 26.112499237060547, 26.137500762939453, 26.537500381469727, 26.517499923706055, 26.459999084472656, 26.5, 26.912500381469727, 27.092500686645508, 27.235000610351562, 27.225000381469727, 27.232500076293945, 27.110000610351562, 27.385000228881836, 27.5575008392334, 27.342500686645508, 27.399999618530273, 27.422500610351562, 27.274999618530273, 27.329999923706055, 27.1875, 26.969999313354492, 26.987499237060547, 26.860000610351562, 26.625, 26.642499923706055, 26.700000762939453, 27.0, 27.075000762939453, 27.190000534057617, 26.8174991607666, 26.43000030517578, 26.43000030517578, 27.197500228881836, 28.25749969482422, 28.9325008392334, 29.032499313354492, 29.045000076293945, 28.530000686645508, 28.497499465942383, 28.735000610351562, 28.697500228881836, 28.34749984741211, 28.295000076293945, 28.65999984741211, 28.450000762939453, 28.342500686645508, 28.262500762939453, 28.577499389648438, 28.415000915527344, 28.584999084472656, 28.639999389648438, 29.1875, 29.672500610351562, 29.4950008392334, 29.360000610351562, 29.542499542236328, 29.459999084472656, 29.552499771118164, 29.440000534057617, 29.344999313354492, 29.227500915527344, 29.434999465942383, 29.59000015258789, 28.924999237060547, 28.96500015258789, 28.802499771118164, 28.5575008392334, 28.4424991607666, 28.087499618530273, 27.864999771118164, 27.5625, 27.627500534057617, 27.93000030517578, 27.829999923706055, 27.772499084472656, 27.217500686645508, 26.952499389648438, 26.920000076293945, 27.5575008392334, 27.587499618530273, 27.635000228881836, 27.997499465942383, 28.104999542236328, 27.877500534057617, 27.967500686645508, 28.11750030517578, 28.00749969482422, 28.049999237060547, 27.735000610351562, 27.522499084472656, 27.50749969482422, 27.59000015258789, 27.797500610351562, 28.107500076293945, 28.674999237060547, 28.75, 28.979999542236328, 29.049999237060547, 29.1825008392334, 29.125, 29.344999313354492, 29.375, 29.350000381469727, 29.127500534057617, 29.1299991607666, 29.450000762939453, 29.5049991607666, 29.27750015258789, 29.299999237060547, 29.082500457763672, 29.127500534057617, 29.21500015258789, 29.540000915527344, 29.857500076293945, 29.844999313354492, 29.982500076293945, 29.825000762939453, 29.905000686645508, 30.059999465942383, 30.125, 30.022499084472656, 30.112499237060547, 30.202499389648438, 30.024999618530273, 30.524999618530273, 30.610000610351562, 30.587499618530273, 30.407499313354492, 30.34749984741211, 32.622501373291016, 32.34749984741211, 32.29750061035156, 32.625, 33.022499084472656, 33.05500030517578, 33.11249923706055, 33.23500061035156, 33.45500183105469, 33.772499084472656, 34.067501068115234, 33.974998474121094, 33.95750045776367, 34.1875, 34.279998779296875, 34.369998931884766, 34.165000915527344, 34.36000061035156, 34.36000061035156, 35.037498474121094, 35.06999969482422, 34.95750045776367, 34.942501068115234, 34.994998931884766, 34.95000076293945, 34.6974983215332, 34.84000015258789, 34.85749816894531, 34.912498474121094, 35.1875, 35.255001068115234, 35.25, 35.375, 35.70000076293945, 35.400001525878906, 35.39500045776367, 35.435001373291016, 35.30500030517578, 36.0099983215332, 36.122501373291016, 36.125, 36.067501068115234, 36.029998779296875, 36.22249984741211, 36.3650016784668, 36.130001068115234, 36.04499816894531, 35.970001220703125, 35.837501525878906, 35.537498474121094, 35.595001220703125, 35.470001220703125, 35.5099983215332, 35.5, 35.72999954223633, 35.66999816894531, 35.98749923706055, 36.224998474121094, 36.150001525878906, 36.040000915527344, 36.07500076293945, 36.79999923706055, 37.022499084472656, 36.872501373291016, 36.78499984741211, 37.244998931884766, 38.42499923706055, 38.720001220703125, 38.48500061035156, 38.51750183105469, 39.10499954223633, 39.162498474121094, 39.01499938964844, 38.64250183105469, 38.334999084472656, 38.494998931884766, 38.64500045776367, 38.724998474121094, 38.54249954223633, 38.587501525878906, 38.560001373291016, 38.60749816894531, 38.54249954223633, 38.33250045776367, 38.86249923706055, 38.61249923706055, 38.95249938964844, 38.994998931884766, 38.8849983215332, 38.79750061035156, 36.522499084472656, 36.86249923706055, 36.875, 36.119998931884766, 36.125, 36.685001373291016, 36.717498779296875, 36.51750183105469, 36.67499923706055, 36.790000915527344, 37.06999969482422, 36.540000915527344, 36.52750015258789, 36.282501220703125, 36.2400016784668, 36.32500076293945, 36.1974983215332, 35.875, 36.1875, 36.48749923706055, 36.462501525878906, 36.54499816894531, 37.122501373291016, 37.33250045776367, 37.724998474121094, 37.532501220703125, 37.85499954223633, 37.935001373291016, 37.61000061035156, 38.11000061035156, 38.459999084472656, 38.48249816894531, 38.497501373291016, 37.557498931884766, 37.58250045776367, 37.55500030517578, 39.9375, 39.3025016784668, 39.349998474121094, 39.72999954223633, 40.45750045776367, 40.317501068115234, 40.0, 39.64250183105469, 40.0525016784668, 40.54999923706055, 40.627498626708984, 40.1775016784668, 39.875, 39.47249984741211, 40.0, 40.11750030517578, 40.185001373291016, 40.13999938964844, 40.5, 40.779998779296875, 40.97249984741211, 41.130001068115234, 41.23500061035156, 41.0625, 40.747501373291016, 40.560001373291016, 40.287498474121094, 40.51250076293945, 40.9900016784668, 39.9900016784668, 39.849998474121094, 40.24250030517578, 40.125, 39.942501068115234, 39.564998626708984, 38.95000076293945, 38.067501068115234, 37.95750045776367, 38.47999954223633, 38.68000030517578, 38.56999969482422, 38.532501220703125, 38.61249923706055, 38.772499084472656, 38.46500015258789, 38.86000061035156, 38.872501373291016, 39.182498931884766, 39.5, 39.244998931884766, 39.342498779296875, 39.31999969482422, 40.0, 40.217498779296875, 40.1775016784668, 39.27000045776367, 39.4375, 39.42250061035156, 39.35499954223633, 39.38750076293945, 39.45750045776367, 40.900001525878906, 42.01750183105469, 42.412498474121094, 42.48500061035156, 42.125, 43.564998626708984, 43.747501373291016, 43.8125, 44.060001373291016, 44.025001525878906, 43.845001220703125, 43.625, 43.369998931884766, 42.58000183105469, 42.967498779296875, 42.84749984741211, 42.63999938964844, 43.42499923706055, 43.75, 43.875, 43.77000045776367, 43.717498779296875, 43.22999954223633, 43.03499984741211, 42.91749954223633, 43.154998779296875, 42.880001068115234, 42.54999923706055, 42.61000061035156, 42.75, 43.22249984741211, 43.09749984741211, 43.3849983215332, 43.282501220703125, 43.54249954223633, 44.29999923706055, 43.84749984741211, 43.85499954223633, 44.005001068115234, 43.85499954223633, 42.86750030517578, 42.69499969482422, 42.962501525878906, 42.647499084472656, 43.07500076293945, 43.63750076293945, 43.36750030517578, 43.842498779296875, 43.90250015258789, 43.76499938964844, 43.57500076293945, 43.872501373291016, 44.34000015258789, 44.84749984741211, 44.8125, 45.025001525878906, 44.89500045776367, 44.44499969482422, 44.86000061035156, 44.32500076293945, 43.73749923706055, 43.0, 42.540000915527344, 41.842498779296875, 42.11000061035156, 42.154998779296875, 41.70000076293945, 40.970001220703125, 40.93000030517578, 40.849998474121094, 40.25, 39.47249984741211, 40.97249984741211, 41.1875, 41.8849983215332, 43.272499084472656, 43.70500183105469, 43.564998626708984, 43.529998779296875, 43.48749923706055, 43.912498474121094, 44.84749984741211, 45.119998931884766, 45.154998779296875, 44.94499969482422, 44.07500076293945, 44.435001373291016, 44.5625, 43.962501525878906, 44.279998779296875, 45.0, 45.59749984741211, 45.875, 45.130001068115234, 45.060001373291016, 44.779998779296875, 44.36750030517578, 44.20000076293945, 43.772499084472656, 43.16999816894531, 42.47999954223633, 43.275001525878906, 43.787498474121094, 42.505001068115234, 42.9375, 42.23500061035156, 42.1875, 43.002498626708984, 43.557498931884766, 43.119998931884766, 43.272499084472656, 43.5, 43.47999954223633, 43.75, 43.959999084472656, 44.04750061035156, 44.73500061035156, 44.70500183105469, 43.84749984741211, 42.80500030517578, 41.72999954223633, 41.58250045776367, 41.35499954223633, 41.432498931884766, 41.08250045776367, 41.814998626708984, 42.29999923706055, 44.4375, 44.375, 46.0625, 46.91749954223633, 46.55500030517578, 46.849998474121094, 47.592498779296875, 47.51499938964844, 47.38249969482422, 46.76750183105469, 47.1150016784668, 47.227500915527344, 46.95249938964844, 47.317501068115234, 47.220001220703125, 47.125, 47.209999084472656, 47.412498474121094, 47.1875, 47.0, 47.057498931884766, 47.564998626708984, 48.35499954223633, 48.48500061035156, 48.52000045776367, 48.54999923706055, 48.0, 47.99250030517578, 48.15250015258789, 48.220001220703125, 47.89250183105469, 47.540000915527344, 47.30500030517578, 46.58250045776367, 46.79999923706055, 47.087501525878906, 46.537498474121094, 46.22999954223633, 46.63249969482422, 46.81999969482422, 46.5525016784668, 46.79750061035156, 46.82500076293945, 46.98749923706055, 46.602500915527344, 47.10749816894531, 47.66999816894531, 47.81999969482422, 47.44499969482422, 47.852500915527344, 47.959999084472656, 48.162498474121094, 47.967498779296875, 47.95000076293945, 48.13750076293945, 48.10749816894531, 47.9900016784668, 48.415000915527344, 48.712501525878906, 48.9900016784668, 48.79750061035156, 48.04999923706055, 48.03499984741211, 50.439998626708984, 52.095001220703125, 52.185001373291016, 52.3125, 52.375, 51.95249938964844, 52.44499969482422, 52.275001525878906, 52.73749923706055, 52.63999938964844, 52.685001373291016, 53.45249938964844, 54.48749923706055, 54.79499816894531, 54.29750061035156, 54.09000015258789, 54.26250076293945, 54.224998474121094, 54.685001373291016, 55.1349983215332, 55.872501373291016, 57.064998626708984, 57.217498779296875, 57.29499816894531, 57.41749954223633, 56.837501525878906, 56.342498779296875, 55.462501525878906, 56.07500076293945, 56.25, 57.087501525878906, 56.709999084472656, 55.73749923706055, 55.462501525878906, 54.904998779296875, 55.56999969482422, 55.34000015258789, 55.314998626708984, 55.70500183105469, 55.9375, 56.61000061035156, 56.459999084472656, 57.35499954223633, 57.5, 58.36750030517578, 58.087501525878906, 57.102500915527344, 56.20000076293945, 56.817501068115234, 56.587501525878906, 54.875, 55.720001220703125, 55.45750045776367, 55.747501373291016, 55.65999984741211, 54.935001373291016, 55.314998626708984, 55.84000015258789, 55.8125, 56.057498931884766, 55.345001220703125, 55.04750061035156, 54.92250061035156, 53.79499816894531, 55.11249923706055, 55.59000015258789, 53.412498474121094, 51.09749984741211, 51.18000030517578, 52.51499938964844, 52.529998779296875, 51.502498626708984, 49.962501525878906, 49.29499816894531, 48.619998931884766, 47.99250030517578, 48.74250030517578, 47.67499923706055, 45.36750030517578, 45.067501068115234, 44.150001525878906, 43.73749923706055, 43.692501068115234, 45.3224983215332, 45.70000076293945, 45.08250045776367, 46.23500061035156, 45.59749984741211, 43.69499969482422, 43.622501373291016, 42.522499084472656, 42.9474983215332, 42.97999954223633, 43.14250183105469, 42.27000045776367, 42.087501525878906, 41.88249969482422, 41.86249923706055, 40.52750015258789, 39.540000915527344, 37.88750076293945, 39.307498931884766, 39.192501068115234, 39.630001068115234, 39.84000015258789, 39.712501525878906, 36.43000030517578, 37.13750076293945, 37.20750045776367, 37.95500183105469, 38.63249969482422, 38.49250030517578, 38.42499923706055, 37.817501068115234, 38.34749984741211, 38.970001220703125, 39.415000915527344, 39.470001220703125, 39.182498931884766, 38.78499984741211, 38.619998931884766, 39.532501220703125, 39.08250045776367, 39.532501220703125, 41.537498474121094, 42.25, 42.244998931884766, 42.915000915527344, 43.77000045776367, 43.89250183105469, 43.48500061035156, 42.665000915527344, 42.8025016784668, 42.75, 43.119998931884766, 42.814998626708984, 42.92499923706055, 42.86000061035156, 43.33000183105469, 43.092498779296875, 43.25, 43.967498779296875, 43.82500076293945, 43.75, 43.727500915527344, 43.787498474121094, 44.4375, 44.0, 43.872501373291016, 43.61000061035156, 43.26750183105469, 44.779998779296875, 45.66749954223633, 45.82500076293945, 46.025001525878906, 46.83250045776367, 47.09749984741211, 47.247501373291016, 47.372501373291016, 49.08250045776367, 49.42250061035156, 47.994998931884766, 48.220001220703125, 47.439998626708984, 47.38999938964844, 47.52000045776367, 47.91999816894531, 48.6150016784668, 49.125, 49.092498779296875, 49.275001525878906, 50.057498931884766, 50.712501525878906, 50.185001373291016, 50.25, 50.03499984741211, 49.962501525878906, 50.342498779296875, 50.845001220703125, 51.037498474121094, 51.23500061035156, 51.9375, 52.119998931884766, 51.939998626708984, 51.25, 51.49250030517578, 50.849998474121094, 53.82749938964844, 53.162498474121094, 52.959999084472656, 52.209999084472656, 51.85499954223633, 51.334999084472656, 50.41999816894531, 49.712501525878906, 47.369998931884766, 47.42499923706055, 47.9375, 48.11750030517578, 47.724998474121094, 46.087501525878906, 47.0, 46.4275016784668, 45.1349983215332, 45.53499984741211, 45.147499084472656, 44.837501525878906, 44.807498931884766, 44.497501373291016, 44.47999954223633, 44.95750045776367, 46.247501373291016, 46.36750030517578, 47.97999954223633, 48.842498779296875, 49.0, 48.99250030517578, 49.1974983215332, 48.397499084472656, 48.7400016784668, 50.0724983215332, 49.970001220703125, 50.15250015258789, 50.212501525878906, 50.040000915527344, 49.814998626708984, 50.247501373291016, 50.39250183105469, 49.875, 51.122501373291016, 50.782501220703125, 51.11000061035156, 51.27000045776367, 50.349998474121094, 50.377498626708984, 50.932498931884766, 51.09749984741211, 51.0, 51.467498779296875, 51.52750015258789, 51.272499084472656, 51.470001220703125, 51.625, 51.807498931884766, 52.227500915527344, 52.287498474121094, 52.310001373291016, 52.432498931884766, 52.65999984741211, 52.540000915527344, 55.342498779296875, 54.50749969482422, 51.60749816894531, 49.662498474121094, 49.51750183105469, 49.88999938964844, 50.88249969482422, 50.689998626708984, 50.51250076293945, 53.03499984741211, 51.61000061035156, 51.28499984741211, 51.790000915527344, 53.182498931884766, 53.337501525878906, 53.412498474121094, 53.61000061035156, 53.01250076293945, 51.79750061035156, 52.13750076293945, 51.43000030517578, 52.33000183105469, 52.61249923706055, 51.744998931884766, 52.369998931884766, 53.49250030517578, 53.60499954223633, 54.11000061035156, 54.19499969482422, 55.9275016784668, 56.60499954223633, 55.1974983215332, 55.032501220703125, 55.20500183105469, 55.712501525878906, 55.939998626708984, 55.63999938964844, 54.959999084472656, 55.622501373291016, 55.375, 55.23500061035156, 55.2400016784668, 56.14500045776367, 57.05500030517578, 55.89500045776367, 55.2400016784668, 56.872501373291016, 57.48249816894531, 57.01499938964844, 56.9474983215332, 57.61000061035156, 59.40999984741211, 59.532501220703125, 59.412498474121094, 58.810001373291016, 59.037498474121094, 59.39500045776367, 60.247501373291016, 60.54999923706055, 60.810001373291016, 61.20000076293945, 61.682498931884766, 62.3125, 62.4375, 61.32500076293945, 62.29249954223633, 63.98249816894531, 64.4625015258789, 64.54750061035156, 64.37249755859375, 65.0875015258789, 65.11000061035156, 65.61750030517578, 65.69750213623047, 66.19499969482422, 66.22000122070312, 66.44499969482422, 66.85749816894531, 67.0, 66.5199966430664, 66.00250244140625, 65.79499816894531, 66.61000061035156, 66.79000091552734, 66.99500274658203, 67.0, 67.0625, 64.88249969482422, 65.82749938964844, 66.47250366210938, 67.75, 67.69999694824219, 67.51750183105469, 67.7750015258789, 68.13999938964844, 68.82499694824219, 70.19750213623047, 70.44249725341797, 70.4749984741211, 70.29499816894531, 70.6624984741211, 71.0625, 71.22250366210938, 72.49500274658203, 73.49250030517578, 73.17250061035156, 73.41999816894531, 75.1500015258789, 75.1449966430664, 74.98999786376953, 75.2249984741211, 76.11000061035156, 77.60749816894531, 78.1675033569336, 79.26750183105469, 79.39250183105469, 78.875, 78.92500305175781, 79.68499755859375, 79.75499725341797, 79.99749755859375, 79.88999938964844, 80.8324966430664, 77.94249725341797, 79.5999984741211, 81.9625015258789, 81.02249908447266, 80.66999816894531, 78.37249755859375, 79.91000366210938, 81.19000244140625, 81.30500030517578, 80.8499984741211, 80.38749694824219, 80.9749984741211, 81.80500030517578, 81.55500030517578, 81.49500274658203, 79.9375, 81.14250183105469, 81.1624984741211, 80.11250305175781, 76.04499816894531, 75.63249969482422, 74.47000122070312, 71.5, 69.60250091552734, 75.36000061035156, 76.0, 75.8499984741211, 74.88749694824219, 72.70500183105469, 69.52249908447266, 71.61000061035156, 70.30500030517578, 67.5, 69.9800033569336, 64.7699966430664, 64.40249633789062, 62.5, 63.209999084472656, 62.95750045776367, 57.125, 61.92250061035156, 64.5625, 64.66999816894531, 63.967498779296875, 63.880001068115234, 65.62249755859375, 62.18000030517578, 61.287498474121094, 61.42499923706055, 65.77749633789062, 67.92500305175781, 66.84249877929688, 67.51750183105469, 68.42500305175781, 72.0625, 71.5824966430664, 72.05000305175781, 71.73750305175781, 70.41999816894531, 69.3125, 69.4749984741211, 70.4375, 70.75250244140625, 71.13500213623047, 71.4574966430664, 72.4175033569336, 73.63249969482422, 74.75, 73.42250061035156, 75.25, 75.80999755859375, 76.2925033569336, 77.5875015258789, 79.26249694824219, 79.92250061035156, 78.98750305175781, 77.44750213623047, 76.9749984741211, 79.125, 79.62999725341797, 79.87999725341797, 80.22250366210938, 79.80750274658203, 81.05999755859375, 79.67749786376953, 80.86000061035156, 80.2874984741211, 80.5875015258789, 80.86000061035156, 81.55000305175781, 81.40499877929688, 82.9375, 83.4000015258789, 86.40249633789062, 88.69249725341797, 87.76499938964844, 86.94999694824219, 86.41999816894531, 88.30000305175781, 88.8499984741211, 88.36250305175781, 89.13999938964844, 89.86499786376953, 93.09500122070312, 92.19750213623047, 91.25, 91.33000183105469, 90.5425033569336, 91.49500274658203, 91.83999633789062, 92.61750030517578, 93.94499969482422, 94.65499877929688, 95.375, 96.31749725341797, 95.9800033569336, 99.95500183105469, 97.25499725341797, 99.24749755859375, 97.40499877929688, 97.14749908447266, 98.5, 99.25, 97.9749984741211, 97.07749938964844, 92.97000122070312, 94.90499877929688, 94.55000305175781, 95.2300033569336, 96.29750061035156, 106.41500091552734, 111.63749694824219, 110.79000091552734, 110.39250183105469, 114.4124984741211, 113.67500305175781, 113.7750015258789, 112.48249816894531, 113.2750015258789, 116.0425033569336, 115.0, 116.0875015258789, 116.0, 117.1624984741211, 118.39250183105469, 124.86750030517578, 128.78500366210938, 125.18000030517578, 126.99250030517578, 127.48500061035156, 126.44249725341797, 131.0, 134.8000030517578, 137.97999572753906, 128.83999633789062, 123.69999694824219, 118.98999786376953, 119.13999938964844, 120.5, 115.2300033569336, 115.93000030517578, 118.83000183105469, 116.0, 112.19999694824219, 110.87999725341797, 110.19000244140625, 112.86000061035156, 112.11000061035156, 110.25, 112.44000244140625, 115.31999969482422, 115.30999755859375, 117.26000213623047, 117.72000122070312, 115.37000274658203, 116.6500015258789, 116.12000274658203, 115.55000305175781, 116.4000015258789, 117.0, 125.18000030517578, 125.38999938964844, 123.02999877929688, 121.19999694824219, 121.55000305175781, 120.41999816894531, 118.9800033569336, 118.70999908447266, 118.04000091552734, 116.55000305175781, 116.55000305175781, 117.27999877929688, 115.43000030517578, 116.93000030517578, 111.98999786376953, 110.68000030517578, 111.48999786376953, 115.58999633789062, 119.62000274658203, 119.19999694824219, 121.98999786376953, 117.58999633789062, 119.62999725341797, 120.52999877929688, 119.66999816894531, 120.98999786376953, 120.66999816894531, 119.81999969482422, 119.05999755859375, 118.7699966430664, 117.62000274658203, 115.8499984741211, 116.75, 117.48999786376953, 120.97000122070312, 123.47000122070312, 123.37000274658203, 123.77999877929688, 122.86000061035156, 124.56999969482422, 124.9800033569336, 125.94999694824219, 123.87000274658203, 122.76000213623047], \"xaxis\": \"x\", \"y\": [26.837499618530273, 26.352500915527344, 26.157499313354492, 26.674999237060547, 27.174999237060547, 27.552499771118164, 27.200000762939453, 27.227500915527344, 27.125, 26.665000915527344, 26.299999237060547, 26.625, 27.0674991607666, 27.43000030517578, 27.88249969482422, 28.200000762939453, 27.25749969482422, 28.827499389648438, 28.889999389648438, 29.212499618530273, 29.020000457763672, 29.40250015258789, 29.577499389648438, 29.8125, 29.612499237060547, 29.607500076293945, 30.040000915527344, 30.625, 31.392499923706055, 31.412500381469727, 31.729999542236328, 31.862499237060547, 32.08250045776367, 32.01250076293945, 32.415000915527344, 32.79249954223633, 32.037498474121094, 31.65250015258789, 32.060001373291016, 32.07500076293945, 32.022499084472656, 32.08000183105469, 31.440000534057617, 31.565000534057617, 31.264999389648438, 30.950000762939453, 30.52750015258789, 30.407499313354492, 30.645000457763672, 30.717500686645508, 31.412500381469727, 31.592500686645508, 31.850000381469727, 31.290000915527344, 31.6299991607666, 31.639999389648438, 30.844999313354492, 30.649999618530273, 30.727500915527344, 31.0, 31.09000015258789, 30.774999618530273, 31.047500610351562, 31.082500457763672, 31.4950008392334, 31.24250030517578, 31.165000915527344, 31.315000534057617, 31.65250015258789, 31.477500915527344, 31.502500534057617, 31.52750015258789, 31.114999771118164, 31.292499542236328, 31.667499542236328, 31.579999923706055, 32.03499984741211, 32.307498931884766, 32.787498474121094, 32.39250183105469, 32.07500076293945, 31.145000457763672, 31.325000762939453, 32.064998626708984, 31.44499969482422, 30.84000015258789, 31.0049991607666, 31.52750015258789, 31.407499313354492, 31.204999923706055, 31.467500686645508, 31.790000915527344, 32.0525016784668, 32.09000015258789, 32.40999984741211, 32.334999084472656, 32.45750045776367, 32.849998474121094, 32.279998779296875, 32.51250076293945, 32.775001525878906, 32.474998474121094, 32.51250076293945, 32.33000183105469, 32.474998474121094, 32.227500915527344, 32.09000015258789, 31.707500457763672, 31.405000686645508, 31.962499618530273, 32.119998931884766, 31.77750015258789, 31.427499771118164, 31.592500686645508, 31.684999465942383, 31.80500030517578, 31.600000381469727, 31.770000457763672, 31.719999313354492, 31.780000686645508, 31.875, 31.627500534057617, 31.1200008392334, 31.21500015258789, 31.497499465942383, 31.4424991607666, 31.212499618530273, 30.9424991607666, 30.635000228881836, 29.80500030517578, 30.302499771118164, 31.079999923706055, 31.260000228881836, 31.395000457763672, 31.837499618530273, 32.07749938964844, 32.67499923706055, 32.58000183105469, 30.497499465942383, 31.264999389648438, 30.975000381469727, 30.530000686645508, 30.637500762939453, 30.5674991607666, 30.427499771118164, 30.227500915527344, 29.3799991607666, 28.3125, 28.024999618530273, 28.530000686645508, 28.625, 29.13249969482422, 28.332500457763672, 27.407499313354492, 28.635000228881836, 28.502500534057617, 28.875, 29.002500534057617, 28.670000076293945, 27.907499313354492, 26.412500381469727, 23.0, 25.875, 26.262500762939453, 27.5049991607666, 27.885000228881836, 28.0, 26.84000015258789, 27.282499313354492, 27.510000228881836, 27.127500534057617, 27.579999923706055, 27.4424991607666, 27.475000381469727, 27.940000534057617, 28.71500015258789, 28.604999542236328, 28.860000610351562, 28.43000030517578, 27.967500686645508, 28.415000915527344, 28.1299991607666, 28.325000762939453, 28.092500686645508, 28.5049991607666, 28.110000610351562, 26.96500015258789, 27.1825008392334, 26.827499389648438, 26.887500762939453, 27.267499923706055, 27.4424991607666, 27.352500915527344, 27.052499771118164, 27.372499465942383, 27.860000610351562, 27.670000076293945, 27.389999389648438, 27.622499465942383, 27.63249969482422, 27.52750015258789, 27.704999923706055, 28.424999237060547, 28.524999618530273, 29.082500457763672, 28.729999542236328, 28.497499465942383, 29.014999389648438, 29.5674991607666, 29.862499237060547, 29.90250015258789, 30.174999237060547, 30.405000686645508, 30.045000076293945, 30.155000686645508, 30.012500762939453, 29.014999389648438, 28.802499771118164, 28.912500381469727, 28.0674991607666, 27.75, 28.329999923706055, 28.875, 29.190000534057617, 29.712499618530273, 29.334999084472656, 29.280000686645508, 29.479999542236328, 29.399999618530273, 29.4375, 29.21500015258789, 29.020000457763672, 28.55500030517578, 28.77750015258789, 29.452499389648438, 29.21500015258789, 28.770000457763672, 28.877500534057617, 28.212499618530273, 27.447500228881836, 27.587499618530273, 27.200000762939453, 27.2450008392334, 26.452499389648438, 26.392499923706055, 26.612499237060547, 26.799999237060547, 26.987499237060547, 26.545000076293945, 26.71500015258789, 26.795000076293945, 26.204999923706055, 25.5, 25.602500915527344, 24.967500686645508, 24.107500076293945, 24.190000534057617, 24.334999084472656, 24.709999084472656, 24.325000762939453, 23.934999465942383, 23.84000015258789, 23.875, 23.354999542236328, 23.735000610351562, 24.592500686645508, 24.802499771118164, 24.517499923706055, 23.334999084472656, 23.09749984741211, 23.587499618530273, 23.850000381469727, 23.56999969482422, 23.520000457763672, 23.797500610351562, 23.422500610351562, 23.260000228881836, 23.482500076293945, 23.524999618530273, 23.147499084472656, 23.252500534057617, 23.65250015258789, 24.037500381469727, 24.022499084472656, 23.950000762939453, 23.979999542236328, 23.637500762939453, 23.329999923706055, 23.8125, 24.145000457763672, 24.162500381469727, 24.354999542236328, 24.90999984741211, 25.112499237060547, 25.342500686645508, 25.239999771118164, 25.100000381469727, 25.0674991607666, 25.037500381469727, 25.375, 25.44499969482422, 25.962499618530273, 26.147499084472656, 26.239999771118164, 26.297500610351562, 26.28499984741211, 26.302499771118164, 26.475000381469727, 26.22249984741211, 26.264999389648438, 26.219999313354492, 27.149999618530273, 27.219999313354492, 27.049999237060547, 27.5674991607666, 27.354999542236328, 27.299999237060547, 27.030000686645508, 27.042499542236328, 27.207500457763672, 27.165000915527344, 27.700000762939453, 27.832500457763672, 27.4325008392334, 26.735000610351562, 26.5575008392334, 26.514999389648438, 26.3799991607666, 26.155000686645508, 26.127500534057617, 25.977500915527344, 23.920000076293945, 23.5625, 23.127500534057617, 23.100000381469727, 23.420000076293945, 23.454999923706055, 23.170000076293945, 22.962499618530273, 23.147499084472656, 23.02750015258789, 23.114999771118164, 22.36750030517578, 22.5, 22.912500381469727, 23.252500534057617, 23.47249984741211, 23.392499923706055, 23.6299991607666, 23.917499542236328, 24.209999084472656, 24.52750015258789, 24.65999984741211, 24.8125, 24.704999923706055, 24.582500457763672, 24.157499313354492, 24.362499237060547, 24.387500762939453, 24.739999771118164, 24.670000076293945, 24.614999771118164, 24.6200008392334, 24.274999618530273, 24.1875, 24.25749969482422, 24.017499923706055, 23.825000762939453, 23.75749969482422, 23.670000076293945, 23.837499618530273, 23.8125, 23.162500381469727, 22.875, 23.03499984741211, 23.407499313354492, 23.575000762939453, 23.832500457763672, 23.614999771118164, 23.592500686645508, 23.905000686645508, 24.012500762939453, 24.1825008392334, 24.280000686645508, 24.209999084472656, 24.329999923706055, 24.625, 24.649999618530273, 24.834999084472656, 24.934999465942383, 24.782499313354492, 24.577499389648438, 24.229999542236328, 24.104999542236328, 25.6875, 25.704999923706055, 25.920000076293945, 26.102500915527344, 26.0, 26.1924991607666, 26.31999969482422, 26.545000076293945, 26.790000915527344, 27.002500534057617, 26.940000534057617, 26.962499618530273, 26.94499969482422, 27.020000457763672, 27.302499771118164, 27.084999084472656, 27.2549991607666, 27.09000015258789, 26.962499618530273, 27.13249969482422, 26.920000076293945, 26.670000076293945, 26.577499389648438, 26.572500228881836, 26.375, 26.40999984741211, 26.405000686645508, 26.704999923706055, 26.877500534057617, 26.767499923706055, 26.309999465942383, 25.782499313354492, 25.63249969482422, 26.809999465942383, 27.149999618530273, 28.372499465942383, 28.510000228881836, 28.3125, 28.127500534057617, 28.110000610351562, 28.5, 27.887500762939453, 27.887500762939453, 28.084999084472656, 28.357500076293945, 27.950000762939453, 27.950000762939453, 28.06999969482422, 28.157499313354492, 28.172500610351562, 28.282499313354492, 28.377500534057617, 28.68000030517578, 29.049999237060547, 29.1875, 28.93000030517578, 29.282499313354492, 29.19499969482422, 29.362499237060547, 28.450000762939453, 29.082500457763672, 29.06999969482422, 29.25, 29.327499389648438, 28.327499389648438, 28.524999618530273, 28.362499237060547, 28.299999237060547, 27.63249969482422, 27.8075008392334, 27.387500762939453, 27.02750015258789, 27.364999771118164, 27.424999237060547, 27.012500762939453, 26.457500457763672, 26.637500762939453, 26.020000457763672, 26.540000915527344, 26.649999618530273, 27.207500457763672, 27.415000915527344, 27.502500534057617, 27.850000381469727, 27.582500457763672, 27.737499237060547, 27.84749984741211, 27.517499923706055, 27.5674991607666, 27.25749969482422, 27.212499618530273, 27.0625, 27.297500610351562, 27.290000915527344, 27.649999618530273, 28.077499389648438, 28.122499465942383, 28.4375, 28.7450008392334, 28.8075008392334, 28.912500381469727, 28.9375, 29.170000076293945, 29.19499969482422, 28.90999984741211, 28.897499084472656, 29.122499465942383, 29.049999237060547, 29.100000381469727, 28.857500076293945, 28.690000534057617, 28.9375, 28.952499389648438, 29.11750030517578, 29.485000610351562, 29.575000762939453, 29.649999618530273, 29.552499771118164, 29.702499389648438, 29.55500030517578, 29.927499771118164, 29.842500686645508, 29.9325008392334, 29.9424991607666, 29.875, 30.06999969482422, 30.399999618530273, 30.399999618530273, 30.165000915527344, 30.155000686645508, 31.752500534057617, 31.94499969482422, 32.040000915527344, 32.224998474121094, 32.61249923706055, 32.80500030517578, 32.779998779296875, 33.01250076293945, 33.1875, 33.3125, 33.654998779296875, 33.709999084472656, 33.775001525878906, 33.994998931884766, 34.02750015258789, 34.07500076293945, 33.81999969482422, 34.06999969482422, 34.17499923706055, 34.400001525878906, 34.689998626708984, 34.647499084472656, 34.650001525878906, 34.6974983215332, 34.70500183105469, 34.26250076293945, 34.65999984741211, 34.70500183105469, 34.709999084472656, 34.75749969482422, 35.064998626708984, 34.97249984741211, 35.057498931884766, 34.932498931884766, 34.939998626708984, 35.15250015258789, 35.087501525878906, 34.654998779296875, 35.154998779296875, 35.79750061035156, 35.875, 35.752498626708984, 35.76250076293945, 35.79249954223633, 35.95249938964844, 35.86249923706055, 35.817501068115234, 35.724998474121094, 35.01499938964844, 35.252498626708984, 35.26250076293945, 35.217498779296875, 35.27750015258789, 35.11249923706055, 35.290000915527344, 35.462501525878906, 35.79499816894531, 35.967498779296875, 35.845001220703125, 35.82749938964844, 35.817501068115234, 36.2400016784668, 36.709999084472656, 36.067501068115234, 36.45249938964844, 36.689998626708984, 37.25749969482422, 38.36249923706055, 38.02750015258789, 38.07749938964844, 38.66749954223633, 38.76250076293945, 38.68000030517578, 37.4275016784668, 37.782501220703125, 38.157501220703125, 38.227500915527344, 38.32749938964844, 38.16749954223633, 38.25749969482422, 38.32749938964844, 38.33250045776367, 38.095001220703125, 38.05500030517578, 38.22249984741211, 38.3650016784668, 38.44499969482422, 38.619998931884766, 38.599998474121094, 36.505001068115234, 35.627498626708984, 36.287498474121094, 35.959999084472656, 35.5525016784668, 35.54999923706055, 35.915000915527344, 36.23500061035156, 36.15250015258789, 36.279998779296875, 36.27750015258789, 36.345001220703125, 35.904998779296875, 35.790000915527344, 35.56999969482422, 35.94499969482422, 35.775001525878906, 35.68000030517578, 35.602500915527344, 35.724998474121094, 35.842498779296875, 36.095001220703125, 36.20500183105469, 36.36000061035156, 36.83250045776367, 37.14250183105469, 37.16749954223633, 37.48749923706055, 37.54750061035156, 37.220001220703125, 37.474998474121094, 37.95000076293945, 38.26499938964844, 36.82500076293945, 37.29750061035156, 37.032501220703125, 37.102500915527344, 39.040000915527344, 38.755001068115234, 38.92250061035156, 39.16749954223633, 39.567501068115234, 39.77750015258789, 38.657501220703125, 39.01750183105469, 39.6875, 40.03499984741211, 40.037498474121094, 39.459999084472656, 39.18000030517578, 38.77750015258789, 39.505001068115234, 39.720001220703125, 39.63750076293945, 39.817501068115234, 39.98249816894531, 40.0, 40.65250015258789, 40.869998931884766, 40.907501220703125, 40.13999938964844, 40.130001068115234, 40.09000015258789, 39.63249969482422, 39.97249984741211, 39.692501068115234, 39.477500915527344, 39.522499084472656, 39.5, 39.5, 39.61000061035156, 38.45750045776367, 38.1875, 37.63999938964844, 37.290000915527344, 37.92250061035156, 38.3849983215332, 38.17499923706055, 38.0, 38.18000030517578, 38.477500915527344, 38.1150016784668, 38.51250076293945, 38.63999938964844, 38.872501373291016, 38.775001525878906, 38.9375, 38.932498931884766, 39.102500915527344, 39.412498474121094, 39.807498931884766, 39.900001525878906, 38.755001068115234, 38.9900016784668, 38.875, 39.04999923706055, 38.817501068115234, 39.19499969482422, 39.67499923706055, 40.93000030517578, 41.73500061035156, 41.40250015258789, 41.31999969482422, 42.779998779296875, 42.93000030517578, 43.400001525878906, 43.58250045776367, 43.28499984741211, 43.567501068115234, 43.349998474121094, 42.79499816894531, 42.095001220703125, 42.57500076293945, 42.40999984741211, 42.38999938964844, 42.69499969482422, 43.26250076293945, 43.662498474121094, 43.334999084472656, 42.96500015258789, 41.790000915527344, 42.11000061035156, 42.125, 42.407501220703125, 42.099998474121094, 41.6150016784668, 42.227500915527344, 42.20500183105469, 42.1974983215332, 42.8650016784668, 43.0, 42.912498474121094, 43.1150016784668, 43.71500015258789, 43.522499084472656, 43.3125, 43.525001525878906, 43.625, 42.41999816894531, 42.4275016784668, 42.619998931884766, 42.30500030517578, 42.314998626708984, 42.9900016784668, 43.02000045776367, 43.26250076293945, 43.48249816894531, 43.352500915527344, 43.25, 43.622501373291016, 43.912498474121094, 44.03499984741211, 43.76750183105469, 44.5625, 44.352500915527344, 44.150001525878906, 44.20500183105469, 43.29999923706055, 42.63249969482422, 42.51499938964844, 41.76750183105469, 41.17499923706055, 41.625, 41.689998626708984, 40.025001525878906, 39.0, 38.5, 39.76750183105469, 38.75749969482422, 37.560001373291016, 39.377498626708984, 40.412498474121094, 40.720001220703125, 42.25, 42.942501068115234, 42.85499954223633, 42.752498626708984, 42.9275016784668, 43.3849983215332, 44.0525016784668, 44.540000915527344, 44.51250076293945, 43.165000915527344, 43.11249923706055, 43.630001068115234, 44.032501220703125, 43.567501068115234, 43.76750183105469, 44.34749984741211, 45.0525016784668, 44.810001373291016, 44.45249938964844, 44.51750183105469, 44.404998779296875, 43.415000915527344, 43.73500061035156, 42.814998626708984, 42.150001525878906, 41.23500061035156, 41.61000061035156, 41.72999954223633, 41.29750061035156, 41.724998474121094, 41.11750030517578, 41.220001220703125, 41.192501068115234, 43.02000045776367, 42.04999923706055, 42.462501525878906, 42.88249969482422, 42.92499923706055, 43.2599983215332, 43.462501525878906, 43.70750045776367, 44.102500915527344, 44.220001220703125, 43.165000915527344, 41.35749816894531, 41.022499084472656, 40.30500030517578, 40.602500915527344, 40.842498779296875, 40.157501220703125, 40.459999084472656, 41.317501068115234, 43.45000076293945, 43.61000061035156, 44.54249954223633, 46.1875, 45.91749954223633, 46.30500030517578, 46.912498474121094, 46.86249923706055, 46.96500015258789, 46.275001525878906, 46.5, 46.59000015258789, 46.532501220703125, 46.727500915527344, 46.69499969482422, 46.439998626708984, 46.5525016784668, 46.912498474121094, 46.717498779296875, 46.69499969482422, 46.53499984741211, 46.9375, 47.837501525878906, 48.09000015258789, 47.97999954223633, 48.084999084472656, 47.442501068115234, 47.5525016784668, 47.787498474121094, 47.61000061035156, 47.55500030517578, 47.064998626708984, 46.79999923706055, 45.86249923706055, 46.432498931884766, 46.23500061035156, 46.17499923706055, 45.182498931884766, 45.6349983215332, 46.00749969482422, 45.95000076293945, 45.727500915527344, 45.85499954223633, 45.8849983215332, 46.06999969482422, 46.29999923706055, 47.32500076293945, 47.54499816894531, 46.90250015258789, 47.32749938964844, 47.724998474121094, 47.60499954223633, 47.29999923706055, 47.48249816894531, 47.42250061035156, 47.54249954223633, 47.38999938964844, 48.01250076293945, 48.10749816894531, 48.40250015258789, 47.525001525878906, 47.26750183105469, 47.334999084472656, 49.32749938964844, 50.087501525878906, 51.369998931884766, 51.76750183105469, 51.689998626708984, 51.130001068115234, 51.79999923706055, 51.66749954223633, 51.92499923706055, 52.064998626708984, 52.08250045776367, 52.86750030517578, 53.290000915527344, 53.77750015258789, 53.50749969482422, 53.459999084472656, 53.650001525878906, 53.77750015258789, 54.08250045776367, 54.72999954223633, 54.852500915527344, 55.599998474121094, 56.5, 56.657501220703125, 56.275001525878906, 55.32500076293945, 55.1775016784668, 54.11750030517578, 54.13999938964844, 54.959999084472656, 55.64250183105469, 55.630001068115234, 54.317501068115234, 54.279998779296875, 53.82500076293945, 54.787498474121094, 54.3224983215332, 54.157501220703125, 54.92499923706055, 54.939998626708984, 55.8849983215332, 56.005001068115234, 56.587501525878906, 56.657501220703125, 57.44499969482422, 56.682498931884766, 55.14500045776367, 55.04999923706055, 55.5625, 54.01250076293945, 53.08000183105469, 54.209999084472656, 54.317501068115234, 54.189998626708984, 54.834999084472656, 53.25, 54.35749816894531, 54.73500061035156, 53.67499923706055, 53.6349983215332, 54.1875, 53.16749954223633, 51.522499084472656, 52.317501068115234, 54.154998779296875, 54.20249938964844, 51.35749816894531, 49.54249954223633, 50.42250061035156, 51.032501220703125, 51.6875, 50.5625, 48.4474983215332, 47.86249923706055, 46.48249816894531, 46.724998474121094, 47.3650016784668, 46.247501373291016, 43.877498626708984, 44.13750076293945, 43.025001525878906, 42.564998626708984, 42.720001220703125, 43.73249816894531, 44.42499923706055, 44.25749969482422, 45.3025016784668, 44.067501068115234, 42.60499954223633, 42.07500076293945, 40.83250045776367, 41.75, 42.255001068115234, 42.38750076293945, 41.31999969482422, 40.682498931884766, 41.09749984741211, 39.772499084472656, 38.82500076293945, 37.407501220703125, 36.647499084472656, 36.68000030517578, 37.51750183105469, 38.63750076293945, 39.119998931884766, 38.557498931884766, 35.5, 35.95000076293945, 36.474998474121094, 37.130001068115234, 37.407501220703125, 37.71500015258789, 37.877498626708984, 37.30500030517578, 37.51250076293945, 38.25, 38.314998626708984, 38.994998931884766, 38.154998779296875, 37.92499923706055, 37.935001373291016, 38.58000183105469, 38.415000915527344, 38.52750015258789, 40.057498931884766, 41.13999938964844, 41.48249816894531, 41.81999969482422, 43.087501525878906, 43.212501525878906, 42.584999084472656, 42.10499954223633, 42.3125, 42.42499923706055, 42.47999954223633, 42.345001220703125, 42.4375, 42.372501373291016, 42.747501373291016, 42.57500076293945, 42.845001220703125, 43.48749923706055, 43.29249954223633, 43.182498931884766, 43.22999954223633, 43.22249984741211, 43.49250030517578, 43.6349983215332, 43.48500061035156, 43.005001068115234, 42.375, 43.837501525878906, 44.842498779296875, 45.22999954223633, 45.63999938964844, 45.935001373291016, 46.4474983215332, 46.47999954223633, 46.182498931884766, 47.45249938964844, 47.69499969482422, 46.650001525878906, 46.14500045776367, 46.63750076293945, 46.88249969482422, 47.1349983215332, 47.095001220703125, 47.76250076293945, 48.287498474121094, 48.28499984741211, 48.98249816894531, 49.084999084472656, 49.807498931884766, 49.54499816894531, 49.61000061035156, 49.0525016784668, 49.502498626708984, 49.63999938964844, 49.65250015258789, 50.630001068115234, 50.584999084472656, 50.974998474121094, 51.76250076293945, 51.279998779296875, 50.529998779296875, 50.96500015258789, 49.77750015258789, 52.307498931884766, 52.032501220703125, 52.557498931884766, 50.875, 50.20750045776367, 50.4375, 49.165000915527344, 48.192501068115234, 45.712501525878906, 46.352500915527344, 46.505001068115234, 47.209999084472656, 46.689998626708984, 45.06999969482422, 46.17499923706055, 45.63750076293945, 44.45249938964844, 44.654998779296875, 44.477500915527344, 44.0, 44.16749954223633, 43.747501373291016, 42.567501068115234, 43.630001068115234, 45.28499984741211, 45.537498474121094, 46.442501068115234, 47.904998779296875, 48.400001525878906, 48.34749984741211, 48.400001525878906, 47.57500076293945, 48.04249954223633, 48.8025016784668, 49.32749938964844, 49.50749969482422, 49.537498474121094, 49.54249954223633, 48.8224983215332, 49.337501525878906, 49.89250183105469, 49.26250076293945, 50.162498474121094, 50.34000015258789, 50.67250061035156, 50.724998474121094, 49.602500915527344, 49.70249938964844, 50.38999938964844, 50.4275016784668, 50.54999923706055, 51.0, 50.875, 50.817501068115234, 50.92499923706055, 50.59000015258789, 50.90250015258789, 51.8224983215332, 51.79249954223633, 51.682498931884766, 51.78499984741211, 52.11000061035156, 51.82749938964844, 52.82500076293945, 51.685001373291016, 50.407501220703125, 48.14500045776367, 48.5099983215332, 48.45500183105469, 49.84749984741211, 49.8224983215332, 49.787498474121094, 50.119998931884766, 50.647499084472656, 49.91749954223633, 50.959999084472656, 52.50749969482422, 52.58000183105469, 52.900001525878906, 52.6875, 50.25, 51.26499938964844, 50.88249969482422, 50.83000183105469, 51.665000915527344, 51.79999923706055, 51.05500030517578, 51.83000183105469, 52.877498626708984, 53.127498626708984, 52.76750183105469, 52.9275016784668, 54.432498931884766, 55.71500015258789, 54.255001068115234, 54.38999938964844, 54.779998779296875, 54.86000061035156, 55.092498779296875, 54.36750030517578, 54.412498474121094, 54.29750061035156, 54.28499984741211, 54.70750045776367, 54.31999969482422, 55.1974983215332, 56.04999923706055, 54.48249816894531, 53.782501220703125, 55.97249984741211, 56.459999084472656, 56.08250045776367, 56.40999984741211, 56.82500076293945, 58.07749938964844, 58.66749954223633, 58.720001220703125, 58.29999923706055, 58.380001068115234, 58.5724983215332, 59.33000183105469, 59.904998779296875, 60.30500030517578, 60.45249938964844, 60.720001220703125, 61.68000030517578, 60.64250183105469, 60.3025016784668, 59.314998626708984, 62.290000915527344, 63.845001220703125, 64.08000183105469, 63.842498779296875, 64.52749633789062, 64.2125015258789, 64.56999969482422, 65.2300033569336, 65.26750183105469, 65.5250015258789, 65.75250244140625, 66.05750274658203, 66.34750366210938, 65.0999984741211, 65.29499816894531, 65.20999908447266, 65.62999725341797, 65.625, 66.32749938964844, 66.4749984741211, 65.86250305175781, 64.07250213623047, 65.16999816894531, 65.68250274658203, 66.82499694824219, 66.22750091552734, 66.46499633789062, 67.125, 66.83000183105469, 67.73249816894531, 69.24500274658203, 69.69999694824219, 69.77999877929688, 69.73750305175781, 69.63999938964844, 70.09249877929688, 70.7300033569336, 71.17500305175781, 72.02999877929688, 71.30500030517578, 72.37999725341797, 73.79750061035156, 74.125, 73.1875, 74.37000274658203, 74.29000091552734, 76.55000305175781, 77.0625, 77.7874984741211, 78.0425033569336, 77.38749694824219, 78.02249908447266, 78.75, 79.0, 79.32749938964844, 78.9124984741211, 79.37999725341797, 76.22000122070312, 78.04750061035156, 80.34500122070312, 79.6875, 77.07250213623047, 75.55500030517578, 78.40750122070312, 79.73750305175781, 80.06500244140625, 79.5, 78.4625015258789, 79.67749786376953, 80.36750030517578, 80.8375015258789, 80.7125015258789, 78.65249633789062, 80.0, 79.55249786376953, 77.625, 72.30750274658203, 71.53250122070312, 71.625, 68.23999786376953, 64.09249877929688, 69.43000030517578, 71.44999694824219, 73.28250122070312, 72.85250091552734, 70.30750274658203, 65.75, 67.34249877929688, 67.96499633789062, 62.0, 63.23749923706055, 60.0, 59.599998474121094, 59.279998779296875, 60.65250015258789, 57.0, 53.15250015258789, 58.57500076293945, 61.07500076293945, 61.59000015258789, 61.76250076293945, 62.349998474121094, 63.0, 59.782501220703125, 59.224998474121094, 59.74250030517578, 62.345001220703125, 64.75, 65.30750274658203, 66.17500305175781, 66.4574966430664, 69.51249694824219, 70.15750122070312, 70.5875015258789, 69.21499633789062, 69.2125015258789, 66.35749816894531, 68.05000305175781, 68.71749877929688, 69.25, 69.98750305175781, 69.55000305175781, 70.97250366210938, 72.0875015258789, 71.4625015258789, 71.58000183105469, 73.61499786376953, 74.71749877929688, 75.49250030517578, 76.07250213623047, 76.80999755859375, 77.72750091552734, 75.80249786376953, 75.38249969482422, 75.05249786376953, 77.58000183105469, 78.25250244140625, 79.12999725341797, 78.96749877929688, 78.8375015258789, 79.125, 78.27249908447266, 78.90750122070312, 79.11750030517578, 79.30249786376953, 79.73249816894531, 80.57499694824219, 80.19499969482422, 80.80750274658203, 81.83000183105469, 83.00250244140625, 86.52249908447266, 83.87000274658203, 83.55500030517578, 83.1449966430664, 86.18000030517578, 87.77249908447266, 87.30500030517578, 86.2874984741211, 87.7874984741211, 90.56749725341797, 89.62999725341797, 89.39250183105469, 88.25499725341797, 87.81999969482422, 90.0, 90.97750091552734, 90.91000366210938, 92.46749877929688, 93.05750274658203, 94.08999633789062, 94.67250061035156, 94.70500183105469, 95.25749969482422, 93.87750244140625, 96.48999786376953, 95.90499877929688, 95.83999633789062, 96.0625, 96.74250030517578, 96.60250091552734, 92.01000213623047, 89.1449966430664, 93.4800033569336, 93.24749755859375, 93.7125015258789, 93.76750183105469, 100.82499694824219, 107.89250183105469, 108.38749694824219, 108.89749908447266, 109.79750061035156, 110.2925033569336, 110.0, 109.10749816894531, 110.29750061035156, 113.92749786376953, 113.04499816894531, 113.9625015258789, 114.00749969482422, 115.61000061035156, 115.73249816894531, 119.25, 123.9375, 123.05249786376953, 125.0824966430664, 123.8324966430664, 124.57749938964844, 126.0, 130.52999877929688, 127.0, 120.5, 110.88999938964844, 112.68000030517578, 115.26000213623047, 112.5, 110.0, 112.80000305175781, 113.61000061035156, 112.04000091552734, 108.70999908447266, 106.08999633789062, 103.0999984741211, 109.16000366210938, 106.7699966430664, 105.0, 107.66999816894531, 112.77999877929688, 113.56999969482422, 113.62000274658203, 115.83000183105469, 112.22000122070312, 113.55000305175781, 112.25, 114.12999725341797, 114.58999633789062, 114.91999816894531, 119.27999877929688, 119.6500015258789, 119.62000274658203, 118.1500015258789, 118.80999755859375, 115.66000366210938, 115.62999725341797, 116.44999694824219, 114.58999633789062, 114.27999877929688, 112.87999725341797, 114.54000091552734, 111.0999984741211, 112.19999694824219, 107.72000122070312, 107.31999969482422, 108.7300033569336, 112.3499984741211, 116.87000274658203, 116.12999725341797, 116.05000305175781, 114.12999725341797, 116.44000244140625, 118.56999969482422, 117.87000274658203, 118.1500015258789, 118.95999908447266, 118.0, 116.80999755859375, 117.29000091552734, 113.75, 112.58999633789062, 115.16999816894531, 116.22000122070312, 116.80999755859375, 120.01000213623047, 120.88999938964844, 122.20999908447266, 121.5199966430664, 122.25, 123.08999633789062, 121.0, 120.1500015258789, 120.55000305175781], \"yaxis\": \"y\"}],\n",
              "                        {\"legend\": {\"tracegroupgap\": 0}, \"template\": {\"data\": {\"bar\": [{\"error_x\": {\"color\": \"#2a3f5f\"}, \"error_y\": {\"color\": \"#2a3f5f\"}, \"marker\": {\"line\": {\"color\": \"#E5ECF6\", \"width\": 0.5}}, \"type\": \"bar\"}], \"barpolar\": [{\"marker\": {\"line\": {\"color\": \"#E5ECF6\", \"width\": 0.5}}, \"type\": \"barpolar\"}], \"carpet\": [{\"aaxis\": {\"endlinecolor\": \"#2a3f5f\", \"gridcolor\": \"white\", \"linecolor\": \"white\", \"minorgridcolor\": \"white\", \"startlinecolor\": \"#2a3f5f\"}, \"baxis\": {\"endlinecolor\": \"#2a3f5f\", \"gridcolor\": \"white\", \"linecolor\": \"white\", \"minorgridcolor\": \"white\", \"startlinecolor\": \"#2a3f5f\"}, \"type\": \"carpet\"}], \"choropleth\": [{\"colorbar\": {\"outlinewidth\": 0, \"ticks\": \"\"}, \"type\": \"choropleth\"}], \"contour\": [{\"colorbar\": {\"outlinewidth\": 0, \"ticks\": \"\"}, \"colorscale\": [[0.0, \"#0d0887\"], [0.1111111111111111, \"#46039f\"], [0.2222222222222222, \"#7201a8\"], [0.3333333333333333, \"#9c179e\"], [0.4444444444444444, \"#bd3786\"], [0.5555555555555556, \"#d8576b\"], [0.6666666666666666, \"#ed7953\"], [0.7777777777777778, \"#fb9f3a\"], [0.8888888888888888, \"#fdca26\"], [1.0, \"#f0f921\"]], \"type\": \"contour\"}], \"contourcarpet\": [{\"colorbar\": {\"outlinewidth\": 0, \"ticks\": \"\"}, \"type\": \"contourcarpet\"}], \"heatmap\": [{\"colorbar\": {\"outlinewidth\": 0, \"ticks\": \"\"}, \"colorscale\": [[0.0, \"#0d0887\"], [0.1111111111111111, \"#46039f\"], [0.2222222222222222, \"#7201a8\"], [0.3333333333333333, \"#9c179e\"], [0.4444444444444444, \"#bd3786\"], [0.5555555555555556, \"#d8576b\"], [0.6666666666666666, \"#ed7953\"], [0.7777777777777778, \"#fb9f3a\"], [0.8888888888888888, \"#fdca26\"], [1.0, \"#f0f921\"]], \"type\": \"heatmap\"}], \"heatmapgl\": [{\"colorbar\": {\"outlinewidth\": 0, \"ticks\": \"\"}, \"colorscale\": [[0.0, \"#0d0887\"], [0.1111111111111111, \"#46039f\"], [0.2222222222222222, \"#7201a8\"], [0.3333333333333333, \"#9c179e\"], [0.4444444444444444, \"#bd3786\"], [0.5555555555555556, \"#d8576b\"], [0.6666666666666666, \"#ed7953\"], [0.7777777777777778, \"#fb9f3a\"], [0.8888888888888888, \"#fdca26\"], [1.0, \"#f0f921\"]], \"type\": \"heatmapgl\"}], \"histogram\": [{\"marker\": {\"colorbar\": {\"outlinewidth\": 0, \"ticks\": \"\"}}, \"type\": \"histogram\"}], \"histogram2d\": [{\"colorbar\": {\"outlinewidth\": 0, \"ticks\": \"\"}, \"colorscale\": [[0.0, \"#0d0887\"], [0.1111111111111111, \"#46039f\"], [0.2222222222222222, \"#7201a8\"], [0.3333333333333333, \"#9c179e\"], [0.4444444444444444, \"#bd3786\"], [0.5555555555555556, \"#d8576b\"], [0.6666666666666666, \"#ed7953\"], [0.7777777777777778, \"#fb9f3a\"], [0.8888888888888888, \"#fdca26\"], [1.0, \"#f0f921\"]], \"type\": \"histogram2d\"}], \"histogram2dcontour\": [{\"colorbar\": {\"outlinewidth\": 0, \"ticks\": \"\"}, \"colorscale\": [[0.0, \"#0d0887\"], [0.1111111111111111, \"#46039f\"], [0.2222222222222222, \"#7201a8\"], [0.3333333333333333, \"#9c179e\"], [0.4444444444444444, \"#bd3786\"], [0.5555555555555556, \"#d8576b\"], [0.6666666666666666, \"#ed7953\"], [0.7777777777777778, \"#fb9f3a\"], [0.8888888888888888, \"#fdca26\"], [1.0, \"#f0f921\"]], \"type\": \"histogram2dcontour\"}], \"mesh3d\": [{\"colorbar\": {\"outlinewidth\": 0, \"ticks\": \"\"}, \"type\": \"mesh3d\"}], \"parcoords\": [{\"line\": {\"colorbar\": {\"outlinewidth\": 0, \"ticks\": \"\"}}, \"type\": \"parcoords\"}], \"pie\": [{\"automargin\": true, \"type\": \"pie\"}], \"scatter\": [{\"marker\": {\"colorbar\": {\"outlinewidth\": 0, \"ticks\": \"\"}}, \"type\": \"scatter\"}], \"scatter3d\": [{\"line\": {\"colorbar\": {\"outlinewidth\": 0, \"ticks\": \"\"}}, \"marker\": {\"colorbar\": {\"outlinewidth\": 0, \"ticks\": \"\"}}, \"type\": \"scatter3d\"}], \"scattercarpet\": [{\"marker\": {\"colorbar\": {\"outlinewidth\": 0, \"ticks\": \"\"}}, \"type\": \"scattercarpet\"}], \"scattergeo\": [{\"marker\": {\"colorbar\": {\"outlinewidth\": 0, \"ticks\": \"\"}}, \"type\": \"scattergeo\"}], \"scattergl\": [{\"marker\": {\"colorbar\": {\"outlinewidth\": 0, \"ticks\": \"\"}}, \"type\": \"scattergl\"}], \"scattermapbox\": [{\"marker\": {\"colorbar\": {\"outlinewidth\": 0, \"ticks\": \"\"}}, \"type\": \"scattermapbox\"}], \"scatterpolar\": [{\"marker\": {\"colorbar\": {\"outlinewidth\": 0, \"ticks\": \"\"}}, \"type\": \"scatterpolar\"}], \"scatterpolargl\": [{\"marker\": {\"colorbar\": {\"outlinewidth\": 0, \"ticks\": \"\"}}, \"type\": \"scatterpolargl\"}], \"scatterternary\": [{\"marker\": {\"colorbar\": {\"outlinewidth\": 0, \"ticks\": \"\"}}, \"type\": \"scatterternary\"}], \"surface\": [{\"colorbar\": {\"outlinewidth\": 0, \"ticks\": \"\"}, \"colorscale\": [[0.0, \"#0d0887\"], [0.1111111111111111, \"#46039f\"], [0.2222222222222222, \"#7201a8\"], [0.3333333333333333, \"#9c179e\"], [0.4444444444444444, \"#bd3786\"], [0.5555555555555556, \"#d8576b\"], [0.6666666666666666, \"#ed7953\"], [0.7777777777777778, \"#fb9f3a\"], [0.8888888888888888, \"#fdca26\"], [1.0, \"#f0f921\"]], \"type\": \"surface\"}], \"table\": [{\"cells\": {\"fill\": {\"color\": \"#EBF0F8\"}, \"line\": {\"color\": \"white\"}}, \"header\": {\"fill\": {\"color\": \"#C8D4E3\"}, \"line\": {\"color\": \"white\"}}, \"type\": \"table\"}]}, \"layout\": {\"annotationdefaults\": {\"arrowcolor\": \"#2a3f5f\", \"arrowhead\": 0, \"arrowwidth\": 1}, \"coloraxis\": {\"colorbar\": {\"outlinewidth\": 0, \"ticks\": \"\"}}, \"colorscale\": {\"diverging\": [[0, \"#8e0152\"], [0.1, \"#c51b7d\"], [0.2, \"#de77ae\"], [0.3, \"#f1b6da\"], [0.4, \"#fde0ef\"], [0.5, \"#f7f7f7\"], [0.6, \"#e6f5d0\"], [0.7, \"#b8e186\"], [0.8, \"#7fbc41\"], [0.9, \"#4d9221\"], [1, \"#276419\"]], \"sequential\": [[0.0, \"#0d0887\"], [0.1111111111111111, \"#46039f\"], [0.2222222222222222, \"#7201a8\"], [0.3333333333333333, \"#9c179e\"], [0.4444444444444444, \"#bd3786\"], [0.5555555555555556, \"#d8576b\"], [0.6666666666666666, \"#ed7953\"], [0.7777777777777778, \"#fb9f3a\"], [0.8888888888888888, \"#fdca26\"], [1.0, \"#f0f921\"]], \"sequentialminus\": [[0.0, \"#0d0887\"], [0.1111111111111111, \"#46039f\"], [0.2222222222222222, \"#7201a8\"], [0.3333333333333333, \"#9c179e\"], [0.4444444444444444, \"#bd3786\"], [0.5555555555555556, \"#d8576b\"], [0.6666666666666666, \"#ed7953\"], [0.7777777777777778, \"#fb9f3a\"], [0.8888888888888888, \"#fdca26\"], [1.0, \"#f0f921\"]]}, \"colorway\": [\"#636efa\", \"#EF553B\", \"#00cc96\", \"#ab63fa\", \"#FFA15A\", \"#19d3f3\", \"#FF6692\", \"#B6E880\", \"#FF97FF\", \"#FECB52\"], \"font\": {\"color\": \"#2a3f5f\"}, \"geo\": {\"bgcolor\": \"white\", \"lakecolor\": \"white\", \"landcolor\": \"#E5ECF6\", \"showlakes\": true, \"showland\": true, \"subunitcolor\": \"white\"}, \"hoverlabel\": {\"align\": \"left\"}, \"hovermode\": \"closest\", \"mapbox\": {\"style\": \"light\"}, \"paper_bgcolor\": \"white\", \"plot_bgcolor\": \"#E5ECF6\", \"polar\": {\"angularaxis\": {\"gridcolor\": \"white\", \"linecolor\": \"white\", \"ticks\": \"\"}, \"bgcolor\": \"#E5ECF6\", \"radialaxis\": {\"gridcolor\": \"white\", \"linecolor\": \"white\", \"ticks\": \"\"}}, \"scene\": {\"xaxis\": {\"backgroundcolor\": \"#E5ECF6\", \"gridcolor\": \"white\", \"gridwidth\": 2, \"linecolor\": \"white\", \"showbackground\": true, \"ticks\": \"\", \"zerolinecolor\": \"white\"}, \"yaxis\": {\"backgroundcolor\": \"#E5ECF6\", \"gridcolor\": \"white\", \"gridwidth\": 2, \"linecolor\": \"white\", \"showbackground\": true, \"ticks\": \"\", \"zerolinecolor\": \"white\"}, \"zaxis\": {\"backgroundcolor\": \"#E5ECF6\", \"gridcolor\": \"white\", \"gridwidth\": 2, \"linecolor\": \"white\", \"showbackground\": true, \"ticks\": \"\", \"zerolinecolor\": \"white\"}}, \"shapedefaults\": {\"line\": {\"color\": \"#2a3f5f\"}}, \"ternary\": {\"aaxis\": {\"gridcolor\": \"white\", \"linecolor\": \"white\", \"ticks\": \"\"}, \"baxis\": {\"gridcolor\": \"white\", \"linecolor\": \"white\", \"ticks\": \"\"}, \"bgcolor\": \"#E5ECF6\", \"caxis\": {\"gridcolor\": \"white\", \"linecolor\": \"white\", \"ticks\": \"\"}}, \"title\": {\"x\": 0.05}, \"xaxis\": {\"automargin\": true, \"gridcolor\": \"white\", \"linecolor\": \"white\", \"ticks\": \"\", \"title\": {\"standoff\": 15}, \"zerolinecolor\": \"white\", \"zerolinewidth\": 2}, \"yaxis\": {\"automargin\": true, \"gridcolor\": \"white\", \"linecolor\": \"white\", \"ticks\": \"\", \"title\": {\"standoff\": 15}, \"zerolinecolor\": \"white\", \"zerolinewidth\": 2}}}, \"title\": {\"text\": \"High vs Low\"}, \"xaxis\": {\"anchor\": \"y\", \"domain\": [0.0, 1.0], \"title\": {\"text\": \"High\"}}, \"yaxis\": {\"anchor\": \"x\", \"domain\": [0.0, 1.0], \"title\": {\"text\": \"Low\"}}},\n",
              "                        {\"responsive\": true}\n",
              "                    ).then(function(){\n",
              "                            \n",
              "var gd = document.getElementById('12ee1966-a30d-4e82-9c03-5775d5ff3f9a');\n",
              "var x = new MutationObserver(function (mutations, observer) {{\n",
              "        var display = window.getComputedStyle(gd).display;\n",
              "        if (!display || display === 'none') {{\n",
              "            console.log([gd, 'removed!']);\n",
              "            Plotly.purge(gd);\n",
              "            observer.disconnect();\n",
              "        }}\n",
              "}});\n",
              "\n",
              "// Listen for the removal of the full notebook cells\n",
              "var notebookContainer = gd.closest('#notebook-container');\n",
              "if (notebookContainer) {{\n",
              "    x.observe(notebookContainer, {childList: true});\n",
              "}}\n",
              "\n",
              "// Listen for the clearing of the current output cell\n",
              "var outputEl = gd.closest('.output');\n",
              "if (outputEl) {{\n",
              "    x.observe(outputEl, {childList: true});\n",
              "}}\n",
              "\n",
              "                        })\n",
              "                };\n",
              "                \n",
              "            </script>\n",
              "        </div>\n",
              "</body>\n",
              "</html>"
            ]
          },
          "metadata": {
            "tags": []
          }
        }
      ]
    },
    {
      "cell_type": "markdown",
      "metadata": {
        "id": "CcemOtrT1W4P"
      },
      "source": [
        "Plotting Open vs Close"
      ]
    },
    {
      "cell_type": "code",
      "metadata": {
        "colab": {
          "base_uri": "https://localhost:8080/",
          "height": 542
        },
        "id": "Vhio91PT1eHV",
        "outputId": "7c7f43f3-d012-4de8-ea9a-37933fbf5aef"
      },
      "source": [
        "px.scatter(df, x='Open',y='Close', title='Open vs Close')"
      ],
      "execution_count": null,
      "outputs": [
        {
          "output_type": "display_data",
          "data": {
            "text/html": [
              "<html>\n",
              "<head><meta charset=\"utf-8\" /></head>\n",
              "<body>\n",
              "    <div>\n",
              "            <script src=\"https://cdnjs.cloudflare.com/ajax/libs/mathjax/2.7.5/MathJax.js?config=TeX-AMS-MML_SVG\"></script><script type=\"text/javascript\">if (window.MathJax) {MathJax.Hub.Config({SVG: {font: \"STIX-Web\"}});}</script>\n",
              "                <script type=\"text/javascript\">window.PlotlyConfig = {MathJaxConfig: 'local'};</script>\n",
              "        <script src=\"https://cdn.plot.ly/plotly-latest.min.js\"></script>    \n",
              "            <div id=\"22813f31-8446-4b9b-a858-ad23926aac18\" class=\"plotly-graph-div\" style=\"height:525px; width:100%;\"></div>\n",
              "            <script type=\"text/javascript\">\n",
              "                \n",
              "                    window.PLOTLYENV=window.PLOTLYENV || {};\n",
              "                    \n",
              "                if (document.getElementById(\"22813f31-8446-4b9b-a858-ad23926aac18\")) {\n",
              "                    Plotly.newPlot(\n",
              "                        '22813f31-8446-4b9b-a858-ad23926aac18',\n",
              "                        [{\"hoverlabel\": {\"namelength\": 0}, \"hovertemplate\": \"Open=%{x}<br>Close=%{y}\", \"legendgroup\": \"\", \"marker\": {\"color\": \"#636efa\", \"symbol\": \"circle\"}, \"mode\": \"markers\", \"name\": \"\", \"showlegend\": false, \"type\": \"scattergl\", \"x\": [27.84749984741211, 27.072500228881836, 26.635000228881836, 26.799999237060547, 27.3075008392334, 28.167499542236328, 28.149999618530273, 27.857500076293945, 27.260000228881836, 27.5, 26.75749969482422, 26.959999084472656, 27.237499237060547, 27.565000534057617, 28.075000762939453, 28.434999465942383, 28.104999542236328, 29.407499313354492, 29.079999923706055, 29.600000381469727, 29.512500762939453, 29.625, 29.625, 30.0049991607666, 30.0049991607666, 29.637500762939453, 30.042499542236328, 30.6924991607666, 31.514999389648438, 31.81999969482422, 31.872499465942383, 31.907499313354492, 32.119998931884766, 32.154998779296875, 32.505001068115234, 33.23500061035156, 32.88999938964844, 32.1974983215332, 32.5, 32.3125, 32.2400016784668, 32.275001525878906, 32.14500045776367, 32.099998474121094, 31.989999771118164, 31.602500915527344, 31.1875, 30.577499389648438, 31.100000381469727, 30.969999313354492, 31.475000381469727, 31.75, 32.1875, 32.0625, 31.780000686645508, 31.8075008392334, 31.635000228881836, 30.690000534057617, 31.142499923706055, 31.012500762939453, 31.522499084472656, 31.204999923706055, 31.25749969482422, 31.11750030517578, 31.90999984741211, 31.462499618530273, 31.462499618530273, 31.487499237060547, 32.092498779296875, 31.75, 31.602500915527344, 31.56999969482422, 31.387500762939453, 31.392499923706055, 32.025001525878906, 31.747499465942383, 32.07500076293945, 32.622501373291016, 33.07749938964844, 33.6150016784668, 32.540000915527344, 32.15999984741211, 31.524999618530273, 32.375, 32.037498474121094, 31.639999389648438, 31.1924991607666, 31.670000076293945, 31.84749984741211, 31.399999618530273, 31.537500381469727, 31.852500915527344, 32.26750183105469, 32.095001220703125, 32.67250061035156, 32.5, 32.51750183105469, 32.900001525878906, 33.150001525878906, 32.584999084472656, 32.96500015258789, 32.807498931884766, 32.56999969482422, 32.46500015258789, 32.665000915527344, 32.39500045776367, 32.375, 32.224998474121094, 31.674999237060547, 31.979999542236328, 32.29499816894531, 32.04750061035156, 31.524999618530273, 31.75749969482422, 31.93000030517578, 31.8075008392334, 31.927499771118164, 31.872499465942383, 31.8700008392334, 31.802499771118164, 32.21500015258789, 31.917499542236328, 31.364999771118164, 31.392499923706055, 31.725000381469727, 31.607500076293945, 31.235000610351562, 31.47249984741211, 31.1200008392334, 30.962499618530273, 30.485000610351562, 31.25749969482422, 31.510000228881836, 31.43000030517578, 31.934999465942383, 32.27000045776367, 32.74250030517578, 33.212501525878906, 30.497499465942383, 31.549999237060547, 31.329999923706055, 30.772499084472656, 30.844999313354492, 30.787500381469727, 30.579999923706055, 30.649999618530273, 30.375, 29.354999542236328, 28.237499237060547, 28.99250030517578, 28.645000457763672, 29.13249969482422, 29.452499389648438, 28.13249969482422, 29.010000228881836, 28.579999923706055, 29.010000228881836, 29.107500076293945, 29.024999618530273, 28.520000457763672, 27.607500076293945, 23.717500686645508, 27.77750015258789, 26.772499084472656, 28.0575008392334, 28.042499542236328, 28.00749969482422, 27.537500381469727, 27.5575008392334, 28.122499465942383, 27.24250030517578, 27.9375, 28.440000534057617, 27.5674991607666, 27.947500228881836, 29.145000457763672, 28.982500076293945, 29.0625, 28.915000915527344, 28.052499771118164, 28.417499542236328, 28.344999313354492, 28.407499313354492, 28.3125, 29.110000610351562, 28.462499618530273, 28.207500457763672, 27.542499542236328, 27.267499923706055, 27.002500534057617, 27.469999313354492, 27.657499313354492, 27.934999465942383, 27.547500610351562, 27.5, 28.1825008392334, 27.704999923706055, 27.822500228881836, 27.732500076293945, 27.94499969482422, 27.700000762939453, 27.834999084472656, 28.5, 28.582500457763672, 29.174999237060547, 29.520000457763672, 28.850000381469727, 29.232500076293945, 29.674999237060547, 30.247499465942383, 30.200000762939453, 30.197500228881836, 30.782499313354492, 30.462499618530273, 30.27750015258789, 30.239999771118164, 29.225000381469727, 29.092500686645508, 29.065000534057617, 28.799999237060547, 27.844999313354492, 28.729999542236328, 28.940000534057617, 29.40999984741211, 29.799999237060547, 29.8174991607666, 29.332500457763672, 29.802499771118164, 29.572500228881836, 29.497499465942383, 29.6875, 29.334999084472656, 29.137500762939453, 28.822500228881836, 29.7450008392334, 29.3799991607666, 29.40999984741211, 29.010000228881836, 28.797500610351562, 28.045000076293945, 27.985000610351562, 27.767499923706055, 28.0049991607666, 27.227500915527344, 26.81999969482422, 26.850000381469727, 26.8174991607666, 27.25, 26.897499084472656, 26.739999771118164, 27.145000457763672, 26.752500534057617, 25.65250015258789, 26.4375, 25.139999389648438, 24.670000076293945, 24.637500762939453, 24.74250030517578, 25.137500762939453, 25.079999923706055, 24.489999771118164, 24.049999237060547, 24.602500915527344, 23.774999618530273, 24.264999389648438, 24.657499313354492, 25.3799991607666, 24.982500076293945, 24.010000228881836, 23.447500228881836, 23.697500228881836, 24.11750030517578, 23.854999542236328, 23.75, 23.96500015258789, 24.1299991607666, 23.282499313354492, 23.572500228881836, 23.979999542236328, 23.447500228881836, 23.547500610351562, 23.7549991607666, 24.167499542236328, 24.709999084472656, 24.0, 24.077499389648438, 24.100000381469727, 23.4950008392334, 24.012500762939453, 24.299999237060547, 24.21500015258789, 24.412500381469727, 25.127500534057617, 25.145000457763672, 25.592500686645508, 25.59749984741211, 25.19499969482422, 25.327499389648438, 25.352500915527344, 25.559999465942383, 25.477500915527344, 25.989999771118164, 26.15250015258789, 26.3799991607666, 26.584999084472656, 26.482500076293945, 26.3125, 26.6200008392334, 26.36750030517578, 26.5, 26.22249984741211, 27.162500381469727, 27.43000030517578, 27.19499969482422, 27.604999542236328, 27.377500534057617, 27.5575008392334, 27.487499237060547, 27.227500915527344, 27.24250030517578, 27.334999084472656, 27.700000762939453, 27.905000686645508, 28.02750015258789, 27.22249984741211, 26.969999313354492, 26.65999984741211, 26.732500076293945, 26.252500534057617, 26.25, 25.977500915527344, 24.0, 24.40250015258789, 23.497499465942383, 23.49250030517578, 23.549999237060547, 23.799999237060547, 23.5, 23.342500686645508, 23.25, 23.332500457763672, 23.3700008392334, 23.18000030517578, 22.5, 23.09749984741211, 23.637500762939453, 23.540000915527344, 23.65999984741211, 23.65999984741211, 23.967500686645508, 24.30500030517578, 24.667499542236328, 24.920000076293945, 24.860000610351562, 24.899999618530273, 24.7549991607666, 24.399999618530273, 24.447500228881836, 24.497499465942383, 24.8125, 24.7549991607666, 24.625, 24.63249969482422, 24.672500610351562, 24.329999923706055, 24.454999923706055, 24.112499237060547, 24.155000686645508, 24.0, 23.735000610351562, 24.0625, 23.985000610351562, 23.227500915527344, 23.25, 23.225000381469727, 23.49250030517578, 23.610000610351562, 23.872499465942383, 23.84749984741211, 23.649999618530273, 23.924999237060547, 24.122499465942383, 24.1875, 24.292499542236328, 24.352500915527344, 24.34749984741211, 24.729999542236328, 24.674999237060547, 24.889999389648438, 25.0, 24.957500457763672, 24.815000534057617, 24.5625, 24.204999923706055, 26.0674991607666, 25.707500457763672, 26.047500610351562, 26.102500915527344, 26.512500762939453, 26.202499389648438, 26.395000457763672, 26.5674991607666, 26.8799991607666, 27.0575008392334, 27.177499771118164, 27.1299991607666, 26.94499969482422, 27.03499984741211, 27.407499313354492, 27.274999618530273, 27.3075008392334, 27.1924991607666, 27.21500015258789, 27.147499084472656, 27.142499923706055, 26.84749984741211, 26.852500915527344, 26.655000686645508, 26.450000762939453, 26.415000915527344, 26.53499984741211, 26.924999237060547, 26.975000381469727, 26.957500457763672, 26.8125, 26.15999984741211, 25.662500381469727, 26.877500534057617, 27.1825008392334, 28.46500015258789, 28.780000686645508, 28.797500610351562, 28.262500762939453, 28.462499618530273, 28.587499618530273, 28.604999542236328, 27.90999984741211, 28.25, 28.422500610351562, 28.290000915527344, 28.114999771118164, 28.177499771118164, 28.264999389648438, 28.350000381469727, 28.424999237060547, 28.577499389648438, 28.7549991607666, 29.424999237060547, 29.337499618530273, 29.197500228881836, 29.469999313354492, 29.332500457763672, 29.545000076293945, 29.3125, 29.21500015258789, 29.202499389648438, 29.274999618530273, 29.487499237060547, 28.577499389648438, 28.84749984741211, 28.467500686645508, 28.412500381469727, 28.364999771118164, 27.850000381469727, 27.7450008392334, 27.13249969482422, 27.520000457763672, 27.577499389648438, 27.469999313354492, 27.772499084472656, 26.780000686645508, 26.927499771118164, 26.642499923706055, 26.674999237060547, 27.452499389648438, 27.43000030517578, 27.530000686645508, 27.987499237060547, 27.84000015258789, 27.782499313354492, 27.857500076293945, 27.69499969482422, 27.899999618530273, 27.592500686645508, 27.292499542236328, 27.5, 27.375, 27.315000534057617, 27.71500015258789, 28.077499389648438, 28.322500228881836, 28.459999084472656, 28.760000228881836, 28.844999313354492, 29.11750030517578, 28.950000762939453, 29.184999465942383, 29.200000762939453, 29.087499618530273, 28.897499084472656, 29.1299991607666, 29.3799991607666, 29.112499237060547, 29.162500381469727, 28.950000762939453, 28.962499618530273, 28.979999542236328, 29.19499969482422, 29.487499237060547, 29.6924991607666, 29.684999465942383, 29.725000381469727, 29.77750015258789, 29.584999084472656, 30.0, 29.850000381469727, 30.112499237060547, 30.0, 29.887500762939453, 30.104999542236328, 30.417499542236328, 30.53499984741211, 30.232500076293945, 30.287500381469727, 31.75749969482422, 31.9950008392334, 32.07749938964844, 32.282501220703125, 32.6349983215332, 32.837501525878906, 32.912498474121094, 33.1150016784668, 33.27000045776367, 33.36750030517578, 33.880001068115234, 33.91749954223633, 33.775001525878906, 34.057498931884766, 34.10749816894531, 34.345001220703125, 33.977500915527344, 34.28499984741211, 34.27000045776367, 34.47249984741211, 35.0, 34.69499969482422, 34.842498779296875, 34.76499938964844, 34.73749923706055, 34.685001373291016, 34.8125, 34.712501525878906, 34.82500076293945, 34.852500915527344, 35.18000030517578, 35.25, 35.099998474121094, 35.52750015258789, 34.962501525878906, 35.314998626708984, 35.375, 34.84749984741211, 35.227500915527344, 35.91999816894531, 36.04750061035156, 35.93000030517578, 35.9275016784668, 35.8125, 36.05500030517578, 36.0724983215332, 35.932498931884766, 35.900001525878906, 35.73500061035156, 35.400001525878906, 35.477500915527344, 35.369998931884766, 35.352500915527344, 35.470001220703125, 35.30500030517578, 35.61000061035156, 35.875, 35.977500915527344, 36.11750030517578, 35.97999954223633, 36.022499084472656, 36.275001525878906, 36.8849983215332, 36.397499084472656, 36.630001068115234, 36.689998626708984, 37.25749969482422, 38.467498779296875, 38.407501220703125, 38.11249923706055, 38.67499923706055, 39.002498626708984, 38.98500061035156, 38.400001525878906, 37.817501068115234, 38.345001220703125, 38.5, 38.724998474121094, 38.459999084472656, 38.432498931884766, 38.5, 38.35499954223633, 38.49250030517578, 38.29249954223633, 38.39500045776367, 38.584999084472656, 38.474998474121094, 38.755001068115234, 38.8125, 38.79750061035156, 36.435001373291016, 36.790000915527344, 36.875, 35.83000183105469, 35.94499969482422, 35.915000915527344, 36.717498779296875, 36.380001068115234, 36.442501068115234, 36.282501220703125, 36.79249954223633, 36.252498626708984, 36.122501373291016, 36.1775016784668, 36.11249923706055, 36.220001220703125, 35.92250061035156, 35.755001068115234, 35.724998474121094, 36.02750015258789, 36.182498931884766, 36.467498779296875, 36.375, 36.99250030517578, 37.20500183105469, 37.29999923706055, 37.619998931884766, 37.875, 37.497501373291016, 37.64500045776367, 37.95000076293945, 38.337501525878906, 38.4375, 37.47249984741211, 37.474998474121094, 37.275001525878906, 39.81999969482422, 39.26250076293945, 39.01750183105469, 39.26499938964844, 39.650001525878906, 39.814998626708984, 39.974998474121094, 39.150001525878906, 39.83000183105469, 40.165000915527344, 40.48500061035156, 40.130001068115234, 39.46500015258789, 39.375, 39.557498931884766, 39.76750183105469, 40.10749816894531, 39.912498474121094, 40.03499984741211, 40.025001525878906, 40.95000076293945, 40.90999984741211, 41.20000076293945, 40.9375, 40.6775016784668, 40.522499084472656, 40.21500015258789, 40.125, 40.65250015258789, 39.967498779296875, 39.747501373291016, 39.61750030517578, 40.02750015258789, 39.877498626708984, 39.474998474121094, 38.95000076293945, 37.8849983215332, 37.497501373291016, 37.94499969482422, 38.45000076293945, 38.47249984741211, 38.3025016784668, 38.564998626708984, 38.502498626708984, 38.407501220703125, 38.54499816894531, 38.74250030517578, 38.95249938964844, 39.01499938964844, 38.99250030517578, 39.087501525878906, 39.182498931884766, 39.474998474121094, 39.94499969482422, 40.10499954223633, 39.1875, 39.15250015258789, 39.22249984741211, 39.0724983215332, 39.227500915527344, 39.307498931884766, 39.8224983215332, 40.97249984741211, 41.974998474121094, 42.467498779296875, 41.650001525878906, 43.5, 43.092498779296875, 43.477500915527344, 43.665000915527344, 43.77750015258789, 43.77750015258789, 43.375, 43.2599983215332, 42.49250030517578, 42.79499816894531, 42.7599983215332, 42.5724983215332, 42.69499969482422, 43.34000015258789, 43.775001525878906, 43.76250076293945, 43.57500076293945, 43.157501220703125, 42.60749816894531, 42.48749923706055, 43.119998931884766, 42.26499938964844, 41.875, 42.25749969482422, 42.622501373291016, 42.29999923706055, 43.037498474121094, 43.125, 43.099998474121094, 43.407501220703125, 43.720001220703125, 43.75749969482422, 43.717498779296875, 43.54249954223633, 43.66999816894531, 42.70000076293945, 42.525001525878906, 42.75, 42.630001068115234, 42.540000915527344, 43.13249969482422, 43.1349983215332, 43.36000061035156, 43.587501525878906, 43.63750076293945, 43.290000915527344, 43.647499084472656, 44.04499816894531, 44.474998474121094, 44.037498474121094, 44.842498779296875, 44.65250015258789, 44.32500076293945, 44.32500076293945, 44.3125, 43.627498626708984, 43.0, 42.540000915527344, 41.38249969482422, 41.717498779296875, 41.79249954223633, 41.5, 39.775001525878906, 38.70750045776367, 40.772499084472656, 40.0724983215332, 39.26750183105469, 39.625, 40.48749923706055, 40.7599983215332, 42.4474983215332, 43.09000015258789, 43.01250076293945, 43.20750045776367, 42.95000076293945, 43.41749954223633, 44.087501525878906, 44.775001525878906, 44.814998626708984, 44.6349983215332, 43.20000076293945, 43.8025016784668, 44.477500915527344, 43.73500061035156, 43.869998931884766, 44.4900016784668, 45.0724983215332, 45.647499084472656, 45.08000183105469, 44.625, 44.662498474121094, 44.33000183105469, 43.810001373291016, 43.7599983215332, 42.5, 42.09749984741211, 42.01750183105469, 43.41999816894531, 41.8125, 41.95249938964844, 41.65999984741211, 41.90999984741211, 41.220001220703125, 43.14500045776367, 42.74250030517578, 42.470001220703125, 43.25, 43.057498931884766, 43.352500915527344, 43.69499969482422, 43.75749969482422, 44.122501373291016, 44.45249938964844, 43.439998626708984, 42.650001525878906, 41.70750045776367, 41.41749954223633, 40.654998779296875, 41.029998779296875, 41.0, 40.532501220703125, 41.602500915527344, 43.807498931884766, 43.970001220703125, 44.5625, 46.29499816894531, 46.247501373291016, 46.63750076293945, 46.935001373291016, 47.372501373291016, 47.252498626708984, 46.69499969482422, 46.51750183105469, 47.0, 46.79750061035156, 47.0, 47.095001220703125, 46.587501525878906, 47.192501068115234, 47.057498931884766, 46.900001525878906, 46.93000030517578, 46.80500030517578, 46.997501373291016, 47.90999984741211, 48.26750183105469, 48.407501220703125, 48.53499984741211, 47.79249954223633, 47.837501525878906, 47.84749984741211, 48.10499954223633, 47.88750076293945, 47.50749969482422, 46.970001220703125, 46.28499984741211, 46.587501525878906, 46.8125, 46.529998779296875, 45.849998474121094, 45.747501373291016, 46.307498931884766, 46.025001525878906, 46.5724983215332, 45.95500183105469, 46.9474983215332, 46.314998626708984, 46.35499954223633, 47.375, 47.6775016784668, 47.125, 47.38249969482422, 47.77000045776367, 47.880001068115234, 47.4375, 47.94499969482422, 47.42250061035156, 47.94499969482422, 47.66999816894531, 48.11249923706055, 48.26499938964844, 48.65250015258789, 48.747501373291016, 47.974998474121094, 47.57500076293945, 49.782501220703125, 50.14500045776367, 51.75749969482422, 52.0, 52.33000183105469, 51.51250076293945, 52.38249969482422, 51.84000015258789, 52.32749938964844, 52.540000915527344, 52.30500030517578, 52.9375, 53.36000061035156, 54.525001525878906, 54.20000076293945, 53.525001525878906, 53.662498474121094, 54.150001525878906, 54.287498474121094, 54.752498626708984, 55.037498474121094, 55.8125, 56.627498626708984, 57.102500915527344, 57.247501373291016, 56.557498931884766, 55.462501525878906, 55.23749923706055, 54.502498626708984, 56.23500061035156, 55.880001068115234, 56.4375, 55.537498474121094, 54.4474983215332, 54.625, 55.060001373291016, 55.19499969482422, 54.20500183105469, 54.9375, 55.25, 55.95500183105469, 56.1974983215332, 56.98749923706055, 56.8125, 57.51250076293945, 57.69499969482422, 56.9900016784668, 55.5525016784668, 55.90999984741211, 56.3650016784668, 53.630001068115234, 55.10499954223633, 55.290000915527344, 54.73249816894531, 55.57500076293945, 54.46500015258789, 54.51499938964844, 54.9474983215332, 53.95750045776367, 55.650001525878906, 54.4275016784668, 53.974998474121094, 54.79750061035156, 52.787498474121094, 54.220001220703125, 54.76250076293945, 52.38750076293945, 51.07500076293945, 50.47999954223633, 51.49250030517578, 52.494998931884766, 51.38750076293945, 49.75, 47.907501220703125, 48.474998474121094, 47.09749984741211, 47.625, 47.5, 44.592498779296875, 44.932498931884766, 43.73500061035156, 43.560001373291016, 42.877498626708984, 44.182498931884766, 45.665000915527344, 45.0724983215332, 46.1150016784668, 45.23749923706055, 42.939998626708984, 43.372501373291016, 41.25, 42.915000915527344, 42.599998474121094, 42.622501373291016, 42.25, 41.36249923706055, 41.345001220703125, 41.5, 40.099998474121094, 39.21500015258789, 37.037498474121094, 37.07500076293945, 38.959999084472656, 39.375, 39.63249969482422, 38.72249984741211, 35.994998931884766, 36.13249969482422, 37.17499923706055, 37.38999938964844, 37.8224983215332, 38.125, 38.220001220703125, 37.712501525878906, 37.567501068115234, 38.27000045776367, 38.54999923706055, 39.375, 39.102500915527344, 38.537498474121094, 38.52750015258789, 38.869998931884766, 38.9474983215332, 39.0625, 40.8125, 41.52750015258789, 41.7400016784668, 41.852500915527344, 43.21500015258789, 43.662498474121094, 43.099998474121094, 42.247501373291016, 42.76250076293945, 42.525001525878906, 42.84749984741211, 42.4275016784668, 42.8125, 42.4275016784668, 42.79750061035156, 42.95000076293945, 42.89500045776367, 43.540000915527344, 43.4275016784668, 43.3025016784668, 43.58000183105469, 43.56999969482422, 43.92250061035156, 43.98500061035156, 43.66749954223633, 43.467498779296875, 42.58000183105469, 43.872501373291016, 45.0, 45.5625, 45.974998474121094, 46.212501525878906, 46.45000076293945, 47.087501525878906, 46.557498931884766, 47.505001068115234, 48.834999084472656, 47.877498626708984, 47.915000915527344, 47.1875, 47.23749923706055, 47.45750045776367, 47.90999984741211, 47.772499084472656, 48.3125, 48.6974983215332, 49.11249923706055, 49.10499954223633, 50.08000183105469, 49.66999816894531, 50.212501525878906, 49.79999923706055, 49.64500045776367, 49.8650016784668, 49.8849983215332, 50.779998779296875, 50.70750045776367, 51.10749816894531, 51.84000015258789, 51.70750045776367, 51.224998474121094, 51.099998474121094, 50.76499938964844, 52.470001220703125, 52.459999084472656, 52.72249984741211, 51.0724983215332, 51.470001220703125, 50.474998474121094, 50.099998474121094, 49.35499954223633, 46.9275016784668, 46.602500915527344, 46.567501068115234, 47.477500915527344, 46.73249816894531, 45.880001068115234, 46.30500030517578, 46.165000915527344, 44.95000076293945, 45.04999923706055, 44.72999954223633, 44.10499954223633, 44.48749923706055, 44.057498931884766, 43.900001525878906, 43.86000061035156, 46.06999969482422, 45.77000045776367, 46.627498626708984, 47.95249938964844, 48.71500015258789, 48.48749923706055, 48.67499923706055, 47.88750076293945, 48.224998474121094, 49.01250076293945, 49.91999816894531, 50.092498779296875, 49.70000076293945, 49.6349983215332, 49.60749816894531, 49.442501068115234, 50.0724983215332, 49.66999816894531, 50.79249954223633, 50.352500915527344, 50.81999969482422, 50.837501525878906, 50.20249938964844, 49.79999923706055, 50.462501525878906, 50.82749938964844, 50.61249923706055, 51.022499084472656, 51.147499084472656, 51.01250076293945, 51.0, 51.4474983215332, 50.912498474121094, 52.1150016784668, 51.91749954223633, 52.22249984741211, 51.869998931884766, 52.1150016784668, 52.189998626708984, 54.10499954223633, 53.474998474121094, 51.38249969482422, 49.497501373291016, 49.07749938964844, 48.852500915527344, 50.04999923706055, 50.32500076293945, 49.904998779296875, 50.255001068115234, 50.790000915527344, 50.8650016784668, 51.06999969482422, 52.654998779296875, 52.720001220703125, 53.247501373291016, 53.29750061035156, 52.35749816894531, 51.46500015258789, 51.96500015258789, 51.025001525878906, 52.125, 52.540000915527344, 51.60749816894531, 52.09749984741211, 53.0, 53.51250076293945, 53.709999084472656, 53.46500015258789, 54.51750183105469, 56.20000076293945, 55.0, 54.432498931884766, 54.9900016784668, 55.26499938964844, 55.502498626708984, 55.345001220703125, 54.73749923706055, 55.25749969482422, 54.63750076293945, 55.0, 55.1349983215332, 55.224998474121094, 56.26750183105469, 55.76499938964844, 54.60749816894531, 56.40999984741211, 56.567501068115234, 56.45500183105469, 56.75749969482422, 56.98249816894531, 58.23749923706055, 58.724998474121094, 59.09749984741211, 58.342498779296875, 58.772499084472656, 58.647499084472656, 59.380001068115234, 60.290000915527344, 60.525001525878906, 61.127498626708984, 60.790000915527344, 61.85499954223633, 62.24250030517578, 61.189998626708984, 61.810001373291016, 62.3849983215332, 64.3324966430664, 64.26249694824219, 64.19249725341797, 64.68499755859375, 64.67250061035156, 64.57499694824219, 65.38749694824219, 65.28250122070312, 65.9375, 65.91999816894531, 66.44999694824219, 66.9749984741211, 66.38500213623047, 65.92250061035156, 65.64749908447266, 65.67749786376953, 66.73500061035156, 66.3949966430664, 66.6500015258789, 66.81749725341797, 64.57749938964844, 65.26750183105469, 65.94750213623047, 66.87000274658203, 67.5, 67.1500015258789, 67.20249938964844, 66.94499969482422, 67.86499786376953, 69.25, 69.89250183105469, 69.94999694824219, 69.875, 70.55750274658203, 70.13249969482422, 71.17250061035156, 71.20500183105469, 72.77999877929688, 72.36499786376953, 72.48249816894531, 74.05999755859375, 74.2874984741211, 73.44750213623047, 74.95999908447266, 74.29000091552734, 76.80999755859375, 77.6500015258789, 77.91000366210938, 79.17500305175781, 77.9625015258789, 78.39749908447266, 79.06749725341797, 79.29750061035156, 79.6449966430664, 79.4800033569336, 80.0625, 77.51499938964844, 78.1500015258789, 81.11250305175781, 80.13500213623047, 80.23249816894531, 76.07499694824219, 78.82749938964844, 80.87999725341797, 80.64250183105469, 80.59249877929688, 78.54499816894531, 80.9000015258789, 80.36750030517578, 81.04750061035156, 81.18499755859375, 78.83999633789062, 80.0, 80.65750122070312, 79.65499877929688, 74.31500244140625, 75.23750305175781, 71.63249969482422, 70.2750015258789, 64.31500244140625, 70.56999969482422, 75.9175033569336, 74.11000061035156, 73.87999725341797, 70.5, 65.9375, 69.28500366210938, 69.34750366210938, 63.98500061035156, 66.22250366210938, 60.48749923706055, 61.877498626708984, 59.942501068115234, 61.84749984741211, 61.79499816894531, 57.02000045776367, 59.09000015258789, 62.6875, 61.630001068115234, 63.1875, 62.685001373291016, 63.900001525878906, 61.625, 60.084999084472656, 60.70000076293945, 62.724998474121094, 67.69999694824219, 65.68499755859375, 67.17500305175781, 67.07749938964844, 70.0, 70.5999984741211, 71.84500122070312, 71.17250061035156, 69.48750305175781, 69.06999969482422, 68.40249633789062, 68.96749877929688, 69.30000305175781, 70.44999694824219, 71.2699966430664, 71.18250274658203, 72.48999786376953, 71.5625, 72.2925033569336, 73.76499938964844, 75.11499786376953, 75.80500030517578, 76.41000366210938, 77.0250015258789, 79.4574966430664, 78.0374984741211, 76.12750244140625, 75.0875015258789, 78.2925033569336, 78.75749969482422, 79.16999816894531, 79.66500091552734, 78.94249725341797, 80.875, 79.03500366210938, 79.19249725341797, 79.8125, 79.4375, 80.1875, 81.16500091552734, 81.09750366210938, 80.8375015258789, 82.5625, 83.03500366210938, 86.9749984741211, 87.32749938964844, 86.18000030517578, 83.3125, 87.86499786376953, 88.7874984741211, 87.85250091552734, 88.66000366210938, 87.83499908447266, 91.0, 91.25, 90.17500305175781, 91.10250091552734, 88.3125, 90.0199966430664, 91.27999877929688, 91.9625015258789, 92.5, 93.85250091552734, 94.18000030517578, 96.26249694824219, 95.33499908447266, 97.26499938964844, 94.83999633789062, 98.98999786376953, 96.5625, 96.98750305175781, 96.4175033569336, 99.17250061035156, 96.69249725341797, 96.99749755859375, 90.98750305175781, 93.70999908447266, 94.36750030517578, 93.75, 94.1875, 102.88500213623047, 108.19999694824219, 109.13249969482422, 109.37750244140625, 110.40499877929688, 113.20500183105469, 112.5999984741211, 111.97000122070312, 110.49749755859375, 114.43000030517578, 114.83000183105469, 116.0625, 114.35250091552734, 115.98249816894531, 115.75, 119.26249694824219, 128.69749450683594, 124.69750213623047, 126.18000030517578, 127.14250183105469, 126.01249694824219, 127.58000183105469, 132.75999450683594, 137.58999633789062, 126.91000366210938, 120.06999969482422, 113.94999694824219, 117.26000213623047, 120.36000061035156, 114.56999969482422, 114.72000122070312, 118.33000183105469, 115.2300033569336, 109.72000122070312, 110.4000015258789, 104.54000091552734, 112.68000030517578, 111.62000274658203, 105.16999816894531, 108.43000030517578, 115.01000213623047, 114.55000305175781, 113.79000091552734, 117.63999938964844, 112.88999938964844, 113.91000366210938, 115.69999694824219, 114.62000274658203, 116.25, 115.27999877929688, 120.05999755859375, 125.2699966430664, 121.0, 118.72000122070312, 121.27999877929688, 119.95999908447266, 116.19999694824219, 116.66999816894531, 117.44999694824219, 116.38999938964844, 114.01000213623047, 115.48999786376953, 115.05000305175781, 112.37000274658203, 111.05999755859375, 109.11000061035156, 109.66000366210938, 114.13999938964844, 117.94999694824219, 118.31999969482422, 120.5, 115.55000305175781, 117.19000244140625, 119.62000274658203, 119.44000244140625, 118.91999816894531, 119.55000305175781, 118.61000061035156, 117.58999633789062, 118.63999938964844, 117.18000030517578, 113.91000366210938, 115.55000305175781, 116.56999969482422, 116.97000122070312, 121.01000213623047, 122.0199966430664, 123.5199966430664, 122.5999984741211, 122.30999755859375, 124.37000274658203, 124.52999877929688, 120.5, 122.43000030517578], \"xaxis\": \"x\", \"y\": [27.332500457763672, 26.5625, 26.565000534057617, 26.9375, 27.97249984741211, 28.002500534057617, 27.3125, 27.55500030517578, 27.450000762939453, 26.704999923706055, 26.497499465942383, 27.18000030517578, 27.387500762939453, 28.100000381469727, 28.2450008392334, 28.274999618530273, 27.28499984741211, 28.827499389648438, 29.725000381469727, 29.290000915527344, 29.657499313354492, 29.662500381469727, 29.889999389648438, 29.985000610351562, 29.732500076293945, 29.93000030517578, 30.5049991607666, 31.219999313354492, 31.614999771118164, 31.770000457763672, 31.957500457763672, 32.18000030517578, 32.11249923706055, 32.375, 33.25, 33.04249954223633, 32.1974983215332, 32.60499954223633, 32.1150016784668, 32.272499084472656, 32.34000015258789, 32.1349983215332, 31.602500915527344, 31.649999618530273, 31.78499984741211, 31.127500534057617, 30.559999465942383, 31.112499237060547, 30.897499084472656, 31.237499237060547, 31.760000228881836, 32.11750030517578, 31.875, 31.475000381469727, 31.802499771118164, 31.672500610351562, 30.844999313354492, 31.059999465942383, 30.8125, 31.592500686645508, 31.107500076293945, 31.0625, 31.329999923706055, 31.837499618530273, 31.502500534057617, 31.399999618530273, 31.639999389648438, 31.774999618530273, 31.712499618530273, 31.575000762939453, 31.69499969482422, 31.542499542236328, 31.1875, 31.899999618530273, 31.727500915527344, 32.154998779296875, 32.41749954223633, 32.56999969482422, 33.162498474121094, 32.63999938964844, 32.15999984741211, 31.287500381469727, 32.23749923706055, 32.17499923706055, 31.450000762939453, 31.252500534057617, 31.315000534057617, 31.905000686645508, 31.579999923706055, 31.467500686645508, 31.502500534057617, 32.23749923706055, 32.192501068115234, 32.54750061035156, 32.51750183105469, 32.51499938964844, 32.84749984741211, 33.1349983215332, 32.404998779296875, 33.0099983215332, 32.94499969482422, 32.56999969482422, 32.6349983215332, 32.4900016784668, 32.529998779296875, 32.34000015258789, 32.162498474121094, 31.950000762939453, 31.854999542236328, 32.220001220703125, 32.147499084472656, 31.792499542236328, 31.729999542236328, 31.899999618530273, 31.825000762939453, 31.969999313354492, 31.649999618530273, 31.90250015258789, 31.75749969482422, 32.02750015258789, 31.875, 31.6875, 31.13249969482422, 31.357500076293945, 31.649999618530273, 31.610000610351562, 31.5, 31.422500610351562, 30.642499923706055, 30.017499923706055, 30.81999969482422, 31.415000915527344, 31.40250015258789, 31.704999923706055, 32.127498626708984, 32.404998779296875, 33.01750183105469, 32.6875, 31.30500030517578, 31.290000915527344, 31.125, 30.6924991607666, 30.844999313354492, 30.747499465942383, 30.592500686645508, 30.325000762939453, 29.610000610351562, 28.65999984741211, 28.850000381469727, 28.782499313354492, 28.8799991607666, 29.93000030517578, 28.372499465942383, 28.809999465942383, 28.787500381469727, 28.989999771118164, 29.290000915527344, 29.125, 28.752500534057617, 28.162500381469727, 26.440000534057617, 25.780000686645508, 25.934999465942383, 27.422500610351562, 28.229999542236328, 28.322500228881836, 28.190000534057617, 26.93000030517578, 28.084999084472656, 27.592500686645508, 27.3174991607666, 28.077499389648438, 27.537500381469727, 28.142499923706055, 28.552499771118164, 28.827499389648438, 29.06999969482422, 29.102500915527344, 28.479999542236328, 28.362499237060547, 28.802499771118164, 28.350000381469727, 28.579999923706055, 28.75, 28.677499771118164, 28.110000610351562, 27.264999389648438, 27.575000762939453, 27.395000457763672, 27.594999313354492, 27.69499969482422, 27.827499389648438, 27.69499969482422, 27.375, 28.030000686645508, 27.899999618530273, 27.947500228881836, 27.552499771118164, 27.96500015258789, 27.760000228881836, 27.9325008392334, 28.4424991607666, 28.440000534057617, 28.875, 29.770000457763672, 28.81999969482422, 28.637500762939453, 29.8174991607666, 30.13249969482422, 29.875, 30.295000076293945, 30.642499923706055, 30.5, 30.229999542236328, 30.264999389648438, 30.142499923706055, 29.1924991607666, 29.02750015258789, 28.93000030517578, 28.084999084472656, 28.545000076293945, 28.422500610351562, 29.322500228881836, 29.69499969482422, 29.825000762939453, 29.4375, 29.719999313354492, 29.50749969482422, 29.452499389648438, 29.575000762939453, 29.334999084472656, 29.06999969482422, 28.799999237060547, 29.75749969482422, 29.56999969482422, 29.5575008392334, 28.905000686645508, 29.042499542236328, 28.295000076293945, 28.1200008392334, 27.622499465942383, 27.834999084472656, 27.2450008392334, 26.50749969482422, 26.832500457763672, 26.8075008392334, 27.15250015258789, 27.00749969482422, 26.704999923706055, 27.184999465942383, 26.829999923706055, 26.315000534057617, 26.337499618530273, 25.677499771118164, 25.174999237060547, 24.112499237060547, 24.239999771118164, 24.63249969482422, 24.989999771118164, 24.34749984741211, 24.8799991607666, 24.282499313354492, 24.165000915527344, 24.197500228881836, 24.075000762939453, 25.354999542236328, 24.860000610351562, 24.997499465942383, 23.354999542236328, 23.522499084472656, 24.334999084472656, 24.107500076293945, 23.6200008392334, 24.087499618530273, 24.149999618530273, 23.5049991607666, 23.752500534057617, 23.747499465942383, 23.5674991607666, 23.424999237060547, 23.497499465942383, 24.15999984741211, 24.530000686645508, 24.065000534057617, 24.010000228881836, 24.219999313354492, 23.672500610351562, 24.024999618530273, 24.190000534057617, 24.227500915527344, 24.172500610351562, 25.13249969482422, 25.1875, 25.375, 25.752500534057617, 25.467500686645508, 25.25749969482422, 25.280000686645508, 25.292499542236328, 25.565000534057617, 25.6299991607666, 26.145000457763672, 26.49250030517578, 26.450000762939453, 26.479999542236328, 26.477500915527344, 26.68000030517578, 26.532499313354492, 26.417499542236328, 26.297500610351562, 26.920000076293945, 27.389999389648438, 27.247499465942383, 27.497499465942383, 27.780000686645508, 27.452499389648438, 27.739999771118164, 27.135000228881836, 27.165000915527344, 27.2549991607666, 27.610000610351562, 28.010000228881836, 28.024999618530273, 27.462499618530273, 26.8700008392334, 26.727500915527344, 26.782499313354492, 26.49250030517578, 26.420000076293945, 26.270000457763672, 26.087499618530273, 24.454999923706055, 23.707500457763672, 23.434999465942383, 23.40999984741211, 23.795000076293945, 23.547500610351562, 23.309999465942383, 23.18000030517578, 23.197500228881836, 23.354999542236328, 23.127500534057617, 22.584999084472656, 22.6299991607666, 23.469999313354492, 23.372499465942383, 23.639999389648438, 23.549999237060547, 23.80500030517578, 24.107500076293945, 24.475000381469727, 24.905000686645508, 25.102500915527344, 25.087499618530273, 24.96500015258789, 24.614999771118164, 24.43000030517578, 24.479999542236328, 24.657499313354492, 24.75749969482422, 24.735000610351562, 24.912500381469727, 24.707500457763672, 24.334999084472656, 24.364999771118164, 24.28499984741211, 24.387500762939453, 23.832500457763672, 23.774999618530273, 23.977500915527344, 23.887500762939453, 24.024999618530273, 23.350000381469727, 23.010000228881836, 23.397499084472656, 23.600000381469727, 23.899999618530273, 23.97249984741211, 23.747499465942383, 23.88249969482422, 23.985000610351562, 24.170000076293945, 24.2450008392334, 24.354999542236328, 24.217500686645508, 24.697500228881836, 24.69499969482422, 24.957500457763672, 24.967500686645508, 24.989999771118164, 24.857500076293945, 24.665000915527344, 24.334999084472656, 24.167499542236328, 25.737499237060547, 26.084999084472656, 26.052499771118164, 26.512500762939453, 26.1200008392334, 26.447500228881836, 26.467500686645508, 26.8700008392334, 27.092500686645508, 27.202499389648438, 27.0, 26.982500076293945, 27.045000076293945, 27.3700008392334, 27.344999313354492, 27.30500030517578, 27.270000457763672, 27.34000015258789, 27.127500534057617, 27.212499618530273, 27.00749969482422, 26.892499923706055, 26.735000610351562, 26.704999923706055, 26.5, 26.524999618530273, 26.6825008392334, 26.9325008392334, 26.924999237060547, 27.09000015258789, 26.3799991607666, 25.782499313354492, 26.360000610351562, 26.987499237060547, 27.9424991607666, 28.892499923706055, 28.729999542236328, 28.395000457763672, 28.392499923706055, 28.387500762939453, 28.655000686645508, 28.177499771118164, 28.219999313354492, 28.272499084472656, 28.487499237060547, 28.045000076293945, 28.262500762939453, 28.1299991607666, 28.25, 28.262500762939453, 28.47249984741211, 28.514999389648438, 29.012500762939453, 29.075000762939453, 29.334999084472656, 29.2450008392334, 29.407499313354492, 29.387500762939453, 29.36750030517578, 29.280000686645508, 29.264999389648438, 29.149999618530273, 29.412500381469727, 29.5625, 28.897499084472656, 28.6200008392334, 28.43000030517578, 28.385000228881836, 27.872499465942383, 27.897499084472656, 27.457500457763672, 27.209999084472656, 27.602500915527344, 27.764999389648438, 27.719999313354492, 26.947500228881836, 27.107500076293945, 26.427499771118164, 26.77750015258789, 27.497499465942383, 27.487499237060547, 27.514999389648438, 27.9325008392334, 27.950000762939453, 27.8075008392334, 27.947500228881836, 27.892499923706055, 27.864999771118164, 27.6299991607666, 27.372499465942383, 27.475000381469727, 27.27750015258789, 27.487499237060547, 27.75749969482422, 28.030000686645508, 28.487499237060547, 28.325000762939453, 28.797500610351562, 28.797500610351562, 28.954999923706055, 28.99250030517578, 29.15999984741211, 29.237499237060547, 29.264999389648438, 29.072500228881836, 29.1299991607666, 29.315000534057617, 29.190000534057617, 29.1825008392334, 28.954999923706055, 29.037500381469727, 29.0049991607666, 29.15250015258789, 29.477500915527344, 29.747499465942383, 29.77750015258789, 29.9375, 29.8125, 29.760000228881836, 30.0, 29.997499465942383, 29.94499969482422, 30.0, 30.020000457763672, 29.99250030517578, 30.469999313354492, 30.485000610351562, 30.487499237060547, 30.407499313354492, 30.337499618530273, 32.1875, 32.13249969482422, 32.27000045776367, 32.5724983215332, 32.88249969482422, 33.0099983215332, 33.10499954223633, 33.029998779296875, 33.3224983215332, 33.755001068115234, 33.877498626708984, 33.837501525878906, 33.93000030517578, 34.17499923706055, 34.27750015258789, 34.13249969482422, 34.165000915527344, 34.23249816894531, 34.247501373291016, 34.9474983215332, 34.7400016784668, 34.94499969482422, 34.834999084472656, 34.880001068115234, 34.75, 34.66999816894531, 34.78499984741211, 34.79999923706055, 34.747501373291016, 35.1150016784668, 35.17250061035156, 34.997501373291016, 35.3650016784668, 34.959999084472656, 35.35499954223633, 35.22999954223633, 35.15999984741211, 35.220001220703125, 35.95000076293945, 36.029998779296875, 35.98249816894531, 35.915000915527344, 35.92499923706055, 36.192501068115234, 36.005001068115234, 35.915000915527344, 35.834999084472656, 35.79249954223633, 35.407501220703125, 35.45000076293945, 35.26250076293945, 35.45750045776367, 35.29999923706055, 35.16999816894531, 35.61000061035156, 35.567501068115234, 35.90999984741211, 36.13249969482422, 35.91999816894531, 35.9474983215332, 35.912498474121094, 36.64500045776367, 36.877498626708984, 36.76499938964844, 36.63249969482422, 37.2400016784668, 38.252498626708984, 38.497501373291016, 38.314998626708984, 38.48749923706055, 39.025001525878906, 38.92499923706055, 38.86750030517578, 37.5625, 38.1349983215332, 38.26499938964844, 38.497501373291016, 38.45000076293945, 38.334999084472656, 38.467498779296875, 38.40250015258789, 38.41749954223633, 38.189998626708984, 38.29499816894531, 38.86249923706055, 38.48249816894531, 38.61249923706055, 38.842498779296875, 38.747501373291016, 37.244998931884766, 36.35499954223633, 36.647499084472656, 36.290000915527344, 36.0724983215332, 35.567501068115234, 36.584999084472656, 36.252498626708984, 36.467498779296875, 36.407501220703125, 36.56999969482422, 36.45500183105469, 35.932498931884766, 36.45750045776367, 35.91999816894531, 36.005001068115234, 35.875, 36.022499084472656, 35.682498931884766, 36.04499816894531, 36.26499938964844, 36.38249969482422, 36.435001373291016, 36.942501068115234, 37.2599983215332, 37.38999938964844, 37.52000045776367, 37.755001068115234, 37.584999084472656, 37.567501068115234, 38.022499084472656, 38.185001373291016, 38.3650016784668, 37.63999938964844, 37.375, 37.182498931884766, 37.51250076293945, 39.28499984741211, 38.89250183105469, 39.09749984741211, 39.70249938964844, 40.02000045776367, 40.26499938964844, 38.83000183105469, 39.369998931884766, 39.962501525878906, 40.400001525878906, 40.23749923706055, 39.46500015258789, 39.375, 39.3025016784668, 39.94499969482422, 39.994998931884766, 39.817501068115234, 39.96500015258789, 40.36750030517578, 40.727500915527344, 40.837501525878906, 41.0, 41.01250076293945, 40.52000045776367, 40.477500915527344, 40.314998626708984, 39.657501220703125, 40.375, 40.21500015258789, 39.912498474121094, 39.56999969482422, 39.970001220703125, 39.66749954223633, 39.682498931884766, 39.01750183105469, 38.34749984741211, 37.97249984741211, 37.63750076293945, 38.28499984741211, 38.557498931884766, 38.31999969482422, 38.529998779296875, 38.45249938964844, 38.619998931884766, 38.369998931884766, 38.84749984741211, 38.82500076293945, 38.959999084472656, 38.974998474121094, 39.13750076293945, 39.0, 39.247501373291016, 39.970001220703125, 40.11750030517578, 39.939998626708984, 38.994998931884766, 39.0625, 39.04249954223633, 39.275001525878906, 39.102500915527344, 39.352500915527344, 40.76250076293945, 41.68000030517578, 42.2599983215332, 41.72249984741211, 42.02750015258789, 43.125, 43.5625, 43.70249938964844, 44.060001373291016, 43.970001220703125, 43.66749954223633, 43.49250030517578, 42.834999084472656, 42.27000045776367, 42.775001525878906, 42.537498474121094, 42.494998931884766, 43.28499984741211, 43.7400016784668, 43.74250030517578, 43.522499084472656, 43.26750183105469, 42.369998931884766, 42.962501525878906, 42.76250076293945, 42.45000076293945, 42.40999984741211, 42.252498626708984, 42.33000183105469, 42.342498779296875, 43.16749954223633, 42.92499923706055, 43.067501068115234, 43.05500030517578, 43.49250030517578, 44.10499954223633, 43.6349983215332, 43.587501525878906, 43.752498626708984, 43.752498626708984, 42.64250183105469, 42.650001525878906, 42.77000045776367, 42.307498931884766, 43.064998626708984, 43.057498931884766, 43.25749969482422, 43.75, 43.587501525878906, 43.58250045776367, 43.5724983215332, 43.81999969482422, 44.272499084472656, 44.04750061035156, 44.775001525878906, 44.814998626708984, 44.6150016784668, 44.25, 44.2599983215332, 43.55500030517578, 42.77750015258789, 42.877498626708984, 41.9900016784668, 41.74250030517578, 41.85749816894531, 41.94499969482422, 40.125, 39.122501373291016, 40.75749969482422, 39.8849983215332, 38.787498474121094, 39.102500915527344, 40.6775016784668, 41.084999084472656, 41.842498779296875, 43.247501373291016, 43.10749816894531, 42.962501525878906, 42.76750183105469, 43.125, 43.875, 44.74250030517578, 44.59749984741211, 44.529998779296875, 43.75, 44.0525016784668, 44.20500183105469, 44.16749954223633, 43.75749969482422, 44.23500061035156, 44.994998931884766, 45.43000030517578, 44.99250030517578, 44.61000061035156, 44.662498474121094, 44.505001068115234, 43.82500076293945, 43.810001373291016, 42.817501068115234, 42.212501525878906, 41.23500061035156, 43.192501068115234, 42.084999084472656, 41.619998931884766, 41.94499969482422, 41.66999816894531, 42.09749984741211, 42.90250015258789, 43.20000076293945, 42.095001220703125, 42.51250076293945, 43.3125, 43.11000061035156, 43.53499984741211, 43.682498931884766, 43.95500183105469, 44.560001373291016, 44.459999084472656, 43.20000076293945, 41.43000030517578, 41.310001373291016, 40.73500061035156, 40.912498474121094, 41.05500030517578, 40.58000183105469, 41.314998626708984, 42.275001525878906, 44.14250183105469, 44.22249984741211, 45.95750045776367, 46.290000915527344, 46.51250076293945, 46.84000015258789, 47.5099983215332, 47.147499084472656, 47.037498474121094, 46.61000061035156, 47.04499816894531, 46.747501373291016, 46.57749938964844, 46.907501220703125, 46.790000915527344, 47.09000015258789, 47.037498474121094, 47.14500045776367, 46.974998474121094, 46.875, 46.717498779296875, 47.560001373291016, 47.95750045776367, 48.32749938964844, 48.494998931884766, 48.3650016784668, 47.92499923706055, 47.807498931884766, 48.06999969482422, 47.67499923706055, 47.70000076293945, 47.209999084472656, 47.185001373291016, 46.42250061035156, 46.625, 46.3650016784668, 46.22999954223633, 45.54249954223633, 46.10749816894531, 46.040000915527344, 46.375, 46.27750015258789, 46.79499816894531, 45.97999954223633, 46.349998474121094, 46.99250030517578, 47.64500045776367, 47.587501525878906, 46.970001220703125, 47.75749969482422, 47.83250045776367, 47.727500915527344, 47.86249923706055, 47.599998474121094, 47.970001220703125, 47.86000061035156, 47.90250015258789, 48.25, 48.70500183105469, 48.5525016784668, 47.744998931884766, 47.477500915527344, 47.5724983215332, 50.375, 51.84749984741211, 51.997501373291016, 52.26750183105469, 51.77750015258789, 51.8125, 52.220001220703125, 51.88249969482422, 52.217498779296875, 52.4375, 52.560001373291016, 53.33000183105469, 54.39500045776367, 53.8650016784668, 53.7599983215332, 53.76250076293945, 53.872501373291016, 54.040000915527344, 54.48500061035156, 54.92499923706055, 55.744998931884766, 56.25749969482422, 56.907501220703125, 57.09000015258789, 56.717498779296875, 55.775001525878906, 55.32500076293945, 54.58250045776367, 55.962501525878906, 55.26750183105469, 56.602500915527344, 55.959999084472656, 54.470001220703125, 54.560001373291016, 54.592498779296875, 55.00749969482422, 54.415000915527344, 55.1974983215332, 55.54750061035156, 55.10499954223633, 56.23749923706055, 56.435001373291016, 56.814998626708984, 57.31999969482422, 58.01750183105469, 56.997501373291016, 56.0724983215332, 55.942501068115234, 56.717498779296875, 54.09000015258789, 53.61249923706055, 55.52750015258789, 54.34000015258789, 55.537498474121094, 55.29750061035156, 54.005001068115234, 54.82749938964844, 55.162498474121094, 55.682498931884766, 53.772499084472656, 54.95000076293945, 54.07500076293945, 53.060001373291016, 53.32500076293945, 54.71500015258789, 55.55500030517578, 51.869998931884766, 50.397499084472656, 50.942501068115234, 52.48749923706055, 52.122501373291016, 51.11750030517578, 48.54249954223633, 48.057498931884766, 46.70000076293945, 47.852500915527344, 48.38249969482422, 46.46500015258789, 44.244998931884766, 44.19499969482422, 43.0724983215332, 43.654998779296875, 43.560001373291016, 45.23500061035156, 44.88750076293945, 44.64500045776367, 46.20500183105469, 44.17250061035156, 43.68000030517578, 42.122501373291016, 42.400001525878906, 42.157501220703125, 42.275001525878906, 42.73749923706055, 41.369998931884766, 40.98500061035156, 41.51750183105469, 40.22249984741211, 39.20750045776367, 37.682498931884766, 36.70750045776367, 39.29249954223633, 39.037498474121094, 39.057498931884766, 39.435001373291016, 39.47999954223633, 35.54750061035156, 37.064998626708984, 36.98249816894531, 37.6875, 38.32749938964844, 38.45000076293945, 38.0724983215332, 37.5, 38.26750183105469, 38.73500061035156, 38.96500015258789, 39.20500183105469, 38.32500076293945, 38.47999954223633, 38.17499923706055, 39.439998626708984, 39.07500076293945, 38.66999816894531, 41.3125, 41.61000061035156, 41.630001068115234, 42.8125, 43.54499816894531, 43.560001373291016, 42.73500061035156, 42.602500915527344, 42.35749816894531, 42.72249984741211, 42.54499816894531, 42.70000076293945, 42.60499954223633, 42.73249816894531, 43.00749969482422, 42.76499938964844, 43.24250030517578, 43.557498931884766, 43.58250045776367, 43.717498779296875, 43.287498474121094, 43.74250030517578, 43.962501525878906, 43.88249969482422, 43.630001068115234, 43.125, 43.227500915527344, 44.724998474121094, 45.227500915527344, 45.4275016784668, 45.932498931884766, 46.529998779296875, 47.005001068115234, 46.63249969482422, 47.040000915527344, 48.772499084472656, 47.76250076293945, 47.185001373291016, 46.6974983215332, 47.11750030517578, 47.18000030517578, 47.48749923706055, 47.810001373291016, 48.505001068115234, 48.837501525878906, 48.92250061035156, 49.25, 50.025001525878906, 49.875, 50.154998779296875, 49.73749923706055, 49.717498779296875, 49.807498931884766, 49.8125, 50.782501220703125, 50.96500015258789, 51.13249969482422, 51.869998931884766, 51.790000915527344, 51.31999969482422, 51.07500076293945, 51.15250015258789, 50.16749954223633, 52.630001068115234, 52.287498474121094, 52.9375, 52.119998931884766, 50.71500015258789, 50.724998474121094, 50.18000030517578, 49.29499816894531, 46.43000030517578, 47.165000915527344, 47.72999954223633, 47.52000045776367, 47.25, 45.772499084472656, 46.650001525878906, 45.69499969482422, 44.915000915527344, 44.74250030517578, 44.557498931884766, 44.345001220703125, 44.57500076293945, 43.76750183105469, 43.32500076293945, 44.90999984741211, 45.6349983215332, 46.30500030517578, 47.537498474121094, 48.14500045776367, 48.70249938964844, 48.54750061035156, 48.537498474121094, 48.185001373291016, 48.47249984741211, 49.61249923706055, 49.467498779296875, 49.8650016784668, 49.69499969482422, 49.64500045776367, 48.89250183105469, 49.95000076293945, 49.935001373291016, 49.47999954223633, 50.38750076293945, 50.682498931884766, 51.102500915527344, 51.057498931884766, 50.005001068115234, 50.310001373291016, 50.807498931884766, 50.4375, 50.82500076293945, 51.3025016784668, 51.125, 50.837501525878906, 51.415000915527344, 50.647499084472656, 51.80500030517578, 52.209999084472656, 52.16749954223633, 51.755001068115234, 51.935001373291016, 52.41999816894531, 52.19499969482422, 53.2599983215332, 52.10749816894531, 51.005001068115234, 48.334999084472656, 49.25, 49.7599983215332, 50.85749816894531, 50.247501373291016, 50.119998931884766, 52.24250030517578, 50.6875, 50.435001373291016, 51.625, 52.587501525878906, 52.59000015258789, 53.15999984741211, 53.1150016784668, 50.65999984741211, 51.622501373291016, 51.040000915527344, 51.38249969482422, 52.252498626708984, 52.185001373291016, 51.42499923706055, 52.29750061035156, 53.31999969482422, 53.314998626708984, 53.54249954223633, 54.17499923706055, 55.897499084472656, 55.772499084472656, 54.6875, 54.974998474121094, 55.17499923706055, 55.692501068115234, 55.2400016784668, 54.432498931884766, 54.68000030517578, 54.41999816894531, 55.25749969482422, 54.97249984741211, 54.70500183105469, 55.99250030517578, 56.147499084472656, 54.7400016784668, 55.20500183105469, 56.752498626708984, 56.76499938964844, 56.099998474121094, 56.75749969482422, 57.522499084472656, 59.0525016784668, 58.967498779296875, 58.83000183105469, 58.592498779296875, 58.81999969482422, 59.102500915527344, 60.127498626708984, 59.9900016784668, 60.79499816894531, 60.89500045776367, 61.64500045776367, 62.26250076293945, 60.8224983215332, 60.814998626708984, 62.189998626708984, 63.95500183105469, 64.375, 64.28250122070312, 64.30999755859375, 64.85749816894531, 65.03500366210938, 65.55000305175781, 65.48999786376953, 66.11750030517578, 65.66000366210938, 66.44000244140625, 66.7750015258789, 66.57250213623047, 65.79750061035156, 65.50250244140625, 65.44499969482422, 66.59249877929688, 66.07250213623047, 66.95999908447266, 66.8125, 66.04000091552734, 64.86250305175781, 65.43499755859375, 66.3949966430664, 67.67749786376953, 66.7300033569336, 67.12000274658203, 67.69249725341797, 67.86499786376953, 68.7874984741211, 69.96499633789062, 70.10250091552734, 69.93499755859375, 70.00499725341797, 69.86000061035156, 71.0, 71.06749725341797, 72.47750091552734, 72.44999694824219, 72.87999725341797, 73.4124984741211, 75.0875015258789, 74.35749816894531, 74.94999694824219, 74.59750366210938, 75.79750061035156, 77.40750122070312, 77.5824966430664, 79.23999786376953, 78.16999816894531, 77.83499908447266, 78.80999755859375, 79.68250274658203, 79.14250183105469, 79.42500305175781, 79.80750274658203, 79.57749938964844, 77.23750305175781, 79.42250061035156, 81.08499908447266, 80.96749877929688, 77.37750244140625, 77.16500091552734, 79.7125015258789, 80.36250305175781, 81.30249786376953, 80.00749969482422, 80.38749694824219, 79.90249633789062, 81.80000305175781, 81.21749877929688, 81.23750305175781, 79.75, 80.90499877929688, 80.07499694824219, 78.26249694824219, 74.54499816894531, 72.0199966430664, 73.1624984741211, 68.37999725341797, 68.33999633789062, 74.70249938964844, 72.33000183105469, 75.68499755859375, 73.2300033569336, 72.25749969482422, 66.5425033569336, 71.33499908447266, 68.85749816894531, 62.057498931884766, 69.49250030517578, 60.5525016784668, 63.21500015258789, 61.66749954223633, 61.19499969482422, 57.310001373291016, 56.092498779296875, 61.720001220703125, 61.380001068115234, 64.61000061035156, 61.935001373291016, 63.70249938964844, 63.5724983215332, 60.227500915527344, 61.23249816894531, 60.352500915527344, 65.61750030517578, 64.85749816894531, 66.51750183105469, 66.99749755859375, 68.3125, 71.76249694824219, 71.10749816894531, 71.67250061035156, 70.69999694824219, 69.23249816894531, 67.09249877929688, 69.0250015258789, 68.75749969482422, 70.74250030517578, 70.7925033569336, 69.6449966430664, 71.93250274658203, 73.44999694824219, 72.26750183105469, 73.29000091552734, 74.38999938964844, 75.15750122070312, 75.93499755859375, 77.53250122070312, 78.75250244140625, 77.85250091552734, 76.9124984741211, 77.38500213623047, 76.92749786376953, 78.73999786376953, 78.28500366210938, 79.80750274658203, 79.2125015258789, 79.72250366210938, 79.18250274658203, 79.52749633789062, 79.5625, 79.48500061035156, 80.4625015258789, 80.83499908447266, 81.27999877929688, 80.58000183105469, 82.875, 83.36499786376953, 85.99749755859375, 88.20999908447266, 83.9749984741211, 84.69999694824219, 85.74749755859375, 88.0199966430664, 87.89749908447266, 87.93250274658203, 87.43000030517578, 89.71749877929688, 91.63249969482422, 90.01499938964844, 91.20999908447266, 88.40750122070312, 90.44499969482422, 91.19999694824219, 91.02749633789062, 91.02749633789062, 93.4625015258789, 93.17250061035156, 95.34249877929688, 95.75250244140625, 95.91999816894531, 95.47750091552734, 97.05750274658203, 97.7249984741211, 96.52249908447266, 96.32749938964844, 98.35749816894531, 97.0, 97.27249908447266, 92.84500122070312, 92.61499786376953, 94.80999755859375, 93.25250244140625, 95.04000091552734, 96.19000244140625, 106.26000213623047, 108.9375, 109.66500091552734, 110.0625, 113.90249633789062, 111.11250305175781, 112.72750091552734, 109.375, 113.01000213623047, 115.01000213623047, 114.90750122070312, 114.60749816894531, 115.5625, 115.7074966430664, 118.2750015258789, 124.37000274658203, 125.85749816894531, 124.82499694824219, 126.52249908447266, 125.01000213623047, 124.80750274658203, 129.0399932861328, 134.17999267578125, 131.39999389648438, 120.87999725341797, 120.95999908447266, 112.81999969482422, 117.31999969482422, 113.48999786376953, 112.0, 115.36000061035156, 115.54000091552734, 112.12999725341797, 110.33999633789062, 106.83999633789062, 110.08000183105469, 111.80999755859375, 107.12000274658203, 108.22000122070312, 112.27999877929688, 114.95999908447266, 114.08999633789062, 115.80999755859375, 116.79000091552734, 113.0199966430664, 116.5, 113.16000366210938, 115.08000183105469, 114.97000122070312, 116.97000122070312, 124.4000015258789, 121.0999984741211, 121.19000244140625, 120.70999908447266, 119.0199966430664, 115.9800033569336, 117.51000213623047, 116.87000274658203, 115.75, 115.04000091552734, 115.05000305175781, 116.5999984741211, 111.19999694824219, 115.31999969482422, 108.86000061035156, 108.7699966430664, 110.44000244140625, 114.94999694824219, 119.02999877929688, 118.69000244140625, 116.31999969482422, 115.97000122070312, 119.48999786376953, 119.20999908447266, 119.26000213623047, 120.30000305175781, 119.38999938964844, 118.02999877929688, 118.63999938964844, 117.33999633789062, 113.8499984741211, 115.16999816894531, 116.02999877929688, 116.58999633789062, 119.05000305175781, 122.72000122070312, 123.08000183105469, 122.94000244140625, 122.25, 123.75, 124.37999725341797, 121.77999877929688, 123.23999786376953, 122.41000366210938], \"yaxis\": \"y\"}],\n",
              "                        {\"legend\": {\"tracegroupgap\": 0}, \"template\": {\"data\": {\"bar\": [{\"error_x\": {\"color\": \"#2a3f5f\"}, \"error_y\": {\"color\": \"#2a3f5f\"}, \"marker\": {\"line\": {\"color\": \"#E5ECF6\", \"width\": 0.5}}, \"type\": \"bar\"}], \"barpolar\": [{\"marker\": {\"line\": {\"color\": \"#E5ECF6\", \"width\": 0.5}}, \"type\": \"barpolar\"}], \"carpet\": [{\"aaxis\": {\"endlinecolor\": \"#2a3f5f\", \"gridcolor\": \"white\", \"linecolor\": \"white\", \"minorgridcolor\": \"white\", \"startlinecolor\": \"#2a3f5f\"}, \"baxis\": {\"endlinecolor\": \"#2a3f5f\", \"gridcolor\": \"white\", \"linecolor\": \"white\", \"minorgridcolor\": \"white\", \"startlinecolor\": \"#2a3f5f\"}, \"type\": \"carpet\"}], \"choropleth\": [{\"colorbar\": {\"outlinewidth\": 0, \"ticks\": \"\"}, \"type\": \"choropleth\"}], \"contour\": [{\"colorbar\": {\"outlinewidth\": 0, \"ticks\": \"\"}, \"colorscale\": [[0.0, \"#0d0887\"], [0.1111111111111111, \"#46039f\"], [0.2222222222222222, \"#7201a8\"], [0.3333333333333333, \"#9c179e\"], [0.4444444444444444, \"#bd3786\"], [0.5555555555555556, \"#d8576b\"], [0.6666666666666666, \"#ed7953\"], [0.7777777777777778, \"#fb9f3a\"], [0.8888888888888888, \"#fdca26\"], [1.0, \"#f0f921\"]], \"type\": \"contour\"}], \"contourcarpet\": [{\"colorbar\": {\"outlinewidth\": 0, \"ticks\": \"\"}, \"type\": \"contourcarpet\"}], \"heatmap\": [{\"colorbar\": {\"outlinewidth\": 0, \"ticks\": \"\"}, \"colorscale\": [[0.0, \"#0d0887\"], [0.1111111111111111, \"#46039f\"], [0.2222222222222222, \"#7201a8\"], [0.3333333333333333, \"#9c179e\"], [0.4444444444444444, \"#bd3786\"], [0.5555555555555556, \"#d8576b\"], [0.6666666666666666, \"#ed7953\"], [0.7777777777777778, \"#fb9f3a\"], [0.8888888888888888, \"#fdca26\"], [1.0, \"#f0f921\"]], \"type\": \"heatmap\"}], \"heatmapgl\": [{\"colorbar\": {\"outlinewidth\": 0, \"ticks\": \"\"}, \"colorscale\": [[0.0, \"#0d0887\"], [0.1111111111111111, \"#46039f\"], [0.2222222222222222, \"#7201a8\"], [0.3333333333333333, \"#9c179e\"], [0.4444444444444444, \"#bd3786\"], [0.5555555555555556, \"#d8576b\"], [0.6666666666666666, \"#ed7953\"], [0.7777777777777778, \"#fb9f3a\"], [0.8888888888888888, \"#fdca26\"], [1.0, \"#f0f921\"]], \"type\": \"heatmapgl\"}], \"histogram\": [{\"marker\": {\"colorbar\": {\"outlinewidth\": 0, \"ticks\": \"\"}}, \"type\": \"histogram\"}], \"histogram2d\": [{\"colorbar\": {\"outlinewidth\": 0, \"ticks\": \"\"}, \"colorscale\": [[0.0, \"#0d0887\"], [0.1111111111111111, \"#46039f\"], [0.2222222222222222, \"#7201a8\"], [0.3333333333333333, \"#9c179e\"], [0.4444444444444444, \"#bd3786\"], [0.5555555555555556, \"#d8576b\"], [0.6666666666666666, \"#ed7953\"], [0.7777777777777778, \"#fb9f3a\"], [0.8888888888888888, \"#fdca26\"], [1.0, \"#f0f921\"]], \"type\": \"histogram2d\"}], \"histogram2dcontour\": [{\"colorbar\": {\"outlinewidth\": 0, \"ticks\": \"\"}, \"colorscale\": [[0.0, \"#0d0887\"], [0.1111111111111111, \"#46039f\"], [0.2222222222222222, \"#7201a8\"], [0.3333333333333333, \"#9c179e\"], [0.4444444444444444, \"#bd3786\"], [0.5555555555555556, \"#d8576b\"], [0.6666666666666666, \"#ed7953\"], [0.7777777777777778, \"#fb9f3a\"], [0.8888888888888888, \"#fdca26\"], [1.0, \"#f0f921\"]], \"type\": \"histogram2dcontour\"}], \"mesh3d\": [{\"colorbar\": {\"outlinewidth\": 0, \"ticks\": \"\"}, \"type\": \"mesh3d\"}], \"parcoords\": [{\"line\": {\"colorbar\": {\"outlinewidth\": 0, \"ticks\": \"\"}}, \"type\": \"parcoords\"}], \"pie\": [{\"automargin\": true, \"type\": \"pie\"}], \"scatter\": [{\"marker\": {\"colorbar\": {\"outlinewidth\": 0, \"ticks\": \"\"}}, \"type\": \"scatter\"}], \"scatter3d\": [{\"line\": {\"colorbar\": {\"outlinewidth\": 0, \"ticks\": \"\"}}, \"marker\": {\"colorbar\": {\"outlinewidth\": 0, \"ticks\": \"\"}}, \"type\": \"scatter3d\"}], \"scattercarpet\": [{\"marker\": {\"colorbar\": {\"outlinewidth\": 0, \"ticks\": \"\"}}, \"type\": \"scattercarpet\"}], \"scattergeo\": [{\"marker\": {\"colorbar\": {\"outlinewidth\": 0, \"ticks\": \"\"}}, \"type\": \"scattergeo\"}], \"scattergl\": [{\"marker\": {\"colorbar\": {\"outlinewidth\": 0, \"ticks\": \"\"}}, \"type\": \"scattergl\"}], \"scattermapbox\": [{\"marker\": {\"colorbar\": {\"outlinewidth\": 0, \"ticks\": \"\"}}, \"type\": \"scattermapbox\"}], \"scatterpolar\": [{\"marker\": {\"colorbar\": {\"outlinewidth\": 0, \"ticks\": \"\"}}, \"type\": \"scatterpolar\"}], \"scatterpolargl\": [{\"marker\": {\"colorbar\": {\"outlinewidth\": 0, \"ticks\": \"\"}}, \"type\": \"scatterpolargl\"}], \"scatterternary\": [{\"marker\": {\"colorbar\": {\"outlinewidth\": 0, \"ticks\": \"\"}}, \"type\": \"scatterternary\"}], \"surface\": [{\"colorbar\": {\"outlinewidth\": 0, \"ticks\": \"\"}, \"colorscale\": [[0.0, \"#0d0887\"], [0.1111111111111111, \"#46039f\"], [0.2222222222222222, \"#7201a8\"], [0.3333333333333333, \"#9c179e\"], [0.4444444444444444, \"#bd3786\"], [0.5555555555555556, \"#d8576b\"], [0.6666666666666666, \"#ed7953\"], [0.7777777777777778, \"#fb9f3a\"], [0.8888888888888888, \"#fdca26\"], [1.0, \"#f0f921\"]], \"type\": \"surface\"}], \"table\": [{\"cells\": {\"fill\": {\"color\": \"#EBF0F8\"}, \"line\": {\"color\": \"white\"}}, \"header\": {\"fill\": {\"color\": \"#C8D4E3\"}, \"line\": {\"color\": \"white\"}}, \"type\": \"table\"}]}, \"layout\": {\"annotationdefaults\": {\"arrowcolor\": \"#2a3f5f\", \"arrowhead\": 0, \"arrowwidth\": 1}, \"coloraxis\": {\"colorbar\": {\"outlinewidth\": 0, \"ticks\": \"\"}}, \"colorscale\": {\"diverging\": [[0, \"#8e0152\"], [0.1, \"#c51b7d\"], [0.2, \"#de77ae\"], [0.3, \"#f1b6da\"], [0.4, \"#fde0ef\"], [0.5, \"#f7f7f7\"], [0.6, \"#e6f5d0\"], [0.7, \"#b8e186\"], [0.8, \"#7fbc41\"], [0.9, \"#4d9221\"], [1, \"#276419\"]], \"sequential\": [[0.0, \"#0d0887\"], [0.1111111111111111, \"#46039f\"], [0.2222222222222222, \"#7201a8\"], [0.3333333333333333, \"#9c179e\"], [0.4444444444444444, \"#bd3786\"], [0.5555555555555556, \"#d8576b\"], [0.6666666666666666, \"#ed7953\"], [0.7777777777777778, \"#fb9f3a\"], [0.8888888888888888, \"#fdca26\"], [1.0, \"#f0f921\"]], \"sequentialminus\": [[0.0, \"#0d0887\"], [0.1111111111111111, \"#46039f\"], [0.2222222222222222, \"#7201a8\"], [0.3333333333333333, \"#9c179e\"], [0.4444444444444444, \"#bd3786\"], [0.5555555555555556, \"#d8576b\"], [0.6666666666666666, \"#ed7953\"], [0.7777777777777778, \"#fb9f3a\"], [0.8888888888888888, \"#fdca26\"], [1.0, \"#f0f921\"]]}, \"colorway\": [\"#636efa\", \"#EF553B\", \"#00cc96\", \"#ab63fa\", \"#FFA15A\", \"#19d3f3\", \"#FF6692\", \"#B6E880\", \"#FF97FF\", \"#FECB52\"], \"font\": {\"color\": \"#2a3f5f\"}, \"geo\": {\"bgcolor\": \"white\", \"lakecolor\": \"white\", \"landcolor\": \"#E5ECF6\", \"showlakes\": true, \"showland\": true, \"subunitcolor\": \"white\"}, \"hoverlabel\": {\"align\": \"left\"}, \"hovermode\": \"closest\", \"mapbox\": {\"style\": \"light\"}, \"paper_bgcolor\": \"white\", \"plot_bgcolor\": \"#E5ECF6\", \"polar\": {\"angularaxis\": {\"gridcolor\": \"white\", \"linecolor\": \"white\", \"ticks\": \"\"}, \"bgcolor\": \"#E5ECF6\", \"radialaxis\": {\"gridcolor\": \"white\", \"linecolor\": \"white\", \"ticks\": \"\"}}, \"scene\": {\"xaxis\": {\"backgroundcolor\": \"#E5ECF6\", \"gridcolor\": \"white\", \"gridwidth\": 2, \"linecolor\": \"white\", \"showbackground\": true, \"ticks\": \"\", \"zerolinecolor\": \"white\"}, \"yaxis\": {\"backgroundcolor\": \"#E5ECF6\", \"gridcolor\": \"white\", \"gridwidth\": 2, \"linecolor\": \"white\", \"showbackground\": true, \"ticks\": \"\", \"zerolinecolor\": \"white\"}, \"zaxis\": {\"backgroundcolor\": \"#E5ECF6\", \"gridcolor\": \"white\", \"gridwidth\": 2, \"linecolor\": \"white\", \"showbackground\": true, \"ticks\": \"\", \"zerolinecolor\": \"white\"}}, \"shapedefaults\": {\"line\": {\"color\": \"#2a3f5f\"}}, \"ternary\": {\"aaxis\": {\"gridcolor\": \"white\", \"linecolor\": \"white\", \"ticks\": \"\"}, \"baxis\": {\"gridcolor\": \"white\", \"linecolor\": \"white\", \"ticks\": \"\"}, \"bgcolor\": \"#E5ECF6\", \"caxis\": {\"gridcolor\": \"white\", \"linecolor\": \"white\", \"ticks\": \"\"}}, \"title\": {\"x\": 0.05}, \"xaxis\": {\"automargin\": true, \"gridcolor\": \"white\", \"linecolor\": \"white\", \"ticks\": \"\", \"title\": {\"standoff\": 15}, \"zerolinecolor\": \"white\", \"zerolinewidth\": 2}, \"yaxis\": {\"automargin\": true, \"gridcolor\": \"white\", \"linecolor\": \"white\", \"ticks\": \"\", \"title\": {\"standoff\": 15}, \"zerolinecolor\": \"white\", \"zerolinewidth\": 2}}}, \"title\": {\"text\": \"Open vs Close\"}, \"xaxis\": {\"anchor\": \"y\", \"domain\": [0.0, 1.0], \"title\": {\"text\": \"Open\"}}, \"yaxis\": {\"anchor\": \"x\", \"domain\": [0.0, 1.0], \"title\": {\"text\": \"Close\"}}},\n",
              "                        {\"responsive\": true}\n",
              "                    ).then(function(){\n",
              "                            \n",
              "var gd = document.getElementById('22813f31-8446-4b9b-a858-ad23926aac18');\n",
              "var x = new MutationObserver(function (mutations, observer) {{\n",
              "        var display = window.getComputedStyle(gd).display;\n",
              "        if (!display || display === 'none') {{\n",
              "            console.log([gd, 'removed!']);\n",
              "            Plotly.purge(gd);\n",
              "            observer.disconnect();\n",
              "        }}\n",
              "}});\n",
              "\n",
              "// Listen for the removal of the full notebook cells\n",
              "var notebookContainer = gd.closest('#notebook-container');\n",
              "if (notebookContainer) {{\n",
              "    x.observe(notebookContainer, {childList: true});\n",
              "}}\n",
              "\n",
              "// Listen for the clearing of the current output cell\n",
              "var outputEl = gd.closest('.output');\n",
              "if (outputEl) {{\n",
              "    x.observe(outputEl, {childList: true});\n",
              "}}\n",
              "\n",
              "                        })\n",
              "                };\n",
              "                \n",
              "            </script>\n",
              "        </div>\n",
              "</body>\n",
              "</html>"
            ]
          },
          "metadata": {
            "tags": []
          }
        }
      ]
    },
    {
      "cell_type": "markdown",
      "metadata": {
        "id": "_-R_4P9Ou2gO"
      },
      "source": [
        "## Preparing data for training - __Preprocessing__"
      ]
    },
    {
      "cell_type": "code",
      "metadata": {
        "id": "uiryMsA3u4lW"
      },
      "source": [
        "X = df[['Open','High','Low','Volume']]\n",
        "y = df['Close']"
      ],
      "execution_count": null,
      "outputs": []
    },
    {
      "cell_type": "code",
      "metadata": {
        "id": "dNchfqKeu66a"
      },
      "source": [
        "from sklearn.model_selection import train_test_split"
      ],
      "execution_count": null,
      "outputs": []
    },
    {
      "cell_type": "code",
      "metadata": {
        "id": "dJ-uRBI6Rl1W",
        "colab": {
          "base_uri": "https://localhost:8080/"
        },
        "outputId": "de1b380b-ec3d-464f-ec90-77120ead1c21"
      },
      "source": [
        "from sklearn.linear_model import LinearRegression\r\n",
        "regressor = LinearRegression()\r\n",
        "for size in range(5, 10):\r\n",
        "    X_train, X_test, y_train, y_test = train_test_split(X, y, test_size=size/10)\r\n",
        "    regressor.fit(X_train, y_train)\r\n",
        "    score = regressor.score(X_test, y_test) * 100\r\n",
        "    score1 = regressor.score(X_train, y_train) * 100\r\n",
        "    print(f\"{size}: {score}, {score1}\")"
      ],
      "execution_count": null,
      "outputs": [
        {
          "output_type": "stream",
          "text": [
            "5: 99.96707498066007, 99.97053816845707\n",
            "6: 99.96525539298136, 99.97521713010975\n",
            "7: 99.96267906190236, 99.975509312676\n",
            "8: 99.96474845746232, 99.98121693103779\n",
            "9: 99.96075714855141, 99.97911113532331\n"
          ],
          "name": "stdout"
        }
      ]
    },
    {
      "cell_type": "code",
      "metadata": {
        "colab": {
          "base_uri": "https://localhost:8080/"
        },
        "id": "1Yctmdq3R2Lr",
        "outputId": "8987eba0-964e-4c18-8f16-7c19b49f1155"
      },
      "source": [
        "X_train, X_test, y_train, y_test = train_test_split(X, y)\r\n",
        "X_test.shape"
      ],
      "execution_count": null,
      "outputs": [
        {
          "output_type": "execute_result",
          "data": {
            "text/plain": [
              "(375, 4)"
            ]
          },
          "metadata": {
            "tags": []
          },
          "execution_count": 137
        }
      ]
    },
    {
      "cell_type": "markdown",
      "metadata": {
        "id": "odlAHri_vW5o"
      },
      "source": [
        "Rows in training data"
      ]
    },
    {
      "cell_type": "code",
      "metadata": {
        "id": "XropNFk9u8s3",
        "colab": {
          "base_uri": "https://localhost:8080/"
        },
        "outputId": "a9d61bf6-df35-42a9-a104-6c68c2b94e19"
      },
      "source": [
        "X_train.shape"
      ],
      "execution_count": null,
      "outputs": [
        {
          "output_type": "execute_result",
          "data": {
            "text/plain": [
              "(1123, 4)"
            ]
          },
          "metadata": {
            "tags": []
          },
          "execution_count": 138
        }
      ]
    },
    {
      "cell_type": "markdown",
      "metadata": {
        "id": "xU7P-6MXvZMa"
      },
      "source": [
        "Rows in testing data"
      ]
    },
    {
      "cell_type": "code",
      "metadata": {
        "id": "hceHo9jDu83A",
        "colab": {
          "base_uri": "https://localhost:8080/"
        },
        "outputId": "4967aec1-3bd5-42f9-ccab-defdc155a6ad"
      },
      "source": [
        "X_test.shape"
      ],
      "execution_count": null,
      "outputs": [
        {
          "output_type": "execute_result",
          "data": {
            "text/plain": [
              "(375, 4)"
            ]
          },
          "metadata": {
            "tags": []
          },
          "execution_count": 139
        }
      ]
    },
    {
      "cell_type": "code",
      "metadata": {
        "id": "LpJrLZ1lvOZu",
        "colab": {
          "base_uri": "https://localhost:8080/",
          "height": 194
        },
        "outputId": "624fb878-1e88-49df-808f-43ac58684a93"
      },
      "source": [
        "X_test.head()"
      ],
      "execution_count": null,
      "outputs": [
        {
          "output_type": "execute_result",
          "data": {
            "text/html": [
              "<div>\n",
              "<style scoped>\n",
              "    .dataframe tbody tr th:only-of-type {\n",
              "        vertical-align: middle;\n",
              "    }\n",
              "\n",
              "    .dataframe tbody tr th {\n",
              "        vertical-align: top;\n",
              "    }\n",
              "\n",
              "    .dataframe thead th {\n",
              "        text-align: right;\n",
              "    }\n",
              "</style>\n",
              "<table border=\"1\" class=\"dataframe\">\n",
              "  <thead>\n",
              "    <tr style=\"text-align: right;\">\n",
              "      <th></th>\n",
              "      <th>Open</th>\n",
              "      <th>High</th>\n",
              "      <th>Low</th>\n",
              "      <th>Volume</th>\n",
              "    </tr>\n",
              "  </thead>\n",
              "  <tbody>\n",
              "    <tr>\n",
              "      <th>49</th>\n",
              "      <td>30.969999</td>\n",
              "      <td>31.237499</td>\n",
              "      <td>30.717501</td>\n",
              "      <td>143497200.0</td>\n",
              "    </tr>\n",
              "    <tr>\n",
              "      <th>780</th>\n",
              "      <td>40.772499</td>\n",
              "      <td>40.849998</td>\n",
              "      <td>39.767502</td>\n",
              "      <td>206434400.0</td>\n",
              "    </tr>\n",
              "    <tr>\n",
              "      <th>673</th>\n",
              "      <td>40.937500</td>\n",
              "      <td>41.062500</td>\n",
              "      <td>40.139999</td>\n",
              "      <td>117874000.0</td>\n",
              "    </tr>\n",
              "    <tr>\n",
              "      <th>817</th>\n",
              "      <td>41.910000</td>\n",
              "      <td>42.187500</td>\n",
              "      <td>41.220001</td>\n",
              "      <td>121112000.0</td>\n",
              "    </tr>\n",
              "    <tr>\n",
              "      <th>700</th>\n",
              "      <td>39.087502</td>\n",
              "      <td>39.342499</td>\n",
              "      <td>38.932499</td>\n",
              "      <td>64500400.0</td>\n",
              "    </tr>\n",
              "  </tbody>\n",
              "</table>\n",
              "</div>"
            ],
            "text/plain": [
              "          Open       High        Low       Volume\n",
              "49   30.969999  31.237499  30.717501  143497200.0\n",
              "780  40.772499  40.849998  39.767502  206434400.0\n",
              "673  40.937500  41.062500  40.139999  117874000.0\n",
              "817  41.910000  42.187500  41.220001  121112000.0\n",
              "700  39.087502  39.342499  38.932499   64500400.0"
            ]
          },
          "metadata": {
            "tags": []
          },
          "execution_count": 140
        }
      ]
    },
    {
      "cell_type": "code",
      "metadata": {
        "id": "qCPOFTo22ICB",
        "colab": {
          "base_uri": "https://localhost:8080/"
        },
        "outputId": "f11a0df6-e333-4175-fa4f-6c3448258953"
      },
      "source": [
        "y_test.head()"
      ],
      "execution_count": null,
      "outputs": [
        {
          "output_type": "execute_result",
          "data": {
            "text/plain": [
              "49     31.237499\n",
              "780    39.884998\n",
              "673    40.520000\n",
              "817    42.097500\n",
              "700    39.000000\n",
              "Name: Close, dtype: float64"
            ]
          },
          "metadata": {
            "tags": []
          },
          "execution_count": 141
        }
      ]
    },
    {
      "cell_type": "markdown",
      "metadata": {
        "id": "Xs2aoiMrvGxg"
      },
      "source": [
        "## Training the model"
      ]
    },
    {
      "cell_type": "markdown",
      "metadata": {
        "id": "Wom4UaT9Y1Wq"
      },
      "source": [
        "The aim of regression is to find the linear relationship between two variables.\r\n",
        "This is in turn translated into a mathematical problem of finding the equation\r\n",
        "of the line that is closest to all points observed.\r\n",
        "[Link](http://www.ams.sunysb.edu/~zhu/ams571/Regression.pdf)"
      ]
    },
    {
      "cell_type": "code",
      "metadata": {
        "id": "4bkmSs3vvA5G"
      },
      "source": [
        "from sklearn.linear_model import LinearRegression\n",
        "regressor = LinearRegression()"
      ],
      "execution_count": null,
      "outputs": []
    },
    {
      "cell_type": "code",
      "metadata": {
        "id": "o3OULux7vLUf",
        "colab": {
          "base_uri": "https://localhost:8080/"
        },
        "outputId": "59be4636-1e26-4b2c-cd24-9b790f9ade00"
      },
      "source": [
        "regressor.fit(X_train,y_train)"
      ],
      "execution_count": null,
      "outputs": [
        {
          "output_type": "execute_result",
          "data": {
            "text/plain": [
              "LinearRegression(copy_X=True, fit_intercept=True, n_jobs=None, normalize=False)"
            ]
          },
          "metadata": {
            "tags": []
          },
          "execution_count": 143
        }
      ]
    },
    {
      "cell_type": "code",
      "metadata": {
        "id": "juaVKbzZvOQW"
      },
      "source": [
        "predicted = regressor.predict(X_test)"
      ],
      "execution_count": null,
      "outputs": []
    },
    {
      "cell_type": "markdown",
      "metadata": {
        "id": "_z9o48juvsPR"
      },
      "source": [
        "## Comparing predicted and actual"
      ]
    },
    {
      "cell_type": "code",
      "metadata": {
        "id": "J_mkFay5vvDI",
        "colab": {
          "base_uri": "https://localhost:8080/",
          "height": 194
        },
        "outputId": "369c7e16-d285-4f43-c0ab-500be70d7f73"
      },
      "source": [
        "df_compare = pd.DataFrame({'Actual':y_test, 'Predicted':predicted})\n",
        "df_compare.join(df['Date'])\n",
        "df_compare.head()"
      ],
      "execution_count": null,
      "outputs": [
        {
          "output_type": "execute_result",
          "data": {
            "text/html": [
              "<div>\n",
              "<style scoped>\n",
              "    .dataframe tbody tr th:only-of-type {\n",
              "        vertical-align: middle;\n",
              "    }\n",
              "\n",
              "    .dataframe tbody tr th {\n",
              "        vertical-align: top;\n",
              "    }\n",
              "\n",
              "    .dataframe thead th {\n",
              "        text-align: right;\n",
              "    }\n",
              "</style>\n",
              "<table border=\"1\" class=\"dataframe\">\n",
              "  <thead>\n",
              "    <tr style=\"text-align: right;\">\n",
              "      <th></th>\n",
              "      <th>Actual</th>\n",
              "      <th>Predicted</th>\n",
              "    </tr>\n",
              "  </thead>\n",
              "  <tbody>\n",
              "    <tr>\n",
              "      <th>49</th>\n",
              "      <td>31.237499</td>\n",
              "      <td>30.979844</td>\n",
              "    </tr>\n",
              "    <tr>\n",
              "      <th>780</th>\n",
              "      <td>39.884998</td>\n",
              "      <td>40.046197</td>\n",
              "    </tr>\n",
              "    <tr>\n",
              "      <th>673</th>\n",
              "      <td>40.520000</td>\n",
              "      <td>40.403633</td>\n",
              "    </tr>\n",
              "    <tr>\n",
              "      <th>817</th>\n",
              "      <td>42.097500</td>\n",
              "      <td>41.577148</td>\n",
              "    </tr>\n",
              "    <tr>\n",
              "      <th>700</th>\n",
              "      <td>39.000000</td>\n",
              "      <td>39.180287</td>\n",
              "    </tr>\n",
              "  </tbody>\n",
              "</table>\n",
              "</div>"
            ],
            "text/plain": [
              "        Actual  Predicted\n",
              "49   31.237499  30.979844\n",
              "780  39.884998  40.046197\n",
              "673  40.520000  40.403633\n",
              "817  42.097500  41.577148\n",
              "700  39.000000  39.180287"
            ]
          },
          "metadata": {
            "tags": []
          },
          "execution_count": 145
        }
      ]
    },
    {
      "cell_type": "code",
      "metadata": {
        "id": "e3I3e5gXwXS0",
        "colab": {
          "base_uri": "https://localhost:8080/"
        },
        "outputId": "14a21461-6447-4d85-8d82-416b48c920a0"
      },
      "source": [
        "df_compare.shape"
      ],
      "execution_count": null,
      "outputs": [
        {
          "output_type": "execute_result",
          "data": {
            "text/plain": [
              "(375, 2)"
            ]
          },
          "metadata": {
            "tags": []
          },
          "execution_count": 146
        }
      ]
    },
    {
      "cell_type": "code",
      "metadata": {
        "id": "_gIN74tXwERf",
        "colab": {
          "base_uri": "https://localhost:8080/",
          "height": 516
        },
        "outputId": "33730322-b729-4c0f-bb3b-dce4f88c41a4"
      },
      "source": [
        "graph_df = df_compare.head(50)\n",
        "graph_df.plot(kind='bar', figsize=(20,8))"
      ],
      "execution_count": null,
      "outputs": [
        {
          "output_type": "execute_result",
          "data": {
            "text/plain": [
              "<matplotlib.axes._subplots.AxesSubplot at 0x7f3e59b55828>"
            ]
          },
          "metadata": {
            "tags": []
          },
          "execution_count": 147
        },
        {
          "output_type": "display_data",
          "data": {
            "image/png": "[encoded data removed]",
            "text/plain": [
              "<Figure size 1440x576 with 1 Axes>"
            ]
          },
          "metadata": {
            "tags": [],
            "needs_background": "light"
          }
        }
      ]
    },
    {
      "cell_type": "markdown",
      "metadata": {
        "id": "1xmsqERzwmdj"
      },
      "source": [
        "## Score of the regressor"
      ]
    },
    {
      "cell_type": "code",
      "metadata": {
        "id": "jKQDY4pMv8lY",
        "colab": {
          "base_uri": "https://localhost:8080/"
        },
        "outputId": "53e9f7e9-58e7-49cd-8b50-82db667070f1"
      },
      "source": [
        "regressor.score(X_test, y_test)"
      ],
      "execution_count": null,
      "outputs": [
        {
          "output_type": "execute_result",
          "data": {
            "text/plain": [
              "0.9995357888449022"
            ]
          },
          "metadata": {
            "tags": []
          },
          "execution_count": 148
        }
      ]
    },
    {
      "cell_type": "markdown",
      "metadata": {
        "id": "3wXoAxmT57Uz"
      },
      "source": [
        "Prediction using custom values"
      ]
    },
    {
      "cell_type": "code",
      "metadata": {
        "id": "SX7uzoGz40MV",
        "colab": {
          "base_uri": "https://localhost:8080/"
        },
        "outputId": "e16caa7b-f363-4046-be50-1a16e9efa68a"
      },
      "source": [
        "X_test_2 = pd.DataFrame({'Open': 37, 'High': 38, 'Low': 37, 'Volume': 146640000.0}, index=[0])\n",
        "prediction = regressor.predict(X_test_2)\n",
        "print('Prediction for Close:', prediction[0])"
      ],
      "execution_count": null,
      "outputs": [
        {
          "output_type": "stream",
          "text": [
            "Prediction for Close: 37.7486687824542\n"
          ],
          "name": "stdout"
        }
      ]
    }
  ]
}