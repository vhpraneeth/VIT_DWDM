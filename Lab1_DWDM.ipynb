{
  "nbformat": 4,
  "nbformat_minor": 0,
  "metadata": {
    "colab": {
      "name": "Lab1_DWDM",
      "provenance": [],
      "collapsed_sections": [],
      "authorship_tag": "ABX9TyMKdA4qabHCup5BmbcMXwuM",
      "include_colab_link": true
    },
    "kernelspec": {
      "name": "python3",
      "display_name": "Python 3"
    }
  },
  "cells": [
    {
      "cell_type": "markdown",
      "metadata": {
        "id": "view-in-github",
        "colab_type": "text"
      },
      "source": [
        "<a href=\"https://colab.research.google.com/github/vhpraneeth/VIT_DWDM/blob/main/Lab1_DWDM.ipynb\" target=\"_parent\"><img src=\"https://colab.research.google.com/assets/colab-badge.svg\" alt=\"Open In Colab\"/></a>"
      ]
    },
    {
      "cell_type": "markdown",
      "metadata": {
        "id": "TddavgZdCkwD"
      },
      "source": [
        "18BCE7147\n",
        "\n",
        "[GitHub Link](https://github.com/vhpraneeth/VIT_DWDM/blob/main/Lab1_DWDM.ipynb)"
      ]
    },
    {
      "cell_type": "markdown",
      "metadata": {
        "id": "onJ8vyhmJ_fb"
      },
      "source": [
        "### Problem 1:"
      ]
    },
    {
      "cell_type": "markdown",
      "metadata": {
        "id": "XtIl9pMMLgUw"
      },
      "source": [
        "https://raw.githubusercontent.com/vhpraneeth/VIT_DWDM/main/Lab1_Problem1.png"
      ]
    },
    {
      "cell_type": "code",
      "metadata": {
        "id": "FdjxnqGvCbsj"
      },
      "source": [
        "import datetime\n",
        "import random\n",
        "from calendar import monthrange"
      ],
      "execution_count": 11,
      "outputs": []
    },
    {
      "cell_type": "markdown",
      "metadata": {
        "id": "wqDLWvn1Hya3"
      },
      "source": [
        "Generate random date"
      ]
    },
    {
      "cell_type": "code",
      "metadata": {
        "id": "3CRA19roGcgO",
        "outputId": "0a6748a0-4d62-4bc9-8e02-ec4642f6805c",
        "colab": {
          "base_uri": "https://localhost:8080/",
          "height": 35
        }
      },
      "source": [
        "start = datetime.datetime.strptime('1990-1-1', '%Y-%m-%d')\n",
        "end = datetime.datetime.now()\n",
        "\n",
        "start_timestamp = int(start.timestamp())\n",
        "end_timestamp = int(end.timestamp())\n",
        "random_timestamp = random.randint(start_timestamp, end_timestamp)\n",
        "random_date = datetime.datetime.fromtimestamp(random_timestamp)\n",
        "\n",
        "random_date.strftime('%Y-%m-%d')"
      ],
      "execution_count": 12,
      "outputs": [
        {
          "output_type": "execute_result",
          "data": {
            "application/vnd.google.colaboratory.intrinsic+json": {
              "type": "string"
            },
            "text/plain": [
              "'2014-06-13'"
            ]
          },
          "metadata": {
            "tags": []
          },
          "execution_count": 12
        }
      ]
    },
    {
      "cell_type": "markdown",
      "metadata": {
        "id": "jNDPa_kVH5xM"
      },
      "source": [
        "Find the number of days of the month"
      ]
    },
    {
      "cell_type": "code",
      "metadata": {
        "id": "bX09bD4yH3SL",
        "outputId": "b93363cd-e094-4759-865c-37a0b82a78c6",
        "colab": {
          "base_uri": "https://localhost:8080/",
          "height": 0
        }
      },
      "source": [
        "num_days = monthrange(random_date.year, random_date.month)[1]\n",
        "num_days"
      ],
      "execution_count": 13,
      "outputs": [
        {
          "output_type": "execute_result",
          "data": {
            "text/plain": [
              "30"
            ]
          },
          "metadata": {
            "tags": []
          },
          "execution_count": 13
        }
      ]
    },
    {
      "cell_type": "markdown",
      "metadata": {
        "id": "cbP3Lkb9ILoh"
      },
      "source": [
        "Find day of year"
      ]
    },
    {
      "cell_type": "code",
      "metadata": {
        "id": "eGqzvfNIIM0H",
        "outputId": "5a318023-2e84-43a8-ea7b-4ef1e9e4aa4a",
        "colab": {
          "base_uri": "https://localhost:8080/",
          "height": 35
        }
      },
      "source": [
        "# day_of_year = str(random_date.timetuple().tm_yday)  # Alternate method\n",
        "day_of_year = random_date.strftime('%j')\n",
        "day_of_year"
      ],
      "execution_count": 14,
      "outputs": [
        {
          "output_type": "execute_result",
          "data": {
            "application/vnd.google.colaboratory.intrinsic+json": {
              "type": "string"
            },
            "text/plain": [
              "'164'"
            ]
          },
          "metadata": {
            "tags": []
          },
          "execution_count": 14
        }
      ]
    },
    {
      "cell_type": "markdown",
      "metadata": {
        "id": "ppaDp1r7Iyut"
      },
      "source": [
        "Identify number of collisions by repeating above steps at least 50 times - I chose 500"
      ]
    },
    {
      "cell_type": "code",
      "metadata": {
        "id": "Q17GRwMcI5Ov",
        "outputId": "e2c00a58-7cd7-468a-aec6-88cc5be906a3",
        "colab": {
          "base_uri": "https://localhost:8080/",
          "height": 0
        }
      },
      "source": [
        "collisions = 0\n",
        "for i in range(500):\n",
        "    random_timestamp = random.randint(start_timestamp, end_timestamp)\n",
        "    random_date = datetime.datetime.fromtimestamp(random_timestamp)\n",
        "    if random_date.strftime('%j') == day_of_year:\n",
        "        collisions += 1\n",
        "\n",
        "collisions"
      ],
      "execution_count": 18,
      "outputs": [
        {
          "output_type": "execute_result",
          "data": {
            "text/plain": [
              "3"
            ]
          },
          "metadata": {
            "tags": []
          },
          "execution_count": 18
        }
      ]
    },
    {
      "cell_type": "markdown",
      "metadata": {
        "id": "9P0kBUxMKEfu"
      },
      "source": [
        "### Problem 2:"
      ]
    },
    {
      "cell_type": "markdown",
      "metadata": {
        "id": "GieVmlJ7LlBs"
      },
      "source": [
        "https://raw.githubusercontent.com/vhpraneeth/VIT_DWDM/main/Lab1_Problem2.png"
      ]
    },
    {
      "cell_type": "code",
      "metadata": {
        "id": "DjfIAT_3NlQw",
        "outputId": "5a17d856-380c-4791-d134-f195f0d0054b",
        "colab": {
          "base_uri": "https://localhost:8080/",
          "height": 0
        }
      },
      "source": [
        "import numpy as np\n",
        "time = np.array([[0.9, 0.8, 0.2],\n",
        "                 [1.5, 1.0, 0.4],\n",
        "                 [3.5, 3.0, 0.5]])\n",
        "cost = np.array([[14, 12], [8, 7], [7, 6]])\n",
        "value = time.dot(cost)\n",
        "value"
      ],
      "execution_count": 16,
      "outputs": [
        {
          "output_type": "execute_result",
          "data": {
            "text/plain": [
              "array([[20.4, 17.6],\n",
              "       [31.8, 27.4],\n",
              "       [76.5, 66. ]])"
            ]
          },
          "metadata": {
            "tags": []
          },
          "execution_count": 16
        }
      ]
    },
    {
      "cell_type": "code",
      "metadata": {
        "id": "0BYuLAkd8e0-",
        "outputId": "ddbdcfcb-0cf4-4dc3-ffef-9f98f60bf757",
        "colab": {
          "base_uri": "https://localhost:8080/",
          "height": 0
        }
      },
      "source": [
        "value[1][0]"
      ],
      "execution_count": 17,
      "outputs": [
        {
          "output_type": "execute_result",
          "data": {
            "text/plain": [
              "31.8"
            ]
          },
          "metadata": {
            "tags": []
          },
          "execution_count": 17
        }
      ]
    }
  ]
}