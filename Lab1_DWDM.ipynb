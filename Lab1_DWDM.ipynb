{
  "nbformat": 4,
  "nbformat_minor": 0,
  "metadata": {
    "colab": {
      "name": "Lab1_DWDM",
      "provenance": [],
      "authorship_tag": "ABX9TyPSkE4Swo211sGML+dQCqAa",
      "include_colab_link": true
    },
    "kernelspec": {
      "name": "python3",
      "display_name": "Python 3"
    }
  },
  "cells": [
    {
      "cell_type": "markdown",
      "metadata": {
        "id": "view-in-github",
        "colab_type": "text"
      },
      "source": [
        "<a href=\"https://colab.research.google.com/github/vhpraneeth/VIT_DWDM/blob/main/Lab1_DWDM.ipynb\" target=\"_parent\"><img src=\"https://colab.research.google.com/assets/colab-badge.svg\" alt=\"Open In Colab\"/></a>"
      ]
    },
    {
      "cell_type": "markdown",
      "metadata": {
        "id": "TddavgZdCkwD"
      },
      "source": [
        "18BCE7147"
      ]
    },
    {
      "cell_type": "code",
      "metadata": {
        "id": "FdjxnqGvCbsj"
      },
      "source": [
        "import datetime\n",
        "import random\n",
        "from calendar import monthrange"
      ],
      "execution_count": 13,
      "outputs": []
    },
    {
      "cell_type": "code",
      "metadata": {
        "id": "D-ElLClXEhya",
        "outputId": "9abe4a1a-cd33-40a3-b685-92405d5d7fe6",
        "colab": {
          "base_uri": "https://localhost:8080/"
        }
      },
      "source": [
        "start = datetime.datetime.strptime('1990-1-1', '%Y-%m-%d')\n",
        "# datetime.datetime(1990, 1, 1, 0, 0)\n",
        "end = datetime.datetime.now()\n",
        "total_seconds = (end - start).total_seconds()\n",
        "random_date = start + datetime.timedelta(\n",
        "    seconds=random.randint(0, int(total_seconds)),\n",
        ")\n",
        "num_days = monthrange(random_date.year, random_date.month)[1]\n",
        "num_days"
      ],
      "execution_count": 19,
      "outputs": [
        {
          "output_type": "execute_result",
          "data": {
            "text/plain": [
              "31"
            ]
          },
          "metadata": {
            "tags": []
          },
          "execution_count": 19
        }
      ]
    }
  ]
}